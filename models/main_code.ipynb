{
 "cells": [
  {
   "cell_type": "code",
   "execution_count": 1,
   "metadata": {},
   "outputs": [
    {
     "name": "stdout",
     "output_type": "stream",
     "text": [
      "GPU is available\n"
     ]
    }
   ],
   "source": [
    "import torch\n",
    "\n",
    "# 檢查是否有可用的GPU\n",
    "if torch.cuda.is_available():\n",
    "    device = torch.device(\"cuda\")  # 使用GPU\n",
    "    print(\"GPU is available\")\n",
    "else:\n",
    "    device = torch.device(\"cpu\")  # 使用CPU\n",
    "    print(\"GPU not available, CPU used\")\n"
   ]
  },
  {
   "cell_type": "code",
   "execution_count": 2,
   "metadata": {},
   "outputs": [],
   "source": [
    "from gensim.models import KeyedVectors\n",
    "\n",
    "# 載入預訓練 FastText 模型\n",
    "fasttext_model = KeyedVectors.load_word2vec_format(r'C:\\Users\\UJay\\School\\judgement_classfier\\models\\fine_tuned_fasttext.vec', binary=False)\n",
    "\n",
    "# 獲取單詞向量\n",
    "# vector = fasttext_model['性騷擾']\n",
    "# print(\"Vector for 'Paris':\", vector)\n",
    "\n",
    "# 找出最相似的城市單詞\n",
    "# similar_cities = fasttext_model.most_similar('巴黎', topn=5)\n",
    "# print(\"Cities most similar to 'Paris':\", similar_cities)\n"
   ]
  },
  {
   "cell_type": "markdown",
   "metadata": {},
   "source": [
    "## 建立資料集類別與分類"
   ]
  },
  {
   "cell_type": "code",
   "execution_count": 3,
   "metadata": {},
   "outputs": [
    {
     "name": "stderr",
     "output_type": "stream",
     "text": [
      "c:\\Users\\UJay\\AppData\\Local\\Programs\\Python\\Python310\\lib\\site-packages\\tqdm\\auto.py:21: TqdmWarning: IProgress not found. Please update jupyter and ipywidgets. See https://ipywidgets.readthedocs.io/en/stable/user_install.html\n",
      "  from .autonotebook import tqdm as notebook_tqdm\n"
     ]
    }
   ],
   "source": [
    "import os\n",
    "import re\n",
    "import torch\n",
    "from tqdm import tqdm\n",
    "from torch.utils.data import Dataset, DataLoader\n",
    "from transformers import BertForSequenceClassification, BertTokenizer, AdamW\n",
    "from sklearn.metrics import accuracy_score, recall_score, f1_score, classification_report\n",
    "import torch.nn.functional as F\n",
    "# 載入BERT斷詞器\n",
    "tokenizer = BertTokenizer.from_pretrained('bert-base-chinese')\n",
    "\n",
    "# 定義文本分類數據集\n",
    "class CustomDataset(Dataset):\n",
    "    def __init__(self, file_paths, labels):\n",
    "        self.file_paths = file_paths\n",
    "        self.labels = labels\n",
    "\n",
    "    def __len__(self):\n",
    "        return len(self.file_paths)\n",
    "\n",
    "    def __getitem__(self, idx):\n",
    "        file_path = self.file_paths[idx]\n",
    "        with open(file_path, 'r', encoding='utf-8') as file:\n",
    "            text = file.read()\n",
    "        return {'text': text, 'label': self.labels[idx]}\n",
    "\n",
    "# 資料夾路徑和類別\n",
    "categories = ['Abuse', 'Drug', 'Sex_assault', 'Economic_assault', 'Others']\n",
    "\n",
    "# 收集所有文本檔案路徑和對應標籤\n",
    "train_labels = []\n",
    "train_file_paths = []\n",
    "\n",
    "valid_labels = []\n",
    "valid_file_paths = []\n",
    "\n",
    "test_labels = []\n",
    "test_file_paths = []\n",
    "\n",
    "base_path = r'C:\\Users\\UJay\\School\\judgement_classfier\\ProcessedDatasets'\n",
    "for i, category in enumerate(categories):\n",
    "    category_folder_path = os.path.join(base_path, category)\n",
    "    file_names = sorted(os.listdir(category_folder_path), key=lambda x: int(re.findall(r'\\d+', x)[0]))\n",
    "    \n",
    "    # 總文件數\n",
    "    total_files = len(file_names)\n",
    "\n",
    "    # 計算訓練、驗證和測試的文件數\n",
    "    num_train_files = 500 if i>1 else 400\n",
    "    num_valid_files = 350 if i>1 else 300\n",
    "    num_test_files = total_files - num_train_files - num_valid_files\n",
    "    end_index = num_train_files + num_valid_files\n",
    "    end_index = end_index+200 if i!=1 else len(file_names) \n",
    "    # 根據計算的文件數，將文件名列表分為訓練、驗證和測試三部分\n",
    "    train_file_names = file_names[:num_train_files]\n",
    "    valid_file_names = file_names[num_train_files:num_train_files + num_valid_files]\n",
    "    test_file_names = file_names[num_train_files + num_valid_files:end_index]\n",
    "\n",
    "    for file_name in train_file_names:\n",
    "        train_file_paths.append(os.path.join(category_folder_path, file_name))\n",
    "        one_hot_label = F.one_hot(torch.tensor(i), num_classes=5)\n",
    "        train_labels.append(one_hot_label)\n",
    "\n",
    "    for file_name in valid_file_names:\n",
    "        valid_file_paths.append(os.path.join(category_folder_path, file_name))\n",
    "        one_hot_label = F.one_hot(torch.tensor(i), num_classes=5)\n",
    "        valid_labels.append(one_hot_label)\n",
    "\n",
    "    for file_name in test_file_names:\n",
    "        test_file_paths.append(os.path.join(category_folder_path, file_name))\n",
    "        one_hot_label = F.one_hot(torch.tensor(i), num_classes=5)\n",
    "        test_labels.append(one_hot_label)\n",
    "\n",
    "train_dataset = CustomDataset(train_file_paths, train_labels)\n",
    "valid_dataset = CustomDataset(valid_file_paths, valid_labels)\n",
    "test_dataset = CustomDataset(test_file_paths, test_labels)"
   ]
  },
  {
   "cell_type": "markdown",
   "metadata": {},
   "source": [
    "### 處理文本並儲存，將Datasets中所有的文本處理過後儲存在ProcessedDatasets"
   ]
  },
  {
   "cell_type": "code",
   "execution_count": 4,
   "metadata": {},
   "outputs": [],
   "source": [
    "import os\n",
    "import re\n",
    "import jieba\n",
    "from gensim.models import FastText\n",
    "from gensim.models.keyedvectors import KeyedVectors\n",
    "import numpy as np\n",
    "\n",
    "def load_words(file_path):\n",
    "    \"\"\"從指定文件加载词语\"\"\"\n",
    "    with open(file_path, 'r', encoding='utf-8') as file:\n",
    "        words = file.read().splitlines()\n",
    "    return set(words)\n",
    "\n",
    "def load_custom_dict(file_path):\n",
    "    \"\"\"從指定文件載入自定義字典\"\"\"\n",
    "    custom_dict = {}\n",
    "    with open(file_path, 'r', encoding='utf-8') as file:\n",
    "        for line in file:\n",
    "            word = line.strip()\n",
    "            custom_dict[word] = 1  # 將所有詞的頻率設置為 1，或者你也可以設置為其他值\n",
    "    return custom_dict\n",
    "\n",
    "def preprocess_text(text, skip_words):\n",
    "    \"\"\"去除skip_words中的詞\"\"\"\n",
    "    pattern = '|'.join(map(re.escape, skip_words))\n",
    "    processed_text = re.sub(pattern, '', text)\n",
    "    return processed_text\n",
    "\n",
    "def process_files_in_directory(input_dir, output_dir, skip_file, custom_dict_file, categories):\n",
    "    \"\"\"處理输入目錄中的所有文件，並將處理過後的文件保存在輸出目錄\"\"\"\n",
    "    skip_words = load_words(skip_file)\n",
    "    # stop_words = load_words(stopwords_file)\n",
    "    # all_skip_words = skip_words.union(stop_words)\n",
    "    custom_dict = load_custom_dict(custom_dict_file)\n",
    "    \n",
    "    # 加载自定義字典到 jieba\n",
    "    for word, freq in custom_dict.items():\n",
    "        jieba.add_word(word, freq=freq)\n",
    "    \n",
    "    processed_texts = []\n",
    "\n",
    "    for category in categories:\n",
    "        category_path = os.path.join(input_dir, category)\n",
    "        for root, dirs, files in os.walk(category_path):\n",
    "            for file in files:\n",
    "                if file.endswith('.txt'):\n",
    "                    input_file_path = os.path.join(root, file)\n",
    "                    with open(input_file_path, 'r', encoding='utf-8') as f:\n",
    "                        text = f.read()\n",
    "\n",
    "                    processed_text = preprocess_text(text, skip_words)\n",
    "                    \n",
    "                    # 斷詞並移除停用詞\n",
    "                    words = jieba.cut(processed_text)\n",
    "                    processed_words = [word for word in words if word not in skip_words]\n",
    "                    processed_texts.append(processed_words)\n",
    "                    \n",
    "                    # 路徑\n",
    "                    relative_path = os.path.relpath(root, input_dir)\n",
    "                    output_file_dir = os.path.join(output_dir, relative_path)\n",
    "                    os.makedirs(output_file_dir, exist_ok=True)\n",
    "                    output_file_path = os.path.join(output_file_dir, file)\n",
    "\n",
    "                    # 保存處理後的文本\n",
    "                    with open(output_file_path, 'w', encoding='utf-8') as f:\n",
    "                        f.write(' '.join(processed_words))\n",
    "    \n",
    "    # # 測試\n",
    "    # with open('processed_texts.txt', 'w', encoding='utf-8') as f:\n",
    "    #     for text in processed_texts:\n",
    "    #         f.write(' '.join(text) + '\\n')\n",
    "    \n",
    "    # print(\"Processed texts have been saved to 'processed_texts.txt'.\")\n",
    "\n",
    "# 示例使用\n",
    "input_directory = r'C:\\Users\\UJay\\School\\judgement_classfier\\Datasets'  # 原始数据所在目录\n",
    "output_directory = r'C:\\Users\\UJay\\School\\judgement_classfier\\ProcessedDatasets'  # 处理后的数据保存目录\n",
    "skip_words_file = r'C:\\Users\\UJay\\School\\judgement_classfier\\Custom dictionary\\skip.txt'  # 包含要跳过词语的文件\n",
    "custom_dict_file = r'C:\\Users\\UJay\\School\\judgement_classfier\\Custom dictionary\\dict.txt'  # 自定义字典文件\n",
    "\n",
    "categories = ['Abuse', 'Drug', 'Sex_assault', 'Economic_assault', 'Others']  # 类别文件夹列表\n",
    "# 需要處理原始數據，再使用以下程式碼\n",
    "# process_files_in_directory(input_directory, output_directory, skip_words_file, custom_dict_file, categories)\n",
    "\n",
    "# print(\"Finished processing files.\")"
   ]
  },
  {
   "cell_type": "markdown",
   "metadata": {},
   "source": [
    "---"
   ]
  },
  {
   "cell_type": "markdown",
   "metadata": {},
   "source": [
    "Fasttext微調(用來文字轉向量)"
   ]
  },
  {
   "cell_type": "code",
   "execution_count": 5,
   "metadata": {},
   "outputs": [
    {
     "ename": "KeyboardInterrupt",
     "evalue": "",
     "output_type": "error",
     "traceback": [
      "\u001b[1;31m---------------------------------------------------------------------------\u001b[0m",
      "\u001b[1;31mKeyboardInterrupt\u001b[0m                         Traceback (most recent call last)",
      "Cell \u001b[1;32mIn[5], line 6\u001b[0m\n\u001b[0;32m      4\u001b[0m processed_texts \u001b[38;5;241m=\u001b[39m []\n\u001b[0;32m      5\u001b[0m \u001b[38;5;28;01mwith\u001b[39;00m \u001b[38;5;28mopen\u001b[39m(\u001b[38;5;124mr\u001b[39m\u001b[38;5;124m'\u001b[39m\u001b[38;5;124mC:\u001b[39m\u001b[38;5;124m\\\u001b[39m\u001b[38;5;124mUsers\u001b[39m\u001b[38;5;124m\\\u001b[39m\u001b[38;5;124mUJay\u001b[39m\u001b[38;5;124m\\\u001b[39m\u001b[38;5;124mSchool\u001b[39m\u001b[38;5;124m\\\u001b[39m\u001b[38;5;124mjudgement_classfier\u001b[39m\u001b[38;5;124m\\\u001b[39m\u001b[38;5;124mmodels\u001b[39m\u001b[38;5;124m\\\u001b[39m\u001b[38;5;124mprocessed_texts.txt\u001b[39m\u001b[38;5;124m'\u001b[39m, \u001b[38;5;124m'\u001b[39m\u001b[38;5;124mr\u001b[39m\u001b[38;5;124m'\u001b[39m, encoding\u001b[38;5;241m=\u001b[39m\u001b[38;5;124m'\u001b[39m\u001b[38;5;124mutf-8\u001b[39m\u001b[38;5;124m'\u001b[39m) \u001b[38;5;28;01mas\u001b[39;00m f:\n\u001b[1;32m----> 6\u001b[0m     \u001b[38;5;28;01mfor\u001b[39;00m line \u001b[38;5;129;01min\u001b[39;00m f:\n\u001b[0;32m      7\u001b[0m         processed_texts\u001b[38;5;241m.\u001b[39mappend(line\u001b[38;5;241m.\u001b[39mstrip()\u001b[38;5;241m.\u001b[39msplit())\n\u001b[0;32m      9\u001b[0m \u001b[38;5;66;03m# 加載預訓練 FastText 模型\u001b[39;00m\n",
      "File \u001b[1;32mc:\\Users\\UJay\\AppData\\Local\\Programs\\Python\\Python310\\lib\\codecs.py:319\u001b[0m, in \u001b[0;36mBufferedIncrementalDecoder.decode\u001b[1;34m(self, input, final)\u001b[0m\n\u001b[0;32m    314\u001b[0m \u001b[38;5;28;01mdef\u001b[39;00m \u001b[38;5;21m_buffer_decode\u001b[39m(\u001b[38;5;28mself\u001b[39m, \u001b[38;5;28minput\u001b[39m, errors, final):\n\u001b[0;32m    315\u001b[0m     \u001b[38;5;66;03m# Overwrite this method in subclasses: It must decode input\u001b[39;00m\n\u001b[0;32m    316\u001b[0m     \u001b[38;5;66;03m# and return an (output, length consumed) tuple\u001b[39;00m\n\u001b[0;32m    317\u001b[0m     \u001b[38;5;28;01mraise\u001b[39;00m \u001b[38;5;167;01mNotImplementedError\u001b[39;00m\n\u001b[1;32m--> 319\u001b[0m \u001b[38;5;28;01mdef\u001b[39;00m \u001b[38;5;21mdecode\u001b[39m(\u001b[38;5;28mself\u001b[39m, \u001b[38;5;28minput\u001b[39m, final\u001b[38;5;241m=\u001b[39m\u001b[38;5;28;01mFalse\u001b[39;00m):\n\u001b[0;32m    320\u001b[0m     \u001b[38;5;66;03m# decode input (taking the buffer into account)\u001b[39;00m\n\u001b[0;32m    321\u001b[0m     data \u001b[38;5;241m=\u001b[39m \u001b[38;5;28mself\u001b[39m\u001b[38;5;241m.\u001b[39mbuffer \u001b[38;5;241m+\u001b[39m \u001b[38;5;28minput\u001b[39m\n\u001b[0;32m    322\u001b[0m     (result, consumed) \u001b[38;5;241m=\u001b[39m \u001b[38;5;28mself\u001b[39m\u001b[38;5;241m.\u001b[39m_buffer_decode(data, \u001b[38;5;28mself\u001b[39m\u001b[38;5;241m.\u001b[39merrors, final)\n",
      "\u001b[1;31mKeyboardInterrupt\u001b[0m: "
     ]
    }
   ],
   "source": [
    "from gensim.models import FastText\n",
    "from gensim.models.keyedvectors import KeyedVectors\n",
    "# 讀取處理後的文本\n",
    "processed_texts = []\n",
    "with open(r'C:\\Users\\UJay\\School\\judgement_classfier\\models\\processed_texts.txt', 'r', encoding='utf-8') as f:\n",
    "    for line in f:\n",
    "        processed_texts.append(line.strip().split())\n",
    "\n",
    "# 加載預訓練 FastText 模型\n",
    "pretrained_model_path = r'C:\\Users\\UJay\\School\\judgement_classfier\\models\\wiki.zh.vec'\n",
    "fasttext_model = KeyedVectors.load_word2vec_format(pretrained_model_path, binary=False)\n",
    "\n",
    "# 初始化新的 FastText 模型\n",
    "model_fasttext = FastText(vector_size=300)\n",
    "\n",
    "# 構建詞彙表\n",
    "model_fasttext.build_vocab([list(fasttext_model.key_to_index.keys())] + processed_texts)\n",
    "\n",
    "# 將預訓練的詞向量賦值給新的模型\n",
    "model_fasttext.wv.vectors = fasttext_model.vectors\n",
    "\n",
    "# 進行微調\n",
    "model_fasttext.train(processed_texts, total_examples=model_fasttext.corpus_count, epochs=model_fasttext.epochs)\n",
    "\n",
    "print(\"Model has been fine-tuned and trained.\")"
   ]
  },
  {
   "cell_type": "code",
   "execution_count": 5,
   "metadata": {},
   "outputs": [],
   "source": [
    "model_fasttext.wv.save_word2vec_format('fine_tuned_fasttext.vec', binary=False)"
   ]
  },
  {
   "cell_type": "code",
   "execution_count": 7,
   "metadata": {},
   "outputs": [],
   "source": [
    "model_fasttext.save('fine_tuned_fasttext.model')"
   ]
  },
  {
   "cell_type": "markdown",
   "metadata": {},
   "source": [
    "載入已訓練之文字轉向量模型"
   ]
  },
  {
   "cell_type": "code",
   "execution_count": 6,
   "metadata": {},
   "outputs": [],
   "source": [
    "# from gensim.models import FastText\n",
    "from gensim.models.keyedvectors import KeyedVectors\n",
    "\n",
    "model_fasttext_file = r'C:\\Users\\UJay\\School\\judgement_classfier\\models\\fine_tuned_fasttext.vec'\n",
    "model_fasttext = KeyedVectors.load_word2vec_format(model_fasttext_file, binary=False)"
   ]
  },
  {
   "cell_type": "code",
   "execution_count": 7,
   "metadata": {},
   "outputs": [],
   "source": [
    "import numpy as np\n",
    "import jieba\n",
    "\n",
    "def text_to_vector(text, max_length=300):\n",
    "    # skip_words = load_words(skip_file)\n",
    "    words = jieba.cut(text)\n",
    "    processed_words = [word for word in words]\n",
    "    \n",
    "    # 將詞向量轉換為numpy array\n",
    "    vectors = [model_fasttext[word] for word in processed_words if word in model_fasttext]\n",
    "    \n",
    "    # 如果向量數目小於 max_length，進行填充\n",
    "    if len(vectors) < max_length:\n",
    "        vectors.extend([np.zeros(model_fasttext.vector_size)] * (max_length - len(vectors)))\n",
    "    else:\n",
    "        vectors = vectors[:max_length]  # 截斷過長的向量\n",
    "    \n",
    "    return np.array(vectors)\n"
   ]
  },
  {
   "cell_type": "code",
   "execution_count": 61,
   "metadata": {},
   "outputs": [
    {
     "name": "stdout",
     "output_type": "stream",
     "text": [
      "[[-2.72254205 -0.07244187  1.29851437 ... -0.15342955  2.13823795\n",
      "   0.72757548]\n",
      " [ 0.          0.          0.         ...  0.          0.\n",
      "   0.        ]\n",
      " [ 0.          0.          0.         ...  0.          0.\n",
      "   0.        ]\n",
      " ...\n",
      " [ 0.          0.          0.         ...  0.          0.\n",
      "   0.        ]\n",
      " [ 0.          0.          0.         ...  0.          0.\n",
      "   0.        ]\n",
      " [ 0.          0.          0.         ...  0.          0.\n",
      "   0.        ]]\n",
      "(300, 300)\n"
     ]
    }
   ],
   "source": [
    "print(text_to_vector('性騷擾'))\n",
    "print(text_to_vector('性騷擾').shape)"
   ]
  },
  {
   "cell_type": "code",
   "execution_count": 8,
   "metadata": {},
   "outputs": [
    {
     "data": {
      "text/plain": [
       "(['C:\\\\Users\\\\UJay\\\\School\\\\judgement_classfier\\\\ProcessedDatasets\\\\Others\\\\496.txt',\n",
       "  'C:\\\\Users\\\\UJay\\\\School\\\\judgement_classfier\\\\ProcessedDatasets\\\\Others\\\\497.txt',\n",
       "  'C:\\\\Users\\\\UJay\\\\School\\\\judgement_classfier\\\\ProcessedDatasets\\\\Others\\\\498.txt',\n",
       "  'C:\\\\Users\\\\UJay\\\\School\\\\judgement_classfier\\\\ProcessedDatasets\\\\Others\\\\499.txt',\n",
       "  'C:\\\\Users\\\\UJay\\\\School\\\\judgement_classfier\\\\ProcessedDatasets\\\\Others\\\\500.txt'],\n",
       " [tensor([0, 0, 0, 0, 1]),\n",
       "  tensor([0, 0, 0, 0, 1]),\n",
       "  tensor([0, 0, 0, 0, 1]),\n",
       "  tensor([0, 0, 0, 0, 1]),\n",
       "  tensor([0, 0, 0, 0, 1])])"
      ]
     },
     "execution_count": 8,
     "metadata": {},
     "output_type": "execute_result"
    }
   ],
   "source": [
    "train_dataset.file_paths[-5:], train_dataset.labels[-5:]"
   ]
  },
  {
   "cell_type": "markdown",
   "metadata": {},
   "source": [
    "對文章測試負採樣"
   ]
  },
  {
   "cell_type": "code",
   "execution_count": 9,
   "metadata": {},
   "outputs": [
    {
     "data": {
      "image/png": "[encoded data removed]",
      "text/plain": [
       "<Figure size 1000x600 with 1 Axes>"
      ]
     },
     "metadata": {},
     "output_type": "display_data"
    },
    {
     "name": "stdout",
     "output_type": "stream",
     "text": [
      "Epoch: 0\n",
      "['高 法院 刑事 判決 111 更 164 \\xa0   訴 \\xa0   \\xa0   \\xa0   被 \\xa0   告 \\xa0   黃 承駿 列訴 被告 妨害 秩序 不服 新竹 地方法院 110762 華 111 年 1 月 25 日 審判決 新竹 地方 檢察署 110 少連 43 訴判決 最高法院 撤銷 發回 更 審 1114664 判決 \\xa0   \\xa0   主 \\xa0   文 撤銷 黃 承駿 犯意 圖供 用 攜帶 兇器 公共 場 聚集 首謀手 實施 強暴 罪期 徒刑 陸月 易科罰金 新 臺 幣 壹仟 元 折算 壹日 扣案 木棍 貳 支 沒收 \\xa0 \\xa0   \\xa0   事 \\xa0   實黃承駿 前 吳家 真實 姓名 年籍 詳卷 92 年 7 月 生證據 證明 黃 承駿 知悉 案發 12 歲 滿 18 歲 少年 債務 糾紛 遂 110 年 2 月 4 日 21 許 首倡 議 邀集 王修賢 楊仕新 曾 宇昊 郭子揚 犯意 圖供 用 攜帶 兇器 公共 場 聚集 手實施 強暴 〈 王修賢 〉 施強 暴助勢 〈 楊仕新 曾 宇昊 郭子揚 〉 罪原 審 判罪 刑確定 少年 徐權 92 年 2 月 16 日生涉 妨害 秩序 事件 新竹 地方法院 少年法庭 110 少 167 裁定 訓誡 併 假日 生活 輔導 要求 曾宇昊 聯 繫 友 吳 益 93 年 5 月 15 日生涉 妨害 秩序 事件 新竹 地方法院 少年法庭 111 少 35 裁定 令入 感化 教育 施 感化 教育 邱 94 年 4 月 5 日生涉 妨害 秩序 事件 新竹 地方法院 少年法庭 110 少 389 裁定 令入 感化 教育 施 感化 教育 徐權 吳益 邱真實 姓名 年籍 詳卷 證據 證明 黃 承駿 知悉 案發 12 歲 滿 18 歲 少 年 同 前往 新竹市 區路 0 段 00 文化 心演 藝廳 前 停車場 聚眾 尋釁 詎 黃 承駿 王修賢 楊仕新 曾 宇昊 郭子揚 徐權 吳益 邱 明知 案發 地點 公共 場意 圖 施暴 此 聚集 將公眾 對 公共秩序 信賴產 生動搖 仍 意圖 施暴 基 公共 場 聚集 施強 暴 犯意 聯絡 同日 2115 許開 地點 黃 承駿王 修賢持 木棒 毆 打 吳家 傷害 據 告訴 手 實施 強暴 另 楊仕新 曾 宇昊 郭子揚 徐權 吳益 邱場 助勢 嗣 警據 報到 場理調 閱案 發地點 附近 監視器 錄影 畫面 黃 承駿 自願 同意 搜索 駕駛車 牌碼 000 - 0000 自用 小客 車內 扣 攜帶 前往 現場 用 實施 強暴 木棍 2 支始 悉情 新竹市 警察局 局報 新竹 地方 檢察署 檢察官 偵 起訴 \\xa0   \\xa0   理 \\xa0   壹證據 能力 供述 證據 \\xa0   \\xa0   被告 審判言 詞書 面陳述 除 法律 作證據 刑事訴訟法 1591 固定 明文 被告 審判陳述 雖 不符 同法 15911594 當事 審判 程序 同意 作證據 法院 審酌 言 詞陳述 書 面陳述 作成 情況 適當 證據 當事 代理 辯護 法院 調證據 知同法 1591 證據 情形 言詞 辯終 結前 聲明 異議 視前 同意 此據 同法 1595 甚明 被告 審 合法 傳喚 正 當理 不 到庭 不待陳述 判決 刑事訴訟法 371 甚詳 此 被告 審 程序 到庭 陳 述 針對 事實 法律 辯相當 程度 保障 被告 到庭 訴訟權 倘 被告 審 合法 傳喚 竟 正 當理 不 到庭 避免 訴訟 程序 延宕 期能 符合 訴訟濟 要求 兼顧 被告 訴訟權 保障 解 被告 放棄 審 程序 審相 異主 張默示 同意 審 程序 引用 審 相同 事實 法律 主張 從針 對 被告 審判陳述 被告 審 程序 刑事訴訟法 1595 同意 定默示 同意 作證據 嗣 被告 審 合法 傳喚 正 當理 不 到庭 法院 法判 決揆 諸前 開說 明自 被告 審 程序 前開 審判陳述 仍 採取 審 相同 同意 默示 同意 被告 黃 承駿原 審前 審審理 檢察官 起訴 犯罪 事實 坦承 不諱 卷 內 被告 審判陳述 證據 能力 表示 沒意 見 不爭執 迄言詞 辯終 結前 聲明 異議 見 原 審卷 74 - 75 前 審卷 154 - 156 被告 審判 合法 傳喚 正 當理 到庭 致審理 對 證據 能力 表示 意見 檢察官 審理 對 開證據 表示 意見 卷 86 - 87 審酌 證據 作成 情況 尚 違法 不 當證 明力 明顯過 低 瑕疵 作證據 適當 刑事訴訟法 1595 前 揭證據 證據 能力 非 供述 證據 \\u3000 \\u3000 本判 決列 引用 非 供述 證據 證據 證明 公務員 法定程序 取顯 不可 信情況 審理期 日 提示 合法 調證據 自作 本案 裁判 資料 \\u3000 貳定 犯罪 事實 憑 證據 理開 犯罪 事實示 被告 黃 承駿前 揭地 吳家 債務 糾紛 遂 首倡 議 邀集 同案 被告 王修賢 楊仕新 曾 宇昊 郭子揚 徐權 要求 曾宇昊 聯 繫 友 吳 益 邱 同 前往 公共 場 新竹市 區路 0 段 00 文化 心演 藝廳 前 停車場 聚眾 尋釁 嗣 被告 同案 被告 王修賢持 木棒 毆 打 吳家餘 楊仕新 曾 宇昊 郭子揚 徐權 吳益 邱場 助勢 節業據 被告 黃 承駿 原審 準備 簡式 審判 程序 前審 審理 坦承 不諱 見 前 審卷 154156 - 157 原審卷 7074 - 75 證 同案 被告 王修賢 楊仕新 曾 宇昊 郭子揚 偵證少 年 徐權 吳益 邱警 詢證 被害 吳家 警詢 偵證述 可證 見 偵卷 18 - 24 背面 93 - 9499 - 100135 - 136 背面 員警 偵報告 被害 吳家國 軍 新竹 地區 醫院 藥袋 翻拍 照片 新竹市 警察局 局 扣押 筆錄 扣押 物品 目錄 表自願 受 搜索 同意 書 新竹市 警察局 局北門 派出 受理 各類 紀錄表 新竹市 警察局 勤務 指揮心 受理 110 報案 紀錄 單車 牌碼 000 - 0000 自用 小客 車車輛 詳細 資料 報表 監視錄 影畫面 截取 照片 新竹市 警察局 局街頭 暴力 訪約 制表 被害 吳家 傷勢 照片 現場 照片 卷 可 參見 偵卷 4 - 5 背面 2530 - 34 背面 3842465056606466 - 75137 - 139 述 補強 證據 足資 擔保 被告 開 任意性 自白 事實 相符 可 採信 刑法 謂 首謀指 犯罪 主體 多數 首倡 謀議 意思 策劃 支配 團體 犯罪 地位 言 最高法院 1031904 判決 意旨 參照 衡諸 被告 自承 被害 吳家 欠付 吳家 邀約 前往 案發地 談判 債務 事宜 吳家 找 同 前往 遂 順勢 邀眾 到場 攜帶 客觀足 對生 身體 安全 構成 威脅 具 危險性 木棍 前往 滋事 想法 不 言可喻 此種 狀況 知悉 倘 通知 多位 友到 場勢將 聚集 3 知悉 當吳家 發生 肢體 衝突 仍 不 顧將 可能 對公眾 發 生恐 懼 不安 執意終 發生 被告 同案 被告 王修賢 手持 木棍 傷害 吳家 對 實施 強暴 他 旁觀 看助勢 情事 顯見 被告 確 首倡 謀議 意思 策劃 支配 本案 對 被害 吳家 實施 強暴 首謀 地位 意圖 供用 攜帶 兇器 公共 場 聚集 手實施 強暴 犯昭若 揭述 本案 事證臻 明確 被告 意圖 供用 攜帶 兇器 公共 場 聚集 首謀手 實施 強暴 罪犯 洵 堪定 法科 參罪 科刑 \\u3000 刑法 妨害 秩序 罪章 149150109 年 1 月 15 日 修正 公布 109 年 1 月 17 日施 本次 修 法理 略謂 不何 何種 聯絡 方式 聚集 遠端 當場 本 聚集 包括 自動 被動 聚集 情形 不否 事前 約定 臨起 意開 社會 治安 秩序 易 造成危害 修正 構成 要件 符實 需 倘 公共 場公眾 出入 場 聚集 進實強 暴脅 迫例 鬥毆 毀損 恐嚇 不 特定 不 特定 造成 公眾 他 危害 恐懼 不安 當 犯罪 成立 構成 要件 符保護 社會 治安 刑法 功能 可知 修法 刑法 150 不 被告 何種 方式 聚集 倘 3 公共 場公眾 出入 場 聚集 進實 鬥毆 毀損 恐嚇 法合先 敘明 \\u3000 刑法 1501 公共 場公眾 出入 場 聚集 施強 暴脅 迫場 助勢 1 年期 徒刑 拘役 10 萬元罰 金首謀手 實施 6 月 5 年期 徒刑 立法 類型謂 聚合 犯法 律首謀手 實施場 助勢 參 犯罪 程度 不同 異刑 罰開 實務見 解 刑法 1502 將 加重 件 排除 共同 正 犯意 刑法 1501 首謀手 實施場 助勢 此 3 種態樣 彼此 間 雖 成立 共同 正犯 聚集 公共 場公眾 出入 場 施暴 首謀手 實施場 助勢 何攜帶 兇器 他 危險 物品 可能 相互 利用 兇器 他 危險 物品 造成 破壞 公共秩序 危險 程度 升高 當 加重 件 \\u3000 \\u3000 核 被告 犯 刑法 150211 段意 圖供 用 攜帶 兇器 公共 場 聚集 首謀手 實施強 暴罪 \\u3000 \\u3000 共犯 學理 任意 共犯 必要 共犯 前指 般原 單獨 完成 犯罪 共同 實施 情形 刑法 總 共犯 指須 參實 施始 能 成立 犯罪 言 必要 共犯 犯罪 性質 尚可 聚合 犯對 犯朝同 目標 共同 參 犯罪 實施謂 聚合 犯 刑法 聚眾 施強 暴脅 迫罪 參 犯罪 結社 罪輪 姦罪 本質 共同 正犯 故除 法律 首謀手 實施場 助勢 參 犯罪 程度 不同 異刑 罰 各參 不同 程度 犯罪 間 不能 刑法 總 共犯 餘 引用 刑法 28 共同 正犯 最高法院 81 台非 自 233 判決 意旨 參照 被告 黃 承駿 王修賢 犯手 實施 犯意 聯絡擔 共同 正犯 刑法 文結夥 記加列 共同 必要 最高法院 79 台 4231 判決 意旨 參照 本文 聚集 構成 要件 相同 解釋 不加列 共同 文字 另 被告 黃 承駿 犯首謀 從 參 犯罪 程度 顯別 只手 實施 同案 被告 王修賢僅場 助勢 楊仕新 曾 宇昊 郭子揚 成立 共同 正犯 \\u3000 刑 加重 減輕 \\u3000 ㈠ 刑法 1502 犯前 罪列 情形 加重 刑 21 意圖 供用 攜帶 兇器 他 危險 物品 犯致 生公眾 交通 往來 危險 犯罪 類型 變 更個 別 犯罪 裁量 加重 成 另 獨立 罪名 尚非 概括性 非 罪名 體 刑法 加重 性質述 稱 加重 … 非 加重 … 加重 … 故 法院 犯 刑法 150211 段否 加重 刑自 裁量 權衡諸 全案 緣起 被告 債務 糾紛 起意 聚集 他 本案 共犯 尋釁 數非 多持續 增加 難 控制 情 考量 本案 兇器 鈍器 木棍 只針 對 特定 攻擊波 他民眾 財物 造成 損害衝 突間 短 暫 造成危害 非重 被害 吳家 表示 不願 提告 被告 達成 和解 傷害 和解 書 1 份 存卷 可 參見 偵卷 102 被告 犯情 節害 社會 秩序 安全 嚴重 擴大現 象尚 加重 刑 必要 \\xa0 \\u3000 ㈡ 兒童 少年 福利 權益 保障法 1121 情事 \\u3000 ⒈ 刑法 1501 罪保護 社會 整體 秩序 安全 國 家法 益非個 法益 先 敘明 \\u3000 \\u3000 ⒉ 被害 吳家 92 年 7 月 生案 發 雖 12 歲 滿 18 歲 少 年 據 檢察官 起訴 被告 黃 承駿 知悉 12 歲 滿 18 歲 少 年 仍 故意 對 犯罪 卷內 事證 證據 顯示 被告 黃 承駿 知悉 預見 被害 吳家少 年 自兒 童少 年 福利 權益 保障法 112 成年 故意 對少 年 犯罪 加重 刑 \\u3000 \\u3000 ⒊ 當日場 助勢 少年 徐權 92 年 2 月 16 日生 吳益 93 年 5 月 15 日生 邱 94 年 4 月 5 日生 雖 12 歲 滿 18 歲 少 年少 年 徐權 年 滿 17 歲 少年 徐權 距案 發間 僅差 12 日滿 18 歲 少年 徐權 年籍 資料 卷 可 憑 見 偵卷 51 被告 審理供 稱少 年 徐權 身形 比伊還 高大 伊當 真 看不出 來 成年 見原 審卷 158 - 159 吳益 邱 同案 被告 曾宇昊 邀集 卷內 事證 從定 被告 黃 承駿何 聯 繫 交集 被告 黃 承駿 更 辯稱 被害 吳家 對 談 也 沒 注意 吳益 邱旁邊 甚 不 知道 他們 誰 朋友 見原 審卷 158 - 159 少年 徐權 吳益 邱 曾陳述 被告 黃 承駿 知悉 真實 年紀 預見 可能 況 被告 黃 承駿僅 同案 被告 王修賢 犯手 實施 犯意 聯絡擔 共同 正犯 他僅場 助勢 少年 徐權 吳益 邱參 犯罪 程度 不同 揆 諸前 開 說明 不能 共同 正犯 自兒 童少 年 福利 權益 保障法 1121 成年 少 年 共同 實施 犯罪 須法 加重 公訴 意旨 被告 少年 徐權 吳益 邱 共同 實施 犯罪 兒童 少年 福利 權益 保障法 112 加重 刑尚 誤會 \\u3000 ㈢ 刑法 59 犯罪 情狀 可憫 恕 酌量 減輕刑 犯罪 切情 狀 包括 57 列舉 10 事 全盤 考量 審酌 犯罪 可憫 恕 事 特殊 原環境 客觀 足 引起 般 同情 宣告 法定 低度 刑否 猶 嫌過 重判斷 被告 犯債務 糾紛生 開衝 突攜帶 凶器 鈍器 木棍 衝突間 短 暫持續 施強 暴脅 迫致 危險 程度 難 控制 情形 被害 不願 追究 故 刑法 15021 加重 刑業 從 輕 考量 被告 細故 公共 場合 糾眾傷 顯視律 法物 難何 情狀 可憫 恕 事 自 刑法 59 酌量 減刑 \\u3000 肆 撤銷 改判 理 量刑 審酌 原審 被告 黃 承駿 成年 少年犯 意圖 供用 攜帶 兇器 公共 場 聚集 首謀手 實施強 暴罪 事證明 確罪 科刑 固非 見 原 審判決 漏述 被告 黃 承駿 同案 被告 王修賢 犯手 實施 犯意 聯絡擔 共同 正犯 洽證據 足定 被告 黃 承駿少 年 徐權 吳益 邱滿 18 歲 少年 節知 預見 犯場 助勢 被告 黃 承駿犯 首謀手 實施 參 犯罪 程度 不同 不能 共同 正犯 自兒 童少 年 福利 權益 保障法 1121 成年 少 年 共同 實施 犯罪 須法 加重 對 被告 黃 承駿開 加重 刑 違誤 被告 訴主張 刑法 59 酌量 減刑 雖理 前述 不兒 童少 年 福利 權益 保障法 1121 加重 刑從 輕 量刑 理原 審判決 揭可議 自可維持 將原 審判決 撤銷 改判 審酌 被告 黃 承駿僅 債務 糾紛 不思 理性 解決 竟 首倡 議 邀集 王修賢 楊仕新 曾 宇昊 郭子 揚少 年 徐權 要求 曾宇昊 聯 繫 友 吳 益 邱 公 聚 眾 對 被害 施強 暴實值 非 難念犯 坦承 犯態度 尚可 兼衡 前此 自承 教育 程度 大學 肄業 案發 工地 工作 月 收新 臺 幣同 2 萬 5 千元 婚 成年 子女 被害 達成 和解 獲諒 解 犯罪 情節 動機 手段 切情 狀量 2 示刑 易科罰金 折算 標準 沒收 \\u3000 \\u3000 末 扣案 木棒 2 支 被告 黃 承駿 攜帶 前往 案發 現場 供 犯用 物業據 偵供 承訛見 偵卷 100 背面 刑法 382 罪刑 宣告 沒收 扣案 斷裂 球棒 1 支固 被告 黃 承駿遍 卷 內 證據 可證 明供 犯用物 不 宣告 沒收 追徵 附此 敘明伍 被告 黃 承駿 合法 傳喚 正 當理 審理期 日 到庭 送達 證書個 戶役 政資料詢 出入 監簡 列表 前案 異動證 作業件 卷 足 憑 刑事訴訟法 371 不待陳述 判決 \\u3000 \\u3000 \\u3000 \\u3000 \\u3000 據斷 刑事訴訟法 36913642991371 判決 \\u3000 本檢察官 翁旭輝 公訴 被告 黃 承駿訴 檢察官 黃 錦秋 到庭 執職務 \\u3000 \\u3000 華 \\u3000 \\u3000 民 \\u3000 \\u3000 國 \\u3000 \\u3000 112   \\u3000 年 \\u3000 \\u3000 3   \\u3000 \\u3000 月 \\u3000 \\u3000 22 \\u3000 \\u3000 日 \\xa0   \\xa0   \\xa0   \\xa0   \\xa0   \\xa0   \\xa0   \\xa0   \\xa0   刑事 十庭 \\xa0   審判長 法 \\u3000 官 \\xa0   劉 嶽 承 \\xa0   \\xa0   \\xa0   \\xa0   \\xa0   \\xa0   \\xa0   \\xa0   \\xa0   \\xa0   \\xa0   \\xa0   \\xa0   \\xa0   \\xa0   \\xa0   \\xa0   \\xa0   \\xa0   法 \\u3000 官 \\xa0   王耀興 \\xa0   \\xa0   \\xa0   \\xa0   \\xa0   \\xa0   \\xa0   \\xa0   \\xa0   \\xa0   \\xa0   \\xa0   \\xa0   \\xa0   \\xa0   \\xa0   \\xa0   \\xa0   \\xa0   法 \\u3000 官 \\xa0   古瑞君 正本 證明 原本 異 不服 本判決 收受 送達 20 日內 提出 訴書狀 敘述 訴理訴 20 日內 補 提理書須 他造 當事數 附繕 本 切勿 送級 法院 \\xa0   \\xa0   \\xa0   \\xa0   \\xa0   \\xa0   \\xa0   \\xa0   \\xa0   \\xa0   \\xa0   \\xa0   \\xa0   \\xa0   \\xa0   \\xa0   \\xa0   \\xa0   \\xa0   書記官 \\xa0   林君 縈 \\u3000 \\u3000 華 \\u3000 \\u3000 民 \\u3000 \\u3000 國 \\u3000 \\u3000 112   \\u3000 年 \\u3000 \\u3000 3   \\u3000 \\u3000 月 \\u3000 \\u3000 22 \\u3000 \\u3000 日 附錄 本案 罪科 刑法 全文 華 刑法 150 公共 場公眾 出入 場 聚集 施強 暴脅 迫場 助勢 年期 徒刑 拘役 十萬元罰 金首謀手 實施 月 年期 徒刑 犯前 罪列 情形 加重 刑意 圖供 用 攜帶 兇器 他 危險 物品 犯致 生公眾 交通 往來 危險']\n",
      "['地方法院 1114664 兇器 公共 聚集 生證據 黃 知悉 歲 債務 4 許 楊仕新 曾 宇昊 犯意 兇器 場 手實施 〈 施強 暴助勢 〈 曾 郭子揚 〉 92 年 16 妨害 秩序 事件 新竹 少年法庭 少 167 訓誡 假日 輔導 曾宇昊 益 93 年 5 月 15 日生涉 妨害 事件 新竹 少年法庭 111 35 裁定 令入 感化 教育 施 感化 教育 邱 94 年 4 月 日生涉 妨害 秩序 新竹 地方法院 少年法庭 110 少 389 裁定 令入 感化 教育 施 感化 教育 徐權 吳益 邱真實 姓名 年籍 詳卷 證據 黃 承駿 案發 12 歲 滿 18 歲 少 同 前往 新竹市 區路 0 段 00 文化 心演 藝廳 前 停車場 聚眾 尋釁 詎 黃 承駿 楊仕新 曾 宇昊 郭子揚 徐權 吳益 邱 明知 案發 地點 公共 場意 圖 施暴 此 聚集 將公眾 對 公共秩序 信賴產 仍 意圖 基 公共 場 施強 犯意 聯絡 同日 許開 地點 黃 承駿王 修賢持 木棒 打 吳家 傷害 據 告訴 手 實施 強暴 另 楊仕新 曾 宇昊 郭子揚 徐權 邱場 助勢 嗣 警據 報到 場理調 閱案 發地點 附近 錄影 畫面 黃 承駿 自願 同意 搜索 駕駛車 牌碼 - 0000 自用 小客 車內 扣 前往 現場 用 實施 強暴 2 支始 悉情 新竹市 局報 新竹 地方 檢察署 檢察官 偵 起訴 供述 證據 被告 審判言 詞書 面陳述 作證據 刑事訴訟法 1591 被告 雖 不符 15911594 當事 審判 程序 法院 言 書 面陳述 作成 證據 當事 代理 辯護 調證據 證據 言詞 異議 判決 371 陳 針對 辯相當 避免 審 程序']\n",
      "torch.Size([1, 457])\n",
      "tensor([[0, 0, 0, 0, 1]])\n",
      "tensor([[0, 0, 0, 0, 1]])\n"
     ]
    }
   ],
   "source": [
    "import torch\n",
    "from torch.utils.data import DataLoader\n",
    "from transformers import BertTokenizer\n",
    "import numpy as np\n",
    "import matplotlib.pyplot as plt\n",
    "\n",
    "# train_dataset = CustomDataset(train_file_paths, train_labels) # 使用上面的train_dataset\n",
    "loader = DataLoader(train_dataset, batch_size=1, shuffle=True)\n",
    "tokenizer = BertTokenizer.from_pretrained('bert-base-chinese')  # 加載BERT tokenizer\n",
    "\n",
    "def negatively_skewed_sample_indices(total_length, max_length=512):\n",
    "    mean = total_length // 2  # 均值設為文章位置\n",
    "    std_dev = total_length // 6  # 标准差设为文章长度的1/6\n",
    "\n",
    "    indices = []\n",
    "    while len(indices) < max_length and len(indices) < total_length:\n",
    "        # 生成负偏态分布的索引值\n",
    "        index = int(np.random.normal(loc=mean, scale=std_dev))\n",
    "        if index < 0:\n",
    "            index = -index  # 将负数转换为正数\n",
    "        index = int(index ** 0.8)  # 调整指数幂以实现负偏态分布\n",
    "        if index < total_length:\n",
    "            indices.append(index)\n",
    "    indices = sorted(set(indices))  # 去重并排序\n",
    "    return indices\n",
    "\n",
    "# 生成取樣位置的數據并繪製分布圖\n",
    "total_length = 1000  # 假設文章長度为1000\n",
    "num_samples = 10000  # 生成10000次取樣位置數據\n",
    "all_sampled_indices = []\n",
    "\n",
    "for _ in range(num_samples):\n",
    "    indices = negatively_skewed_sample_indices(total_length)\n",
    "    all_sampled_indices.extend(indices)\n",
    "\n",
    "# 畫圖(測試用)\n",
    "plt.figure(figsize=(10, 6))\n",
    "plt.hist(all_sampled_indices, bins=50, density=True, alpha=0.6, color='g')\n",
    "plt.title('Negatively Skewed Distribution of Sampled Positions')\n",
    "plt.xlabel('Position in Article')\n",
    "plt.ylabel('Frequency')\n",
    "plt.show()\n",
    "\n",
    "# 實際使用中對文章進行負偏態分布採樣\n",
    "def negatively_skewed_sample(words, max_length=512):\n",
    "    total_length = len(words)\n",
    "    indices = negatively_skewed_sample_indices(total_length, max_length)\n",
    "    sampled_words = [words[i] for i in indices]\n",
    "    return ' '.join(sampled_words)\n",
    "\n",
    "for epoch in range(1):\n",
    "    print('Epoch:', epoch)\n",
    "    for i, data in enumerate(loader):\n",
    "        text_list = data['text']\n",
    "        label_list = data['label']\n",
    "\n",
    "        # 對文章進行負偏態分布採樣\n",
    "        sampled_text_list = [negatively_skewed_sample(text.split()) for text in text_list]\n",
    "        print(text_list)\n",
    "        print(sampled_text_list)\n",
    "\n",
    "        # 使用tokenizer对取樣後的文本進行編碼\n",
    "        encoded_inputs = tokenizer(sampled_text_list, return_tensors='pt', padding=True, truncation=True)\n",
    "        \n",
    "        print(encoded_inputs.input_ids.shape)\n",
    "        print(label_list)\n",
    "        \n",
    "        # 将標籤轉換為LongTensor\n",
    "        labels_tensor = torch.LongTensor(label_list)\n",
    "        print(labels_tensor)\n",
    "        \n",
    "        break  # 測試一個batch\n"
   ]
  },
  {
   "cell_type": "markdown",
   "metadata": {},
   "source": [
    "定義文章轉向量函數"
   ]
  },
  {
   "cell_type": "code",
   "execution_count": 38,
   "metadata": {},
   "outputs": [],
   "source": [
    "import jieba\n",
    "import numpy as np\n",
    "import re\n",
    "import torch\n",
    "from gensim.models import FastText\n",
    "from gensim.models.keyedvectors import KeyedVectors\n",
    "\n",
    "jieba.load_userdict(r'C:\\Users\\UJay\\School\\judgement_classfier\\Custom dictionary\\dict.txt')\n",
    "skip_words = load_words(skip_words_file)\n",
    "\n",
    "# def text_to_vector(text, max_length=300):\n",
    "#     # skip_words = load_words(skip_file)\n",
    "#     words = jieba.cut(text)\n",
    "#     processed_words = [word for word in words]\n",
    "    \n",
    "#     # 將詞向量轉換為numpy array\n",
    "#     vectors = [model_fasttext.wv[word] for word in processed_words if word in model_fasttext.wv]\n",
    "    \n",
    "#     # 如果向量數目小於 max_length，進行填充\n",
    "#     if len(vectors) < max_length:\n",
    "#         vectors.extend([np.zeros(model_fasttext.vector_size)] * (max_length - len(vectors)))\n",
    "#     else:\n",
    "#         vectors = vectors[:max_length]  # 截斷過長的向量\n",
    "    \n",
    "#     return np.array(vectors)\n",
    "\n",
    "def preProcessText_and_getVector(texts, max_length=300, skip_words=skip_words):\n",
    "    all_vectors = []\n",
    "    not_in_model = []\n",
    "    in_models = []\n",
    "    for text in texts:\n",
    "        text = re.sub(' +', '', text.strip())# 去除空白\n",
    "        text = re.sub(r'[^\\u4e00-\\u9fa5]', '', text) # 去除非中文字符(會讓文字都連在一起)\n",
    "        words = jieba.cut(text,cut_all=False)\n",
    "\n",
    "        words = [word for word in words if word not in skip_words]\n",
    "        # 以下可以選擇是否要進行負偏態取樣\n",
    "        # words = negatively_skewed_sample(words)\n",
    "        \n",
    "        # 將詞向量轉換為numpy array\n",
    "        vectors = [model_fasttext[word] for word in words if word in model_fasttext]\n",
    "        in_models.append([word for word in words if word in model_fasttext])\n",
    "        not_in = [word for word in words if word not in model_fasttext]\n",
    "        # 如果向量數目小於 max_length，進行填充\n",
    "        if len(vectors) < max_length:\n",
    "            vectors.extend([np.zeros(model_fasttext.vector_size)] * (max_length - len(vectors)))\n",
    "        else:\n",
    "            vectors = vectors[:max_length]  # 截斷過長的向量\n",
    "        all_vectors.append(vectors)\n",
    "        not_in_model.append(not_in)\n",
    "    return np.array(all_vectors), not_in_model, in_models"
   ]
  },
  {
   "cell_type": "code",
   "execution_count": 63,
   "metadata": {},
   "outputs": [
    {
     "name": "stdout",
     "output_type": "stream",
     "text": [
      "['高 法院 刑事 判決 110180 \\xa0   訴 \\xa0   \\xa0   新北 地方 檢察署 檢察官 \\xa0   訴 \\xa0   \\xa0   \\xa0   被 \\xa0   告 \\xa0   潘秉鈞 \\xa0   \\xa0   \\xa0   \\xa0   \\xa0   \\xa0   \\xa0   \\xa0   \\xa0   \\xa0   另案 法務部 執選任 辯護 \\xa0   楊東 鎮律 師法 扶律 師列訴 兒童 少年 性剝削 防制 例 不服 新北 地方法院 109144 華 110 年 3 月 31 日 審判 決新北 地方 檢察署 10925290 訴判決 \\xa0   \\xa0   主 \\xa0   文 附表 編 2 定 執刑 撤銷 犯 違反 本意 願 方法 少年 被 拍 攝 猥褻 電子 訊 罪期 徒刑 柒年 貳 月 扣案 附表 編 1 示手 機同 附表 編 2 數位 影像 電子 訊 沒收 他 訴駁 回開 撤銷 改判 訴駁 回 附表 編 1 刑執期 徒刑 柒年 肆 月 \\xa0   \\xa0   犯罪 事實 成年 109 年 6 月 19 日午 8 許新北市 土城 區 裕民 路 92 巷 25 弄口 見少 年 192 年 9 月 生案 發 16 歲代 D000 - 109291 真實 姓名 年籍 詳卷 身穿 高級 工業 職業 學校 運動服 校名 詳卷 稱 高工 運動服 知悉 1 滿 18 歲 少 年 仍 對 1 佯稱 自己 運動 品牌 調員欲 拍 攝 青少年 身形 照片 做調 1 不疑 他 便 隨同 前往 同市 區路 00 巷 00 弄 0 夾 娃娃 機店 內 附表 編 1 示手機 表示 要 拍 攝內 褲待 1 脫運動 褲竟 意圖 性騷擾 乘 1 不 抗拒 際 突手觸 摸 1 生殖器 1 將手 撥開 表示 拒絕 此知 1 不願 此類 方式 身體 接觸 竟 提 昇 對 少年 強制 猥褻 犯意 這 工作 不顧 1 拒絕 違 反意 願將手 伸入 內褲 裏 撫 摸 1 生殖器 對 1 強制 猥褻 逞 109 年 5 月 29 日午 758 許新北 市區 0 出口 附近 巷子 裡面 見 291 年 12 月 生案 發 17 歲代 D000 - Z000000000 真實 姓名 年籍 詳卷 身穿 高工 運動服 知悉 2 可能 滿 18 歲 少 年 仍 對 2 佯稱 自己 運動 品牌 調員欲 拍 攝 2 穿著 身形 照片 2 不疑 他 便 隨同 到 同市 區路 00 巷 00 弄 0 夾 娃娃 機店 內 工作 需要 名 要求 拍攝 2 半身 內褲 照片 俟 2 將褲 脫 基縱 對 少年 強制 猥褻 違反 本意 願 方法 少年 被 拍 攝 猥褻 電子 訊 數位 影像 違 本意 犯意 2 同意 自將 2 內褲 褲頭拉強 手來 回撫 摸 露出 生殖器 違反 2 意願 強制 猥褻 同 用 附表 編 1 示手 機拍 攝錄 影撫 摸 2 生殖器 過程 違反 2 意願 方法 2 被 拍 攝開 遭撫 摸 裸露 生殖器 過程 猥褻 電子 訊 逞 另 109 年 5 月 29 日午 855 海山 捷運站 3 出口 附近 路見 390 年 9 月 生案 發年 滿 18 歲代 D000 - Z000000000 真實 姓名 年籍 詳卷 身穿 高工 制服 前 揭名義 手法 徵 3 同意 附近 巷子 內用 附表 編 1 示手機 拍 攝 3 露出 內褲 褲頭 電子 訊 數位 照片 2 張拍 攝過 程竟 意圖 性騷擾 乘 3 不 抗拒 際 將手 伸入 3 內 褲觸 摸 生殖器 遭 3 當場 怒 罵 隨 停手 少年 1 少年 2 少年 2 母 法定代理 訴新北 市政府 警察局 土城 局報告 3 檢察官 提出 告訴 新北 地方 檢察署 檢察官 偵 起訴 \\xa0   \\xa0   理 \\xa0   罪壹 程序 方面 審理 範圍 \\u3000 \\u3000 本案 刑事訴訟法 348110 年 6 月 18 日 修正 施 110 年 8 月 3 日 繫 修正 現 刑事訴訟法 348 判斷 訴範圍 2 判決 部訴 關視訴 但 關罪 免訴 不 受理 不此限 併 參照 立法 理 但 書 稱罪 免訴 不 受理 不內限 審判 決關 理內 說明 不 另罪 免訴 不 受理 本案 檢察官 起訴 訴 被告 109 年 6 月 19 日午 8 許另 手機 拍 攝少 年 1 穿內 褲露 陰毛 電子 訊 被告 此涉 犯兒 童少 年 性剝削 防制 例 363 詐術 方法 製 造 少 年 猥褻 電子 訊 罪嫌 原審定 卷 內 附數位 照片 法 清楚 辨識出 照片 起訴 意旨 稱露 陰毛 情事 不 成立 詐術少 年 被 拍 攝 猥褻 電子 訊 罪 不 另 罪見 理欄 貳 本案 檢察官 僅罪 起訴 犯罪 事實 ㈣ ㈤ 訴 被 告罪 訴審判 範圍 不 另罪 當事訴 非 審判 範圍 合先 敘明 被告 觸犯 刑法 224 法 罪名 檢察官 公訴 性害 犯罪 防治法 21 性害 犯罪 性害 犯罪 防治法 122 同 法施 細 6 本案 判決 揭露 123 姓名 年籍 他 足 資識別 彼身 資訊代稱 證據 能力 \\u3000 \\u3000 \\u3000 \\u3000 \\xa0   \\xa0   本判 決定 犯罪 事實 引用 供述 證據 檢察官 同意 證據 能力 被告 選任 辯護 12 警詢 審判陳述 證據 能力 1 姊 2 母警員 石金澤 偵述 被害 陳 述 具 同性 累積 證據 補強 證據 適格除 此餘 供述 證據 證據 能力 意見 迄言詞 辯終 結前 異議 審酌 證據 不 含 前述 被告 辯護爭 執資 料 製 作 情 況 違 法 不 當 證 明力 明顯過 低 瑕疵 作證據 適當非 供述 證據 核 違反 法定程序 取 情形 本案 犯罪 事實 具關 聯性 證據 能力 關 翻拍 自 娃娃 機店 內 監視錄 影畫面 被告 用手 機內 數位 影像 截圖 派生 證據 被告 辯護 證據 能力 意見 卷 153 爭執 截圖 內容 可證明 被告 本 案犯 證 明力 爭辯 另 詳述 他 據 引用 作定 被告 犯罪 事實 證據 含 12 警詢 被告 辯護爭 執證據 能力 不贅 證據 能力 定 另 被告 自白 出自 意識陳述 業據 被告 陳 明卷 卷 113299 雖 被告 稱 審遭 羈押 心情 複 雜聽 從律 師建議 罪此 僅涉 被告 自白 動機 不 影響 自白 出 任意性 定故 倘 自白 事實 相符 當作定 被告 犯罪 事實 證據 併 此 敘明 貳 實體 方面 定 犯罪 事實 憑 證據理 \\u3000 \\u3000 訊 據 被告 審理 否犯 辯稱 沒用 市場 調名 義騙 他們 只 和 123 純 聊天 問他 們 能 不能 拍照 拍攝 他們 影像 他們 當不 知道 要 拍 生殖器 只 2 被 拍 到 生殖器 13 沒 他們 同意 用手 碰觸 他們 生殖器 1 確實 撥開 拒絕 還碰 1 生殖器 \\xa0   ㈠ 事實欄 附表 編 1 犯罪 事實業 據證 告訴 1 偵審理 證述 明確 他 卷 4347 卷 203207 附表 編 1 手機 扣案 手機 內 1 掀起 衣服 數位 照片 偵卷 71 偵 不公 開卷 72 夾 娃娃 機店 內 監視 錄影 翻拍 照片 偵卷 5659 卷 可 憑 被 告警 詢偵原 審審理 坦承 犯罪 事實欄 地 品牌 調員名 義找 1 拍攝 身形 照片 1 同意 用手 碰觸 他 生殖器 明確 偵卷 16199396 原審卷 4445334335 卷 289 可補 強證 1 證述 可信 謂 補強 證據本 不證明 犯罪 構成 要件 全部 事實 必要 辯護泛 欠缺 補強 證據爭 執證 1 證詞 被告 空言 爭辯 將手 伸入 褲管 直接 碰觸 1 生殖器 節可採 \\u3000 ㈡ 關事 實欄 附表 編 2 犯罪 事實業 據證 告訴 2 偵審理 證述 明確 偵卷 127135 卷 259262 附表 編 1 手機 扣案 手機 內 2 遭撫 摸 生殖器 生殖器 露數位 影像 原審 勘驗 數位 影像 勘驗 筆錄 偵卷 77 偵 不公 開卷 77 原審卷 103105 卷 可 憑 被 告警 詢偵原 審審理 坦承 犯罪 事實欄 地 品牌 調員名 義找 2 拍攝 身形 照片 2 同意 用手 碰觸 他 生殖器 拍 攝撫 摸 2 生殖器 數位 影像 明確 偵卷 24259697 原審 45335 卷 289 可補 強證 2 證述 可信 辯護泛 稱 補強 證據 云云 可採 辯護爭 辯數位 影像 拍 攝到 臉部法 辨識否 2 云云 證 2 審理 遠距 方式 訊問 提示 照片 偵 不公 開卷 49 方 偵卷 77 方 照片 交辨識 稱 傳真過 來 黑白照片 法明 確辨識 卷 附 裸露 生殖器 照片 否本 但證 2 偵檢察官 當庭 提交 照片 辨 明白 證稱 照片 本 偵卷 131133 同方 照片 著 制服 繡 2 學 姓名 2 張 照片 擷 取自 被告 手機 內連續 攝錄 數位 影像 檔案 附表 編 2 數位 影像 檔案 原審 勘驗 卷原 審卷 104105 足 可辨 識 特定 名遭 拍 攝 猥褻 數位 影像 確實 2 誤辯護 此節 指據 辯護聲 調取 此現 場夾 娃娃 機店 當日 監視錄 影畫 面承辦 新北 市政府 警察局 土城 局 111 年 8 月 16 日新北 警土 1113743950 函覆能 調取 原卷 卷 191 卷內 被告 自拍 攝數位 影片 縱店 內 監視錄 影礙 本案 犯罪 事實定 附此 敘明 \\u3000 ㈢ 刑法 224 稱 他 違 反意 願 方法 指列 舉強 暴脅迫 恐嚇 催眠 術 他切 違反 被害 意願 方法 妨害 被害 意思 自言 不類 似列 舉強 暴脅迫 恐嚇 催眠 術 相當 他 強制 方法 足壓 抑 被害 性 自主 決定權 必要 最高法院 975 次 刑事 庭會議 決議 參照 此稱 違 反意 願 方法 不 被害 達 不能 抗拒 程度 必要 祇 須 施用 方法 違反 被害 意願足 壓抑 被害 性 自主 決定 權足 當兒 童少 年 性剝削 防制 例 363 罰強 暴脅 迫藥劑 詐術 催眠 術 他 違反 本意 願 方法 兒童 少年 被 拍 攝 製 造 性 交 猥褻 圖畫 照片 影片 影帶 光碟 電子 訊 他 物品 手段 除例 舉強 暴脅 迫藥劑 詐術 催眠 術 他切 違反 被害 意願 方法 \\u3000 ⒈ 證 1 偵審理證 稱當 被告 伸手 摸 生殖器 嚇到 退 把 他 手 撥開 但 他還 伸手 過來 摸 生殖器 摸 了 段間 不瞬間 娃娃 機店 監視 錄影 翻拍 照片 可參 1 雖遭 被告 詐騙 讓 被告 拍攝 身著 衣物 照片 但佐當 空場合 1 顯 同意 被告 觸摸 生殖器 被告 自承 知悉 1 將手 撥 開表達 拒絕 仍 稱 這 工作 出手 強撫 摸 1 生殖器 此 猥褻 舉動 妨害 1 性 自主 決定 意思 自辯護 警詢 警察 提問強 暴脅迫 違反 你 意願 方式 對 你 實施 強制 猥褻 證 1 答稱 都 沒 偵卷 30 被告 違反 1 意願 云云 對 此證 1 審理證 稱當 被告 沒威脅 也 沒用 暴力 回答 沒 但 事實 沒 同意 卷 206 明白 說明 指 被告 非用 強暴脅迫 方式 逼範 但當 被告 違 反意 願 甚明 法強 暴脅 迫不過 強制 猥褻 罪 例示 手段 開 1 警詢述 不 影響 偵審理 證述 可信 從據利 被告 定 \\u3000 ⒉ 證 2 偵證 稱 被告 當說 他 個 運動 品牌 調員 想要 調拍 攝 襪子 鞋子 說 要 拍 形象 照拍 完 肚子 把 運動褲 褲頭 往 拉 露出 內褲 褲頭 把 內 褲往 拉 露出 生殖器 觸摸 生殖器 用 手機 拍照 違 反意 願摸 秒 沒 反過 來 來 說 不要 推開 他 手 整個 事情 結束 嚇到 不 知道 要何 啟齒 扣案 被告 手機 內 拍 攝數位 影片 原審 勘驗 筆錄 可稽據 勘驗 結果 影片 全長 約 245 秒 影片 48 秒 到 130 秒 被告 開始 隔 著 2 褲摸 生殖器 接著 脫掉 褲 多次 隔著 內 褲觸 摸 2 陰莖 影片 130 秒 到 158 秒 被告 從 2 內褲 褲頭 伸手 進去 摸 2 陰莖 隔 著內 褲撫 摸 2 陰莖 影片 158 秒 到 245 秒 拉 2 內褲 褲頭 陰莖 露將 2 內褲 穿 好 隔 著內 褲撫 摸 2 陰莖 調整 名次 拉 2 內褲 2 陰莖 陰囊露 被告 握住 2 陰莖 左右 移動 多次 撫摸此 2 抓住 內褲 往拉穿 好 說 趕間 被告 仍 隔 著內 褲撫 摸 2 陰莖 說 你 容易 反 那種 2 說 還好 拉 自己 運動褲 完整 勘驗 內容見 原 審卷 104 過程 2 從 同意 被告 脫內褲 同意 觸摸 拍 攝 生殖器 被告 自承 知悉 獲 同意 手觸 摸 2 生殖器 猶藉 調 拍 攝 身形 名義進 撫 摸 2 生殖器 顯非 短 暫偷 襲式觸 碰此 猥褻 舉動 妨害 2 性 自主 決定 意思 自證 2 偵稱 過程 約 35 秒 審理稱 摸間 不記 但證 對間 法 精準 描述 致前 開錄影 情形 不符 自可 採利 被告 定僅 偷 襲式 短 暫 碰觸 性騷擾 \\u3000 ⒊ 被告 撫摸 12 猥褻 舉動 刑法 224 違 反意 願 方法 強制 猥褻 拍 攝撫 摸 2 生殖器 舉違 反 本意 願 方法 辯護 被告 僅短 暫觸 碰 他 生殖器 當 性騷擾 云云 現場 監視錄 影畫面 附表 編 2 數位 影片 1 述 不合 自可 採辯 被告 施詐術 拍 攝 云云 但凡 違反 本意 願 方法 兒童 少年 被 拍 攝 猥褻 電子 訊 當兒 童少 年 性剝削 防制 例 363 罪詐術 不 過列 舉種 非法 方法 本案 被告 佯藉 調名義 2 搭訕 騙取 同意 拍攝 身形 照片 2 進錯誤 同意 被告 撫摸 拍 攝 生殖器 猥褻 影片 被告 擅自 拍攝 猥褻 2 電子訊當 違反 本意 願 非法 方法 被告 可解 免罪 罪責 \\u3000 ㈣ 辯護 被告 不 知悉 12 滿 18 歲 少 年 云云 但兒 童少 年 福利 權益 保障法 1121 兒童 少年 性剝削 防制 例 363 兒童 少年 被害 不 明知 被害 年齡 必要 1 案發 實際 年齡 16 歲 217 歲 此性 害代 真實 姓名 對 照表 代真實 姓名 對 照表 偵 不公 開卷 37 可 憑 滿 18 歲 少 年 被告 偵原 審審理 自承 知悉 1 約 1617 歲 偵卷 94 原審卷 3341 當身 著 高工 制服 被告 前開 自白 核事實 相符 知悉 1 少年 猶 對 犯 強制 猥褻 罪合兒 童少 年 福利 權益 保障法 1121 加 重要 件國 目前 學制 學高 職生極 可能 滿 18 歲 此 社會 生活 定般 能 理解 知悉 被 告警 詢 也 坦承 選定 高生 對象 偵卷 23 原審 審理 承 知道 2 可能 高 2 高 3 原審卷 335 案發 早學間 2 當身 著 高工 制服 被告 主觀 預見 2 可能 滿 18 歲 卻 仍 執意 揭犯 主觀 具 不 確定 故意 前開 辯避 重輕 可採 \\xa0   ㈤ 事實欄 附表 編 3 犯罪 事實業 據證 告訴 3 偵審理 證述 明確 偵卷 141145 卷 263265 附表 編 1 手機 扣案 手機 內 3 掀起 衣服 露出 內褲 褲頭 照片 偵卷 73 偵 不公 開卷 71 卷 可 憑 辯護 雖稱 照片 否 3 不明 云云 但 除證 3 偵 明白 證稱 照片 本 偵卷 143 照片 著 制服 繡 3 學 姓名 可確實 3 辯護 此節 辯 可 採此 被 告警 詢偵原 審審理 坦承 犯罪 事實欄 地 品牌 調員名 義找 3 拍攝 身形 照片 3 同意 用手 碰觸 他 生殖器 明確 偵卷 222397 原審卷 45102 卷 289 可補 強證 3 證述 可信 補強 證據 不證明 犯罪 構成 要件 全部 事實 必要 辯護 徒開 照片 拍攝 到 性騷擾 過程 不能 補強 云云 理 \\xa0   ㈥ 本案 事證明 被告 犯堪定 法科 罪 \\xa0   ㈠ 犯罪 事實欄 附表 編 1 罪 \\u3000 \\u3000 被告 84 年 9 月 生成 年 1 滿 18 歲 少 年 核 被告 犯兒 童少 年 福利 權益 保障法 1121 刑法 224 成年 故意 對 少年犯 強制 猥褻 罪 加重 刑 被告 開始 乘 1 不 抗拒 觸摸 生殖器 偷襲式 短 暫性 不 當觸 摸 性騷擾 遭 1 當場 拒絕 竟 仍 不 停止 違反 1 意願 持續 撫 摸 1 生殖器 被告 提 昇 犯意 強制 猥褻 性騷擾 犯 犯意 提 昇 強制 猥褻 吸收 不 另罪 公訴 意旨 起訴 事實明 1 當年 滿 16 歲 少 年 但 犯法 僅 被告 涉犯 強制 猥褻 罪 引用 兒童 少年 福利 權益 保障法 1121 成年 故意 對 少年犯 強制 猥褻 罪容洽 起訴 基本 事實同 刑事訴訟法 300 變 更 起訴 法 \\u3000 ㈡ 犯罪 事實欄 附表 編 2 罪 \\u3000 \\u3000 ⒈ 電子 訊 通常 數位 訊類 比訊 2 種動 電話 電子 數位 機器 對 他 拍 攝 裸照 性 交 影片 利用 影像 感 功能 將物體 反射光 轉換 數位 訊 壓縮 儲存 內建 記憶體 記憶卡 透過 電子視 覺化 顯示器 讓 電子 訊 可 被 視 覺化 包括 電視 電腦 平板 顯示器 輸出 若 證據 證明數 位訊業過 沖 洗 壓 製 過 程 成 實 體 物品 錄影 帶 光碟 相紙 拍 攝 製 造 僅 電 子 訊 階 段 被告 手機 滿 18 歲 少 年 2 被 拍 攝 猥褻 檔案 儲存 手機 內電子 訊 數位 影像 \\xa0   ⒉ 被告 成年 2 滿 18 歲 少 年 被告 預見 仍 對 少 年 2 強制 猥褻 拍攝 猥褻 電子 訊 違 本意 核 被告 犯兒 童少 年 福利 權益 保障法 1121 刑法 224 成年 故意 對 少年犯 強制 猥褻 罪兒 童少 年 性剝削 防制 例 363 違反 本意 願 方法 少年 被 拍 攝 猥褻 電子 訊 罪公訴 意旨 被告 犯詐術 少年 被 製 造 猥褻 電子 訊 罪 更正 起訴 事實明 2 當年 滿 17 歲 少 年 但 犯法 僅 被告 涉犯 強制 猥褻 罪 引用 兒童 少年 福利 權益 保障法 1121 成年 故意 對 少年犯 強制 猥褻 罪容洽 起訴 基本 事實 同法變 更 起訴 法犯 兒童 少年 性剝削 防制 例 363 罪本 被害 少年 特別 罰 從 不兒 童少 年 福利 權益 保障法 1121 附此 敘明 \\u3000 ㈢ 犯罪 事實欄 附表 編 3 罪 \\u3000 \\u3000 \\u3000 核 被告 此犯 性騷擾 防治法 251 性騷擾 罪公訴 意旨 被告 犯 刑法 2282 利用 類似 \\xa0   \\xa0   業務關 機會 猥褻 罪嫌 云云 被告 雖 假借 運動 品牌 調員名 義誘 騙 3 同意 拍攝 內褲 照片 過程 乘 機撫 摸 3 生殖器 被告 客觀 3 間 任何 業務 支配 關 3 實受 騙 當才 配合 拍攝 內褲 照片 進遭 被告 偷襲觸 摸 生殖器 非礙 被告 權勢 支配 關曲 從 同意 被告 撫摸 生殖器 檢察官 被告 利用 業務 機會 猥褻 罪容 誤會 但 起訴 社會 基本 事實 同法變 更 起訴 法 \\u3000 ㈣ 被告 犯罪 事實 欄犯 成年 故意 對少 年 強制 猥褻 違反 本意 願 方法 少年 被 拍 攝 猥褻 電子 訊 罪 密接 同 地 局部 重疊觸 犯數 罪名 想像 競合關 從重 違反 本意 願 方法 少年 被 拍 攝 猥褻 電子 訊 罪斷 被告 犯 成年 故意 對 少年犯 強制 猥褻 罪犯 罪事 實欄 違反 本意 願 方法 少年 被 拍 攝 猥褻 電子 訊 罪犯 罪事 實欄 性騷擾 罪犯 罪事 實欄 被害 間 地點 不同 被告 犯意 各別 互殊 併 罰 \\u3000 ㈤ 本原 審送亞 東紀念 醫院 對 被告 實施 精神 鑑定 鑑定 結果 被告 雖 可能 疑似 非 特定 性 偏好 症 但 此性 偏好 不影響 責任 能力 此亞 東紀念 醫院 110 年 1 月 6 日 精神 鑑定 報告 書原 審卷 229257 被告 責任 能力 撤銷 附表 編 2 定執 刑科 刑說明 \\u3000 ㈠ 原審 被告 附表 編 2 犯兒 童少 年 性剝削 防制 例 363 事證明 確罪 科刑 固非 見 強制 猥褻 性騷擾 罪 雖出 違反 被害 意願 方法 但 被害 不 抗拒 際 出 不意 乘隙 短暫 偷 襲式 觸摸意 騷擾 觸摸 對象 不性 慾 滿足 必要 尚達 妨害 性 意思 自但 破壞 被害 享性性 別性 關寧靜 不受 干擾 平和 狀態 言 倘影響 被害 性 意思 形成 決定 自強制 猥褻 證 2 偵審理證 原審 勘驗 被告 攝錄 影像 檔案示 被告 將近 2 鐘內來 回撫 摸 2 生殖器 非 趁 不備 短 暫偷 襲式 觸摸 2 也 從 同意 被告 此舉 被告 違反 2 意願強 猥褻 自 成立 成年 故意 對 少年犯 強制 猥褻 罪 但兒 童少 年 性剝削 防制 例 363 罪 想像 競合僅 從 重原 審將 此 想像 競合犯 輕罪 改 性騷擾 罪 接續 犯容 違誤 被告 雖 佯 品牌 調員 名義 2 搭訕 騙取 同意 拍攝 身形 但 2 詐術 錯誤 同意 被告 拍 攝撫 摸 2 生殖器 數位 影片 2 從 同意 被告 此舉 被告 仍強 違反 本意 願 方法 少年 被 拍 攝 猥褻 電子 訊 原審 詐術少 年 被 拍 攝 猥褻 電子 訊 罪 妥 被告 訴執 辯詞 可採 前述 訴 雖理 但 原 審判決 附表 編 2 犯罪 開事 用法 違誤 可維持 此 沒收 需 犯罪 事實定 前提 連定 執刑 可單 獨維持將 附表 編 2 定 執刑 撤銷 改判 \\u3000 ㈡ 審酌 被告 犯罪 動機 手段 目滿足 自身 性 慾 佯 品牌 調員名 義挑 選學學生 搭 訕 犯案 對 2 身心 健全 發展 影響 甚鉅犯 造成 損害 非輕 考量 犯態度 前 犯過 相類 似犯 本案 自述 智識 程度 家庭 生活 濟狀況 切情 狀期 徒刑 7 年 2 月 附表 編 1 示手機 被告 供 本案 犯罪 用 刑法 382 本次 犯 宣告 沒收 附表 編 2 示數位 影像 被告 拍攝 儲存 開手 機內 對 2 猥褻 電子訊業 原審 勘驗 明確 前述 兒童 少年 性剝削 防制 例 366 宣告 沒收餘 扣案 2 支星 手機 2 支 MOTOROL 手機 電腦 主機 1 台 警方 進數位 蒐 證結果 偵卷 47 扣押 物品 目錄表 146 扣案 物內 本案 被害 資料 包含 還原 刪除 資料 數位 證物 勘察 報告 1 份 可佐偵 不公 開卷 7990 同卷 102 結 ㈢ 證據 可扣 案物 本案 直接 關連內 本案 沒收 猥褻 電子 訊 故 不 沒 收駁 回訴 附表 編 13 \\u3000 \\u3000 原審 被告 犯 附表 編 13 示各罪 事證明 確別 附表 編 1 兒童 少年 福利 權益 保障法 1121 刑法 224 成年 故意 對 少年犯 強制 猥褻 罪法 加重 刑 附表 編 3 性騷擾 防治法 251 性騷擾 罪公訴 意旨 漏 引誤 引法 法變 更 起訴 法審酌 被告 犯罪 動機 手段 目對 13 身心 健全 發展 影響 甚鉅犯 造成 損害 非輕 考量 犯態度 素智識 程度 家庭 生活 濟狀況 切情 狀犯 成年 故意 對 少年犯 強制 猥褻 罪期 徒刑 7 月 犯 性騷擾 罪期 徒刑 2 月 易科罰金 折算 標準 末用 附表 編 1 手機 刑法 382 被告 各次 犯 宣告 沒收 核事 用法 量刑 不 當維持 被告 訴執辯 詞理 指駁 前訴 駁 回定 執刑 \\u3000 \\u3000 \\u3000 \\u3000 開 撤銷 改判 附表 編 2 駁 回訴 易科罰金 附表 編 1 審酌 犯罪 態樣 犯罪 間 相近 但害 不同 被害 斟酌 責任 非 難重 複 程度 對 全體 犯罪 整體 評價定執 刑部 界限 定執 刑期 徒刑 7 年 4 月 附表 編 3 易科罰金 罪刑 刑法 501 但書前 開 易科罰金 罪 併 合罰 待 罪 確定 另 刑法 502 決定 否聲 定刑 併 此 敘明 \\u3000 \\u3000 \\u3000 \\u3000 \\u3000 罪公訴 意旨 另 \\xa0   ㈠ 被告 109 年 5 月 15 日午 7 許新北市 板橋 區民路 2 段 81 巷 附近 看到 位真實 姓名 年籍 不詳 穿著 光高 運動服 男學生 稱 不 詳年籍 4 同 手法 欺騙 不 詳年籍 4 基類 似業務關 受 自己 支配 利用 機會 猥褻 犯意 手指 抓住 不詳 年籍 4 生殖器 拍攝 電子 訊 2 張 影片 1 段 \\xa0   ㈡ 被告 109 年 6 月 20 日午 7 許新北 市板 橋區 某 看到 位真實 姓名 年籍 不詳 穿著 錦 和 高運動服 男學生 稱 不 詳年籍 5 同 手法 欺騙 不 詳年籍 5 基類 似業務關 受 自己 支配 利用 機會 猥褻 犯意 隔著 不 詳年籍 5 內褲 手指 抓住 不詳 年籍 5 生殖器 拍攝 電子 訊 2 張 被告 犯 刑法 2282 利用 類似 業務關 機會 猥褻 罪嫌 犯罪 事實 證據定 證據定 犯罪 事實 刑事訴訟法 1542 定 明文 此謂 定 犯罪 事實 證據 直接 間 接證據須 達 通常 般 不致 懷疑 確信 真實 程度 始據 罪定 若 被告 否 犯罪 證明能 達此 程度 合理性 懷疑 存致法 形成 罪確 信根據 罪證 疑利 被告 證據法 遽 不利 被告 定 刑事訴訟法 1611 檢察官 被告 犯罪 事實 負舉 證責任 指出 證明 方法 此檢察官 起訴 犯罪 事實負 提出 證據 說 服實質 舉證責任 倘 提出 證據 不足 被 告罪 積極 證明 指出 證明 方法 從 說服 法院 形成 被 告罪 心證 基罪 推定 原自 被 告罪 判決 檢察官 被告 對 年 籍 不詳 45 犯 刑法 2282 利用 類似 業務關 機會 猥褻 罪嫌 據 被 告警 詢偵 自白 警局 數位 證物 勘報 告內 被告 遭扣 案手 機內 年籍 不詳 4 男 穿著 高運動服 照片 陰莖 遭手 抓住 照片 影片 年籍 不詳 5 男著 高運動服 照片 陰莖 遭手 抓住 照片 憑 檢察官 起訴 被告 佯 品牌 調員名 義搭訕 拍照 事實 刑法 228 利用 權勢 從關 被害 曲意 順從 妨害性自主 犯 不合 公訴 意旨 被告 犯 刑法 2282 利用 類似 業務關 機會 猥褻 罪嫌 云云 法合訊據 被告 審理否 開犯 辯稱 網路 抓取 影像 云云 年籍 不詳 5 卷 內僅 被告 遭扣 案手 機內 存取 數位 照片 2 張憑 偵 不公 開卷 74 照片 拍攝 到 被告 本 5 臉部 5 著 衣服 也 學 姓名 可供 找 5 除法 數位 照片 定隔 著內 褲觸 摸 5 生殖器 部位 被告 公訴 意旨 指 5 被害 過程乏 被害 指訴 過程 不明 可徒 憑 被告 前 不 供述 臆測 犯罪 另 4 被告 遭扣 案手 機內 存取 數位 影片 原審 勘驗 被告 坦拍 攝原 審卷 105 故此 被告 辯稱 網路 抓取 云云 可採 但 影片 拍攝 到 4 臉部 4 著 衣服 也 學 姓名 可供 找 4 勘驗 筆錄 雙方 對 話 內容 4 稱 可 真意 不明 欠缺 被害 指訴 情況 4 真實 年齡 過程 否違 反意 願遭 騷擾節 不明 單憑 被告 坦觸 摸 4 生殖器 仍 不能 證明 被告 犯罪 法 被 告罪 駁 回訴 說明 \\u3000 ㈠ 原審 審理 檢察官 提卷 內證據 資料 不能 證明 被告 被訴 109 年 5 月 15 日 109 年 6 月 20 日犯 利用 類似 業務關 機會 猥褻 罪 被 告罪 核 不合 \\u3000 ㈡ 檢察 官訴 意旨 被告 假冒 運動 品牌 調員身 佯 稱欲調 被害 身材 誘騙 方式 觸碰 被害 45 生殖器 拍攝 陰莖 勃起 照片 影片 情 被告 坦承 不諱 開 照片 影片 附卷 可 參觀諸 被告 拍攝 4 影片 被告 撫摸 4 陰莖 詢問 你 容易 反 嗎 ？ 4 回答 不 知道 被告 抓著 4 陰莖 移動套 弄 詢問 這樣 OK 嗎 ？ 4 回答 可 被告 問可 拍 到 反 嗎 ？ 4 猶豫 說 可拍照 嗎 ？ 你 要 拍 ？ 被告 將 4 內褲 穿著 隔著 內 褲撫 摸 4 陰莖 表示 要 形狀 出來 另 觀諸 被告 拍攝 5 照片 5 腰部 照片 被害 衣藍色 運動服 短褲 遭 褪 露出 深灰色 內褲 被告 手撫 摸 5 陰莖 位置 情原 審 勘驗 筆錄 開 影片 照片 附卷 可佐 被告 施用 假藉 運動 品牌 調員 詐術 此 詐術 取信 45 誤此 運動 品牌 調 身材 流程 對 被告 指示 深信不疑 唯從 嗣 被告 利用 45 開誤 欠缺 理性 思考 遵從 狀態 壓制 45 性自 主意 願觸 碰 45 生殖器 強制 猥褻 犯逞 故情 足 壓制 45 性 自主 意思 決定 自 被告 刑法 224 他 違 反意 願 方式 對 45 強制 猥褻 犯 客觀 要件 縱 刑法 228 構成 要件 不符 法院 不 妨害 事實 同範圍 內 自定 事實 法律 故 被告 起訴 書 犯罪 事實欄 犯罪 事實否 涉嫌 強制 猥褻 罪犯 原審 審理 範圍 原 審此 漏 審酌 遽 罪判 決理 不備 違法原 審判決 開事 用法 尚洽將 被告 此罪 判決 撤銷 更 妥 適判決 但 45 身 不明 情況 欠缺 被害 指訴 重要 證據 方法 法僅 被告 述 卷 內 可辨 識 被害 照片 影片 定 被告 犯罪 當何 罪理 敘述 前 檢察官 提出 證據 不足 被 告罪 積極 證明 不能 臆測 方式 補足開 偵不 完備 自 被 告罪 訴 仍 相異 評價訴 理駁 回 \\u3000 \\u3000 \\u3000 \\u3000 \\u3000 據斷 刑事訴訟法 36836913642991300 判決本 檢察官 何克凡 公訴 檢察 官盧 祐 涵訴 檢察官 壽勤偉 到庭 執職務 \\u3000 \\u3000 華 \\u3000 \\u3000 民 \\u3000 \\u3000 國 \\u3000 \\u3000 112   \\u3000 年 \\u3000 \\u3000 1   \\u3000 \\u3000 月 \\u3000 \\u3000 11 \\u3000 \\u3000 日 \\xa0   \\xa0   \\xa0   \\xa0   \\xa0   \\xa0   \\xa0   \\xa0   \\xa0   \\xa0   刑事 庭 \\xa0   審判長 法 \\u3000 官 \\xa0   劉方慈 \\xa0   \\xa0   \\xa0   \\xa0   \\xa0   \\xa0   \\xa0   \\xa0   \\xa0   \\xa0   \\xa0   \\xa0   \\xa0   \\xa0   \\xa0   \\xa0   \\xa0   \\xa0   \\xa0   法 \\u3000 官 \\xa0   蕭世昌 \\xa0   \\xa0   \\xa0   \\xa0   \\xa0   \\xa0   \\xa0   \\xa0   \\xa0   \\xa0   \\xa0   \\xa0   \\xa0   \\xa0   \\xa0   \\xa0   \\xa0   \\xa0   \\xa0   法 \\u3000 官 \\xa0   許曉微 正本 證明 原本 異 不服 本判決 收受 送達 20 日內 提出 訴書狀 敘述 訴理訴 20 日內 補 提理書須 他造 當事數 附繕 本 切勿 送級 法院 維持 審罪 判決 檢察 官訴 理須 受 刑事 妥速 審判法 9 限制 刑事 妥速 審判法 9 除前 情形 審 法院 維持 審罪判 決訴 理列 事限判決 牴 觸法 判決 司法院 解釋 判決 判例 刑事訴訟法   377     379     393     1   前 審理 不 \\xa0   \\xa0   \\xa0   \\xa0   \\xa0   \\xa0   \\xa0   \\xa0   \\xa0   \\xa0   \\xa0   \\xa0   \\xa0   \\xa0   \\xa0   \\xa0   \\xa0   \\xa0   \\xa0   書記官 \\xa0   徐仁豐 \\u3000 \\u3000 華 \\u3000 \\u3000 民 \\u3000 \\u3000 國 \\u3000 \\u3000 112   \\u3000 年 \\u3000 \\u3000 1   \\u3000 \\u3000 月 \\u3000 \\u3000 11 \\u3000 \\u3000 日 附錄 本案 罪科 刑法 全文 華 刑法 224 強制 猥褻 罪 男女 強暴脅迫 恐嚇 催眠 術 他 違 反意 願 方法 猥褻   6   月   5   年期 徒刑 兒童 少年 福利 權益 保障法 112 成年 教唆 幫助 利用 兒童 少年 犯罪 共同 實施 犯罪 故意 對 犯罪 加重 刑 但 各罪 被害 兒童 少年定 特別 罰 從兒 童少 年 犯罪 主管 機關 獨立 告訴 兒童 少年 性剝削 防制 例 36 拍 攝 製 造 兒 童 少 年 性 交 猥褻 圖畫 照片 影片 影帶 光碟 電子 訊 他 物品   1   年   7   年期 徒刑 併 科新 臺 幣   1   百萬元罰 金 招募 引誘 容留 媒介 協助 他 法兒 童少 年 被 拍 攝 製 造 性 交 猥褻 圖畫 照片 影片 影帶 光碟 電子 訊 他 物品   3   年   7   年期 徒刑 併 科新 臺 幣   3   百萬元罰 金強 暴脅 迫藥劑 詐術 催眠 術 他 違反 本意 願 方法 兒童 少年 被 拍 攝 製 造 性 交 猥褻 圖畫 照片 影片 影帶 光碟 電子 訊 他 物品   7   年期 徒刑 併 科新 臺 幣   5   百萬元罰 金意 圖營利 犯前 罪 各 加重 刑前 遂 犯罰   1     4   物品 不問 犯罪 否沒收 性騷擾 防治法 25 意圖 性騷擾 乘 不 抗拒 親吻 擁抱觸 摸 臀部 胸部 他 身體 隱私 2 年期 徒刑 拘役 科 併 科新 臺 幣 10 萬元罰 金前 罪須 告訴 【 附表 】 扣案物 影像 電子 檔 編扣 案物手 機內 影像 用途 影像 內容 \\xa0 1 被告 iPhone 手機 1   支含 SIM   卡 1   張原 審卷 143   照片 手機 數位 鑑識 報告 證物 1   被告 事實欄 佯裝 品牌 調員用 \\xa0 2 警方 將編 1iPhone 手機 內 刪除 檔案 還原 發現 內 被告 儲存事 實欄 拍 攝 影片 檔案 1   個 還原 檔案 儲存 警方 蒐 證 影像 光碟 光碟 置原 審卷 證物袋 內 偵卷 證物袋 內 ⒈ 數位 影像 檔名 cplWeVqLRwOeLcXZkazDQhbooQIO0c . mov ⒉ 影片 內容 被告 撫摸 2 陰莖 拉 2 內 褲將 2 陰莖 露 影像 詳細 內容 原審 勘驗 筆錄 影像 畫面 截圖 可見 被害 身穿 學校 運動服 畫面 【 附表 】 編對 犯罪 事實欄 判決 備 註 \\xa0 1 犯罪 事實 欄訴 駁 回原 審判決 成年 故意 對 少年犯 強制 猥褻 罪期 徒刑 7   月 扣案 附表 編 1   示手機 沒收 \\xa0 2 犯罪 事實欄 撤銷 犯 違反 本意 願 方法 少年 被 拍 攝 猥褻 電子 訊 罪期 徒刑 柒年 貳 月 扣案 附表 編 1   示手 機同 附表 編 2 數位 影像 電子 訊 沒 收原 審判 決犯 詐術少 年 被 拍 攝 猥褻 電子 訊 罪期 徒刑 7 年 2 月 扣案 附表 編 1 示手 機編 2 數位 影像 電子 訊 沒收 \\xa0 3 犯罪 事實 欄訴 駁 回原 審判 決犯 性騷擾 罪期 徒刑 2   月 易科罰金 新 臺 幣 1 千元 折算 1 日 扣案 附表 編 1   示手機 沒收']\n",
      "高 法院 刑事 判決 110180     訴         新北 地方 檢察署 檢察官     訴             被     告     潘秉鈞                                         另案 法務部 執選任 辯護     楊東 鎮律 師法 扶律 師列訴 兒童 少年 性剝削 防制 例 不服 新北 地方法院 109144 華 110 年 3 月 31 日 審判 決新北 地方 檢察署 10925290 訴判決         主     文 附表 編 2 定 執刑 撤銷 犯 違反 本意 願 方法 少年 被 拍 攝 猥褻 電子 訊 罪期 徒刑 柒年 貳 月 扣案 附表 編 1 示手 機同 附表 編 2 數位 影像 電子 訊 沒收 他 訴駁 回開 撤銷 改判 訴駁 回 附表 編 1 刑執期 徒刑 柒年 肆 月         犯罪 事實 成年 109 年 6 月 19 日午 8 許新北市 土城 區 裕民 路 92 巷 25 弄口 見少 年 192 年 9 月 生案 發 16 歲代 D000 - 109291 真實 姓名 年籍 詳卷 身穿 高級 工業 職業 學校 運動服 校名 詳卷 稱 高工 運動服 知悉 1 滿 18 歲 少 年 仍 對 1 佯稱 自己 運動 品牌 調員欲 拍 攝 青少年 身形 照片 做調 1 不疑 他 便 隨同 前往 同市 區路 00 巷 00 弄 0 夾 娃娃 機店 內 附表 編 1 示手機 表示 要 拍 攝內 褲待 1 脫運動 褲竟 意圖 性騷擾 乘 1 不 抗拒 際 突手觸 摸 1 生殖器 1 將手 撥開 表示 拒絕 此知 1 不願 此類 方式 身體 接觸 竟 提 昇 對 少年 強制 猥褻 犯意 這 工作 不顧 1 拒絕 違 反意 願將手 伸入 內褲 裏 撫 摸 1 生殖器 對 1 強制 猥褻 逞 109 年 5 月 29 日午 758 許新北 市區 0 出口 附近 巷子 裡面 見 291 年 12 月 生案 發 17 歲代 D000 - Z000000000 真實 姓名 年籍 詳卷 身穿 高工 運動服 知悉 2 可能 滿 18 歲 少 年 仍 對 2 佯稱 自己 運動 品牌 調員欲 拍 攝 2 穿著 身形 照片 2 不疑 他 便 隨同 到 同市 區路 00 巷 00 弄 0 夾 娃娃 機店 內 工作 需要 名 要求 拍攝 2 半身 內褲 照片 俟 2 將褲 脫 基縱 對 少年 強制 猥褻 違反 本意 願 方法 少年 被 拍 攝 猥褻 電子 訊 數位 影像 違 本意 犯意 2 同意 自將 2 內褲 褲頭拉強 手來 回撫 摸 露出 生殖器 違反 2 意願 強制 猥褻 同 用 附表 編 1 示手 機拍 攝錄 影撫 摸 2 生殖器 過程 違反 2 意願 方法 2 被 拍 攝開 遭撫 摸 裸露 生殖器 過程 猥褻 電子 訊 逞 另 109 年 5 月 29 日午 855 海山 捷運站 3 出口 附近 路見 390 年 9 月 生案 發年 滿 18 歲代 D000 - Z000000000 真實 姓名 年籍 詳卷 身穿 高工 制服 前 揭名義 手法 徵 3 同意 附近 巷子 內用 附表 編 1 示手機 拍 攝 3 露出 內褲 褲頭 電子 訊 數位 照片 2 張拍 攝過 程竟 意圖 性騷擾 乘 3 不 抗拒 際 將手 伸入 3 內 褲觸 摸 生殖器 遭 3 當場 怒 罵 隨 停手 少年 1 少年 2 少年 2 母 法定代理 訴新北 市政府 警察局 土城 局報告 3 檢察官 提出 告訴 新北 地方 檢察署 檢察官 偵 起訴         理     罪壹 程序 方面 審理 範圍 　 　 本案 刑事訴訟法 348110 年 6 月 18 日 修正 施 110 年 8 月 3 日 繫 修正 現 刑事訴訟法 348 判斷 訴範圍 2 判決 部訴 關視訴 但 關罪 免訴 不 受理 不此限 併 參照 立法 理 但 書 稱罪 免訴 不 受理 不內限 審判 決關 理內 說明 不 另罪 免訴 不 受理 本案 檢察官 起訴 訴 被告 109 年 6 月 19 日午 8 許另 手機 拍 攝少 年 1 穿內 褲露 陰毛 電子 訊 被告 此涉 犯兒 童少 年 性剝削 防制 例 363 詐術 方法 製 造 少 年 猥褻 電子 訊 罪嫌 原審定 卷 內 附數位 照片 法 清楚 辨識出 照片 起訴 意旨 稱露 陰毛 情事 不 成立 詐術少 年 被 拍 攝 猥褻 電子 訊 罪 不 另 罪見 理欄 貳 本案 檢察官 僅罪 起訴 犯罪 事實 ㈣ ㈤ 訴 被 告罪 訴審判 範圍 不 另罪 當事訴 非 審判 範圍 合先 敘明 被告 觸犯 刑法 224 法 罪名 檢察官 公訴 性害 犯罪 防治法 21 性害 犯罪 性害 犯罪 防治法 122 同 法施 細 6 本案 判決 揭露 123 姓名 年籍 他 足 資識別 彼身 資訊代稱 證據 能力 　 　 　 　         本判 決定 犯罪 事實 引用 供述 證據 檢察官 同意 證據 能力 被告 選任 辯護 12 警詢 審判陳述 證據 能力 1 姊 2 母警員 石金澤 偵述 被害 陳 述 具 同性 累積 證據 補強 證據 適格除 此餘 供述 證據 證據 能力 意見 迄言詞 辯終 結前 異議 審酌 證據 不 含 前述 被告 辯護爭 執資 料 製 作 情 況 違 法 不 當 證 明力 明顯過 低 瑕疵 作證據 適當非 供述 證據 核 違反 法定程序 取 情形 本案 犯罪 事實 具關 聯性 證據 能力 關 翻拍 自 娃娃 機店 內 監視錄 影畫面 被告 用手 機內 數位 影像 截圖 派生 證據 被告 辯護 證據 能力 意見 卷 153 爭執 截圖 內容 可證明 被告 本 案犯 證 明力 爭辯 另 詳述 他 據 引用 作定 被告 犯罪 事實 證據 含 12 警詢 被告 辯護爭 執證據 能力 不贅 證據 能力 定 另 被告 自白 出自 意識陳述 業據 被告 陳 明卷 卷 113299 雖 被告 稱 審遭 羈押 心情 複 雜聽 從律 師建議 罪此 僅涉 被告 自白 動機 不 影響 自白 出 任意性 定故 倘 自白 事實 相符 當作定 被告 犯罪 事實 證據 併 此 敘明 貳 實體 方面 定 犯罪 事實 憑 證據理 　 　 訊 據 被告 審理 否犯 辯稱 沒用 市場 調名 義騙 他們 只 和 123 純 聊天 問他 們 能 不能 拍照 拍攝 他們 影像 他們 當不 知道 要 拍 生殖器 只 2 被 拍 到 生殖器 13 沒 他們 同意 用手 碰觸 他們 生殖器 1 確實 撥開 拒絕 還碰 1 生殖器     ㈠ 事實欄 附表 編 1 犯罪 事實業 據證 告訴 1 偵審理 證述 明確 他 卷 4347 卷 203207 附表 編 1 手機 扣案 手機 內 1 掀起 衣服 數位 照片 偵卷 71 偵 不公 開卷 72 夾 娃娃 機店 內 監視 錄影 翻拍 照片 偵卷 5659 卷 可 憑 被 告警 詢偵原 審審理 坦承 犯罪 事實欄 地 品牌 調員名 義找 1 拍攝 身形 照片 1 同意 用手 碰觸 他 生殖器 明確 偵卷 16199396 原審卷 4445334335 卷 289 可補 強證 1 證述 可信 謂 補強 證據本 不證明 犯罪 構成 要件 全部 事實 必要 辯護泛 欠缺 補強 證據爭 執證 1 證詞 被告 空言 爭辯 將手 伸入 褲管 直接 碰觸 1 生殖器 節可採 　 ㈡ 關事 實欄 附表 編 2 犯罪 事實業 據證 告訴 2 偵審理 證述 明確 偵卷 127135 卷 259262 附表 編 1 手機 扣案 手機 內 2 遭撫 摸 生殖器 生殖器 露數位 影像 原審 勘驗 數位 影像 勘驗 筆錄 偵卷 77 偵 不公 開卷 77 原審卷 103105 卷 可 憑 被 告警 詢偵原 審審理 坦承 犯罪 事實欄 地 品牌 調員名 義找 2 拍攝 身形 照片 2 同意 用手 碰觸 他 生殖器 拍 攝撫 摸 2 生殖器 數位 影像 明確 偵卷 24259697 原審 45335 卷 289 可補 強證 2 證述 可信 辯護泛 稱 補強 證據 云云 可採 辯護爭 辯數位 影像 拍 攝到 臉部法 辨識否 2 云云 證 2 審理 遠距 方式 訊問 提示 照片 偵 不公 開卷 49 方 偵卷 77 方 照片 交辨識 稱 傳真過 來 黑白照片 法明 確辨識 卷 附 裸露 生殖器 照片 否本 但證 2 偵檢察官 當庭 提交 照片 辨 明白 證稱 照片 本 偵卷 131133 同方 照片 著 制服 繡 2 學 姓名 2 張 照片 擷 取自 被告 手機 內連續 攝錄 數位 影像 檔案 附表 編 2 數位 影像 檔案 原審 勘驗 卷原 審卷 104105 足 可辨 識 特定 名遭 拍 攝 猥褻 數位 影像 確實 2 誤辯護 此節 指據 辯護聲 調取 此現 場夾 娃娃 機店 當日 監視錄 影畫 面承辦 新北 市政府 警察局 土城 局 111 年 8 月 16 日新北 警土 1113743950 函覆能 調取 原卷 卷 191 卷內 被告 自拍 攝數位 影片 縱店 內 監視錄 影礙 本案 犯罪 事實定 附此 敘明 　 ㈢ 刑法 224 稱 他 違 反意 願 方法 指列 舉強 暴脅迫 恐嚇 催眠 術 他切 違反 被害 意願 方法 妨害 被害 意思 自言 不類 似列 舉強 暴脅迫 恐嚇 催眠 術 相當 他 強制 方法 足壓 抑 被害 性 自主 決定權 必要 最高法院 975 次 刑事 庭會議 決議 參照 此稱 違 反意 願 方法 不 被害 達 不能 抗拒 程度 必要 祇 須 施用 方法 違反 被害 意願足 壓抑 被害 性 自主 決定 權足 當兒 童少 年 性剝削 防制 例 363 罰強 暴脅 迫藥劑 詐術 催眠 術 他 違反 本意 願 方法 兒童 少年 被 拍 攝 製 造 性 交 猥褻 圖畫 照片 影片 影帶 光碟 電子 訊 他 物品 手段 除例 舉強 暴脅 迫藥劑 詐術 催眠 術 他切 違反 被害 意願 方法 　 ⒈ 證 1 偵審理證 稱當 被告 伸手 摸 生殖器 嚇到 退 把 他 手 撥開 但 他還 伸手 過來 摸 生殖器 摸 了 段間 不瞬間 娃娃 機店 監視 錄影 翻拍 照片 可參 1 雖遭 被告 詐騙 讓 被告 拍攝 身著 衣物 照片 但佐當 空場合 1 顯 同意 被告 觸摸 生殖器 被告 自承 知悉 1 將手 撥 開表達 拒絕 仍 稱 這 工作 出手 強撫 摸 1 生殖器 此 猥褻 舉動 妨害 1 性 自主 決定 意思 自辯護 警詢 警察 提問強 暴脅迫 違反 你 意願 方式 對 你 實施 強制 猥褻 證 1 答稱 都 沒 偵卷 30 被告 違反 1 意願 云云 對 此證 1 審理證 稱當 被告 沒威脅 也 沒用 暴力 回答 沒 但 事實 沒 同意 卷 206 明白 說明 指 被告 非用 強暴脅迫 方式 逼範 但當 被告 違 反意 願 甚明 法強 暴脅 迫不過 強制 猥褻 罪 例示 手段 開 1 警詢述 不 影響 偵審理 證述 可信 從據利 被告 定 　 ⒉ 證 2 偵證 稱 被告 當說 他 個 運動 品牌 調員 想要 調拍 攝 襪子 鞋子 說 要 拍 形象 照拍 完 肚子 把 運動褲 褲頭 往 拉 露出 內褲 褲頭 把 內 褲往 拉 露出 生殖器 觸摸 生殖器 用 手機 拍照 違 反意 願摸 秒 沒 反過 來 來 說 不要 推開 他 手 整個 事情 結束 嚇到 不 知道 要何 啟齒 扣案 被告 手機 內 拍 攝數位 影片 原審 勘驗 筆錄 可稽據 勘驗 結果 影片 全長 約 245 秒 影片 48 秒 到 130 秒 被告 開始 隔 著 2 褲摸 生殖器 接著 脫掉 褲 多次 隔著 內 褲觸 摸 2 陰莖 影片 130 秒 到 158 秒 被告 從 2 內褲 褲頭 伸手 進去 摸 2 陰莖 隔 著內 褲撫 摸 2 陰莖 影片 158 秒 到 245 秒 拉 2 內褲 褲頭 陰莖 露將 2 內褲 穿 好 隔 著內 褲撫 摸 2 陰莖 調整 名次 拉 2 內褲 2 陰莖 陰囊露 被告 握住 2 陰莖 左右 移動 多次 撫摸此 2 抓住 內褲 往拉穿 好 說 趕間 被告 仍 隔 著內 褲撫 摸 2 陰莖 說 你 容易 反 那種 2 說 還好 拉 自己 運動褲 完整 勘驗 內容見 原 審卷 104 過程 2 從 同意 被告 脫內褲 同意 觸摸 拍 攝 生殖器 被告 自承 知悉 獲 同意 手觸 摸 2 生殖器 猶藉 調 拍 攝 身形 名義進 撫 摸 2 生殖器 顯非 短 暫偷 襲式觸 碰此 猥褻 舉動 妨害 2 性 自主 決定 意思 自證 2 偵稱 過程 約 35 秒 審理稱 摸間 不記 但證 對間 法 精準 描述 致前 開錄影 情形 不符 自可 採利 被告 定僅 偷 襲式 短 暫 碰觸 性騷擾 　 ⒊ 被告 撫摸 12 猥褻 舉動 刑法 224 違 反意 願 方法 強制 猥褻 拍 攝撫 摸 2 生殖器 舉違 反 本意 願 方法 辯護 被告 僅短 暫觸 碰 他 生殖器 當 性騷擾 云云 現場 監視錄 影畫面 附表 編 2 數位 影片 1 述 不合 自可 採辯 被告 施詐術 拍 攝 云云 但凡 違反 本意 願 方法 兒童 少年 被 拍 攝 猥褻 電子 訊 當兒 童少 年 性剝削 防制 例 363 罪詐術 不 過列 舉種 非法 方法 本案 被告 佯藉 調名義 2 搭訕 騙取 同意 拍攝 身形 照片 2 進錯誤 同意 被告 撫摸 拍 攝 生殖器 猥褻 影片 被告 擅自 拍攝 猥褻 2 電子訊當 違反 本意 願 非法 方法 被告 可解 免罪 罪責 　 ㈣ 辯護 被告 不 知悉 12 滿 18 歲 少 年 云云 但兒 童少 年 福利 權益 保障法 1121 兒童 少年 性剝削 防制 例 363 兒童 少年 被害 不 明知 被害 年齡 必要 1 案發 實際 年齡 16 歲 217 歲 此性 害代 真實 姓名 對 照表 代真實 姓名 對 照表 偵 不公 開卷 37 可 憑 滿 18 歲 少 年 被告 偵原 審審理 自承 知悉 1 約 1617 歲 偵卷 94 原審卷 3341 當身 著 高工 制服 被告 前開 自白 核事實 相符 知悉 1 少年 猶 對 犯 強制 猥褻 罪合兒 童少 年 福利 權益 保障法 1121 加 重要 件國 目前 學制 學高 職生極 可能 滿 18 歲 此 社會 生活 定般 能 理解 知悉 被 告警 詢 也 坦承 選定 高生 對象 偵卷 23 原審 審理 承 知道 2 可能 高 2 高 3 原審卷 335 案發 早學間 2 當身 著 高工 制服 被告 主觀 預見 2 可能 滿 18 歲 卻 仍 執意 揭犯 主觀 具 不 確定 故意 前開 辯避 重輕 可採     ㈤ 事實欄 附表 編 3 犯罪 事實業 據證 告訴 3 偵審理 證述 明確 偵卷 141145 卷 263265 附表 編 1 手機 扣案 手機 內 3 掀起 衣服 露出 內褲 褲頭 照片 偵卷 73 偵 不公 開卷 71 卷 可 憑 辯護 雖稱 照片 否 3 不明 云云 但 除證 3 偵 明白 證稱 照片 本 偵卷 143 照片 著 制服 繡 3 學 姓名 可確實 3 辯護 此節 辯 可 採此 被 告警 詢偵原 審審理 坦承 犯罪 事實欄 地 品牌 調員名 義找 3 拍攝 身形 照片 3 同意 用手 碰觸 他 生殖器 明確 偵卷 222397 原審卷 45102 卷 289 可補 強證 3 證述 可信 補強 證據 不證明 犯罪 構成 要件 全部 事實 必要 辯護 徒開 照片 拍攝 到 性騷擾 過程 不能 補強 云云 理     ㈥ 本案 事證明 被告 犯堪定 法科 罪     ㈠ 犯罪 事實欄 附表 編 1 罪 　 　 被告 84 年 9 月 生成 年 1 滿 18 歲 少 年 核 被告 犯兒 童少 年 福利 權益 保障法 1121 刑法 224 成年 故意 對 少年犯 強制 猥褻 罪 加重 刑 被告 開始 乘 1 不 抗拒 觸摸 生殖器 偷襲式 短 暫性 不 當觸 摸 性騷擾 遭 1 當場 拒絕 竟 仍 不 停止 違反 1 意願 持續 撫 摸 1 生殖器 被告 提 昇 犯意 強制 猥褻 性騷擾 犯 犯意 提 昇 強制 猥褻 吸收 不 另罪 公訴 意旨 起訴 事實明 1 當年 滿 16 歲 少 年 但 犯法 僅 被告 涉犯 強制 猥褻 罪 引用 兒童 少年 福利 權益 保障法 1121 成年 故意 對 少年犯 強制 猥褻 罪容洽 起訴 基本 事實同 刑事訴訟法 300 變 更 起訴 法 　 ㈡ 犯罪 事實欄 附表 編 2 罪 　 　 ⒈ 電子 訊 通常 數位 訊類 比訊 2 種動 電話 電子 數位 機器 對 他 拍 攝 裸照 性 交 影片 利用 影像 感 功能 將物體 反射光 轉換 數位 訊 壓縮 儲存 內建 記憶體 記憶卡 透過 電子視 覺化 顯示器 讓 電子 訊 可 被 視 覺化 包括 電視 電腦 平板 顯示器 輸出 若 證據 證明數 位訊業過 沖 洗 壓 製 過 程 成 實 體 物品 錄影 帶 光碟 相紙 拍 攝 製 造 僅 電 子 訊 階 段 被告 手機 滿 18 歲 少 年 2 被 拍 攝 猥褻 檔案 儲存 手機 內電子 訊 數位 影像     ⒉ 被告 成年 2 滿 18 歲 少 年 被告 預見 仍 對 少 年 2 強制 猥褻 拍攝 猥褻 電子 訊 違 本意 核 被告 犯兒 童少 年 福利 權益 保障法 1121 刑法 224 成年 故意 對 少年犯 強制 猥褻 罪兒 童少 年 性剝削 防制 例 363 違反 本意 願 方法 少年 被 拍 攝 猥褻 電子 訊 罪公訴 意旨 被告 犯詐術 少年 被 製 造 猥褻 電子 訊 罪 更正 起訴 事實明 2 當年 滿 17 歲 少 年 但 犯法 僅 被告 涉犯 強制 猥褻 罪 引用 兒童 少年 福利 權益 保障法 1121 成年 故意 對 少年犯 強制 猥褻 罪容洽 起訴 基本 事實 同法變 更 起訴 法犯 兒童 少年 性剝削 防制 例 363 罪本 被害 少年 特別 罰 從 不兒 童少 年 福利 權益 保障法 1121 附此 敘明 　 ㈢ 犯罪 事實欄 附表 編 3 罪 　 　 　 核 被告 此犯 性騷擾 防治法 251 性騷擾 罪公訴 意旨 被告 犯 刑法 2282 利用 類似         業務關 機會 猥褻 罪嫌 云云 被告 雖 假借 運動 品牌 調員名 義誘 騙 3 同意 拍攝 內褲 照片 過程 乘 機撫 摸 3 生殖器 被告 客觀 3 間 任何 業務 支配 關 3 實受 騙 當才 配合 拍攝 內褲 照片 進遭 被告 偷襲觸 摸 生殖器 非礙 被告 權勢 支配 關曲 從 同意 被告 撫摸 生殖器 檢察官 被告 利用 業務 機會 猥褻 罪容 誤會 但 起訴 社會 基本 事實 同法變 更 起訴 法 　 ㈣ 被告 犯罪 事實 欄犯 成年 故意 對少 年 強制 猥褻 違反 本意 願 方法 少年 被 拍 攝 猥褻 電子 訊 罪 密接 同 地 局部 重疊觸 犯數 罪名 想像 競合關 從重 違反 本意 願 方法 少年 被 拍 攝 猥褻 電子 訊 罪斷 被告 犯 成年 故意 對 少年犯 強制 猥褻 罪犯 罪事 實欄 違反 本意 願 方法 少年 被 拍 攝 猥褻 電子 訊 罪犯 罪事 實欄 性騷擾 罪犯 罪事 實欄 被害 間 地點 不同 被告 犯意 各別 互殊 併 罰 　 ㈤ 本原 審送亞 東紀念 醫院 對 被告 實施 精神 鑑定 鑑定 結果 被告 雖 可能 疑似 非 特定 性 偏好 症 但 此性 偏好 不影響 責任 能力 此亞 東紀念 醫院 110 年 1 月 6 日 精神 鑑定 報告 書原 審卷 229257 被告 責任 能力 撤銷 附表 編 2 定執 刑科 刑說明 　 ㈠ 原審 被告 附表 編 2 犯兒 童少 年 性剝削 防制 例 363 事證明 確罪 科刑 固非 見 強制 猥褻 性騷擾 罪 雖出 違反 被害 意願 方法 但 被害 不 抗拒 際 出 不意 乘隙 短暫 偷 襲式 觸摸意 騷擾 觸摸 對象 不性 慾 滿足 必要 尚達 妨害 性 意思 自但 破壞 被害 享性性 別性 關寧靜 不受 干擾 平和 狀態 言 倘影響 被害 性 意思 形成 決定 自強制 猥褻 證 2 偵審理證 原審 勘驗 被告 攝錄 影像 檔案示 被告 將近 2 鐘內來 回撫 摸 2 生殖器 非 趁 不備 短 暫偷 襲式 觸摸 2 也 從 同意 被告 此舉 被告 違反 2 意願強 猥褻 自 成立 成年 故意 對 少年犯 強制 猥褻 罪 但兒 童少 年 性剝削 防制 例 363 罪 想像 競合僅 從 重原 審將 此 想像 競合犯 輕罪 改 性騷擾 罪 接續 犯容 違誤 被告 雖 佯 品牌 調員 名義 2 搭訕 騙取 同意 拍攝 身形 但 2 詐術 錯誤 同意 被告 拍 攝撫 摸 2 生殖器 數位 影片 2 從 同意 被告 此舉 被告 仍強 違反 本意 願 方法 少年 被 拍 攝 猥褻 電子 訊 原審 詐術少 年 被 拍 攝 猥褻 電子 訊 罪 妥 被告 訴執 辯詞 可採 前述 訴 雖理 但 原 審判決 附表 編 2 犯罪 開事 用法 違誤 可維持 此 沒收 需 犯罪 事實定 前提 連定 執刑 可單 獨維持將 附表 編 2 定 執刑 撤銷 改判 　 ㈡ 審酌 被告 犯罪 動機 手段 目滿足 自身 性 慾 佯 品牌 調員名 義挑 選學學生 搭 訕 犯案 對 2 身心 健全 發展 影響 甚鉅犯 造成 損害 非輕 考量 犯態度 前 犯過 相類 似犯 本案 自述 智識 程度 家庭 生活 濟狀況 切情 狀期 徒刑 7 年 2 月 附表 編 1 示手機 被告 供 本案 犯罪 用 刑法 382 本次 犯 宣告 沒收 附表 編 2 示數位 影像 被告 拍攝 儲存 開手 機內 對 2 猥褻 電子訊業 原審 勘驗 明確 前述 兒童 少年 性剝削 防制 例 366 宣告 沒收餘 扣案 2 支星 手機 2 支 MOTOROL 手機 電腦 主機 1 台 警方 進數位 蒐 證結果 偵卷 47 扣押 物品 目錄表 146 扣案 物內 本案 被害 資料 包含 還原 刪除 資料 數位 證物 勘察 報告 1 份 可佐偵 不公 開卷 7990 同卷 102 結 ㈢ 證據 可扣 案物 本案 直接 關連內 本案 沒收 猥褻 電子 訊 故 不 沒 收駁 回訴 附表 編 13 　 　 原審 被告 犯 附表 編 13 示各罪 事證明 確別 附表 編 1 兒童 少年 福利 權益 保障法 1121 刑法 224 成年 故意 對 少年犯 強制 猥褻 罪法 加重 刑 附表 編 3 性騷擾 防治法 251 性騷擾 罪公訴 意旨 漏 引誤 引法 法變 更 起訴 法審酌 被告 犯罪 動機 手段 目對 13 身心 健全 發展 影響 甚鉅犯 造成 損害 非輕 考量 犯態度 素智識 程度 家庭 生活 濟狀況 切情 狀犯 成年 故意 對 少年犯 強制 猥褻 罪期 徒刑 7 月 犯 性騷擾 罪期 徒刑 2 月 易科罰金 折算 標準 末用 附表 編 1 手機 刑法 382 被告 各次 犯 宣告 沒收 核事 用法 量刑 不 當維持 被告 訴執辯 詞理 指駁 前訴 駁 回定 執刑 　 　 　 　 開 撤銷 改判 附表 編 2 駁 回訴 易科罰金 附表 編 1 審酌 犯罪 態樣 犯罪 間 相近 但害 不同 被害 斟酌 責任 非 難重 複 程度 對 全體 犯罪 整體 評價定執 刑部 界限 定執 刑期 徒刑 7 年 4 月 附表 編 3 易科罰金 罪刑 刑法 501 但書前 開 易科罰金 罪 併 合罰 待 罪 確定 另 刑法 502 決定 否聲 定刑 併 此 敘明 　 　 　 　 　 罪公訴 意旨 另     ㈠ 被告 109 年 5 月 15 日午 7 許新北市 板橋 區民路 2 段 81 巷 附近 看到 位真實 姓名 年籍 不詳 穿著 光高 運動服 男學生 稱 不 詳年籍 4 同 手法 欺騙 不 詳年籍 4 基類 似業務關 受 自己 支配 利用 機會 猥褻 犯意 手指 抓住 不詳 年籍 4 生殖器 拍攝 電子 訊 2 張 影片 1 段     ㈡ 被告 109 年 6 月 20 日午 7 許新北 市板 橋區 某 看到 位真實 姓名 年籍 不詳 穿著 錦 和 高運動服 男學生 稱 不 詳年籍 5 同 手法 欺騙 不 詳年籍 5 基類 似業務關 受 自己 支配 利用 機會 猥褻 犯意 隔著 不 詳年籍 5 內褲 手指 抓住 不詳 年籍 5 生殖器 拍攝 電子 訊 2 張 被告 犯 刑法 2282 利用 類似 業務關 機會 猥褻 罪嫌 犯罪 事實 證據定 證據定 犯罪 事實 刑事訴訟法 1542 定 明文 此謂 定 犯罪 事實 證據 直接 間 接證據須 達 通常 般 不致 懷疑 確信 真實 程度 始據 罪定 若 被告 否 犯罪 證明能 達此 程度 合理性 懷疑 存致法 形成 罪確 信根據 罪證 疑利 被告 證據法 遽 不利 被告 定 刑事訴訟法 1611 檢察官 被告 犯罪 事實 負舉 證責任 指出 證明 方法 此檢察官 起訴 犯罪 事實負 提出 證據 說 服實質 舉證責任 倘 提出 證據 不足 被 告罪 積極 證明 指出 證明 方法 從 說服 法院 形成 被 告罪 心證 基罪 推定 原自 被 告罪 判決 檢察官 被告 對 年 籍 不詳 45 犯 刑法 2282 利用 類似 業務關 機會 猥褻 罪嫌 據 被 告警 詢偵 自白 警局 數位 證物 勘報 告內 被告 遭扣 案手 機內 年籍 不詳 4 男 穿著 高運動服 照片 陰莖 遭手 抓住 照片 影片 年籍 不詳 5 男著 高運動服 照片 陰莖 遭手 抓住 照片 憑 檢察官 起訴 被告 佯 品牌 調員名 義搭訕 拍照 事實 刑法 228 利用 權勢 從關 被害 曲意 順從 妨害性自主 犯 不合 公訴 意旨 被告 犯 刑法 2282 利用 類似 業務關 機會 猥褻 罪嫌 云云 法合訊據 被告 審理否 開犯 辯稱 網路 抓取 影像 云云 年籍 不詳 5 卷 內僅 被告 遭扣 案手 機內 存取 數位 照片 2 張憑 偵 不公 開卷 74 照片 拍攝 到 被告 本 5 臉部 5 著 衣服 也 學 姓名 可供 找 5 除法 數位 照片 定隔 著內 褲觸 摸 5 生殖器 部位 被告 公訴 意旨 指 5 被害 過程乏 被害 指訴 過程 不明 可徒 憑 被告 前 不 供述 臆測 犯罪 另 4 被告 遭扣 案手 機內 存取 數位 影片 原審 勘驗 被告 坦拍 攝原 審卷 105 故此 被告 辯稱 網路 抓取 云云 可採 但 影片 拍攝 到 4 臉部 4 著 衣服 也 學 姓名 可供 找 4 勘驗 筆錄 雙方 對 話 內容 4 稱 可 真意 不明 欠缺 被害 指訴 情況 4 真實 年齡 過程 否違 反意 願遭 騷擾節 不明 單憑 被告 坦觸 摸 4 生殖器 仍 不能 證明 被告 犯罪 法 被 告罪 駁 回訴 說明 　 ㈠ 原審 審理 檢察官 提卷 內證據 資料 不能 證明 被告 被訴 109 年 5 月 15 日 109 年 6 月 20 日犯 利用 類似 業務關 機會 猥褻 罪 被 告罪 核 不合 　 ㈡ 檢察 官訴 意旨 被告 假冒 運動 品牌 調員身 佯 稱欲調 被害 身材 誘騙 方式 觸碰 被害 45 生殖器 拍攝 陰莖 勃起 照片 影片 情 被告 坦承 不諱 開 照片 影片 附卷 可 參觀諸 被告 拍攝 4 影片 被告 撫摸 4 陰莖 詢問 你 容易 反 嗎 ？ 4 回答 不 知道 被告 抓著 4 陰莖 移動套 弄 詢問 這樣 OK 嗎 ？ 4 回答 可 被告 問可 拍 到 反 嗎 ？ 4 猶豫 說 可拍照 嗎 ？ 你 要 拍 ？ 被告 將 4 內褲 穿著 隔著 內 褲撫 摸 4 陰莖 表示 要 形狀 出來 另 觀諸 被告 拍攝 5 照片 5 腰部 照片 被害 衣藍色 運動服 短褲 遭 褪 露出 深灰色 內褲 被告 手撫 摸 5 陰莖 位置 情原 審 勘驗 筆錄 開 影片 照片 附卷 可佐 被告 施用 假藉 運動 品牌 調員 詐術 此 詐術 取信 45 誤此 運動 品牌 調 身材 流程 對 被告 指示 深信不疑 唯從 嗣 被告 利用 45 開誤 欠缺 理性 思考 遵從 狀態 壓制 45 性自 主意 願觸 碰 45 生殖器 強制 猥褻 犯逞 故情 足 壓制 45 性 自主 意思 決定 自 被告 刑法 224 他 違 反意 願 方式 對 45 強制 猥褻 犯 客觀 要件 縱 刑法 228 構成 要件 不符 法院 不 妨害 事實 同範圍 內 自定 事實 法律 故 被告 起訴 書 犯罪 事實欄 犯罪 事實否 涉嫌 強制 猥褻 罪犯 原審 審理 範圍 原 審此 漏 審酌 遽 罪判 決理 不備 違法原 審判決 開事 用法 尚洽將 被告 此罪 判決 撤銷 更 妥 適判決 但 45 身 不明 情況 欠缺 被害 指訴 重要 證據 方法 法僅 被告 述 卷 內 可辨 識 被害 照片 影片 定 被告 犯罪 當何 罪理 敘述 前 檢察官 提出 證據 不足 被 告罪 積極 證明 不能 臆測 方式 補足開 偵不 完備 自 被 告罪 訴 仍 相異 評價訴 理駁 回 　 　 　 　 　 據斷 刑事訴訟法 36836913642991300 判決本 檢察官 何克凡 公訴 檢察 官盧 祐 涵訴 檢察官 壽勤偉 到庭 執職務 　 　 華 　 　 民 　 　 國 　 　 112   　 年 　 　 1   　 　 月 　 　 11 　 　 日                                         刑事 庭     審判長 法 　 官     劉方慈                                                                             法 　 官     蕭世昌                                                                             法 　 官     許曉微 正本 證明 原本 異 不服 本判決 收受 送達 20 日內 提出 訴書狀 敘述 訴理訴 20 日內 補 提理書須 他造 當事數 附繕 本 切勿 送級 法院 維持 審罪 判決 檢察 官訴 理須 受 刑事 妥速 審判法 9 限制 刑事 妥速 審判法 9 除前 情形 審 法院 維持 審罪判 決訴 理列 事限判決 牴 觸法 判決 司法院 解釋 判決 判例 刑事訴訟法   377     379     393     1   前 審理 不                                                                             書記官     徐仁豐 　 　 華 　 　 民 　 　 國 　 　 112   　 年 　 　 1   　 　 月 　 　 11 　 　 日 附錄 本案 罪科 刑法 全文 華 刑法 224 強制 猥褻 罪 男女 強暴脅迫 恐嚇 催眠 術 他 違 反意 願 方法 猥褻   6   月   5   年期 徒刑 兒童 少年 福利 權益 保障法 112 成年 教唆 幫助 利用 兒童 少年 犯罪 共同 實施 犯罪 故意 對 犯罪 加重 刑 但 各罪 被害 兒童 少年定 特別 罰 從兒 童少 年 犯罪 主管 機關 獨立 告訴 兒童 少年 性剝削 防制 例 36 拍 攝 製 造 兒 童 少 年 性 交 猥褻 圖畫 照片 影片 影帶 光碟 電子 訊 他 物品   1   年   7   年期 徒刑 併 科新 臺 幣   1   百萬元罰 金 招募 引誘 容留 媒介 協助 他 法兒 童少 年 被 拍 攝 製 造 性 交 猥褻 圖畫 照片 影片 影帶 光碟 電子 訊 他 物品   3   年   7   年期 徒刑 併 科新 臺 幣   3   百萬元罰 金強 暴脅 迫藥劑 詐術 催眠 術 他 違反 本意 願 方法 兒童 少年 被 拍 攝 製 造 性 交 猥褻 圖畫 照片 影片 影帶 光碟 電子 訊 他 物品   7   年期 徒刑 併 科新 臺 幣   5   百萬元罰 金意 圖營利 犯前 罪 各 加重 刑前 遂 犯罰   1     4   物品 不問 犯罪 否沒收 性騷擾 防治法 25 意圖 性騷擾 乘 不 抗拒 親吻 擁抱觸 摸 臀部 胸部 他 身體 隱私 2 年期 徒刑 拘役 科 併 科新 臺 幣 10 萬元罰 金前 罪須 告訴 【 附表 】 扣案物 影像 電子 檔 編扣 案物手 機內 影像 用途 影像 內容   1 被告 iPhone 手機 1   支含 SIM   卡 1   張原 審卷 143   照片 手機 數位 鑑識 報告 證物 1   被告 事實欄 佯裝 品牌 調員用   2 警方 將編 1iPhone 手機 內 刪除 檔案 還原 發現 內 被告 儲存事 實欄 拍 攝 影片 檔案 1   個 還原 檔案 儲存 警方 蒐 證 影像 光碟 光碟 置原 審卷 證物袋 內 偵卷 證物袋 內 ⒈ 數位 影像 檔名 cplWeVqLRwOeLcXZkazDQhbooQIO0c . mov ⒉ 影片 內容 被告 撫摸 2 陰莖 拉 2 內 褲將 2 陰莖 露 影像 詳細 內容 原審 勘驗 筆錄 影像 畫面 截圖 可見 被害 身穿 學校 運動服 畫面 【 附表 】 編對 犯罪 事實欄 判決 備 註   1 犯罪 事實 欄訴 駁 回原 審判決 成年 故意 對 少年犯 強制 猥褻 罪期 徒刑 7   月 扣案 附表 編 1   示手機 沒收   2 犯罪 事實欄 撤銷 犯 違反 本意 願 方法 少年 被 拍 攝 猥褻 電子 訊 罪期 徒刑 柒年 貳 月 扣案 附表 編 1   示手 機同 附表 編 2 數位 影像 電子 訊 沒 收原 審判 決犯 詐術少 年 被 拍 攝 猥褻 電子 訊 罪期 徒刑 7 年 2 月 扣案 附表 編 1 示手 機編 2 數位 影像 電子 訊 沒收   3 犯罪 事實 欄訴 駁 回原 審判 決犯 性騷擾 罪期 徒刑 2   月 易科罰金 新 臺 幣 1 千元 折算 1 日 扣案 附表 編 1   示手機 沒收\n",
      "高法院刑事判決110180 訴  新北地方檢察署檢察官 訴   被 告 潘秉鈞          另案法務部執選任辯護 楊東鎮律師法扶律師列訴兒童少年性剝削防制例不服新北地方法院109144華110年3月31日審判決新北地方檢察署10925290訴判決  主 文附表編2定執刑撤銷犯違反本意願方法少年被拍攝猥褻電子訊罪期徒刑柒年貳月扣案附表編1示手機同附表編2數位影像電子訊沒收他訴駁回開撤銷改判訴駁回附表編1刑執期徒刑柒年肆月  犯罪事實成年109年6月19日午8許新北市土城區裕民路92巷25弄口見少年192年9月生案發16歲代D000-109291真實姓名年籍詳卷身穿高級工業職業學校運動服校名詳卷稱高工運動服知悉1滿18歲少年仍對1佯稱自己運動品牌調員欲拍攝青少年身形照片做調1不疑他便隨同前往同市區路00巷00弄0夾娃娃機店內附表編1示手機表示要拍攝內褲待1脫運動褲竟意圖性騷擾乘1不抗拒際突手觸摸1生殖器1將手撥開表示拒絕此知1不願此類方式身體接觸竟提昇對少年強制猥褻犯意這工作不顧1拒絕違反意願將手伸入內褲裏撫摸1生殖器對1強制猥褻逞109年5月29日午758許新北市區0出口附近巷子裡面見291年12月生案發17歲代D000-Z000000000真實姓名年籍詳卷身穿高工運動服知悉2可能滿18歲少年仍對2佯稱自己運動品牌調員欲拍攝2穿著身形照片2不疑他便隨同到同市區路00巷00弄0夾娃娃機店內工作需要名要求拍攝2半身內褲照片俟2將褲脫基縱對少年強制猥褻違反本意願方法少年被拍攝猥褻電子訊數位影像違本意犯意2同意自將2內褲褲頭拉強手來回撫摸露出生殖器違反2意願強制猥褻同用附表編1示手機拍攝錄影撫摸2生殖器過程違反2意願方法2被拍攝開遭撫摸裸露生殖器過程猥褻電子訊逞另109年5月29日午855海山捷運站3出口附近路見390年9月生案發年滿18歲代D000-Z000000000真實姓名年籍詳卷身穿高工制服前揭名義手法徵3同意附近巷子內用附表編1示手機拍攝3露出內褲褲頭電子訊數位照片2張拍攝過程竟意圖性騷擾乘3不抗拒際將手伸入3內褲觸摸生殖器遭3當場怒罵隨停手少年1少年2少年2母法定代理訴新北市政府警察局土城局報告3檢察官提出告訴新北地方檢察署檢察官偵起訴  理 罪壹程序方面審理範圍　　本案刑事訴訟法348110年6月18日修正施110年8月3日繫修正現刑事訴訟法348判斷訴範圍2判決部訴關視訴但關罪免訴不受理不此限併參照立法理但書稱罪免訴不受理不內限審判決關理內說明不另罪免訴不受理本案檢察官起訴訴被告109年6月19日午8許另手機拍攝少年1穿內褲露陰毛電子訊被告此涉犯兒童少年性剝削防制例363詐術方法製造少年猥褻電子訊罪嫌原審定卷內附數位照片法清楚辨識出照片起訴意旨稱露陰毛情事不成立詐術少年被拍攝猥褻電子訊罪不另罪見理欄貳本案檢察官僅罪起訴犯罪事實㈣㈤訴被告罪訴審判範圍不另罪當事訴非審判範圍合先敘明被告觸犯刑法224法罪名檢察官公訴性害犯罪防治法21性害犯罪性害犯罪防治法122同法施細6本案判決揭露123姓名年籍他足資識別彼身資訊代稱證據能力　　　　  本判決定犯罪事實引用供述證據檢察官同意證據能力被告選任辯護12警詢審判陳述證據能力1姊2母警員石金澤偵述被害陳述具同性累積證據補強證據適格除此餘供述證據證據能力意見迄言詞辯終結前異議審酌證據不含前述被告辯護爭執資料製作情況違法不當證明力明顯過低瑕疵作證據適當非供述證據核違反法定程序取情形本案犯罪事實具關聯性證據能力關翻拍自娃娃機店內監視錄影畫面被告用手機內數位影像截圖派生證據被告辯護證據能力意見卷153爭執截圖內容可證明被告本案犯證明力爭辯另詳述他據引用作定被告犯罪事實證據含12警詢被告辯護爭執證據能力不贅證據能力定另被告自白出自意識陳述業據被告陳明卷卷113299雖被告稱審遭羈押心情複雜聽從律師建議罪此僅涉被告自白動機不影響自白出任意性定故倘自白事實相符當作定被告犯罪事實證據併此敘明貳實體方面定犯罪事實憑證據理　　訊據被告審理否犯辯稱沒用市場調名義騙他們只和123純聊天問他們能不能拍照拍攝他們影像他們當不知道要拍生殖器只2被拍到生殖器13沒他們同意用手碰觸他們生殖器1確實撥開拒絕還碰1生殖器 ㈠事實欄附表編1犯罪事實業據證告訴1偵審理證述明確他卷4347卷203207附表編1手機扣案手機內1掀起衣服數位照片偵卷71偵不公開卷72夾娃娃機店內監視錄影翻拍照片偵卷5659卷可憑被告警詢偵原審審理坦承犯罪事實欄地品牌調員名義找1拍攝身形照片1同意用手碰觸他生殖器明確偵卷16199396原審卷4445334335卷289可補強證1證述可信謂補強證據本不證明犯罪構成要件全部事實必要辯護泛欠缺補強證據爭執證1證詞被告空言爭辯將手伸入褲管直接碰觸1生殖器節可採　㈡關事實欄附表編2犯罪事實業據證告訴2偵審理證述明確偵卷127135卷259262附表編1手機扣案手機內2遭撫摸生殖器生殖器露數位影像原審勘驗數位影像勘驗筆錄偵卷77偵不公開卷77原審卷103105卷可憑被告警詢偵原審審理坦承犯罪事實欄地品牌調員名義找2拍攝身形照片2同意用手碰觸他生殖器拍攝撫摸2生殖器數位影像明確偵卷24259697原審45335卷289可補強證2證述可信辯護泛稱補強證據云云可採辯護爭辯數位影像拍攝到臉部法辨識否2云云證2審理遠距方式訊問提示照片偵不公開卷49方偵卷77方照片交辨識稱傳真過來黑白照片法明確辨識卷附裸露生殖器照片否本但證2偵檢察官當庭提交照片辨明白證稱照片本偵卷131133同方照片著制服繡2學姓名2張照片擷取自被告手機內連續攝錄數位影像檔案附表編2數位影像檔案原審勘驗卷原審卷104105足可辨識特定名遭拍攝猥褻數位影像確實2誤辯護此節指據辯護聲調取此現場夾娃娃機店當日監視錄影畫面承辦新北市政府警察局土城局111年8月16日新北警土1113743950函覆能調取原卷卷191卷內被告自拍攝數位影片縱店內監視錄影礙本案犯罪事實定附此敘明　㈢刑法224稱他違反意願方法指列舉強暴脅迫恐嚇催眠術他切違反被害意願方法妨害被害意思自言不類似列舉強暴脅迫恐嚇催眠術相當他強制方法足壓抑被害性自主決定權必要最高法院975次刑事庭會議決議參照此稱違反意願方法不被害達不能抗拒程度必要祇須施用方法違反被害意願足壓抑被害性自主決定權足當兒童少年性剝削防制例363罰強暴脅迫藥劑詐術催眠術他違反本意願方法兒童少年被拍攝製造性交猥褻圖畫照片影片影帶光碟電子訊他物品手段除例舉強暴脅迫藥劑詐術催眠術他切違反被害意願方法　⒈證1偵審理證稱當被告伸手摸生殖器嚇到退把他手撥開但他還伸手過來摸生殖器摸了段間不瞬間娃娃機店監視錄影翻拍照片可參1雖遭被告詐騙讓被告拍攝身著衣物照片但佐當空場合1顯同意被告觸摸生殖器被告自承知悉1將手撥開表達拒絕仍稱這工作出手強撫摸1生殖器此猥褻舉動妨害1性自主決定意思自辯護警詢警察提問強暴脅迫違反你意願方式對你實施強制猥褻證1答稱都沒偵卷30被告違反1意願云云對此證1審理證稱當被告沒威脅也沒用暴力回答沒但事實沒同意卷206明白說明指被告非用強暴脅迫方式逼範但當被告違反意願甚明法強暴脅迫不過強制猥褻罪例示手段開1警詢述不影響偵審理證述可信從據利被告定　⒉證2偵證稱被告當說他個運動品牌調員想要調拍攝襪子鞋子說要拍形象照拍完肚子把運動褲褲頭往拉露出內褲褲頭把內褲往拉露出生殖器觸摸生殖器用手機拍照違反意願摸秒沒反過來來說不要推開他手整個事情結束嚇到不知道要何啟齒扣案被告手機內拍攝數位影片原審勘驗筆錄可稽據勘驗結果影片全長約245秒影片48秒到130秒被告開始隔著2褲摸生殖器接著脫掉褲多次隔著內褲觸摸2陰莖影片130秒到158秒被告從2內褲褲頭伸手進去摸2陰莖隔著內褲撫摸2陰莖影片158秒到245秒拉2內褲褲頭陰莖露將2內褲穿好隔著內褲撫摸2陰莖調整名次拉2內褲2陰莖陰囊露被告握住2陰莖左右移動多次撫摸此2抓住內褲往拉穿好說趕間被告仍隔著內褲撫摸2陰莖說你容易反那種2說還好拉自己運動褲完整勘驗內容見原審卷104過程2從同意被告脫內褲同意觸摸拍攝生殖器被告自承知悉獲同意手觸摸2生殖器猶藉調拍攝身形名義進撫摸2生殖器顯非短暫偷襲式觸碰此猥褻舉動妨害2性自主決定意思自證2偵稱過程約35秒審理稱摸間不記但證對間法精準描述致前開錄影情形不符自可採利被告定僅偷襲式短暫碰觸性騷擾　⒊被告撫摸12猥褻舉動刑法224違反意願方法強制猥褻拍攝撫摸2生殖器舉違反本意願方法辯護被告僅短暫觸碰他生殖器當性騷擾云云現場監視錄影畫面附表編2數位影片1述不合自可採辯被告施詐術拍攝云云但凡違反本意願方法兒童少年被拍攝猥褻電子訊當兒童少年性剝削防制例363罪詐術不過列舉種非法方法本案被告佯藉調名義2搭訕騙取同意拍攝身形照片2進錯誤同意被告撫摸拍攝生殖器猥褻影片被告擅自拍攝猥褻2電子訊當違反本意願非法方法被告可解免罪罪責　㈣辯護被告不知悉12滿18歲少年云云但兒童少年福利權益保障法1121兒童少年性剝削防制例363兒童少年被害不明知被害年齡必要1案發實際年齡16歲217歲此性害代真實姓名對照表代真實姓名對照表偵不公開卷37可憑滿18歲少年被告偵原審審理自承知悉1約1617歲偵卷94原審卷3341當身著高工制服被告前開自白核事實相符知悉1少年猶對犯強制猥褻罪合兒童少年福利權益保障法1121加重要件國目前學制學高職生極可能滿18歲此社會生活定般能理解知悉被告警詢也坦承選定高生對象偵卷23原審審理承知道2可能高2高3原審卷335案發早學間2當身著高工制服被告主觀預見2可能滿18歲卻仍執意揭犯主觀具不確定故意前開辯避重輕可採 ㈤事實欄附表編3犯罪事實業據證告訴3偵審理證述明確偵卷141145卷263265附表編1手機扣案手機內3掀起衣服露出內褲褲頭照片偵卷73偵不公開卷71卷可憑辯護雖稱照片否3不明云云但除證3偵明白證稱照片本偵卷143照片著制服繡3學姓名可確實3辯護此節辯可採此被告警詢偵原審審理坦承犯罪事實欄地品牌調員名義找3拍攝身形照片3同意用手碰觸他生殖器明確偵卷222397原審卷45102卷289可補強證3證述可信補強證據不證明犯罪構成要件全部事實必要辯護徒開照片拍攝到性騷擾過程不能補強云云理 ㈥本案事證明被告犯堪定法科罪 ㈠犯罪事實欄附表編1罪　　被告84年9月生成年1滿18歲少年核被告犯兒童少年福利權益保障法1121刑法224成年故意對少年犯強制猥褻罪加重刑被告開始乘1不抗拒觸摸生殖器偷襲式短暫性不當觸摸性騷擾遭1當場拒絕竟仍不停止違反1意願持續撫摸1生殖器被告提昇犯意強制猥褻性騷擾犯犯意提昇強制猥褻吸收不另罪公訴意旨起訴事實明1當年滿16歲少年但犯法僅被告涉犯強制猥褻罪引用兒童少年福利權益保障法1121成年故意對少年犯強制猥褻罪容洽起訴基本事實同刑事訴訟法300變更起訴法　㈡犯罪事實欄附表編2罪　　⒈電子訊通常數位訊類比訊2種動電話電子數位機器對他拍攝裸照性交影片利用影像感功能將物體反射光轉換數位訊壓縮儲存內建記憶體記憶卡透過電子視覺化顯示器讓電子訊可被視覺化包括電視電腦平板顯示器輸出若證據證明數位訊業過沖洗壓製過程成實體物品錄影帶光碟相紙拍攝製造僅電子訊階段被告手機滿18歲少年2被拍攝猥褻檔案儲存手機內電子訊數位影像 ⒉被告成年2滿18歲少年被告預見仍對少年2強制猥褻拍攝猥褻電子訊違本意核被告犯兒童少年福利權益保障法1121刑法224成年故意對少年犯強制猥褻罪兒童少年性剝削防制例363違反本意願方法少年被拍攝猥褻電子訊罪公訴意旨被告犯詐術少年被製造猥褻電子訊罪更正起訴事實明2當年滿17歲少年但犯法僅被告涉犯強制猥褻罪引用兒童少年福利權益保障法1121成年故意對少年犯強制猥褻罪容洽起訴基本事實同法變更起訴法犯兒童少年性剝削防制例363罪本被害少年特別罰從不兒童少年福利權益保障法1121附此敘明　㈢犯罪事實欄附表編3罪　　　核被告此犯性騷擾防治法251性騷擾罪公訴意旨被告犯刑法2282利用類似  業務關機會猥褻罪嫌云云被告雖假借運動品牌調員名義誘騙3同意拍攝內褲照片過程乘機撫摸3生殖器被告客觀3間任何業務支配關3實受騙當才配合拍攝內褲照片進遭被告偷襲觸摸生殖器非礙被告權勢支配關曲從同意被告撫摸生殖器檢察官被告利用業務機會猥褻罪容誤會但起訴社會基本事實同法變更起訴法　㈣被告犯罪事實欄犯成年故意對少年強制猥褻違反本意願方法少年被拍攝猥褻電子訊罪密接同地局部重疊觸犯數罪名想像競合關從重違反本意願方法少年被拍攝猥褻電子訊罪斷被告犯成年故意對少年犯強制猥褻罪犯罪事實欄違反本意願方法少年被拍攝猥褻電子訊罪犯罪事實欄性騷擾罪犯罪事實欄被害間地點不同被告犯意各別互殊併罰　㈤本原審送亞東紀念醫院對被告實施精神鑑定鑑定結果被告雖可能疑似非特定性偏好症但此性偏好不影響責任能力此亞東紀念醫院110年1月6日精神鑑定報告書原審卷229257被告責任能力撤銷附表編2定執刑科刑說明　㈠原審被告附表編2犯兒童少年性剝削防制例363事證明確罪科刑固非見強制猥褻性騷擾罪雖出違反被害意願方法但被害不抗拒際出不意乘隙短暫偷襲式觸摸意騷擾觸摸對象不性慾滿足必要尚達妨害性意思自但破壞被害享性性別性關寧靜不受干擾平和狀態言倘影響被害性意思形成決定自強制猥褻證2偵審理證原審勘驗被告攝錄影像檔案示被告將近2鐘內來回撫摸2生殖器非趁不備短暫偷襲式觸摸2也從同意被告此舉被告違反2意願強猥褻自成立成年故意對少年犯強制猥褻罪但兒童少年性剝削防制例363罪想像競合僅從重原審將此想像競合犯輕罪改性騷擾罪接續犯容違誤被告雖佯品牌調員名義2搭訕騙取同意拍攝身形但2詐術錯誤同意被告拍攝撫摸2生殖器數位影片2從同意被告此舉被告仍強違反本意願方法少年被拍攝猥褻電子訊原審詐術少年被拍攝猥褻電子訊罪妥被告訴執辯詞可採前述訴雖理但原審判決附表編2犯罪開事用法違誤可維持此沒收需犯罪事實定前提連定執刑可單獨維持將附表編2定執刑撤銷改判　㈡審酌被告犯罪動機手段目滿足自身性慾佯品牌調員名義挑選學學生搭訕犯案對2身心健全發展影響甚鉅犯造成損害非輕考量犯態度前犯過相類似犯本案自述智識程度家庭生活濟狀況切情狀期徒刑7年2月附表編1示手機被告供本案犯罪用刑法382本次犯宣告沒收附表編2示數位影像被告拍攝儲存開手機內對2猥褻電子訊業原審勘驗明確前述兒童少年性剝削防制例366宣告沒收餘扣案2支星手機2支MOTOROL手機電腦主機1台警方進數位蒐證結果偵卷47扣押物品目錄表146扣案物內本案被害資料包含還原刪除資料數位證物勘察報告1份可佐偵不公開卷7990同卷102結㈢證據可扣案物本案直接關連內本案沒收猥褻電子訊故不沒收駁回訴附表編13　　原審被告犯附表編13示各罪事證明確別附表編1兒童少年福利權益保障法1121刑法224成年故意對少年犯強制猥褻罪法加重刑附表編3性騷擾防治法251性騷擾罪公訴意旨漏引誤引法法變更起訴法審酌被告犯罪動機手段目對13身心健全發展影響甚鉅犯造成損害非輕考量犯態度素智識程度家庭生活濟狀況切情狀犯成年故意對少年犯強制猥褻罪期徒刑7月犯性騷擾罪期徒刑2月易科罰金折算標準末用附表編1手機刑法382被告各次犯宣告沒收核事用法量刑不當維持被告訴執辯詞理指駁前訴駁回定執刑　　　　開撤銷改判附表編2駁回訴易科罰金附表編1審酌犯罪態樣犯罪間相近但害不同被害斟酌責任非難重複程度對全體犯罪整體評價定執刑部界限定執刑期徒刑7年4月附表編3易科罰金罪刑刑法501但書前開易科罰金罪併合罰待罪確定另刑法502決定否聲定刑併此敘明　　　　　罪公訴意旨另 ㈠被告109年5月15日午7許新北市板橋區民路2段81巷附近看到位真實姓名年籍不詳穿著光高運動服男學生稱不詳年籍4同手法欺騙不詳年籍4基類似業務關受自己支配利用機會猥褻犯意手指抓住不詳年籍4生殖器拍攝電子訊2張影片1段 ㈡被告109年6月20日午7許新北市板橋區某看到位真實姓名年籍不詳穿著錦和高運動服男學生稱不詳年籍5同手法欺騙不詳年籍5基類似業務關受自己支配利用機會猥褻犯意隔著不詳年籍5內褲手指抓住不詳年籍5生殖器拍攝電子訊2張被告犯刑法2282利用類似業務關機會猥褻罪嫌犯罪事實證據定證據定犯罪事實刑事訴訟法1542定明文此謂定犯罪事實證據直接間接證據須達通常般不致懷疑確信真實程度始據罪定若被告否犯罪證明能達此程度合理性懷疑存致法形成罪確信根據罪證疑利被告證據法遽不利被告定刑事訴訟法1611檢察官被告犯罪事實負舉證責任指出證明方法此檢察官起訴犯罪事實負提出證據說服實質舉證責任倘提出證據不足被告罪積極證明指出證明方法從說服法院形成被告罪心證基罪推定原自被告罪判決檢察官被告對年籍不詳45犯刑法2282利用類似業務關機會猥褻罪嫌據被告警詢偵自白警局數位證物勘報告內被告遭扣案手機內年籍不詳4男穿著高運動服照片陰莖遭手抓住照片影片年籍不詳5男著高運動服照片陰莖遭手抓住照片憑檢察官起訴被告佯品牌調員名義搭訕拍照事實刑法228利用權勢從關被害曲意順從妨害性自主犯不合公訴意旨被告犯刑法2282利用類似業務關機會猥褻罪嫌云云法合訊據被告審理否開犯辯稱網路抓取影像云云年籍不詳5卷內僅被告遭扣案手機內存取數位照片2張憑偵不公開卷74照片拍攝到被告本5臉部5著衣服也學姓名可供找5除法數位照片定隔著內褲觸摸5生殖器部位被告公訴意旨指5被害過程乏被害指訴過程不明可徒憑被告前不供述臆測犯罪另4被告遭扣案手機內存取數位影片原審勘驗被告坦拍攝原審卷105故此被告辯稱網路抓取云云可採但影片拍攝到4臉部4著衣服也學姓名可供找4勘驗筆錄雙方對話內容4稱可真意不明欠缺被害指訴情況4真實年齡過程否違反意願遭騷擾節不明單憑被告坦觸摸4生殖器仍不能證明被告犯罪法被告罪駁回訴說明　㈠原審審理檢察官提卷內證據資料不能證明被告被訴109年5月15日109年6月20日犯利用類似業務關機會猥褻罪被告罪核不合　㈡檢察官訴意旨被告假冒運動品牌調員身佯稱欲調被害身材誘騙方式觸碰被害45生殖器拍攝陰莖勃起照片影片情被告坦承不諱開照片影片附卷可參觀諸被告拍攝4影片被告撫摸4陰莖詢問你容易反嗎？4回答不知道被告抓著4陰莖移動套弄詢問這樣OK嗎？4回答可被告問可拍到反嗎？4猶豫說可拍照嗎？你要拍？被告將4內褲穿著隔著內褲撫摸4陰莖表示要形狀出來另觀諸被告拍攝5照片5腰部照片被害衣藍色運動服短褲遭褪露出深灰色內褲被告手撫摸5陰莖位置情原審勘驗筆錄開影片照片附卷可佐被告施用假藉運動品牌調員詐術此詐術取信45誤此運動品牌調身材流程對被告指示深信不疑唯從嗣被告利用45開誤欠缺理性思考遵從狀態壓制45性自主意願觸碰45生殖器強制猥褻犯逞故情足壓制45性自主意思決定自被告刑法224他違反意願方式對45強制猥褻犯客觀要件縱刑法228構成要件不符法院不妨害事實同範圍內自定事實法律故被告起訴書犯罪事實欄犯罪事實否涉嫌強制猥褻罪犯原審審理範圍原審此漏審酌遽罪判決理不備違法原審判決開事用法尚洽將被告此罪判決撤銷更妥適判決但45身不明情況欠缺被害指訴重要證據方法法僅被告述卷內可辨識被害照片影片定被告犯罪當何罪理敘述前檢察官提出證據不足被告罪積極證明不能臆測方式補足開偵不完備自被告罪訴仍相異評價訴理駁回　　　　　據斷刑事訴訟法36836913642991300判決本檢察官何克凡公訴檢察官盧祐涵訴檢察官壽勤偉到庭執職務　　華　　民　　國　　112　年　　1　　月　　11　　日          刑事庭 審判長法　官 劉方慈                   法　官 蕭世昌                   法　官 許曉微正本證明原本異不服本判決收受送達20日內提出訴書狀敘述訴理訴20日內補提理書須他造當事數附繕本切勿送級法院維持審罪判決檢察官訴理須受刑事妥速審判法9限制刑事妥速審判法9除前情形審法院維持審罪判決訴理列事限判決牴觸法判決司法院解釋判決判例刑事訴訟法3773793931前審理不                   書記官 徐仁豐　　華　　民　　國　　112　年　　1　　月　　11　　日附錄本案罪科刑法全文華刑法224強制猥褻罪男女強暴脅迫恐嚇催眠術他違反意願方法猥褻6月5年期徒刑兒童少年福利權益保障法112成年教唆幫助利用兒童少年犯罪共同實施犯罪故意對犯罪加重刑但各罪被害兒童少年定特別罰從兒童少年犯罪主管機關獨立告訴兒童少年性剝削防制例36拍攝製造兒童少年性交猥褻圖畫照片影片影帶光碟電子訊他物品1年7年期徒刑併科新臺幣1百萬元罰金招募引誘容留媒介協助他法兒童少年被拍攝製造性交猥褻圖畫照片影片影帶光碟電子訊他物品3年7年期徒刑併科新臺幣3百萬元罰金強暴脅迫藥劑詐術催眠術他違反本意願方法兒童少年被拍攝製造性交猥褻圖畫照片影片影帶光碟電子訊他物品7年期徒刑併科新臺幣5百萬元罰金意圖營利犯前罪各加重刑前遂犯罰14物品不問犯罪否沒收性騷擾防治法25意圖性騷擾乘不抗拒親吻擁抱觸摸臀部胸部他身體隱私2年期徒刑拘役科併科新臺幣10萬元罰金前罪須告訴【附表】扣案物影像電子檔編扣案物手機內影像用途影像內容 1被告iPhone手機1支含SIM卡1張原審卷143照片手機數位鑑識報告證物1被告事實欄佯裝品牌調員用 2警方將編1iPhone手機內刪除檔案還原發現內被告儲存事實欄拍攝影片檔案1個還原檔案儲存警方蒐證影像光碟光碟置原審卷證物袋內偵卷證物袋內⒈數位影像檔名cplWeVqLRwOeLcXZkazDQhbooQIO0c.mov⒉影片內容被告撫摸2陰莖拉2內褲將2陰莖露影像詳細內容原審勘驗筆錄影像畫面截圖可見被害身穿學校運動服畫面【附表】編對犯罪事實欄判決備註 1犯罪事實欄訴駁回原審判決成年故意對少年犯強制猥褻罪期徒刑7月扣案附表編1示手機沒收 2犯罪事實欄撤銷犯違反本意願方法少年被拍攝猥褻電子訊罪期徒刑柒年貳月扣案附表編1示手機同附表編2數位影像電子訊沒收原審判決犯詐術少年被拍攝猥褻電子訊罪期徒刑7年2月扣案附表編1示手機編2數位影像電子訊沒收 3犯罪事實欄訴駁回原審判決犯性騷擾罪期徒刑2月易科罰金新臺幣1千元折算1日扣案附表編1示手機沒收\n",
      "簡單的處理文字: 高法院刑事判決訴新北地方檢察署檢察官訴被告潘秉鈞另案法務部執選任辯護楊東鎮律師法扶律師列訴兒童少年性剝削防制例不服新北地方法院華年月日審判決新北地方檢察署訴判決主文附表編定執刑撤銷犯違反本意願方法少年被拍攝猥褻電子訊罪期徒刑柒年貳月扣案附表編示手機同附表編數位影像電子訊沒收他訴駁回開撤銷改判訴駁回附表編刑執期徒刑柒年肆月犯罪事實成年年月日午許新北市土城區裕民路巷弄口見少年年月生案發歲代真實姓名年籍詳卷身穿高級工業職業學校運動服校名詳卷稱高工運動服知悉滿歲少年仍對佯稱自己運動品牌調員欲拍攝青少年身形照片做調不疑他便隨同前往同市區路巷弄夾娃娃機店內附表編示手機表示要拍攝內褲待脫運動褲竟意圖性騷擾乘不抗拒際突手觸摸生殖器將手撥開表示拒絕此知不願此類方式身體接觸竟提昇對少年強制猥褻犯意這工作不顧拒絕違反意願將手伸入內褲裏撫摸生殖器對強制猥褻逞年月日午許新北市區出口附近巷子裡面見年月生案發歲代真實姓名年籍詳卷身穿高工運動服知悉可能滿歲少年仍對佯稱自己運動品牌調員欲拍攝穿著身形照片不疑他便隨同到同市區路巷弄夾娃娃機店內工作需要名要求拍攝半身內褲照片俟將褲脫基縱對少年強制猥褻違反本意願方法少年被拍攝猥褻電子訊數位影像違本意犯意同意自將內褲褲頭拉強手來回撫摸露出生殖器違反意願強制猥褻同用附表編示手機拍攝錄影撫摸生殖器過程違反意願方法被拍攝開遭撫摸裸露生殖器過程猥褻電子訊逞另年月日午海山捷運站出口附近路見年月生案發年滿歲代真實姓名年籍詳卷身穿高工制服前揭名義手法徵同意附近巷子內用附表編示手機拍攝露出內褲褲頭電子訊數位照片張拍攝過程竟意圖性騷擾乘不抗拒際將手伸入內褲觸摸生殖器遭當場怒罵隨停手少年少年少年母法定代理訴新北市政府警察局土城局報告檢察官提出告訴新北地方檢察署檢察官偵起訴理罪壹程序方面審理範圍本案刑事訴訟法年月日修正施年月日繫修正現刑事訴訟法判斷訴範圍判決部訴關視訴但關罪免訴不受理不此限併參照立法理但書稱罪免訴不受理不內限審判決關理內說明不另罪免訴不受理本案檢察官起訴訴被告年月日午許另手機拍攝少年穿內褲露陰毛電子訊被告此涉犯兒童少年性剝削防制例詐術方法製造少年猥褻電子訊罪嫌原審定卷內附數位照片法清楚辨識出照片起訴意旨稱露陰毛情事不成立詐術少年被拍攝猥褻電子訊罪不另罪見理欄貳本案檢察官僅罪起訴犯罪事實訴被告罪訴審判範圍不另罪當事訴非審判範圍合先敘明被告觸犯刑法法罪名檢察官公訴性害犯罪防治法性害犯罪性害犯罪防治法同法施細本案判決揭露姓名年籍他足資識別彼身資訊代稱證據能力本判決定犯罪事實引用供述證據檢察官同意證據能力被告選任辯護警詢審判陳述證據能力姊母警員石金澤偵述被害陳述具同性累積證據補強證據適格除此餘供述證據證據能力意見迄言詞辯終結前異議審酌證據不含前述被告辯護爭執資料製作情況違法不當證明力明顯過低瑕疵作證據適當非供述證據核違反法定程序取情形本案犯罪事實具關聯性證據能力關翻拍自娃娃機店內監視錄影畫面被告用手機內數位影像截圖派生證據被告辯護證據能力意見卷爭執截圖內容可證明被告本案犯證明力爭辯另詳述他據引用作定被告犯罪事實證據含警詢被告辯護爭執證據能力不贅證據能力定另被告自白出自意識陳述業據被告陳明卷卷雖被告稱審遭羈押心情複雜聽從律師建議罪此僅涉被告自白動機不影響自白出任意性定故倘自白事實相符當作定被告犯罪事實證據併此敘明貳實體方面定犯罪事實憑證據理訊據被告審理否犯辯稱沒用市場調名義騙他們只和純聊天問他們能不能拍照拍攝他們影像他們當不知道要拍生殖器只被拍到生殖器沒他們同意用手碰觸他們生殖器確實撥開拒絕還碰生殖器事實欄附表編犯罪事實業據證告訴偵審理證述明確他卷卷附表編手機扣案手機內掀起衣服數位照片偵卷偵不公開卷夾娃娃機店內監視錄影翻拍照片偵卷卷可憑被告警詢偵原審審理坦承犯罪事實欄地品牌調員名義找拍攝身形照片同意用手碰觸他生殖器明確偵卷原審卷卷可補強證證述可信謂補強證據本不證明犯罪構成要件全部事實必要辯護泛欠缺補強證據爭執證證詞被告空言爭辯將手伸入褲管直接碰觸生殖器節可採關事實欄附表編犯罪事實業據證告訴偵審理證述明確偵卷卷附表編手機扣案手機內遭撫摸生殖器生殖器露數位影像原審勘驗數位影像勘驗筆錄偵卷偵不公開卷原審卷卷可憑被告警詢偵原審審理坦承犯罪事實欄地品牌調員名義找拍攝身形照片同意用手碰觸他生殖器拍攝撫摸生殖器數位影像明確偵卷原審卷可補強證證述可信辯護泛稱補強證據云云可採辯護爭辯數位影像拍攝到臉部法辨識否云云證審理遠距方式訊問提示照片偵不公開卷方偵卷方照片交辨識稱傳真過來黑白照片法明確辨識卷附裸露生殖器照片否本但證偵檢察官當庭提交照片辨明白證稱照片本偵卷同方照片著制服繡學姓名張照片擷取自被告手機內連續攝錄數位影像檔案附表編數位影像檔案原審勘驗卷原審卷足可辨識特定名遭拍攝猥褻數位影像確實誤辯護此節指據辯護聲調取此現場夾娃娃機店當日監視錄影畫面承辦新北市政府警察局土城局年月日新北警土函覆能調取原卷卷卷內被告自拍攝數位影片縱店內監視錄影礙本案犯罪事實定附此敘明刑法稱他違反意願方法指列舉強暴脅迫恐嚇催眠術他切違反被害意願方法妨害被害意思自言不類似列舉強暴脅迫恐嚇催眠術相當他強制方法足壓抑被害性自主決定權必要最高法院次刑事庭會議決議參照此稱違反意願方法不被害達不能抗拒程度必要祇須施用方法違反被害意願足壓抑被害性自主決定權足當兒童少年性剝削防制例罰強暴脅迫藥劑詐術催眠術他違反本意願方法兒童少年被拍攝製造性交猥褻圖畫照片影片影帶光碟電子訊他物品手段除例舉強暴脅迫藥劑詐術催眠術他切違反被害意願方法證偵審理證稱當被告伸手摸生殖器嚇到退把他手撥開但他還伸手過來摸生殖器摸了段間不瞬間娃娃機店監視錄影翻拍照片可參雖遭被告詐騙讓被告拍攝身著衣物照片但佐當空場合顯同意被告觸摸生殖器被告自承知悉將手撥開表達拒絕仍稱這工作出手強撫摸生殖器此猥褻舉動妨害性自主決定意思自辯護警詢警察提問強暴脅迫違反你意願方式對你實施強制猥褻證答稱都沒偵卷被告違反意願云云對此證審理證稱當被告沒威脅也沒用暴力回答沒但事實沒同意卷明白說明指被告非用強暴脅迫方式逼範但當被告違反意願甚明法強暴脅迫不過強制猥褻罪例示手段開警詢述不影響偵審理證述可信從據利被告定證偵證稱被告當說他個運動品牌調員想要調拍攝襪子鞋子說要拍形象照拍完肚子把運動褲褲頭往拉露出內褲褲頭把內褲往拉露出生殖器觸摸生殖器用手機拍照違反意願摸秒沒反過來來說不要推開他手整個事情結束嚇到不知道要何啟齒扣案被告手機內拍攝數位影片原審勘驗筆錄可稽據勘驗結果影片全長約秒影片秒到秒被告開始隔著褲摸生殖器接著脫掉褲多次隔著內褲觸摸陰莖影片秒到秒被告從內褲褲頭伸手進去摸陰莖隔著內褲撫摸陰莖影片秒到秒拉內褲褲頭陰莖露將內褲穿好隔著內褲撫摸陰莖調整名次拉內褲陰莖陰囊露被告握住陰莖左右移動多次撫摸此抓住內褲往拉穿好說趕間被告仍隔著內褲撫摸陰莖說你容易反那種說還好拉自己運動褲完整勘驗內容見原審卷過程從同意被告脫內褲同意觸摸拍攝生殖器被告自承知悉獲同意手觸摸生殖器猶藉調拍攝身形名義進撫摸生殖器顯非短暫偷襲式觸碰此猥褻舉動妨害性自主決定意思自證偵稱過程約秒審理稱摸間不記但證對間法精準描述致前開錄影情形不符自可採利被告定僅偷襲式短暫碰觸性騷擾被告撫摸猥褻舉動刑法違反意願方法強制猥褻拍攝撫摸生殖器舉違反本意願方法辯護被告僅短暫觸碰他生殖器當性騷擾云云現場監視錄影畫面附表編數位影片述不合自可採辯被告施詐術拍攝云云但凡違反本意願方法兒童少年被拍攝猥褻電子訊當兒童少年性剝削防制例罪詐術不過列舉種非法方法本案被告佯藉調名義搭訕騙取同意拍攝身形照片進錯誤同意被告撫摸拍攝生殖器猥褻影片被告擅自拍攝猥褻電子訊當違反本意願非法方法被告可解免罪罪責辯護被告不知悉滿歲少年云云但兒童少年福利權益保障法兒童少年性剝削防制例兒童少年被害不明知被害年齡必要案發實際年齡歲歲此性害代真實姓名對照表代真實姓名對照表偵不公開卷可憑滿歲少年被告偵原審審理自承知悉約歲偵卷原審卷當身著高工制服被告前開自白核事實相符知悉少年猶對犯強制猥褻罪合兒童少年福利權益保障法加重要件國目前學制學高職生極可能滿歲此社會生活定般能理解知悉被告警詢也坦承選定高生對象偵卷原審審理承知道可能高高原審卷案發早學間當身著高工制服被告主觀預見可能滿歲卻仍執意揭犯主觀具不確定故意前開辯避重輕可採事實欄附表編犯罪事實業據證告訴偵審理證述明確偵卷卷附表編手機扣案手機內掀起衣服露出內褲褲頭照片偵卷偵不公開卷卷可憑辯護雖稱照片否不明云云但除證偵明白證稱照片本偵卷照片著制服繡學姓名可確實辯護此節辯可採此被告警詢偵原審審理坦承犯罪事實欄地品牌調員名義找拍攝身形照片同意用手碰觸他生殖器明確偵卷原審卷卷可補強證證述可信補強證據不證明犯罪構成要件全部事實必要辯護徒開照片拍攝到性騷擾過程不能補強云云理本案事證明被告犯堪定法科罪犯罪事實欄附表編罪被告年月生成年滿歲少年核被告犯兒童少年福利權益保障法刑法成年故意對少年犯強制猥褻罪加重刑被告開始乘不抗拒觸摸生殖器偷襲式短暫性不當觸摸性騷擾遭當場拒絕竟仍不停止違反意願持續撫摸生殖器被告提昇犯意強制猥褻性騷擾犯犯意提昇強制猥褻吸收不另罪公訴意旨起訴事實明當年滿歲少年但犯法僅被告涉犯強制猥褻罪引用兒童少年福利權益保障法成年故意對少年犯強制猥褻罪容洽起訴基本事實同刑事訴訟法變更起訴法犯罪事實欄附表編罪電子訊通常數位訊類比訊種動電話電子數位機器對他拍攝裸照性交影片利用影像感功能將物體反射光轉換數位訊壓縮儲存內建記憶體記憶卡透過電子視覺化顯示器讓電子訊可被視覺化包括電視電腦平板顯示器輸出若證據證明數位訊業過沖洗壓製過程成實體物品錄影帶光碟相紙拍攝製造僅電子訊階段被告手機滿歲少年被拍攝猥褻檔案儲存手機內電子訊數位影像被告成年滿歲少年被告預見仍對少年強制猥褻拍攝猥褻電子訊違本意核被告犯兒童少年福利權益保障法刑法成年故意對少年犯強制猥褻罪兒童少年性剝削防制例違反本意願方法少年被拍攝猥褻電子訊罪公訴意旨被告犯詐術少年被製造猥褻電子訊罪更正起訴事實明當年滿歲少年但犯法僅被告涉犯強制猥褻罪引用兒童少年福利權益保障法成年故意對少年犯強制猥褻罪容洽起訴基本事實同法變更起訴法犯兒童少年性剝削防制例罪本被害少年特別罰從不兒童少年福利權益保障法附此敘明犯罪事實欄附表編罪核被告此犯性騷擾防治法性騷擾罪公訴意旨被告犯刑法利用類似業務關機會猥褻罪嫌云云被告雖假借運動品牌調員名義誘騙同意拍攝內褲照片過程乘機撫摸生殖器被告客觀間任何業務支配關實受騙當才配合拍攝內褲照片進遭被告偷襲觸摸生殖器非礙被告權勢支配關曲從同意被告撫摸生殖器檢察官被告利用業務機會猥褻罪容誤會但起訴社會基本事實同法變更起訴法被告犯罪事實欄犯成年故意對少年強制猥褻違反本意願方法少年被拍攝猥褻電子訊罪密接同地局部重疊觸犯數罪名想像競合關從重違反本意願方法少年被拍攝猥褻電子訊罪斷被告犯成年故意對少年犯強制猥褻罪犯罪事實欄違反本意願方法少年被拍攝猥褻電子訊罪犯罪事實欄性騷擾罪犯罪事實欄被害間地點不同被告犯意各別互殊併罰本原審送亞東紀念醫院對被告實施精神鑑定鑑定結果被告雖可能疑似非特定性偏好症但此性偏好不影響責任能力此亞東紀念醫院年月日精神鑑定報告書原審卷被告責任能力撤銷附表編定執刑科刑說明原審被告附表編犯兒童少年性剝削防制例事證明確罪科刑固非見強制猥褻性騷擾罪雖出違反被害意願方法但被害不抗拒際出不意乘隙短暫偷襲式觸摸意騷擾觸摸對象不性慾滿足必要尚達妨害性意思自但破壞被害享性性別性關寧靜不受干擾平和狀態言倘影響被害性意思形成決定自強制猥褻證偵審理證原審勘驗被告攝錄影像檔案示被告將近鐘內來回撫摸生殖器非趁不備短暫偷襲式觸摸也從同意被告此舉被告違反意願強猥褻自成立成年故意對少年犯強制猥褻罪但兒童少年性剝削防制例罪想像競合僅從重原審將此想像競合犯輕罪改性騷擾罪接續犯容違誤被告雖佯品牌調員名義搭訕騙取同意拍攝身形但詐術錯誤同意被告拍攝撫摸生殖器數位影片從同意被告此舉被告仍強違反本意願方法少年被拍攝猥褻電子訊原審詐術少年被拍攝猥褻電子訊罪妥被告訴執辯詞可採前述訴雖理但原審判決附表編犯罪開事用法違誤可維持此沒收需犯罪事實定前提連定執刑可單獨維持將附表編定執刑撤銷改判審酌被告犯罪動機手段目滿足自身性慾佯品牌調員名義挑選學學生搭訕犯案對身心健全發展影響甚鉅犯造成損害非輕考量犯態度前犯過相類似犯本案自述智識程度家庭生活濟狀況切情狀期徒刑年月附表編示手機被告供本案犯罪用刑法本次犯宣告沒收附表編示數位影像被告拍攝儲存開手機內對猥褻電子訊業原審勘驗明確前述兒童少年性剝削防制例宣告沒收餘扣案支星手機支手機電腦主機台警方進數位蒐證結果偵卷扣押物品目錄表扣案物內本案被害資料包含還原刪除資料數位證物勘察報告份可佐偵不公開卷同卷結證據可扣案物本案直接關連內本案沒收猥褻電子訊故不沒收駁回訴附表編原審被告犯附表編示各罪事證明確別附表編兒童少年福利權益保障法刑法成年故意對少年犯強制猥褻罪法加重刑附表編性騷擾防治法性騷擾罪公訴意旨漏引誤引法法變更起訴法審酌被告犯罪動機手段目對身心健全發展影響甚鉅犯造成損害非輕考量犯態度素智識程度家庭生活濟狀況切情狀犯成年故意對少年犯強制猥褻罪期徒刑月犯性騷擾罪期徒刑月易科罰金折算標準末用附表編手機刑法被告各次犯宣告沒收核事用法量刑不當維持被告訴執辯詞理指駁前訴駁回定執刑開撤銷改判附表編駁回訴易科罰金附表編審酌犯罪態樣犯罪間相近但害不同被害斟酌責任非難重複程度對全體犯罪整體評價定執刑部界限定執刑期徒刑年月附表編易科罰金罪刑刑法但書前開易科罰金罪併合罰待罪確定另刑法決定否聲定刑併此敘明罪公訴意旨另被告年月日午許新北市板橋區民路段巷附近看到位真實姓名年籍不詳穿著光高運動服男學生稱不詳年籍同手法欺騙不詳年籍基類似業務關受自己支配利用機會猥褻犯意手指抓住不詳年籍生殖器拍攝電子訊張影片段被告年月日午許新北市板橋區某看到位真實姓名年籍不詳穿著錦和高運動服男學生稱不詳年籍同手法欺騙不詳年籍基類似業務關受自己支配利用機會猥褻犯意隔著不詳年籍內褲手指抓住不詳年籍生殖器拍攝電子訊張被告犯刑法利用類似業務關機會猥褻罪嫌犯罪事實證據定證據定犯罪事實刑事訴訟法定明文此謂定犯罪事實證據直接間接證據須達通常般不致懷疑確信真實程度始據罪定若被告否犯罪證明能達此程度合理性懷疑存致法形成罪確信根據罪證疑利被告證據法遽不利被告定刑事訴訟法檢察官被告犯罪事實負舉證責任指出證明方法此檢察官起訴犯罪事實負提出證據說服實質舉證責任倘提出證據不足被告罪積極證明指出證明方法從說服法院形成被告罪心證基罪推定原自被告罪判決檢察官被告對年籍不詳犯刑法利用類似業務關機會猥褻罪嫌據被告警詢偵自白警局數位證物勘報告內被告遭扣案手機內年籍不詳男穿著高運動服照片陰莖遭手抓住照片影片年籍不詳男著高運動服照片陰莖遭手抓住照片憑檢察官起訴被告佯品牌調員名義搭訕拍照事實刑法利用權勢從關被害曲意順從妨害性自主犯不合公訴意旨被告犯刑法利用類似業務關機會猥褻罪嫌云云法合訊據被告審理否開犯辯稱網路抓取影像云云年籍不詳卷內僅被告遭扣案手機內存取數位照片張憑偵不公開卷照片拍攝到被告本臉部著衣服也學姓名可供找除法數位照片定隔著內褲觸摸生殖器部位被告公訴意旨指被害過程乏被害指訴過程不明可徒憑被告前不供述臆測犯罪另被告遭扣案手機內存取數位影片原審勘驗被告坦拍攝原審卷故此被告辯稱網路抓取云云可採但影片拍攝到臉部著衣服也學姓名可供找勘驗筆錄雙方對話內容稱可真意不明欠缺被害指訴情況真實年齡過程否違反意願遭騷擾節不明單憑被告坦觸摸生殖器仍不能證明被告犯罪法被告罪駁回訴說明原審審理檢察官提卷內證據資料不能證明被告被訴年月日年月日犯利用類似業務關機會猥褻罪被告罪核不合檢察官訴意旨被告假冒運動品牌調員身佯稱欲調被害身材誘騙方式觸碰被害生殖器拍攝陰莖勃起照片影片情被告坦承不諱開照片影片附卷可參觀諸被告拍攝影片被告撫摸陰莖詢問你容易反嗎回答不知道被告抓著陰莖移動套弄詢問這樣嗎回答可被告問可拍到反嗎猶豫說可拍照嗎你要拍被告將內褲穿著隔著內褲撫摸陰莖表示要形狀出來另觀諸被告拍攝照片腰部照片被害衣藍色運動服短褲遭褪露出深灰色內褲被告手撫摸陰莖位置情原審勘驗筆錄開影片照片附卷可佐被告施用假藉運動品牌調員詐術此詐術取信誤此運動品牌調身材流程對被告指示深信不疑唯從嗣被告利用開誤欠缺理性思考遵從狀態壓制性自主意願觸碰生殖器強制猥褻犯逞故情足壓制性自主意思決定自被告刑法他違反意願方式對強制猥褻犯客觀要件縱刑法構成要件不符法院不妨害事實同範圍內自定事實法律故被告起訴書犯罪事實欄犯罪事實否涉嫌強制猥褻罪犯原審審理範圍原審此漏審酌遽罪判決理不備違法原審判決開事用法尚洽將被告此罪判決撤銷更妥適判決但身不明情況欠缺被害指訴重要證據方法法僅被告述卷內可辨識被害照片影片定被告犯罪當何罪理敘述前檢察官提出證據不足被告罪積極證明不能臆測方式補足開偵不完備自被告罪訴仍相異評價訴理駁回據斷刑事訴訟法判決本檢察官何克凡公訴檢察官盧祐涵訴檢察官壽勤偉到庭執職務華民國年月日刑事庭審判長法官劉方慈法官蕭世昌法官許曉微正本證明原本異不服本判決收受送達日內提出訴書狀敘述訴理訴日內補提理書須他造當事數附繕本切勿送級法院維持審罪判決檢察官訴理須受刑事妥速審判法限制刑事妥速審判法除前情形審法院維持審罪判決訴理列事限判決牴觸法判決司法院解釋判決判例刑事訴訟法前審理不書記官徐仁豐華民國年月日附錄本案罪科刑法全文華刑法強制猥褻罪男女強暴脅迫恐嚇催眠術他違反意願方法猥褻月年期徒刑兒童少年福利權益保障法成年教唆幫助利用兒童少年犯罪共同實施犯罪故意對犯罪加重刑但各罪被害兒童少年定特別罰從兒童少年犯罪主管機關獨立告訴兒童少年性剝削防制例拍攝製造兒童少年性交猥褻圖畫照片影片影帶光碟電子訊他物品年年期徒刑併科新臺幣百萬元罰金招募引誘容留媒介協助他法兒童少年被拍攝製造性交猥褻圖畫照片影片影帶光碟電子訊他物品年年期徒刑併科新臺幣百萬元罰金強暴脅迫藥劑詐術催眠術他違反本意願方法兒童少年被拍攝製造性交猥褻圖畫照片影片影帶光碟電子訊他物品年期徒刑併科新臺幣百萬元罰金意圖營利犯前罪各加重刑前遂犯罰物品不問犯罪否沒收性騷擾防治法意圖性騷擾乘不抗拒親吻擁抱觸摸臀部胸部他身體隱私年期徒刑拘役科併科新臺幣萬元罰金前罪須告訴附表扣案物影像電子檔編扣案物手機內影像用途影像內容被告手機支含卡張原審卷照片手機數位鑑識報告證物被告事實欄佯裝品牌調員用警方將編手機內刪除檔案還原發現內被告儲存事實欄拍攝影片檔案個還原檔案儲存警方蒐證影像光碟光碟置原審卷證物袋內偵卷證物袋內數位影像檔名影片內容被告撫摸陰莖拉內褲將陰莖露影像詳細內容原審勘驗筆錄影像畫面截圖可見被害身穿學校運動服畫面附表編對犯罪事實欄判決備註犯罪事實欄訴駁回原審判決成年故意對少年犯強制猥褻罪期徒刑月扣案附表編示手機沒收犯罪事實欄撤銷犯違反本意願方法少年被拍攝猥褻電子訊罪期徒刑柒年貳月扣案附表編示手機同附表編數位影像電子訊沒收原審判決犯詐術少年被拍攝猥褻電子訊罪期徒刑年月扣案附表編示手機編數位影像電子訊沒收犯罪事實欄訴駁回原審判決犯性騷擾罪期徒刑月易科罰金新臺幣千元折算日扣案附表編示手機沒收\n",
      "需要跳過的字典: {'民國', '年度', '是', '且', '原上訴字', '；', '三', '##', '四', '適用', '基簡字', '在途', '金訴緝字', '簡字', '者', 'UNK', '本件', '依', '有', '，', '應', '之', '上', '中', '違背', '使', '所載', '審金訴字', ':', '已', '條', '案件', '款', '乃', '執此', '交簡字', '欄所', '較', '欄第', '載', '「', '『', '暨', '所', 'ー', '就', '則', '惟', '臺灣', '上開', '易字', '無', '護字', '為', '第', '起訴案號', '條定', '丙', '處', '洵有', '提起', '）', '訴字', '審訴字', '諭知', '系爭', '命', '並', '台非字', '軍原侵訴字', '規定', '司護字', '號', '憲', '侵上訴字', '終局', '指摘', '』', '其刑', '案經', '扞格', '二', '然', '本院', '○', '甲', '及', '當然', '重訴字', '查', '下稱', '再字', '即', '爰', '宣示', '而', '。', '五', '未', '與', '以', '他調簡字', '如下', '字第', '又', '再', '一', '的', '乙', '等', '外', '下', '認為', '六', '[', '我', '逕', '得', '對於', '至', '項', '等語', '台簡字', ']', '(', '請', '重侵上更一字', '原易字', '上易字', '略以', '侵', '其', '偵字', '在', '認', '人', '中華民國', '經', '亦', '主文', '由', '既', '（', '後', ')', '論', '前段', '欄內', '餘地', '頁', '交訴字', '按', '予', '該', '或', '法令', '分', '不得', '縱然', '關於', '如', '因', '竹簡字', '原判決', '均', ',', '時', '係', '向', '於', '要旨', '復', '部分', '均量', '」', '相關', '、', '屬', '原訴字', '台上字', '綜上', '：', '花簡字', '行', '上更一字'}\n",
      "處理過後的文本: ['高', '法院', '刑事', '判決訴', '新北', '地方', '檢察署', '檢察', '官訴', '被告', '潘秉鈞', '另案', '法務部', '執選任', '辯護', '楊東', '鎮律', '師法', '扶律', '師列訴', '兒童', '少年', '性剝削', '防制', '例', '不服', '新北', '地方法院', '華', '年月日', '審判', '決新北', '地方', '檢察署', '訴判決', '附表', '編定', '執刑', '撤銷', '犯', '違反', '本意', '願', '方法', '少年', '被', '拍', '攝', '猥褻', '電子', '訊', '罪期', '徒刑', '柒年', '貳', '月', '扣案', '附表', '編示', '手機同', '附表', '編數位', '影像', '電子', '訊', '沒收', '他', '訴駁', '回開', '撤銷', '改判', '訴駁', '回', '附表', '編刑', '執期', '徒刑', '柒年', '肆', '月', '犯罪', '事實', '成年', '年月日', '午許', '新北市', '土城', '區', '裕民', '路', '巷弄', '口見', '少年', '年', '月', '生案', '發歲', '代真實', '姓名', '年籍', '詳卷', '身穿', '高級', '工業', '職業', '學校', '運動服', '校名', '詳卷', '稱', '高工', '運動服', '知悉', '滿歲', '少年', '仍', '對', '佯稱', '自己', '運動', '品牌', '調員欲', '拍', '攝', '青少年', '身形', '照片', '做調', '不疑', '他', '便', '隨同', '前往', '同市', '區路', '巷弄', '夾', '娃娃', '機店', '內', '附表', '編示', '手機', '表示', '要', '拍', '攝內', '褲待', '脫運動', '褲竟', '意圖', '性騷擾', '乘', '不', '抗拒', '際', '突手觸', '摸', '生殖器', '將手', '撥開', '表示', '拒絕', '此知', '不願', '此類', '方式', '身體', '接觸', '竟', '提', '昇', '對', '少年', '強制', '猥褻', '犯意', '這', '工作', '不顧', '拒絕', '違', '反意', '願將手', '伸入', '內褲', '裏', '撫', '摸', '生殖器', '對', '強制', '猥褻', '逞', '年月日', '午許', '新北', '市區', '出口', '附近', '巷子', '裡面', '見', '年', '月', '生案', '發歲', '代真實', '姓名', '年籍', '詳卷', '身穿', '高工', '運動服', '知悉', '可能', '滿歲', '少年', '仍', '對', '佯稱', '自己', '運動', '品牌', '調員欲', '拍', '攝', '穿著', '身形', '照片', '不疑', '他', '便', '隨同', '到', '同市', '區路', '巷弄', '夾', '娃娃', '機店', '內', '工作', '需要', '名', '要求', '拍攝', '半身', '內褲', '照片', '俟', '將褲', '脫', '基縱', '對', '少年', '強制', '猥褻', '違反', '本意', '願', '方法', '少年', '被', '拍', '攝', '猥褻', '電子', '訊', '數位', '影像', '違', '本意', '犯意', '同意', '自將', '內褲', '褲頭拉強', '手來', '回撫', '摸', '露出', '生殖器', '違', '反意', '願', '強制', '猥褻', '同', '用', '附表', '編示', '手機', '拍', '攝錄', '影撫', '摸', '生殖器', '過程', '違', '反意', '願', '方法', '被', '拍', '攝開', '遭撫', '摸', '裸露', '生殖器', '過程', '猥褻', '電子', '訊', '逞', '另', '年月日', '午', '海山', '捷運站', '出口', '附近', '路見', '年', '月', '生案', '發年', '滿歲', '代真實', '姓名', '年籍', '詳卷', '身穿', '高工', '制服', '前', '揭名義', '手法', '徵', '同意', '附近', '巷子', '內用', '附表', '編示', '手機', '拍', '攝', '露出', '內褲', '褲頭', '電子', '訊', '數位', '照片', '張拍', '攝過', '程竟', '意圖', '性騷擾', '乘', '不', '抗拒', '際', '將手', '伸入', '內', '褲觸', '摸', '生殖器', '遭當場', '怒', '罵', '隨', '停手', '少年', '少年', '少年', '母', '法定代理', '訴新北', '市政府', '警察局', '土城', '局報', '告檢察官', '提出', '告訴', '新北', '地方', '檢察署', '檢察官', '偵', '起訴', '理罪', '壹', '程序', '方面', '審理', '範圍', '本案', '刑事訴訟法', '年月日', '修正', '施', '年月日', '繫', '修正', '現', '刑事訴訟法', '判斷', '訴範圍', '判決', '部訴', '關視訴', '但', '關罪', '免訴', '不', '受理', '不此限', '併', '參照', '立法', '理', '但', '書', '稱罪', '免訴', '不', '受理', '不內限', '審判', '決關', '理內', '說明', '不', '另罪', '免訴', '不', '受理', '本案', '檢察官', '起訴', '訴', '被告', '年月日', '午許', '另', '手機', '拍', '攝', '少年', '穿內', '褲露', '陰毛', '電子', '訊', '被告', '此涉', '犯兒童', '少年', '性剝削', '防制', '例詐術', '方法', '製', '造', '少年', '猥褻', '電子', '訊', '罪嫌', '原審定', '卷', '內', '附數位', '照片', '法', '清楚', '辨識出', '照片', '起訴', '意旨', '稱露', '陰毛', '情事', '不', '成立', '詐術', '少年', '被', '拍', '攝', '猥褻', '電子', '訊', '罪', '不', '另', '罪見', '理欄', '貳', '本案', '檢察官', '僅罪', '起訴', '犯罪', '事實訴', '被', '告罪', '訴審判', '範圍', '不', '另罪', '當事訴', '非', '審判', '範圍', '合先', '敘明', '被告', '觸犯', '刑法', '法', '罪名', '檢察官', '公訴', '性害', '犯罪', '防治法', '性害', '犯罪', '性害', '犯罪', '防治法', '同', '法施', '細', '本案', '判決', '揭露', '姓名', '年籍', '他', '足', '資識別', '彼身', '資訊代稱', '證據', '能力', '本判', '決定', '犯罪', '事實', '引用', '供述', '證據', '檢察官', '同意', '證據', '能力', '被告', '選任', '辯護', '警詢', '審判陳述', '證據', '能力', '姊母', '警員', '石金澤', '偵述', '被害', '陳', '述', '具', '同性', '累積', '證據', '補強', '證據', '適格除', '此餘', '供述', '證據', '證據', '能力', '意見', '迄言詞', '辯終', '結前', '異議', '審酌', '證據', '不', '含', '前述', '被告', '辯護爭', '執資', '料', '製', '作', '情', '況', '違', '法', '不', '當', '證', '明力', '明顯過', '低', '瑕疵', '作證據', '適當非', '供述', '證據', '核', '違反', '法定程序', '取', '情形', '本案', '犯罪', '事實', '具關', '聯性', '證據', '能力', '關', '翻拍', '自', '娃娃', '機店', '內', '監視錄', '影畫面', '被告', '用手', '機內', '數位', '影像', '截圖', '派生', '證據', '被告', '辯護', '證據', '能力', '意見', '卷爭', '執截圖', '內容', '可證明', '被告', '本', '案犯', '證', '明力', '爭辯', '另', '詳述', '他', '據', '引用', '作定', '被告', '犯罪', '事實', '證據', '含', '警詢', '被告', '辯護爭', '執證據', '能力', '不贅', '證據', '能力', '定', '另', '被告', '自白', '出自', '意識陳述', '業據', '被告', '陳', '明卷', '卷', '雖', '被告', '稱', '審遭', '羈押', '心情', '複', '雜聽', '從律', '師建議', '罪此', '僅涉', '被告', '自白', '動機', '不', '影響', '自白', '出', '任意性', '定故', '倘', '自白', '事實', '相符', '當作定', '被告', '犯罪', '事實', '證據', '併', '此', '敘明', '貳', '實體', '方面', '定', '犯罪', '事實', '憑', '證據', '理訊據', '被告', '審理', '否犯', '辯稱', '沒用', '市場', '調名', '義騙', '他們', '只', '和', '純', '聊天', '問他', '們', '能', '不能', '拍照', '拍攝', '他們', '影像', '他們', '當不', '知道', '要', '拍', '生殖器', '只', '被', '拍', '到', '生殖器', '沒', '他們', '同意', '用手', '碰觸', '他們', '生殖器', '確實', '撥開', '拒絕', '還碰', '生殖器', '事實欄', '附表', '編', '犯罪', '事實業', '據證', '告訴', '偵審理', '證述', '明確', '他', '卷', '卷', '附表', '編手', '機扣', '案手', '機內', '掀起', '衣服', '數位', '照片', '偵卷', '偵', '不公', '開卷夾', '娃娃', '機店', '內', '監視', '錄影', '翻拍', '照片', '偵卷', '卷', '可', '憑', '被', '告警', '詢偵原', '審審理', '坦承', '犯罪', '事實欄', '地', '品牌', '調員名', '義找', '拍', '攝', '身形', '照片', '同意', '用手', '碰觸', '他', '生殖器', '明確', '偵卷', '原', '審卷', '卷', '可補', '強證', '證述', '可信', '謂', '補強', '證據本', '不證明', '犯罪', '構成', '要件', '全部', '事實', '必要', '辯護泛', '欠缺', '補強', '證據爭', '執證', '證詞', '被告', '空言', '爭辯', '將手', '伸入', '褲管', '直接', '碰觸', '生殖器', '節可', '採關', '事', '實欄', '附表', '編', '犯罪', '事實業', '據證', '告訴', '偵審理', '證述', '明確', '偵卷', '卷', '附表', '編手', '機扣', '案手', '機內', '遭撫', '摸', '生殖器', '生殖器', '露數位', '影像', '原審', '勘驗', '數位', '影像', '勘驗', '筆錄', '偵卷', '偵', '不公', '開卷', '原', '審卷', '卷', '可', '憑', '被', '告警', '詢偵原', '審審理', '坦承', '犯罪', '事實欄', '地', '品牌', '調員名', '義找', '拍', '攝', '身形', '照片', '同意', '用手', '碰觸', '他', '生殖器', '拍', '攝撫', '摸', '生殖器', '數位', '影像', '明確', '偵卷', '原', '審卷', '可補', '強證', '證述', '可信', '辯護泛', '稱', '補強', '證據', '云云', '可採', '辯護爭', '辯數位', '影像', '拍', '攝到', '臉部法', '辨識否', '云云', '證審理', '遠距', '方式', '訊問', '提示', '照片', '偵', '不公', '開卷方', '偵卷方', '照片', '交辨識', '稱', '傳真過', '來', '黑白照片', '法明', '確辨識', '卷', '附', '裸露', '生殖器', '照片', '否本', '但證', '偵檢察官', '當庭', '提交', '照片', '辨', '明白', '證稱', '照片', '本', '偵卷', '同方', '照片', '著', '制服', '繡學', '姓名', '張', '照片', '擷', '取自', '被告', '手機', '內連續', '攝錄', '數位', '影像', '檔案', '附表', '編數位', '影像', '檔案', '原審', '勘驗', '卷原', '審卷', '足', '可辨', '識', '特定', '名遭', '拍', '攝', '猥褻', '數位', '影像', '確實誤', '辯護', '此節', '指據', '辯護聲', '調取', '此現', '場夾', '娃娃', '機店', '當日', '監視錄', '影畫', '面承辦', '新北', '市政府', '警察局', '土城', '局', '年月日', '新北', '警土', '函覆能', '調取', '原卷', '卷', '卷', '內', '被告', '自拍', '攝數位', '影片', '縱店', '內', '監視錄', '影礙', '本案', '犯罪', '事實定', '附此', '敘明', '刑法', '稱', '他', '違', '反意', '願', '方法', '指列', '舉強', '暴脅迫', '恐嚇', '催眠', '術', '他切', '違反', '被害', '意願', '方法', '妨害', '被害', '意思', '自言', '不類', '似列', '舉強', '暴脅迫', '恐嚇', '催眠', '術', '相當', '他', '強制', '方法', '足壓', '抑', '被害', '性', '自主', '決定權', '必要', '最高法院', '次', '刑事', '庭會議', '決議', '參照', '此稱', '違', '反意', '願', '方法', '不', '被害', '達', '不能', '抗拒', '程度', '必要', '祇', '須', '施用', '方法', '違反', '被害', '意願足', '壓抑', '被害', '性', '自主', '決定', '權足', '當兒童', '少年', '性剝削', '防制', '例罰', '強暴脅', '迫藥劑', '詐術', '催眠', '術', '他', '違反', '本意', '願', '方法', '兒童', '少年', '被', '拍', '攝', '製', '造', '性交', '猥褻', '圖畫', '照片', '影片', '影帶', '光碟', '電子', '訊', '他', '物品', '手段', '除例', '舉強', '暴脅', '迫藥劑', '詐術', '催眠', '術', '他切', '違反', '被害', '意願', '方法', '證偵', '審理證', '稱當', '被告', '伸手', '摸', '生殖器', '嚇到', '退', '把', '他', '手', '撥開', '但', '他還', '伸手', '過來', '摸', '生殖器', '摸', '了', '段間', '不瞬間', '娃娃', '機店', '監視', '錄影', '翻拍', '照片', '可參', '雖', '遭', '被告', '詐騙', '讓', '被告', '拍攝', '身著', '衣物', '照片', '但佐當', '空場', '合顯', '同意', '被告', '觸摸', '生殖器', '被告', '自承', '知悉', '將手', '撥', '開表達', '拒絕', '仍', '稱', '這', '工作', '出手', '強撫', '摸', '生殖器', '此', '猥褻', '舉動', '妨害性自主', '決定', '意思', '自辯護', '警詢', '警察', '提問強', '暴脅迫', '違反', '你', '意願', '方式', '對', '你', '實施', '強制', '猥褻', '證答', '稱', '都', '沒', '偵卷', '被告', '違', '反意', '願', '云云', '對', '此證', '審理證', '稱當', '被告', '沒威脅', '也', '沒用', '暴力', '回答', '沒', '但', '事實', '沒', '同意', '卷', '明白', '說明', '指', '被告', '非用', '強暴脅迫', '方式', '逼範', '但當', '被告', '違', '反意', '願', '甚明', '法強', '暴脅', '迫不過', '強制', '猥褻', '罪', '例示', '手段', '開警', '詢述', '不', '影響', '偵審理', '證述', '可信', '從據利', '被告', '定證', '偵證', '稱', '被告', '當說', '他', '個', '運動', '品牌', '調員', '想要', '調拍', '攝', '襪子', '鞋子', '說', '要', '拍', '形象', '照拍', '完', '肚子', '把', '運動褲', '褲頭', '往', '拉', '露出', '內褲', '褲頭', '把', '內', '褲往', '拉', '露出', '生殖器', '觸摸', '生殖器', '用', '手機', '拍照', '違', '反意', '願摸', '秒', '沒', '反過', '來', '來', '說', '不要', '推開', '他', '手', '整個', '事情', '結束', '嚇到', '不', '知道', '要何', '啟齒', '扣案', '被告', '手機', '內', '拍', '攝數位', '影片', '原審', '勘驗', '筆錄', '可稽據', '勘驗', '結果', '影片', '全長', '約', '秒', '影片', '秒', '到', '秒', '被告', '開始', '隔', '著褲', '摸', '生殖器', '接著', '脫掉', '褲', '多次', '隔著', '內', '褲觸', '摸', '陰莖', '影片', '秒', '到', '秒', '被告', '從', '內褲', '褲頭', '伸手', '進去', '摸', '陰莖', '隔', '著內', '褲撫', '摸', '陰莖', '影片', '秒', '到', '秒', '拉', '內褲', '褲頭', '陰莖', '露將', '內褲', '穿', '好', '隔', '著內', '褲撫', '摸', '陰莖', '調整', '名次', '拉內褲', '陰莖', '陰囊露', '被告', '握住', '陰莖', '左右', '移動', '多次', '撫摸此', '抓住', '內褲', '往拉穿', '好', '說', '趕間', '被告', '仍', '隔', '著內', '褲撫', '摸', '陰莖', '說', '你', '容易', '反', '那種', '說', '還好', '拉', '自己', '運動褲', '完整', '勘驗', '內容見', '原', '審卷', '過程', '從', '同意', '被告', '脫內褲', '同意', '觸摸', '拍', '攝', '生殖器', '被告', '自承', '知悉', '獲', '同意', '手觸', '摸', '生殖器', '猶藉', '調', '拍', '攝', '身形', '名義進', '撫', '摸', '生殖器', '顯非', '短', '暫偷', '襲式觸', '碰此', '猥褻', '舉動', '妨害性自主', '決定', '意思', '自證', '偵稱', '過程', '約', '秒', '審理稱', '摸間', '不記', '但證', '對間', '法', '精準', '描述', '致前', '開錄影', '情形', '不符', '自可', '採利', '被告', '定僅', '偷', '襲式', '短', '暫', '碰觸', '性騷擾', '被告', '撫摸', '猥褻', '舉動', '刑法', '違', '反意', '願', '方法', '強制', '猥褻', '拍', '攝撫', '摸', '生殖器', '舉違', '反', '本意', '願', '方法', '辯護', '被告', '僅短', '暫觸', '碰', '他', '生殖器', '當', '性騷擾', '云云', '現場', '監視錄', '影畫面', '附表', '編數位', '影片', '述', '不合', '自可', '採辯', '被告', '施詐術', '拍', '攝', '云云', '但凡', '違反', '本意', '願', '方法', '兒童', '少年', '被', '拍', '攝', '猥褻', '電子', '訊', '當兒童', '少年', '性剝削', '防制', '例罪', '詐術', '不', '過列', '舉種', '非法', '方法', '本案', '被告', '佯藉', '調名', '義搭訕', '騙取', '同意', '拍攝', '身形', '照片', '進錯誤', '同意', '被告', '撫摸', '拍', '攝', '生殖器', '猥褻', '影片', '被告', '擅自', '拍攝', '猥褻', '電子訊當', '違反', '本意', '願', '非法', '方法', '被告', '可解', '免罪', '罪責', '辯護', '被告', '不', '知悉', '滿歲', '少年', '云云', '但', '兒童', '少年', '福利', '權益', '保障法', '兒童', '少年', '性剝削', '防制', '例兒童', '少年', '被害', '不', '明知', '被害', '年齡', '必要', '案發', '實際', '年齡', '歲', '歲', '此性', '害代', '真實', '姓名', '對', '照表', '代真實', '姓名', '對', '照表', '偵', '不公', '開卷', '可', '憑', '滿歲', '少年', '被告', '偵原', '審審理', '自承', '知悉', '約', '歲', '偵卷', '原', '審卷', '當身', '著', '高工', '制服', '被告', '前開', '自白', '核事實', '相符', '知悉', '少年', '猶對', '犯', '強制', '猥褻', '罪合', '兒童', '少年', '福利', '權益', '保障法', '加', '重要', '件國', '目前', '學制', '學高', '職生極', '可能', '滿歲', '此', '社會', '生活', '定般', '能', '理解', '知悉', '被', '告警', '詢', '也', '坦承', '選定', '高生', '對象', '偵卷', '原審', '審理', '承', '知道', '可能', '高', '高原', '審卷案', '發早', '學間', '當身', '著', '高工', '制服', '被告', '主觀', '預見', '可能', '滿歲', '卻', '仍', '執意', '揭犯', '主觀', '具', '不', '確定', '故意', '前開', '辯避', '重輕', '可', '採事', '實欄', '附表', '編', '犯罪', '事實業', '據證', '告訴', '偵審理', '證述', '明確', '偵卷', '卷', '附表', '編手', '機扣', '案手', '機內', '掀起', '衣服', '露出', '內褲', '褲頭', '照片', '偵卷', '偵', '不公', '開卷', '卷', '可', '憑', '辯護', '雖稱', '照片', '否', '不明', '云云', '但', '除證', '偵', '明白', '證稱', '照片', '本', '偵卷', '照片', '著', '制服', '繡學', '姓名', '可確', '實辯護', '此節', '辯', '可', '採此', '被', '告警', '詢偵原', '審審理', '坦承', '犯罪', '事實欄', '地', '品牌', '調員名', '義找', '拍', '攝', '身形', '照片', '同意', '用手', '碰觸', '他', '生殖器', '明確', '偵卷', '原', '審卷', '卷', '可補', '強證', '證述', '可信', '補強', '證據', '不證明', '犯罪', '構成', '要件', '全部', '事實', '必要', '辯護', '徒開', '照片', '拍攝', '到', '性騷擾', '過程', '不能', '補強', '云云', '理', '本案', '事證明', '被告', '犯堪定', '法科', '罪', '犯罪', '事實欄', '附表', '編罪', '被告', '年', '月', '生成', '年', '滿歲', '少年', '核', '被告', '犯兒童', '少年', '福利', '權益', '保障法', '刑法', '成年', '故意', '對', '少年犯', '強制', '猥褻', '罪', '加重', '刑', '被告', '開始', '乘', '不', '抗拒', '觸摸', '生殖器', '偷襲式', '短', '暫性', '不', '當觸', '摸', '性騷擾', '遭當場', '拒絕', '竟', '仍', '不', '停止', '違', '反意', '願持續', '撫', '摸', '生殖器', '被告', '提', '昇', '犯意', '強制', '猥褻', '性騷擾', '犯', '犯意', '提', '昇', '強制', '猥褻', '吸收', '不', '另罪', '公訴', '意旨', '起訴', '事實明', '當年', '滿歲', '少年', '但', '犯法', '僅', '被告', '涉犯', '強制', '猥褻', '罪', '引用', '兒童', '少年', '福利', '權益', '保障法', '成年', '故意', '對', '少年犯', '強制', '猥褻', '罪容洽', '起訴', '基本', '事實同', '刑事訴訟法', '變', '更', '起訴', '法', '犯罪', '事實欄', '附表', '編罪', '電子', '訊', '通常', '數位', '訊類', '比訊種', '動電話', '電子', '數位', '機器', '對', '他', '拍', '攝', '裸照', '性交', '影片', '利用', '影像', '感', '功能', '將物體', '反射光', '轉換', '數位', '訊', '壓縮', '儲存', '內建', '記憶體', '記憶卡', '透過', '電子視', '覺化', '顯示器', '讓', '電子', '訊', '可', '被', '視', '覺化', '包括', '電視', '電腦', '平板', '顯示器', '輸出', '若', '證據', '證明數', '位訊業過', '沖', '洗', '壓', '製', '過', '程', '成', '實', '體', '物品', '錄影', '帶', '光碟', '相紙', '拍', '攝', '製', '造', '僅', '電', '子', '訊', '階', '段', '被告', '手機', '滿歲', '少年', '被', '拍', '攝', '猥褻', '檔案', '儲存', '手機', '內電子', '訊', '數位', '影像', '被告', '成年', '滿歲', '少年', '被告', '預見', '仍', '對', '少年', '強制', '猥褻', '拍攝', '猥褻', '電子', '訊', '違', '本意', '核', '被告', '犯兒童', '少年', '福利', '權益', '保障法', '刑法', '成年', '故意', '對', '少年犯', '強制', '猥褻', '罪兒童', '少年', '性剝削', '防制', '例違', '反', '本意', '願', '方法', '少年', '被', '拍', '攝', '猥褻', '電子', '訊', '罪公訴', '意旨', '被告', '犯詐術', '少年', '被', '製', '造', '猥褻', '電子', '訊', '罪', '更正', '起訴', '事實明', '當年', '滿歲', '少年', '但', '犯法', '僅', '被告', '涉犯', '強制', '猥褻', '罪', '引用', '兒童', '少年', '福利', '權益', '保障法', '成年', '故意', '對', '少年犯', '強制', '猥褻', '罪容洽', '起訴', '基本', '事實', '同法變', '更', '起訴', '法犯', '兒童', '少年', '性剝削', '防制', '例罪', '本', '被害', '少年', '特別', '罰', '從', '不兒童', '少年', '福利', '權益', '保障法', '附此', '敘明', '犯罪', '事實欄', '附表', '編罪', '核', '被告', '此犯', '性騷擾', '防治法', '性騷擾', '罪公訴', '意旨', '被告', '犯', '刑法', '利用', '類似', '業務關', '機會', '猥褻', '罪嫌', '云云', '被告', '雖', '假借', '運動', '品牌', '調員名', '義誘', '騙', '同意', '拍攝', '內褲', '照片', '過程', '乘', '機撫', '摸', '生殖器', '被告', '客觀間', '任何', '業務', '支配', '關實', '受騙', '當才', '配合', '拍攝', '內褲', '照片', '進遭', '被告', '偷襲觸', '摸', '生殖器', '非礙', '被告', '權勢', '支配', '關曲', '從', '同意', '被告', '撫摸', '生殖器', '檢察官', '被告', '利用', '業務', '機會', '猥褻', '罪容', '誤會', '但', '起訴', '社會', '基本', '事實', '同法變', '更', '起訴', '法', '被告', '犯罪', '事實', '欄犯', '成年', '故意', '對', '少年', '強制', '猥褻', '違反', '本意', '願', '方法', '少年', '被', '拍', '攝', '猥褻', '電子', '訊', '罪', '密接', '同', '地', '局部', '重疊觸', '犯數', '罪名', '想像', '競合關', '從重', '違反', '本意', '願', '方法', '少年', '被', '拍', '攝', '猥褻', '電子', '訊', '罪斷', '被告', '犯', '成年', '故意', '對', '少年犯', '強制', '猥褻', '罪', '犯罪', '事實欄', '違反', '本意', '願', '方法', '少年', '被', '拍', '攝', '猥褻', '電子', '訊', '罪', '犯罪', '事實欄', '性騷擾', '罪', '犯罪', '事實欄', '被害', '間', '地點', '不同', '被告', '犯意', '各別', '互殊', '併', '罰', '本原', '審送亞', '東紀念', '醫院', '對', '被告', '實施', '精神', '鑑定', '鑑定', '結果', '被告', '雖', '可能', '疑似', '非', '特定', '性', '偏好', '症', '但', '此性', '偏好', '不影響', '責任', '能力', '此亞', '東紀念', '醫院', '年月日', '精神', '鑑定', '報告', '書原', '審卷', '被告', '責任', '能力', '撤銷', '附表', '編定執', '刑科', '刑說', '明原', '審', '被告', '附表', '編犯', '兒童', '少年', '性剝削', '防制', '例事', '證明', '確罪', '科刑', '固非', '見', '強制', '猥褻', '性騷擾', '罪', '雖出', '違反', '被害', '意願', '方法', '但', '被害', '不', '抗拒', '際', '出', '不意', '乘隙', '短暫', '偷', '襲式', '觸摸意', '騷擾', '觸摸', '對象', '不性', '慾', '滿足', '必要', '尚達', '妨害', '性', '意思', '自但', '破壞', '被害', '享性性', '別性', '關寧靜', '不受', '干擾', '平和', '狀態', '言', '倘影響', '被害', '性', '意思', '形成', '決定', '自強制', '猥褻', '證偵', '審理證', '原審', '勘驗', '被告', '攝錄', '影像', '檔案示', '被告', '將近', '鐘內來', '回撫', '摸', '生殖器', '非', '趁', '不備', '短', '暫偷', '襲式', '觸摸', '也', '從', '同意', '被告', '此舉', '被告', '違', '反意', '願強', '猥褻', '自', '成立', '成年', '故意', '對', '少年犯', '強制', '猥褻', '罪', '但', '兒童', '少年', '性剝削', '防制', '例罪', '想像', '競合僅', '從', '重原', '審將', '此', '想像', '競合犯', '輕罪', '改', '性騷擾', '罪', '接續', '犯容', '違誤', '被告', '雖', '佯', '品牌', '調員名', '義搭訕', '騙取', '同意', '拍攝', '身形', '但', '詐術', '錯誤', '同意', '被告', '拍', '攝撫', '摸', '生殖器', '數位', '影片', '從', '同意', '被告', '此舉', '被告', '仍強', '違反', '本意', '願', '方法', '少年', '被', '拍', '攝', '猥褻', '電子', '訊', '原', '審詐術', '少年', '被', '拍', '攝', '猥褻', '電子', '訊', '罪', '妥', '被告', '訴執', '辯詞', '可採', '前述', '訴', '雖理', '但', '原', '審判決', '附表', '編', '犯罪', '開事', '用法', '違誤', '可維持', '此', '沒收', '需', '犯罪', '事實定', '前提', '連定', '執刑', '可單', '獨維持將', '附表', '編定', '執刑', '撤銷', '改判', '審酌', '被告', '犯罪', '動機', '手段', '目滿足', '自身', '性', '慾', '佯', '品牌', '調員名', '義挑', '選學學生', '搭', '訕', '犯案', '對', '身心', '健全', '發展', '影響', '甚鉅犯', '造成', '損害', '非輕', '考量', '犯態度', '前', '犯過', '相類', '似犯', '本案', '自述', '智識', '程度', '家庭', '生活', '濟狀況', '切情', '狀期', '徒刑', '年', '月', '附表', '編示', '手機', '被告', '供', '本案', '犯罪', '用', '刑法', '本次', '犯', '宣告', '沒收', '附表', '編示', '數位', '影像', '被告', '拍攝', '儲存', '開手', '機內', '對', '猥褻', '電子訊業', '原審', '勘驗', '明確', '前述', '兒童', '少年', '性剝削', '防制', '例', '宣告', '沒收餘', '扣案', '支星', '手機', '支手', '機電腦', '主機台', '警方', '進數位', '蒐', '證結果', '偵卷', '扣押', '物品', '目錄', '表扣', '案物', '內', '本案', '被害', '資料', '包含', '還原', '刪除', '資料', '數位', '證物', '勘察', '報告份', '可佐偵', '不公', '開卷', '同卷', '結證據', '可扣', '案物', '本案', '直接', '關連內', '本案', '沒收', '猥褻', '電子', '訊', '故', '不', '沒', '收駁', '回訴', '附表', '編原', '審', '被告', '犯', '附表', '編示', '各罪', '事證明', '確別', '附表', '編兒童', '少年', '福利', '權益', '保障法', '刑法', '成年', '故意', '對', '少年犯', '強制', '猥褻', '罪法', '加重', '刑', '附表', '編', '性騷擾', '防治法', '性騷擾', '罪公訴', '意旨', '漏', '引誤', '引法', '法變', '更', '起訴', '法審酌', '被告', '犯罪', '動機', '手段', '目對', '身心', '健全', '發展', '影響', '甚鉅犯', '造成', '損害', '非輕', '考量', '犯態度', '素智識', '程度', '家庭', '生活', '濟狀況', '切情', '狀犯', '成年', '故意', '對', '少年犯', '強制', '猥褻', '罪期', '徒刑', '月', '犯', '性騷擾', '罪期', '徒刑', '月', '易科罰金', '折算', '標準', '末用', '附表', '編手機', '刑法', '被告', '各次', '犯', '宣告', '沒收', '核事', '用法', '量刑', '不', '當維持', '被告', '訴執辯', '詞理', '指駁', '前訴', '駁', '回定', '執刑', '開', '撤銷', '改判', '附表', '編駁', '回訴', '易科罰金', '附表', '編審酌', '犯罪', '態樣', '犯罪', '間', '相近', '但害', '不同', '被害', '斟酌', '責任', '非', '難重', '複', '程度', '對', '全體', '犯罪', '整體', '評價定執', '刑部', '界限', '定執', '刑期', '徒刑', '年', '月', '附表', '編', '易科罰金', '罪刑', '刑法', '但書前', '開', '易科罰金', '罪', '併', '合罰', '待', '罪', '確定', '另', '刑法', '決定', '否聲', '定刑', '併', '此', '敘明罪', '公訴', '意旨', '另', '被告', '年月日', '午許', '新北市', '板橋', '區民', '路段', '巷', '附近', '看到', '位真實', '姓名', '年籍', '不詳', '穿著', '光高', '運動服', '男學生', '稱', '不', '詳年', '籍', '同', '手法', '欺騙', '不', '詳年籍', '基類', '似業務關', '受', '自己', '支配', '利用', '機會', '猥褻', '犯意', '手指', '抓住', '不詳', '年籍', '生殖器', '拍攝', '電子', '訊', '張', '影片', '段', '被告', '年月日', '午許', '新北市', '板橋區', '某', '看到', '位真實', '姓名', '年籍', '不詳', '穿著', '錦', '和', '高運動服', '男學生', '稱', '不', '詳年', '籍', '同', '手法', '欺騙', '不', '詳年籍', '基類', '似業務關', '受', '自己', '支配', '利用', '機會', '猥褻', '犯意', '隔著', '不', '詳年籍', '內褲', '手指', '抓住', '不詳', '年籍', '生殖器', '拍攝', '電子', '訊', '張', '被告', '犯', '刑法', '利用', '類似', '業務關', '機會', '猥褻', '罪嫌', '犯罪', '事實', '證據定', '證據定', '犯罪', '事實', '刑事訴訟法', '定', '明文', '此謂', '定', '犯罪', '事實', '證據', '直接', '間', '接證據須', '達', '通常', '般', '不致', '懷疑', '確信', '真實', '程度', '始據', '罪定', '若', '被告', '否', '犯罪', '證明能', '達此', '程度', '合理性', '懷疑', '存致法', '形成', '罪確', '信根據', '罪證', '疑利', '被告', '證據法', '遽', '不利', '被告', '定', '刑事訴訟法', '檢察官', '被告', '犯罪', '事實', '負舉', '證責任', '指出', '證明', '方法', '此檢察官', '起訴', '犯罪', '事實負', '提出', '證據', '說', '服實質', '舉證責任', '倘', '提出', '證據', '不足', '被', '告罪', '積極', '證明', '指出', '證明', '方法', '從', '說服', '法院', '形成', '被', '告罪', '心證', '基罪', '推定', '原自', '被', '告罪', '判決', '檢察官', '被告', '對', '年', '籍', '不', '詳犯', '刑法', '利用', '類似', '業務關', '機會', '猥褻', '罪嫌', '據', '被', '告警', '詢偵', '自白', '警局', '數位', '證物', '勘報', '告內', '被告', '遭扣', '案手', '機內', '年籍', '不詳', '男', '穿著', '高運動服', '照片', '陰莖', '遭手', '抓住', '照片', '影片', '年籍', '不詳', '男著', '高運動服', '照片', '陰莖', '遭手', '抓住', '照片', '憑', '檢察官', '起訴', '被告', '佯', '品牌', '調員名', '義搭訕', '拍照', '事實', '刑法', '利用', '權勢', '從關', '被害', '曲意', '順從', '妨害性自主', '犯', '不合', '公訴', '意旨', '被告', '犯', '刑法', '利用', '類似', '業務關', '機會', '猥褻', '罪嫌', '云云', '法合訊據', '被告', '審理否', '開犯', '辯稱', '網路', '抓取', '影像', '云云', '年籍', '不', '詳卷', '內僅', '被告', '遭扣', '案手', '機內', '存取', '數位', '照片', '張憑', '偵', '不公', '開卷', '照片', '拍攝', '到', '被告', '本臉', '部著', '衣服', '也', '學', '姓名', '可供', '找', '除法', '數位', '照片', '定隔', '著內', '褲觸', '摸', '生殖器', '部位', '被告', '公訴', '意旨', '指', '被害', '過程乏', '被害', '指訴', '過程', '不明', '可徒', '憑', '被告', '前', '不', '供述', '臆測', '犯罪', '另', '被告', '遭扣', '案手', '機內', '存取', '數位', '影片', '原審', '勘驗', '被告', '坦拍', '攝原', '審卷', '故此', '被告', '辯稱', '網路', '抓取', '云云', '可採', '但', '影片', '拍', '攝到', '臉部', '著', '衣服', '也', '學', '姓名', '可供', '找', '勘驗', '筆錄', '雙方', '對', '話', '內容稱', '可', '真意', '不明', '欠缺', '被害', '指訴', '情況', '真實', '年齡', '過程', '否違', '反意', '願遭', '騷擾節', '不明', '單憑', '被告', '坦觸', '摸', '生殖器', '仍', '不能', '證明', '被告', '犯罪', '法', '被', '告罪', '駁', '回訴', '說', '明原', '審審理', '檢察官', '提卷', '內證據', '資料', '不能', '證明', '被告', '被訴', '年月日', '年月日', '犯', '利用', '類似', '業務關', '機會', '猥褻', '罪', '被', '告罪', '核', '不合', '檢察', '官訴', '意旨', '被告', '假冒', '運動', '品牌', '調員身', '佯', '稱欲調', '被害', '身材', '誘騙', '方式', '觸碰', '被害', '生殖器', '拍攝', '陰莖', '勃起', '照片', '影片', '情', '被告', '坦承', '不諱', '開', '照片', '影片', '附卷', '可', '參觀諸', '被告', '拍攝', '影片', '被告', '撫摸', '陰莖', '詢問', '你', '容易', '反', '嗎', '回答', '不', '知道', '被告', '抓著', '陰莖', '移動套', '弄', '詢問', '這樣', '嗎', '回答', '可', '被告', '問可', '拍', '到', '反', '嗎', '猶豫', '說', '可拍照', '嗎', '你', '要', '拍', '被告', '將內褲', '穿著', '隔著', '內', '褲撫', '摸', '陰莖', '表示', '要', '形狀', '出來', '另', '觀諸', '被告', '拍攝', '照片', '腰部', '照片', '被害', '衣藍色', '運動服', '短褲', '遭', '褪', '露出', '深灰色', '內褲', '被告', '手撫', '摸', '陰莖', '位置', '情原', '審', '勘驗', '筆錄', '開', '影片', '照片', '附卷', '可佐', '被告', '施用', '假藉', '運動', '品牌', '調員', '詐術', '此', '詐術', '取信', '誤此', '運動', '品牌', '調', '身材', '流程', '對', '被告', '指示', '深信不疑', '唯從', '嗣', '被告', '利用', '開誤', '欠缺', '理性', '思考', '遵從', '狀態', '壓制性', '自', '主意', '願觸', '碰', '生殖器', '強制', '猥褻', '犯逞', '故情', '足壓', '制性', '自主', '意思', '決定', '自', '被告', '刑法', '他', '違', '反意', '願', '方式', '對', '強制', '猥褻', '犯', '客觀', '要件', '縱', '刑法', '構成', '要件', '不符', '法院', '不', '妨害', '事實', '同範圍', '內', '自定', '事實', '法律', '故', '被告', '起訴', '書', '犯罪', '事實欄', '犯罪', '事實否', '涉嫌', '強制', '猥褻', '罪犯', '原審', '審理', '範圍', '原', '審此', '漏', '審酌', '遽', '罪判', '決理', '不備', '違法原', '審判決', '開事', '用法', '尚洽將', '被告', '此罪', '判決', '撤銷', '更', '妥', '適判決', '但', '身', '不明', '情況', '欠缺', '被害', '指訴', '重要', '證據', '方法', '法僅', '被告', '述', '卷', '內', '可辨', '識', '被害', '照片', '影片', '定', '被告', '犯罪', '當何', '罪理', '敘述', '前', '檢察官', '提出', '證據', '不足', '被', '告罪', '積極', '證明', '不能', '臆測', '方式', '補足開', '偵不', '完備', '自', '被', '告罪', '訴', '仍', '相異', '評價訴', '理駁', '回據斷', '刑事訴訟法', '判決本', '檢察官', '何克凡', '公訴', '檢察', '官盧', '祐', '涵訴', '檢察官', '壽勤偉', '到庭', '執職務華民國', '年月日', '刑事', '庭審', '判長', '法官', '劉方慈', '法官', '蕭世昌', '法官', '許曉微', '正本', '證明', '原本', '異', '不服', '本判決', '收受', '送達', '日', '內', '提出', '訴書狀', '敘述', '訴理訴', '日', '內補', '提理書須', '他造', '當事數', '附繕', '本', '切勿', '送級', '法院', '維持', '審罪', '判決', '檢察', '官訴', '理須', '受', '刑事', '妥速', '審判法', '限制', '刑事', '妥速', '審判法', '除前', '情形', '審', '法院', '維持', '審罪判', '決訴', '理列', '事限判決', '牴', '觸法', '判決', '司法院', '解釋', '判決', '判例', '刑事訴訟法', '前', '審理', '不書', '記官', '徐仁', '豐華民國', '年月日', '附錄', '本案', '罪科', '刑法', '全文', '華', '刑法', '強制', '猥褻', '罪', '男女', '強暴脅迫', '恐嚇', '催眠', '術', '他', '違', '反意', '願', '方法', '猥褻', '月', '年期', '徒刑', '兒童', '少年', '福利', '權益', '保障法', '成年', '教唆', '幫助', '利用', '兒童', '少年', '犯罪', '共同', '實施', '犯罪', '故意', '對', '犯罪', '加重', '刑', '但', '各罪', '被害', '兒童', '少年', '定特別', '罰', '從', '兒童', '少年', '犯罪', '主管', '機關', '獨立', '告訴', '兒童', '少年', '性剝削', '防制', '例拍', '攝', '製', '造', '兒', '童', '少年', '性交', '猥褻', '圖畫', '照片', '影片', '影帶', '光碟', '電子', '訊', '他', '物品', '年', '年期', '徒刑', '併', '科新', '臺', '幣百萬元罰', '金', '招募', '引誘', '容留', '媒介', '協助', '他', '法兒童', '少年', '被', '拍', '攝', '製', '造', '性交', '猥褻', '圖畫', '照片', '影片', '影帶', '光碟', '電子', '訊', '他', '物品', '年', '年期', '徒刑', '併', '科新', '臺', '幣百萬元罰', '金強', '暴脅', '迫藥劑', '詐術', '催眠', '術', '他', '違反', '本意', '願', '方法', '兒童', '少年', '被', '拍', '攝', '製', '造', '性交', '猥褻', '圖畫', '照片', '影片', '影帶', '光碟', '電子', '訊', '他', '物品', '年期', '徒刑', '併', '科新', '臺', '幣百萬元罰', '金意', '圖營利', '犯前', '罪', '各', '加重', '刑前', '遂', '犯罰', '物品', '不問', '犯罪', '否沒收', '性騷擾', '防治法', '意圖', '性騷擾', '乘', '不', '抗拒', '親吻', '擁抱觸', '摸', '臀部', '胸部', '他', '身體', '隱私', '年期', '徒刑', '拘役', '科', '併', '科新', '臺', '幣萬元罰', '金前', '罪須', '告訴', '附表', '扣案物', '影像', '電子', '檔', '編扣', '案物手', '機內', '影像', '用途', '影像', '內容', '被告', '手機', '支含', '卡', '張原', '審卷', '照片', '手機', '數位', '鑑識', '報告', '證物', '被告', '事實欄', '佯裝', '品牌', '調員用', '警方', '將編手', '機內', '刪除', '檔案', '還原', '發現', '內', '被告', '儲存事', '實欄', '拍', '攝', '影片', '檔案', '個', '還原', '檔案', '儲存', '警方', '蒐', '證', '影像', '光碟', '光碟', '置原', '審卷', '證物袋', '內', '偵卷', '證物袋', '內', '數位', '影像', '檔名', '影片', '內容', '被告', '撫摸', '陰莖', '拉內', '褲將', '陰莖', '露', '影像', '詳細', '內容', '原審', '勘驗', '筆錄', '影像', '畫面', '截圖', '可見', '被害', '身穿', '學校', '運動服', '畫面', '附表', '編對', '犯罪', '事實欄', '判決', '備', '註', '犯罪', '事實', '欄訴', '駁', '回原', '審判決', '成年', '故意', '對', '少年犯', '強制', '猥褻', '罪期', '徒刑', '月', '扣案', '附表', '編示', '手機', '沒收', '犯罪', '事實欄', '撤銷', '犯', '違反', '本意', '願', '方法', '少年', '被', '拍', '攝', '猥褻', '電子', '訊', '罪期', '徒刑', '柒年', '貳', '月', '扣案', '附表', '編示', '手機同', '附表', '編數位', '影像', '電子', '訊', '沒', '收原', '審判', '決犯', '詐術', '少年', '被', '拍', '攝', '猥褻', '電子', '訊', '罪期', '徒刑', '年', '月', '扣案', '附表', '編示', '手機', '編數位', '影像', '電子', '訊', '沒收', '犯罪', '事實', '欄訴', '駁', '回原', '審判', '決犯', '性騷擾', '罪期', '徒刑', '月', '易科罰金', '新', '臺', '幣', '千元', '折算', '日', '扣案', '附表', '編示', '手機', '沒收']\n",
      "4097\n",
      "處理過後的文本(搜尋): ['高', '法院', '刑事', '判決訴', '新北', '地方', '檢察署', '檢察', '官訴', '被告', '潘秉鈞', '另案', '法務部', '執選任', '辯護', '楊東', '鎮律', '師法', '扶律', '師列訴', '兒童', '少年', '性剝削', '防制', '例', '不服', '新北', '地方', '方法', '法院', '地方法院', '華', '年月日', '審判', '決新北', '地方', '檢察署', '訴判決', '附表', '編定', '執刑', '撤銷', '犯', '違反', '本意', '願', '方法', '少年', '被', '拍', '攝', '猥褻', '電子', '訊', '罪期', '徒刑', '柒年', '貳', '月', '扣案', '附表', '編示', '手機同', '附表', '編數位', '影像', '電子', '訊', '沒收', '他', '訴駁', '回開', '撤銷', '改判', '訴駁', '回', '附表', '編刑', '執期', '徒刑', '柒年', '肆', '月', '犯罪', '事實', '成年', '年月日', '午許', '北市', '新北市', '土城', '區', '裕民', '路', '巷弄', '口見', '少年', '年', '月', '生案', '發歲', '代真實', '姓名', '年籍', '詳卷', '身穿', '高級', '工業', '職業', '學校', '運動服', '校名', '詳卷', '稱', '高工', '運動服', '知悉', '滿歲', '少年', '仍', '對', '佯稱', '自己', '運動', '品牌', '調員欲', '拍', '攝', '青少', '少年', '青少年', '身形', '照片', '做調', '不疑', '他', '便', '隨同', '前往', '同市', '區路', '巷弄', '夾', '娃娃', '機店', '內', '附表', '編示', '手機', '表示', '要', '拍', '攝內', '褲待', '脫運動', '褲竟', '意圖', '性騷擾', '乘', '不', '抗拒', '際', '突手觸', '摸', '生殖', '生殖器', '將手', '撥開', '表示', '拒絕', '此知', '不願', '此類', '方式', '身體', '接觸', '竟', '提', '昇', '對', '少年', '強制', '猥褻', '犯意', '這', '工作', '不顧', '拒絕', '違', '反意', '願將手', '伸入', '內褲', '裏', '撫', '摸', '生殖', '生殖器', '對', '強制', '猥褻', '逞', '年月日', '午許', '新北', '市區', '出口', '附近', '巷子', '裡面', '見', '年', '月', '生案', '發歲', '代真實', '姓名', '年籍', '詳卷', '身穿', '高工', '運動服', '知悉', '可能', '滿歲', '少年', '仍', '對', '佯稱', '自己', '運動', '品牌', '調員欲', '拍', '攝', '穿著', '身形', '照片', '不疑', '他', '便', '隨同', '到', '同市', '區路', '巷弄', '夾', '娃娃', '機店', '內', '工作', '需要', '名', '要求', '拍攝', '半身', '內褲', '照片', '俟', '將褲', '脫', '基縱', '對', '少年', '強制', '猥褻', '違反', '本意', '願', '方法', '少年', '被', '拍', '攝', '猥褻', '電子', '訊', '數位', '影像', '違', '本意', '犯意', '同意', '自將', '內褲', '褲頭拉強', '手來', '回撫', '摸', '露出', '生殖', '生殖器', '違', '反意', '願', '強制', '猥褻', '同', '用', '附表', '編示', '手機', '拍', '攝錄', '影撫', '摸', '生殖', '生殖器', '過程', '違', '反意', '願', '方法', '被', '拍', '攝開', '遭撫', '摸', '裸露', '生殖', '生殖器', '過程', '猥褻', '電子', '訊', '逞', '另', '年月日', '午', '海山', '捷運站', '出口', '附近', '路見', '年', '月', '生案', '發年', '滿歲', '代真實', '姓名', '年籍', '詳卷', '身穿', '高工', '制服', '前', '揭名義', '手法', '徵', '同意', '附近', '巷子', '內用', '附表', '編示', '手機', '拍', '攝', '露出', '內褲', '褲頭', '電子', '訊', '數位', '照片', '張拍', '攝過', '程竟', '意圖', '性騷擾', '乘', '不', '抗拒', '際', '將手', '伸入', '內', '褲觸', '摸', '生殖', '生殖器', '遭當場', '怒', '罵', '隨', '停手', '少年', '少年', '少年', '母', '法定', '代理', '法定代理', '訴新北', '市政', '政府', '市政府', '警察', '警察局', '土城', '局報', '告檢察官', '提出', '告訴', '新北', '地方', '檢察署', '檢察官', '偵', '起訴', '理罪', '壹', '程序', '方面', '審理', '範圍', '本案', '刑事', '刑事訴訟法', '年月日', '修正', '施', '年月日', '繫', '修正', '現', '刑事', '刑事訴訟法', '判斷', '訴範圍', '判決', '部訴', '關視訴', '但', '關罪', '免訴', '不', '受理', '不此限', '併', '參照', '立法', '理', '但', '書', '稱罪', '免訴', '不', '受理', '不內限', '審判', '決關', '理內', '說明', '不', '另罪', '免訴', '不', '受理', '本案', '檢察官', '起訴', '訴', '被告', '年月日', '午許', '另', '手機', '拍', '攝', '少年', '穿內', '褲露', '陰毛', '電子', '訊', '被告', '此涉', '犯兒童', '少年', '性剝削', '防制', '例詐術', '方法', '製', '造', '少年', '猥褻', '電子', '訊', '罪嫌', '原審定', '卷', '內', '附數位', '照片', '法', '清楚', '辨識出', '照片', '起訴', '意旨', '稱露', '陰毛', '情事', '不', '成立', '詐術', '少年', '被', '拍', '攝', '猥褻', '電子', '訊', '罪', '不', '另', '罪見', '理欄', '貳', '本案', '檢察官', '僅罪', '起訴', '犯罪', '事實訴', '被', '告罪', '訴審判', '範圍', '不', '另罪', '當事訴', '非', '審判', '範圍', '合先', '敘明', '被告', '觸犯', '刑法', '法', '罪名', '檢察官', '公訴', '性害', '犯罪', '防治', '治法', '防治法', '性害', '犯罪', '性害', '犯罪', '防治', '治法', '防治法', '同', '法施', '細', '本案', '判決', '揭露', '姓名', '年籍', '他', '足', '資識別', '彼身', '資訊代稱', '證據', '能力', '本判', '決定', '犯罪', '事實', '引用', '供述', '證據', '檢察官', '同意', '證據', '能力', '被告', '選任', '辯護', '警詢', '審判陳述', '證據', '能力', '姊母', '警員', '石金澤', '偵述', '被害', '陳', '述', '具', '同性', '累積', '證據', '補強', '證據', '適格除', '此餘', '供述', '證據', '證據', '能力', '意見', '迄言詞', '辯終', '結前', '異議', '審酌', '證據', '不', '含', '前述', '被告', '辯護爭', '執資', '料', '製', '作', '情', '況', '違', '法', '不', '當', '證', '明力', '明顯過', '低', '瑕疵', '作證據', '適當非', '供述', '證據', '核', '違反', '法定', '程序', '法定程序', '取', '情形', '本案', '犯罪', '事實', '具關', '聯性', '證據', '能力', '關', '翻拍', '自', '娃娃', '機店', '內', '監視錄', '影畫面', '被告', '用手', '機內', '數位', '影像', '截圖', '派生', '證據', '被告', '辯護', '證據', '能力', '意見', '卷爭', '執截圖', '內容', '可證明', '被告', '本', '案犯', '證', '明力', '爭辯', '另', '詳述', '他', '據', '引用', '作定', '被告', '犯罪', '事實', '證據', '含', '警詢', '被告', '辯護爭', '執證據', '能力', '不贅', '證據', '能力', '定', '另', '被告', '自白', '出自', '意識陳述', '業據', '被告', '陳', '明卷', '卷', '雖', '被告', '稱', '審遭', '羈押', '心情', '複', '雜聽', '從律', '師建議', '罪此', '僅涉', '被告', '自白', '動機', '不', '影響', '自白', '出', '任意', '任意性', '定故', '倘', '自白', '事實', '相符', '當作定', '被告', '犯罪', '事實', '證據', '併', '此', '敘明', '貳', '實體', '方面', '定', '犯罪', '事實', '憑', '證據', '理訊據', '被告', '審理', '否犯', '辯稱', '沒用', '市場', '調名', '義騙', '他們', '只', '和', '純', '聊天', '問他', '們', '能', '不能', '拍照', '拍攝', '他們', '影像', '他們', '當不', '知道', '要', '拍', '生殖', '生殖器', '只', '被', '拍', '到', '生殖', '生殖器', '沒', '他們', '同意', '用手', '碰觸', '他們', '生殖', '生殖器', '確實', '撥開', '拒絕', '還碰', '生殖', '生殖器', '事實欄', '附表', '編', '犯罪', '事實業', '據證', '告訴', '偵審理', '證述', '明確', '他', '卷', '卷', '附表', '編手', '機扣', '案手', '機內', '掀起', '衣服', '數位', '照片', '偵卷', '偵', '不公', '開卷夾', '娃娃', '機店', '內', '監視', '錄影', '翻拍', '照片', '偵卷', '卷', '可', '憑', '被', '告警', '詢偵原', '審審理', '坦承', '犯罪', '事實欄', '地', '品牌', '調員名', '義找', '拍', '攝', '身形', '照片', '同意', '用手', '碰觸', '他', '生殖', '生殖器', '明確', '偵卷', '原', '審卷', '卷', '可補', '強證', '證述', '可信', '謂', '補強', '證據本', '不證明', '犯罪', '構成', '要件', '全部', '事實', '必要', '辯護泛', '欠缺', '補強', '證據爭', '執證', '證詞', '被告', '空言', '爭辯', '將手', '伸入', '褲管', '直接', '碰觸', '生殖', '生殖器', '節可', '採關', '事', '實欄', '附表', '編', '犯罪', '事實業', '據證', '告訴', '偵審理', '證述', '明確', '偵卷', '卷', '附表', '編手', '機扣', '案手', '機內', '遭撫', '摸', '生殖', '生殖器', '生殖', '生殖器', '露數位', '影像', '原審', '勘驗', '數位', '影像', '勘驗', '筆錄', '偵卷', '偵', '不公', '開卷', '原', '審卷', '卷', '可', '憑', '被', '告警', '詢偵原', '審審理', '坦承', '犯罪', '事實欄', '地', '品牌', '調員名', '義找', '拍', '攝', '身形', '照片', '同意', '用手', '碰觸', '他', '生殖', '生殖器', '拍', '攝撫', '摸', '生殖', '生殖器', '數位', '影像', '明確', '偵卷', '原', '審卷', '可補', '強證', '證述', '可信', '辯護泛', '稱', '補強', '證據', '云云', '可採', '辯護爭', '辯數位', '影像', '拍', '攝到', '臉部法', '辨識否', '云云', '證審理', '遠距', '方式', '訊問', '提示', '照片', '偵', '不公', '開卷方', '偵卷方', '照片', '交辨識', '稱', '傳真過', '來', '黑白', '照片', '黑白照片', '法明', '確辨識', '卷', '附', '裸露', '生殖', '生殖器', '照片', '否本', '但證', '偵檢察官', '當庭', '提交', '照片', '辨', '明白', '證稱', '照片', '本', '偵卷', '同方', '照片', '著', '制服', '繡學', '姓名', '張', '照片', '擷', '取自', '被告', '手機', '內連續', '攝錄', '數位', '影像', '檔案', '附表', '編數位', '影像', '檔案', '原審', '勘驗', '卷原', '審卷', '足', '可辨', '識', '特定', '名遭', '拍', '攝', '猥褻', '數位', '影像', '確實誤', '辯護', '此節', '指據', '辯護聲', '調取', '此現', '場夾', '娃娃', '機店', '當日', '監視錄', '影畫', '面承辦', '新北', '市政', '政府', '市政府', '警察', '警察局', '土城', '局', '年月日', '新北', '警土', '函覆能', '調取', '原卷', '卷', '卷', '內', '被告', '自拍', '攝數位', '影片', '縱店', '內', '監視錄', '影礙', '本案', '犯罪', '事實定', '附此', '敘明', '刑法', '稱', '他', '違', '反意', '願', '方法', '指列', '舉強', '暴脅迫', '恐嚇', '催眠', '術', '他切', '違反', '被害', '意願', '方法', '妨害', '被害', '意思', '自言', '不類', '似列', '舉強', '暴脅迫', '恐嚇', '催眠', '術', '相當', '他', '強制', '方法', '足壓', '抑', '被害', '性', '自主', '決定權', '必要', '最高', '高法', '法院', '最高法院', '次', '刑事', '庭會議', '決議', '參照', '此稱', '違', '反意', '願', '方法', '不', '被害', '達', '不能', '抗拒', '程度', '必要', '祇', '須', '施用', '方法', '違反', '被害', '意願足', '壓抑', '被害', '性', '自主', '決定', '權足', '當兒童', '少年', '性剝削', '防制', '例罰', '強暴脅', '迫藥劑', '詐術', '催眠', '術', '他', '違反', '本意', '願', '方法', '兒童', '少年', '被', '拍', '攝', '製', '造', '性交', '猥褻', '圖畫', '照片', '影片', '影帶', '光碟', '電子', '訊', '他', '物品', '手段', '除例', '舉強', '暴脅', '迫藥劑', '詐術', '催眠', '術', '他切', '違反', '被害', '意願', '方法', '證偵', '審理證', '稱當', '被告', '伸手', '摸', '生殖', '生殖器', '嚇到', '退', '把', '他', '手', '撥開', '但', '他還', '伸手', '過來', '摸', '生殖', '生殖器', '摸', '了', '段間', '不瞬間', '娃娃', '機店', '監視', '錄影', '翻拍', '照片', '可參', '雖', '遭', '被告', '詐騙', '讓', '被告', '拍攝', '身著', '衣物', '照片', '但佐當', '空場', '合顯', '同意', '被告', '觸摸', '生殖', '生殖器', '被告', '自承', '知悉', '將手', '撥', '開表達', '拒絕', '仍', '稱', '這', '工作', '出手', '強撫', '摸', '生殖', '生殖器', '此', '猥褻', '舉動', '妨害', '自主', '妨害性自主', '決定', '意思', '自辯護', '警詢', '警察', '提問強', '暴脅迫', '違反', '你', '意願', '方式', '對', '你', '實施', '強制', '猥褻', '證答', '稱', '都', '沒', '偵卷', '被告', '違', '反意', '願', '云云', '對', '此證', '審理證', '稱當', '被告', '沒威脅', '也', '沒用', '暴力', '回答', '沒', '但', '事實', '沒', '同意', '卷', '明白', '說明', '指', '被告', '非用', '強暴脅迫', '方式', '逼範', '但當', '被告', '違', '反意', '願', '甚明', '法強', '暴脅', '迫不過', '強制', '猥褻', '罪', '例示', '手段', '開警', '詢述', '不', '影響', '偵審理', '證述', '可信', '從據利', '被告', '定證', '偵證', '稱', '被告', '當說', '他', '個', '運動', '品牌', '調員', '想要', '調拍', '攝', '襪子', '鞋子', '說', '要', '拍', '形象', '照拍', '完', '肚子', '把', '運動褲', '褲頭', '往', '拉', '露出', '內褲', '褲頭', '把', '內', '褲往', '拉', '露出', '生殖', '生殖器', '觸摸', '生殖', '生殖器', '用', '手機', '拍照', '違', '反意', '願摸', '秒', '沒', '反過', '來', '來', '說', '不要', '推開', '他', '手', '整個', '事情', '結束', '嚇到', '不', '知道', '要何', '啟齒', '扣案', '被告', '手機', '內', '拍', '攝數位', '影片', '原審', '勘驗', '筆錄', '可稽據', '勘驗', '結果', '影片', '全長', '約', '秒', '影片', '秒', '到', '秒', '被告', '開始', '隔', '著褲', '摸', '生殖', '生殖器', '接著', '脫掉', '褲', '多次', '隔著', '內', '褲觸', '摸', '陰莖', '影片', '秒', '到', '秒', '被告', '從', '內褲', '褲頭', '伸手', '進去', '摸', '陰莖', '隔', '著內', '褲撫', '摸', '陰莖', '影片', '秒', '到', '秒', '拉', '內褲', '褲頭', '陰莖', '露將', '內褲', '穿', '好', '隔', '著內', '褲撫', '摸', '陰莖', '調整', '名次', '拉內褲', '陰莖', '陰囊露', '被告', '握住', '陰莖', '左右', '移動', '多次', '撫摸此', '抓住', '內褲', '往拉穿', '好', '說', '趕間', '被告', '仍', '隔', '著內', '褲撫', '摸', '陰莖', '說', '你', '容易', '反', '那種', '說', '還好', '拉', '自己', '運動褲', '完整', '勘驗', '內容見', '原', '審卷', '過程', '從', '同意', '被告', '脫內褲', '同意', '觸摸', '拍', '攝', '生殖', '生殖器', '被告', '自承', '知悉', '獲', '同意', '手觸', '摸', '生殖', '生殖器', '猶藉', '調', '拍', '攝', '身形', '名義進', '撫', '摸', '生殖', '生殖器', '顯非', '短', '暫偷', '襲式觸', '碰此', '猥褻', '舉動', '妨害', '自主', '妨害性自主', '決定', '意思', '自證', '偵稱', '過程', '約', '秒', '審理稱', '摸間', '不記', '但證', '對間', '法', '精準', '描述', '致前', '開錄影', '情形', '不符', '自可', '採利', '被告', '定僅', '偷', '襲式', '短', '暫', '碰觸', '性騷擾', '被告', '撫摸', '猥褻', '舉動', '刑法', '違', '反意', '願', '方法', '強制', '猥褻', '拍', '攝撫', '摸', '生殖', '生殖器', '舉違', '反', '本意', '願', '方法', '辯護', '被告', '僅短', '暫觸', '碰', '他', '生殖', '生殖器', '當', '性騷擾', '云云', '現場', '監視錄', '影畫面', '附表', '編數位', '影片', '述', '不合', '自可', '採辯', '被告', '施詐術', '拍', '攝', '云云', '但凡', '違反', '本意', '願', '方法', '兒童', '少年', '被', '拍', '攝', '猥褻', '電子', '訊', '當兒童', '少年', '性剝削', '防制', '例罪', '詐術', '不', '過列', '舉種', '非法', '方法', '本案', '被告', '佯藉', '調名', '義搭訕', '騙取', '同意', '拍攝', '身形', '照片', '進錯誤', '同意', '被告', '撫摸', '拍', '攝', '生殖', '生殖器', '猥褻', '影片', '被告', '擅自', '拍攝', '猥褻', '電子訊當', '違反', '本意', '願', '非法', '方法', '被告', '可解', '免罪', '罪責', '辯護', '被告', '不', '知悉', '滿歲', '少年', '云云', '但', '兒童', '少年', '福利', '權益', '保障', '保障法', '兒童', '少年', '性剝削', '防制', '例兒童', '少年', '被害', '不', '明知', '被害', '年齡', '必要', '案發', '實際', '年齡', '歲', '歲', '此性', '害代', '真實', '姓名', '對', '照表', '代真實', '姓名', '對', '照表', '偵', '不公', '開卷', '可', '憑', '滿歲', '少年', '被告', '偵原', '審審理', '自承', '知悉', '約', '歲', '偵卷', '原', '審卷', '當身', '著', '高工', '制服', '被告', '前開', '自白', '核事實', '相符', '知悉', '少年', '猶對', '犯', '強制', '猥褻', '罪合', '兒童', '少年', '福利', '權益', '保障', '保障法', '加', '重要', '件國', '目前', '學制', '學高', '職生極', '可能', '滿歲', '此', '社會', '生活', '定般', '能', '理解', '知悉', '被', '告警', '詢', '也', '坦承', '選定', '高生', '對象', '偵卷', '原審', '審理', '承', '知道', '可能', '高', '高原', '審卷案', '發早', '學間', '當身', '著', '高工', '制服', '被告', '主觀', '預見', '可能', '滿歲', '卻', '仍', '執意', '揭犯', '主觀', '具', '不', '確定', '故意', '前開', '辯避', '重輕', '可', '採事', '實欄', '附表', '編', '犯罪', '事實業', '據證', '告訴', '偵審理', '證述', '明確', '偵卷', '卷', '附表', '編手', '機扣', '案手', '機內', '掀起', '衣服', '露出', '內褲', '褲頭', '照片', '偵卷', '偵', '不公', '開卷', '卷', '可', '憑', '辯護', '雖稱', '照片', '否', '不明', '云云', '但', '除證', '偵', '明白', '證稱', '照片', '本', '偵卷', '照片', '著', '制服', '繡學', '姓名', '可確', '實辯護', '此節', '辯', '可', '採此', '被', '告警', '詢偵原', '審審理', '坦承', '犯罪', '事實欄', '地', '品牌', '調員名', '義找', '拍', '攝', '身形', '照片', '同意', '用手', '碰觸', '他', '生殖', '生殖器', '明確', '偵卷', '原', '審卷', '卷', '可補', '強證', '證述', '可信', '補強', '證據', '不證明', '犯罪', '構成', '要件', '全部', '事實', '必要', '辯護', '徒開', '照片', '拍攝', '到', '性騷擾', '過程', '不能', '補強', '云云', '理', '本案', '事證明', '被告', '犯堪定', '法科', '罪', '犯罪', '事實欄', '附表', '編罪', '被告', '年', '月', '生成', '年', '滿歲', '少年', '核', '被告', '犯兒童', '少年', '福利', '權益', '保障', '保障法', '刑法', '成年', '故意', '對', '少年', '少年犯', '強制', '猥褻', '罪', '加重', '刑', '被告', '開始', '乘', '不', '抗拒', '觸摸', '生殖', '生殖器', '偷襲式', '短', '暫性', '不', '當觸', '摸', '性騷擾', '遭當場', '拒絕', '竟', '仍', '不', '停止', '違', '反意', '願持續', '撫', '摸', '生殖', '生殖器', '被告', '提', '昇', '犯意', '強制', '猥褻', '性騷擾', '犯', '犯意', '提', '昇', '強制', '猥褻', '吸收', '不', '另罪', '公訴', '意旨', '起訴', '事實明', '當年', '滿歲', '少年', '但', '犯法', '僅', '被告', '涉犯', '強制', '猥褻', '罪', '引用', '兒童', '少年', '福利', '權益', '保障', '保障法', '成年', '故意', '對', '少年', '少年犯', '強制', '猥褻', '罪容洽', '起訴', '基本', '事實同', '刑事', '刑事訴訟法', '變', '更', '起訴', '法', '犯罪', '事實欄', '附表', '編罪', '電子', '訊', '通常', '數位', '訊類', '比訊種', '動電話', '電子', '數位', '機器', '對', '他', '拍', '攝', '裸照', '性交', '影片', '利用', '影像', '感', '功能', '將物體', '反射', '反射光', '轉換', '數位', '訊', '壓縮', '儲存', '內建', '記憶體', '記憶卡', '透過', '電子視', '覺化', '顯示器', '讓', '電子', '訊', '可', '被', '視', '覺化', '包括', '電視', '電腦', '平板', '顯示器', '輸出', '若', '證據', '證明數', '位訊業過', '沖', '洗', '壓', '製', '過', '程', '成', '實', '體', '物品', '錄影', '帶', '光碟', '相紙', '拍', '攝', '製', '造', '僅', '電', '子', '訊', '階', '段', '被告', '手機', '滿歲', '少年', '被', '拍', '攝', '猥褻', '檔案', '儲存', '手機', '內電子', '訊', '數位', '影像', '被告', '成年', '滿歲', '少年', '被告', '預見', '仍', '對', '少年', '強制', '猥褻', '拍攝', '猥褻', '電子', '訊', '違', '本意', '核', '被告', '犯兒童', '少年', '福利', '權益', '保障', '保障法', '刑法', '成年', '故意', '對', '少年', '少年犯', '強制', '猥褻', '罪兒童', '少年', '性剝削', '防制', '例違', '反', '本意', '願', '方法', '少年', '被', '拍', '攝', '猥褻', '電子', '訊', '罪公訴', '意旨', '被告', '犯詐術', '少年', '被', '製', '造', '猥褻', '電子', '訊', '罪', '更正', '起訴', '事實明', '當年', '滿歲', '少年', '但', '犯法', '僅', '被告', '涉犯', '強制', '猥褻', '罪', '引用', '兒童', '少年', '福利', '權益', '保障', '保障法', '成年', '故意', '對', '少年', '少年犯', '強制', '猥褻', '罪容洽', '起訴', '基本', '事實', '同法變', '更', '起訴', '法犯', '兒童', '少年', '性剝削', '防制', '例罪', '本', '被害', '少年', '特別', '罰', '從', '不兒童', '少年', '福利', '權益', '保障', '保障法', '附此', '敘明', '犯罪', '事實欄', '附表', '編罪', '核', '被告', '此犯', '性騷擾', '防治', '治法', '防治法', '性騷擾', '罪公訴', '意旨', '被告', '犯', '刑法', '利用', '類似', '業務關', '機會', '猥褻', '罪嫌', '云云', '被告', '雖', '假借', '運動', '品牌', '調員名', '義誘', '騙', '同意', '拍攝', '內褲', '照片', '過程', '乘', '機撫', '摸', '生殖', '生殖器', '被告', '客觀間', '任何', '業務', '支配', '關實', '受騙', '當才', '配合', '拍攝', '內褲', '照片', '進遭', '被告', '偷襲觸', '摸', '生殖', '生殖器', '非礙', '被告', '權勢', '支配', '關曲', '從', '同意', '被告', '撫摸', '生殖', '生殖器', '檢察官', '被告', '利用', '業務', '機會', '猥褻', '罪容', '誤會', '但', '起訴', '社會', '基本', '事實', '同法變', '更', '起訴', '法', '被告', '犯罪', '事實', '欄犯', '成年', '故意', '對', '少年', '強制', '猥褻', '違反', '本意', '願', '方法', '少年', '被', '拍', '攝', '猥褻', '電子', '訊', '罪', '密接', '同', '地', '局部', '重疊觸', '犯數', '罪名', '想像', '競合關', '從重', '違反', '本意', '願', '方法', '少年', '被', '拍', '攝', '猥褻', '電子', '訊', '罪斷', '被告', '犯', '成年', '故意', '對', '少年', '少年犯', '強制', '猥褻', '罪', '犯罪', '事實欄', '違反', '本意', '願', '方法', '少年', '被', '拍', '攝', '猥褻', '電子', '訊', '罪', '犯罪', '事實欄', '性騷擾', '罪', '犯罪', '事實欄', '被害', '間', '地點', '不同', '被告', '犯意', '各別', '互殊', '併', '罰', '本原', '審送亞', '東紀念', '醫院', '對', '被告', '實施', '精神', '鑑定', '鑑定', '結果', '被告', '雖', '可能', '疑似', '非', '特定', '性', '偏好', '症', '但', '此性', '偏好', '不影響', '責任', '能力', '此亞', '東紀念', '醫院', '年月日', '精神', '鑑定', '報告', '書原', '審卷', '被告', '責任', '能力', '撤銷', '附表', '編定執', '刑科', '刑說', '明原', '審', '被告', '附表', '編犯', '兒童', '少年', '性剝削', '防制', '例事', '證明', '確罪', '科刑', '固非', '見', '強制', '猥褻', '性騷擾', '罪', '雖出', '違反', '被害', '意願', '方法', '但', '被害', '不', '抗拒', '際', '出', '不意', '乘隙', '短暫', '偷', '襲式', '觸摸意', '騷擾', '觸摸', '對象', '不性', '慾', '滿足', '必要', '尚達', '妨害', '性', '意思', '自但', '破壞', '被害', '享性性', '別性', '關寧靜', '不受', '干擾', '平和', '狀態', '言', '倘影響', '被害', '性', '意思', '形成', '決定', '自強制', '猥褻', '證偵', '審理證', '原審', '勘驗', '被告', '攝錄', '影像', '檔案示', '被告', '將近', '鐘內來', '回撫', '摸', '生殖', '生殖器', '非', '趁', '不備', '短', '暫偷', '襲式', '觸摸', '也', '從', '同意', '被告', '此舉', '被告', '違', '反意', '願強', '猥褻', '自', '成立', '成年', '故意', '對', '少年', '少年犯', '強制', '猥褻', '罪', '但', '兒童', '少年', '性剝削', '防制', '例罪', '想像', '競合僅', '從', '重原', '審將', '此', '想像', '競合犯', '輕罪', '改', '性騷擾', '罪', '接續', '犯容', '違誤', '被告', '雖', '佯', '品牌', '調員名', '義搭訕', '騙取', '同意', '拍攝', '身形', '但', '詐術', '錯誤', '同意', '被告', '拍', '攝撫', '摸', '生殖', '生殖器', '數位', '影片', '從', '同意', '被告', '此舉', '被告', '仍強', '違反', '本意', '願', '方法', '少年', '被', '拍', '攝', '猥褻', '電子', '訊', '原', '審詐術', '少年', '被', '拍', '攝', '猥褻', '電子', '訊', '罪', '妥', '被告', '訴執', '辯詞', '可採', '前述', '訴', '雖理', '但', '原', '審判決', '附表', '編', '犯罪', '開事', '用法', '違誤', '可維持', '此', '沒收', '需', '犯罪', '事實定', '前提', '連定', '執刑', '可單', '獨維持將', '附表', '編定', '執刑', '撤銷', '改判', '審酌', '被告', '犯罪', '動機', '手段', '目滿足', '自身', '性', '慾', '佯', '品牌', '調員名', '義挑', '選學學生', '搭', '訕', '犯案', '對', '身心', '健全', '發展', '影響', '甚鉅犯', '造成', '損害', '非輕', '考量', '犯態度', '前', '犯過', '相類', '似犯', '本案', '自述', '智識', '程度', '家庭', '生活', '濟狀況', '切情', '狀期', '徒刑', '年', '月', '附表', '編示', '手機', '被告', '供', '本案', '犯罪', '用', '刑法', '本次', '犯', '宣告', '沒收', '附表', '編示', '數位', '影像', '被告', '拍攝', '儲存', '開手', '機內', '對', '猥褻', '電子訊業', '原審', '勘驗', '明確', '前述', '兒童', '少年', '性剝削', '防制', '例', '宣告', '沒收餘', '扣案', '支星', '手機', '支手', '機電腦', '主機台', '警方', '進數位', '蒐', '證結果', '偵卷', '扣押', '物品', '目錄', '表扣', '案物', '內', '本案', '被害', '資料', '包含', '還原', '刪除', '資料', '數位', '證物', '勘察', '報告份', '可佐偵', '不公', '開卷', '同卷', '結證據', '可扣', '案物', '本案', '直接', '關連內', '本案', '沒收', '猥褻', '電子', '訊', '故', '不', '沒', '收駁', '回訴', '附表', '編原', '審', '被告', '犯', '附表', '編示', '各罪', '事證明', '確別', '附表', '編兒童', '少年', '福利', '權益', '保障', '保障法', '刑法', '成年', '故意', '對', '少年', '少年犯', '強制', '猥褻', '罪法', '加重', '刑', '附表', '編', '性騷擾', '防治', '治法', '防治法', '性騷擾', '罪公訴', '意旨', '漏', '引誤', '引法', '法變', '更', '起訴', '法審酌', '被告', '犯罪', '動機', '手段', '目對', '身心', '健全', '發展', '影響', '甚鉅犯', '造成', '損害', '非輕', '考量', '犯態度', '素智識', '程度', '家庭', '生活', '濟狀況', '切情', '狀犯', '成年', '故意', '對', '少年', '少年犯', '強制', '猥褻', '罪期', '徒刑', '月', '犯', '性騷擾', '罪期', '徒刑', '月', '易科罰金', '折算', '標準', '末用', '附表', '編手機', '刑法', '被告', '各次', '犯', '宣告', '沒收', '核事', '用法', '量刑', '不', '當維持', '被告', '訴執辯', '詞理', '指駁', '前訴', '駁', '回定', '執刑', '開', '撤銷', '改判', '附表', '編駁', '回訴', '易科罰金', '附表', '編審酌', '犯罪', '態樣', '犯罪', '間', '相近', '但害', '不同', '被害', '斟酌', '責任', '非', '難重', '複', '程度', '對', '全體', '犯罪', '整體', '評價定執', '刑部', '界限', '定執', '刑期', '徒刑', '年', '月', '附表', '編', '易科罰金', '罪刑', '刑法', '但書前', '開', '易科罰金', '罪', '併', '合罰', '待', '罪', '確定', '另', '刑法', '決定', '否聲', '定刑', '併', '此', '敘明罪', '公訴', '意旨', '另', '被告', '年月日', '午許', '北市', '新北市', '板橋', '區民', '路段', '巷', '附近', '看到', '位真實', '姓名', '年籍', '不詳', '穿著', '光高', '運動服', '男學生', '稱', '不', '詳年', '籍', '同', '手法', '欺騙', '不', '詳年籍', '基類', '似業務關', '受', '自己', '支配', '利用', '機會', '猥褻', '犯意', '手指', '抓住', '不詳', '年籍', '生殖', '生殖器', '拍攝', '電子', '訊', '張', '影片', '段', '被告', '年月日', '午許', '北市', '新北市', '板橋區', '某', '看到', '位真實', '姓名', '年籍', '不詳', '穿著', '錦', '和', '高運動服', '男學生', '稱', '不', '詳年', '籍', '同', '手法', '欺騙', '不', '詳年籍', '基類', '似業務關', '受', '自己', '支配', '利用', '機會', '猥褻', '犯意', '隔著', '不', '詳年籍', '內褲', '手指', '抓住', '不詳', '年籍', '生殖', '生殖器', '拍攝', '電子', '訊', '張', '被告', '犯', '刑法', '利用', '類似', '業務關', '機會', '猥褻', '罪嫌', '犯罪', '事實', '證據定', '證據定', '犯罪', '事實', '刑事', '刑事訴訟法', '定', '明文', '此謂', '定', '犯罪', '事實', '證據', '直接', '間', '接證據須', '達', '通常', '般', '不致', '懷疑', '確信', '真實', '程度', '始據', '罪定', '若', '被告', '否', '犯罪', '證明能', '達此', '程度', '合理', '理性', '合理性', '懷疑', '存致法', '形成', '罪確', '信根據', '罪證', '疑利', '被告', '證據法', '遽', '不利', '被告', '定', '刑事', '刑事訴訟法', '檢察官', '被告', '犯罪', '事實', '負舉', '證責任', '指出', '證明', '方法', '此檢察官', '起訴', '犯罪', '事實負', '提出', '證據', '說', '服實質', '舉證責任', '倘', '提出', '證據', '不足', '被', '告罪', '積極', '證明', '指出', '證明', '方法', '從', '說服', '法院', '形成', '被', '告罪', '心證', '基罪', '推定', '原自', '被', '告罪', '判決', '檢察官', '被告', '對', '年', '籍', '不', '詳犯', '刑法', '利用', '類似', '業務關', '機會', '猥褻', '罪嫌', '據', '被', '告警', '詢偵', '自白', '警局', '數位', '證物', '勘報', '告內', '被告', '遭扣', '案手', '機內', '年籍', '不詳', '男', '穿著', '高運動服', '照片', '陰莖', '遭手', '抓住', '照片', '影片', '年籍', '不詳', '男著', '高運動服', '照片', '陰莖', '遭手', '抓住', '照片', '憑', '檢察官', '起訴', '被告', '佯', '品牌', '調員名', '義搭訕', '拍照', '事實', '刑法', '利用', '權勢', '從關', '被害', '曲意', '順從', '妨害', '自主', '妨害性自主', '犯', '不合', '公訴', '意旨', '被告', '犯', '刑法', '利用', '類似', '業務關', '機會', '猥褻', '罪嫌', '云云', '法合訊據', '被告', '審理否', '開犯', '辯稱', '網路', '抓取', '影像', '云云', '年籍', '不', '詳卷', '內僅', '被告', '遭扣', '案手', '機內', '存取', '數位', '照片', '張憑', '偵', '不公', '開卷', '照片', '拍攝', '到', '被告', '本臉', '部著', '衣服', '也', '學', '姓名', '可供', '找', '除法', '數位', '照片', '定隔', '著內', '褲觸', '摸', '生殖', '生殖器', '部位', '被告', '公訴', '意旨', '指', '被害', '過程乏', '被害', '指訴', '過程', '不明', '可徒', '憑', '被告', '前', '不', '供述', '臆測', '犯罪', '另', '被告', '遭扣', '案手', '機內', '存取', '數位', '影片', '原審', '勘驗', '被告', '坦拍', '攝原', '審卷', '故此', '被告', '辯稱', '網路', '抓取', '云云', '可採', '但', '影片', '拍', '攝到', '臉部', '著', '衣服', '也', '學', '姓名', '可供', '找', '勘驗', '筆錄', '雙方', '對', '話', '內容稱', '可', '真意', '不明', '欠缺', '被害', '指訴', '情況', '真實', '年齡', '過程', '否違', '反意', '願遭', '騷擾節', '不明', '單憑', '被告', '坦觸', '摸', '生殖', '生殖器', '仍', '不能', '證明', '被告', '犯罪', '法', '被', '告罪', '駁', '回訴', '說', '明原', '審審理', '檢察官', '提卷', '內證據', '資料', '不能', '證明', '被告', '被訴', '年月日', '年月日', '犯', '利用', '類似', '業務關', '機會', '猥褻', '罪', '被', '告罪', '核', '不合', '檢察', '官訴', '意旨', '被告', '假冒', '運動', '品牌', '調員身', '佯', '稱欲調', '被害', '身材', '誘騙', '方式', '觸碰', '被害', '生殖', '生殖器', '拍攝', '陰莖', '勃起', '照片', '影片', '情', '被告', '坦承', '不諱', '開', '照片', '影片', '附卷', '可', '參觀諸', '被告', '拍攝', '影片', '被告', '撫摸', '陰莖', '詢問', '你', '容易', '反', '嗎', '回答', '不', '知道', '被告', '抓著', '陰莖', '移動套', '弄', '詢問', '這樣', '嗎', '回答', '可', '被告', '問可', '拍', '到', '反', '嗎', '猶豫', '說', '拍照', '可拍照', '嗎', '你', '要', '拍', '被告', '將內褲', '穿著', '隔著', '內', '褲撫', '摸', '陰莖', '表示', '要', '形狀', '出來', '另', '觀諸', '被告', '拍攝', '照片', '腰部', '照片', '被害', '衣藍色', '運動服', '短褲', '遭', '褪', '露出', '深灰', '灰色', '深灰色', '內褲', '被告', '手撫', '摸', '陰莖', '位置', '情原', '審', '勘驗', '筆錄', '開', '影片', '照片', '附卷', '可佐', '被告', '施用', '假藉', '運動', '品牌', '調員', '詐術', '此', '詐術', '取信', '誤此', '運動', '品牌', '調', '身材', '流程', '對', '被告', '指示', '深信', '深信不疑', '唯從', '嗣', '被告', '利用', '開誤', '欠缺', '理性', '思考', '遵從', '狀態', '壓制性', '自', '主意', '願觸', '碰', '生殖', '生殖器', '強制', '猥褻', '犯逞', '故情', '足壓', '制性', '自主', '意思', '決定', '自', '被告', '刑法', '他', '違', '反意', '願', '方式', '對', '強制', '猥褻', '犯', '客觀', '要件', '縱', '刑法', '構成', '要件', '不符', '法院', '不', '妨害', '事實', '同範圍', '內', '自定', '事實', '法律', '故', '被告', '起訴', '書', '犯罪', '事實欄', '犯罪', '事實否', '涉嫌', '強制', '猥褻', '罪犯', '原審', '審理', '範圍', '原', '審此', '漏', '審酌', '遽', '罪判', '決理', '不備', '違法原', '審判決', '開事', '用法', '尚洽將', '被告', '此罪', '判決', '撤銷', '更', '妥', '適判決', '但', '身', '不明', '情況', '欠缺', '被害', '指訴', '重要', '證據', '方法', '法僅', '被告', '述', '卷', '內', '可辨', '識', '被害', '照片', '影片', '定', '被告', '犯罪', '當何', '罪理', '敘述', '前', '檢察官', '提出', '證據', '不足', '被', '告罪', '積極', '證明', '不能', '臆測', '方式', '補足開', '偵不', '完備', '自', '被', '告罪', '訴', '仍', '相異', '評價訴', '理駁', '回據斷', '刑事', '刑事訴訟法', '判決本', '檢察官', '何克凡', '公訴', '檢察', '官盧', '祐', '涵訴', '檢察官', '壽勤偉', '到庭', '執職務華民國', '年月日', '刑事', '庭審', '判長', '法官', '劉方慈', '法官', '蕭世昌', '法官', '許曉微', '正本', '證明', '原本', '異', '不服', '本判決', '收受', '送達', '日', '內', '提出', '訴書狀', '敘述', '訴理訴', '日', '內補', '提理書須', '他造', '當事數', '附繕', '本', '切勿', '送級', '法院', '維持', '審罪', '判決', '檢察', '官訴', '理須', '受', '刑事', '妥速', '審判法', '限制', '刑事', '妥速', '審判法', '除前', '情形', '審', '法院', '維持', '審罪判', '決訴', '理列', '事限判決', '牴', '觸法', '判決', '司法', '法院', '司法院', '解釋', '判決', '判例', '刑事', '刑事訴訟法', '前', '審理', '不書', '記官', '徐仁', '豐華民國', '年月日', '附錄', '本案', '罪科', '刑法', '全文', '華', '刑法', '強制', '猥褻', '罪', '男女', '強暴脅迫', '恐嚇', '催眠', '術', '他', '違', '反意', '願', '方法', '猥褻', '月', '年期', '徒刑', '兒童', '少年', '福利', '權益', '保障', '保障法', '成年', '教唆', '幫助', '利用', '兒童', '少年', '犯罪', '共同', '實施', '犯罪', '故意', '對', '犯罪', '加重', '刑', '但', '各罪', '被害', '兒童', '少年', '定特別', '罰', '從', '兒童', '少年', '犯罪', '主管', '機關', '獨立', '告訴', '兒童', '少年', '性剝削', '防制', '例拍', '攝', '製', '造', '兒', '童', '少年', '性交', '猥褻', '圖畫', '照片', '影片', '影帶', '光碟', '電子', '訊', '他', '物品', '年', '年期', '徒刑', '併', '科新', '臺', '幣百萬元罰', '金', '招募', '引誘', '容留', '媒介', '協助', '他', '法兒童', '少年', '被', '拍', '攝', '製', '造', '性交', '猥褻', '圖畫', '照片', '影片', '影帶', '光碟', '電子', '訊', '他', '物品', '年', '年期', '徒刑', '併', '科新', '臺', '幣百萬元罰', '金強', '暴脅', '迫藥劑', '詐術', '催眠', '術', '他', '違反', '本意', '願', '方法', '兒童', '少年', '被', '拍', '攝', '製', '造', '性交', '猥褻', '圖畫', '照片', '影片', '影帶', '光碟', '電子', '訊', '他', '物品', '年期', '徒刑', '併', '科新', '臺', '幣百萬元罰', '金意', '圖營利', '犯前', '罪', '各', '加重', '刑前', '遂', '犯罰', '物品', '不問', '犯罪', '否沒收', '性騷擾', '防治', '治法', '防治法', '意圖', '性騷擾', '乘', '不', '抗拒', '親吻', '擁抱觸', '摸', '臀部', '胸部', '他', '身體', '隱私', '年期', '徒刑', '拘役', '科', '併', '科新', '臺', '幣萬元罰', '金前', '罪須', '告訴', '附表', '扣案物', '影像', '電子', '檔', '編扣', '案物手', '機內', '影像', '用途', '影像', '內容', '被告', '手機', '支含', '卡', '張原', '審卷', '照片', '手機', '數位', '鑑識', '報告', '證物', '被告', '事實欄', '佯裝', '品牌', '調員用', '警方', '將編手', '機內', '刪除', '檔案', '還原', '發現', '內', '被告', '儲存事', '實欄', '拍', '攝', '影片', '檔案', '個', '還原', '檔案', '儲存', '警方', '蒐', '證', '影像', '光碟', '光碟', '置原', '審卷', '證物袋', '內', '偵卷', '證物袋', '內', '數位', '影像', '檔名', '影片', '內容', '被告', '撫摸', '陰莖', '拉內', '褲將', '陰莖', '露', '影像', '詳細', '內容', '原審', '勘驗', '筆錄', '影像', '畫面', '截圖', '可見', '被害', '身穿', '學校', '運動服', '畫面', '附表', '編對', '犯罪', '事實欄', '判決', '備', '註', '犯罪', '事實', '欄訴', '駁', '回原', '審判決', '成年', '故意', '對', '少年', '少年犯', '強制', '猥褻', '罪期', '徒刑', '月', '扣案', '附表', '編示', '手機', '沒收', '犯罪', '事實欄', '撤銷', '犯', '違反', '本意', '願', '方法', '少年', '被', '拍', '攝', '猥褻', '電子', '訊', '罪期', '徒刑', '柒年', '貳', '月', '扣案', '附表', '編示', '手機同', '附表', '編數位', '影像', '電子', '訊', '沒', '收原', '審判', '決犯', '詐術', '少年', '被', '拍', '攝', '猥褻', '電子', '訊', '罪期', '徒刑', '年', '月', '扣案', '附表', '編示', '手機', '編數位', '影像', '電子', '訊', '沒收', '犯罪', '事實', '欄訴', '駁', '回原', '審判', '決犯', '性騷擾', '罪期', '徒刑', '月', '易科罰金', '新', '臺', '幣', '千元', '折算', '日', '扣案', '附表', '編示', '手機', '沒收']\n",
      "4215\n",
      "tensor([[0, 0, 0, 1, 0]])\n",
      "5: [[[ 3.3993797   2.0644681  -2.5101695  ...  1.4801939   3.0362277\n",
      "    1.0541965 ]\n",
      "  [ 2.9582515  -2.037682    0.84881073 ... -0.3309235   2.1633096\n",
      "    4.00982   ]\n",
      "  [-0.06109872 -1.7486883  -1.5804856  ... -0.03207498 -2.082911\n",
      "    3.286298  ]\n",
      "  ...\n",
      "  [ 0.52136594  0.8152753  -0.83046615 ... -1.6528782  -0.31571177\n",
      "   -0.22594288]\n",
      "  [-0.33425888  0.06594775 -0.35917464 ... -0.49684125  1.5038208\n",
      "   -1.12586   ]\n",
      "  [-2.7497585  -2.2108889   1.8172734  ...  0.13946196 -1.1280464\n",
      "    0.9700897 ]]]\n",
      "6: (1, 300, 300)\n",
      "7: [['潘秉鈞', '鎮律', '手機同', '發歲', '調員欲', '褲待', '脫運動', '褲竟', '突手觸', '發歲', '調員欲', '褲頭拉強', '揭名義', '程竟', '例詐術', '稱露', '姊母', '石金澤', '適格除', '卷爭', '執截圖', '雜聽', '從律', '當作定', '開卷夾', '採關', '露數位', '辯數位', '臉部法', '開卷方', '偵卷方', '交辨識', '傳真過', '場夾', '面承辦', '警土', '函覆能', '縱店', '影礙', '除例', '不瞬間', '但佐當', '空場', '提問強', '迫不過', '調拍', '露將', '拉內褲', '陰囊露', '往拉穿', '猶藉', '襲式觸', '碰此', '舉違', '過列', '佯藉', '義搭訕', '進錯誤', '件國', '職生極', '審卷案', '發早', '徒開', '義誘', '偷襲觸', '審送亞', '編定執', '觸摸意', '鐘內來', '義搭訕', '審詐術', '連定', '獨維持將', '義挑', '選學學生', '主機台', '報告份', '關連內', '編兒童', '引誤', '末用', '編手機', '訴執辯', '編駁', '編審酌', '光高', '似業務關', '似業務關', '義搭訕', '法合訊據', '張憑', '本臉', '部著', '定隔', '過程乏', '坦拍', '騷擾節', '坦觸', '調員身', '稱欲調', '參觀諸', '移動套', '唯從', '尚洽將', '補足開', '執職務華民國', '不書', '豐華民國', '例拍', '調員用', '將編手', '拉內', '手機同']]\n",
      "8: 113\n",
      "9: [['高', '法院', '刑事', '判決訴', '新北', '地方', '檢察署', '檢察', '官訴', '被告', '另案', '法務部', '執選任', '辯護', '楊東', '師法', '扶律', '師列訴', '兒童', '少年', '性剝削', '防制', '例', '不服', '新北', '地方法院', '華', '年月日', '審判', '決新北', '地方', '檢察署', '訴判決', '附表', '編定', '執刑', '撤銷', '犯', '違反', '本意', '願', '方法', '少年', '被', '拍', '攝', '猥褻', '電子', '訊', '罪期', '徒刑', '柒年', '貳', '月', '扣案', '附表', '編示', '附表', '編數位', '影像', '電子', '訊', '沒收', '他', '訴駁', '回開', '撤銷', '改判', '訴駁', '回', '附表', '編刑', '執期', '徒刑', '柒年', '肆', '月', '犯罪', '事實', '成年', '年月日', '午許', '新北市', '土城', '區', '裕民', '路', '巷弄', '口見', '少年', '年', '月', '生案', '代真實', '姓名', '年籍', '詳卷', '身穿', '高級', '工業', '職業', '學校', '運動服', '校名', '詳卷', '稱', '高工', '運動服', '知悉', '滿歲', '少年', '仍', '對', '佯稱', '自己', '運動', '品牌', '拍', '攝', '青少年', '身形', '照片', '做調', '不疑', '他', '便', '隨同', '前往', '同市', '區路', '巷弄', '夾', '娃娃', '機店', '內', '附表', '編示', '手機', '表示', '要', '拍', '攝內', '意圖', '性騷擾', '乘', '不', '抗拒', '際', '摸', '生殖器', '將手', '撥開', '表示', '拒絕', '此知', '不願', '此類', '方式', '身體', '接觸', '竟', '提', '昇', '對', '少年', '強制', '猥褻', '犯意', '這', '工作', '不顧', '拒絕', '違', '反意', '願將手', '伸入', '內褲', '裏', '撫', '摸', '生殖器', '對', '強制', '猥褻', '逞', '年月日', '午許', '新北', '市區', '出口', '附近', '巷子', '裡面', '見', '年', '月', '生案', '代真實', '姓名', '年籍', '詳卷', '身穿', '高工', '運動服', '知悉', '可能', '滿歲', '少年', '仍', '對', '佯稱', '自己', '運動', '品牌', '拍', '攝', '穿著', '身形', '照片', '不疑', '他', '便', '隨同', '到', '同市', '區路', '巷弄', '夾', '娃娃', '機店', '內', '工作', '需要', '名', '要求', '拍攝', '半身', '內褲', '照片', '俟', '將褲', '脫', '基縱', '對', '少年', '強制', '猥褻', '違反', '本意', '願', '方法', '少年', '被', '拍', '攝', '猥褻', '電子', '訊', '數位', '影像', '違', '本意', '犯意', '同意', '自將', '內褲', '手來', '回撫', '摸', '露出', '生殖器', '違', '反意', '願', '強制', '猥褻', '同', '用', '附表', '編示', '手機', '拍', '攝錄', '影撫', '摸', '生殖器', '過程', '違', '反意', '願', '方法', '被', '拍', '攝開', '遭撫', '摸', '裸露', '生殖器', '過程', '猥褻', '電子', '訊', '逞', '另', '年月日', '午', '海山', '捷運站', '出口', '附近', '路見', '年', '月', '生案', '發年', '滿歲', '代真實', '姓名', '年籍', '詳卷', '身穿', '高工', '制服', '前', '手法', '徵', '同意', '附近', '巷子', '內用', '附表', '編示', '手機', '拍', '攝', '露出', '內褲', '褲頭', '電子', '訊', '數位', '照片', '張拍', '攝過', '意圖', '性騷擾', '乘', '不', '抗拒', '際', '將手', '伸入', '內', '褲觸', '摸', '生殖器', '遭當場', '怒', '罵', '隨', '停手', '少年', '少年', '少年', '母', '法定代理', '訴新北', '市政府', '警察局', '土城', '局報', '告檢察官', '提出', '告訴', '新北', '地方', '檢察署', '檢察官', '偵', '起訴', '理罪', '壹', '程序', '方面', '審理', '範圍', '本案', '刑事訴訟法', '年月日', '修正', '施', '年月日', '繫', '修正', '現', '刑事訴訟法', '判斷', '訴範圍', '判決', '部訴', '關視訴', '但', '關罪', '免訴', '不', '受理', '不此限', '併', '參照', '立法', '理', '但', '書', '稱罪', '免訴', '不', '受理', '不內限', '審判', '決關', '理內', '說明', '不', '另罪', '免訴', '不', '受理', '本案', '檢察官', '起訴', '訴', '被告', '年月日', '午許', '另', '手機', '拍', '攝', '少年', '穿內', '褲露', '陰毛', '電子', '訊', '被告', '此涉', '犯兒童', '少年', '性剝削', '防制', '方法', '製', '造', '少年', '猥褻', '電子', '訊', '罪嫌', '原審定', '卷', '內', '附數位', '照片', '法', '清楚', '辨識出', '照片', '起訴', '意旨', '陰毛', '情事', '不', '成立', '詐術', '少年', '被', '拍', '攝', '猥褻', '電子', '訊', '罪', '不', '另', '罪見', '理欄', '貳', '本案', '檢察官', '僅罪', '起訴', '犯罪', '事實訴', '被', '告罪', '訴審判', '範圍', '不', '另罪', '當事訴', '非', '審判', '範圍', '合先', '敘明', '被告', '觸犯', '刑法', '法', '罪名', '檢察官', '公訴', '性害', '犯罪', '防治法', '性害', '犯罪', '性害', '犯罪', '防治法', '同', '法施', '細', '本案', '判決', '揭露', '姓名', '年籍', '他', '足', '資識別', '彼身', '資訊代稱', '證據', '能力', '本判', '決定', '犯罪', '事實', '引用', '供述', '證據', '檢察官', '同意', '證據', '能力', '被告', '選任', '辯護', '警詢', '審判陳述', '證據', '能力', '警員', '偵述', '被害', '陳', '述', '具', '同性', '累積', '證據', '補強', '證據', '此餘', '供述', '證據', '證據', '能力', '意見', '迄言詞', '辯終', '結前', '異議', '審酌', '證據', '不', '含', '前述', '被告', '辯護爭', '執資', '料', '製', '作', '情', '況', '違', '法', '不', '當', '證', '明力', '明顯過', '低', '瑕疵', '作證據', '適當非', '供述', '證據', '核', '違反', '法定程序', '取', '情形', '本案', '犯罪', '事實', '具關', '聯性', '證據', '能力', '關', '翻拍', '自', '娃娃', '機店', '內', '監視錄', '影畫面', '被告', '用手', '機內', '數位', '影像', '截圖', '派生', '證據', '被告', '辯護', '證據', '能力', '意見', '內容', '可證明', '被告', '本', '案犯', '證', '明力', '爭辯', '另', '詳述', '他', '據', '引用', '作定', '被告', '犯罪', '事實', '證據', '含', '警詢', '被告', '辯護爭', '執證據', '能力', '不贅', '證據', '能力', '定', '另', '被告', '自白', '出自', '意識陳述', '業據', '被告', '陳', '明卷', '卷', '雖', '被告', '稱', '審遭', '羈押', '心情', '複', '師建議', '罪此', '僅涉', '被告', '自白', '動機', '不', '影響', '自白', '出', '任意性', '定故', '倘', '自白', '事實', '相符', '被告', '犯罪', '事實', '證據', '併', '此', '敘明', '貳', '實體', '方面', '定', '犯罪', '事實', '憑', '證據', '理訊據', '被告', '審理', '否犯', '辯稱', '沒用', '市場', '調名', '義騙', '他們', '只', '和', '純', '聊天', '問他', '們', '能', '不能', '拍照', '拍攝', '他們', '影像', '他們', '當不', '知道', '要', '拍', '生殖器', '只', '被', '拍', '到', '生殖器', '沒', '他們', '同意', '用手', '碰觸', '他們', '生殖器', '確實', '撥開', '拒絕', '還碰', '生殖器', '事實欄', '附表', '編', '犯罪', '事實業', '據證', '告訴', '偵審理', '證述', '明確', '他', '卷', '卷', '附表', '編手', '機扣', '案手', '機內', '掀起', '衣服', '數位', '照片', '偵卷', '偵', '不公', '娃娃', '機店', '內', '監視', '錄影', '翻拍', '照片', '偵卷', '卷', '可', '憑', '被', '告警', '詢偵原', '審審理', '坦承', '犯罪', '事實欄', '地', '品牌', '調員名', '義找', '拍', '攝', '身形', '照片', '同意', '用手', '碰觸', '他', '生殖器', '明確', '偵卷', '原', '審卷', '卷', '可補', '強證', '證述', '可信', '謂', '補強', '證據本', '不證明', '犯罪', '構成', '要件', '全部', '事實', '必要', '辯護泛', '欠缺', '補強', '證據爭', '執證', '證詞', '被告', '空言', '爭辯', '將手', '伸入', '褲管', '直接', '碰觸', '生殖器', '節可', '事', '實欄', '附表', '編', '犯罪', '事實業', '據證', '告訴', '偵審理', '證述', '明確', '偵卷', '卷', '附表', '編手', '機扣', '案手', '機內', '遭撫', '摸', '生殖器', '生殖器', '影像', '原審', '勘驗', '數位', '影像', '勘驗', '筆錄', '偵卷', '偵', '不公', '開卷', '原', '審卷', '卷', '可', '憑', '被', '告警', '詢偵原', '審審理', '坦承', '犯罪', '事實欄', '地', '品牌', '調員名', '義找', '拍', '攝', '身形', '照片', '同意', '用手', '碰觸', '他', '生殖器', '拍', '攝撫', '摸', '生殖器', '數位', '影像', '明確', '偵卷', '原', '審卷', '可補', '強證', '證述', '可信', '辯護泛', '稱', '補強', '證據', '云云', '可採', '辯護爭', '影像', '拍', '攝到', '辨識否', '云云', '證審理', '遠距', '方式', '訊問', '提示', '照片', '偵', '不公', '照片', '稱', '來', '黑白照片', '法明', '確辨識', '卷', '附', '裸露', '生殖器', '照片', '否本', '但證', '偵檢察官', '當庭', '提交', '照片', '辨', '明白', '證稱', '照片', '本', '偵卷', '同方', '照片', '著', '制服', '繡學', '姓名', '張', '照片', '擷', '取自', '被告', '手機', '內連續', '攝錄', '數位', '影像', '檔案', '附表', '編數位', '影像', '檔案', '原審', '勘驗', '卷原', '審卷', '足', '可辨', '識', '特定', '名遭', '拍', '攝', '猥褻', '數位', '影像', '確實誤', '辯護', '此節', '指據', '辯護聲', '調取', '此現', '娃娃', '機店', '當日', '監視錄', '影畫', '新北', '市政府', '警察局', '土城', '局', '年月日', '新北', '調取', '原卷', '卷', '卷', '內', '被告', '自拍', '攝數位', '影片', '內', '監視錄', '本案', '犯罪', '事實定', '附此', '敘明', '刑法', '稱', '他', '違', '反意', '願', '方法', '指列', '舉強', '暴脅迫', '恐嚇', '催眠', '術', '他切', '違反', '被害', '意願', '方法', '妨害', '被害', '意思', '自言', '不類', '似列', '舉強', '暴脅迫', '恐嚇', '催眠', '術', '相當', '他', '強制', '方法', '足壓', '抑', '被害', '性', '自主', '決定權', '必要', '最高法院', '次', '刑事', '庭會議', '決議', '參照', '此稱', '違', '反意', '願', '方法', '不', '被害', '達', '不能', '抗拒', '程度', '必要', '祇', '須', '施用', '方法', '違反', '被害', '意願足', '壓抑', '被害', '性', '自主', '決定', '權足', '當兒童', '少年', '性剝削', '防制', '例罰', '強暴脅', '迫藥劑', '詐術', '催眠', '術', '他', '違反', '本意', '願', '方法', '兒童', '少年', '被', '拍', '攝', '製', '造', '性交', '猥褻', '圖畫', '照片', '影片', '影帶', '光碟', '電子', '訊', '他', '物品', '手段', '舉強', '暴脅', '迫藥劑', '詐術', '催眠', '術', '他切', '違反', '被害', '意願', '方法', '證偵', '審理證', '稱當', '被告', '伸手', '摸', '生殖器', '嚇到', '退', '把', '他', '手', '撥開', '但', '他還', '伸手', '過來', '摸', '生殖器', '摸', '了', '段間', '娃娃', '機店', '監視', '錄影', '翻拍', '照片', '可參', '雖', '遭', '被告', '詐騙', '讓', '被告', '拍攝', '身著', '衣物', '照片', '合顯', '同意', '被告', '觸摸', '生殖器', '被告', '自承', '知悉', '將手', '撥', '開表達', '拒絕', '仍', '稱', '這', '工作', '出手', '強撫', '摸', '生殖器', '此', '猥褻', '舉動', '妨害性自主', '決定', '意思', '自辯護', '警詢', '警察', '暴脅迫', '違反', '你', '意願', '方式', '對', '你', '實施', '強制', '猥褻', '證答', '稱', '都', '沒', '偵卷', '被告', '違', '反意', '願', '云云', '對', '此證', '審理證', '稱當', '被告', '沒威脅', '也', '沒用', '暴力', '回答', '沒', '但', '事實', '沒', '同意', '卷', '明白', '說明', '指', '被告', '非用', '強暴脅迫', '方式', '逼範', '但當', '被告', '違', '反意', '願', '甚明', '法強', '暴脅', '強制', '猥褻', '罪', '例示', '手段', '開警', '詢述', '不', '影響', '偵審理', '證述', '可信', '從據利', '被告', '定證', '偵證', '稱', '被告', '當說', '他', '個', '運動', '品牌', '調員', '想要', '攝', '襪子', '鞋子', '說', '要', '拍', '形象', '照拍', '完', '肚子', '把', '運動褲', '褲頭', '往', '拉', '露出', '內褲', '褲頭', '把', '內', '褲往', '拉', '露出', '生殖器', '觸摸', '生殖器', '用', '手機', '拍照', '違', '反意', '願摸', '秒', '沒', '反過', '來', '來', '說', '不要', '推開', '他', '手', '整個', '事情', '結束', '嚇到', '不', '知道', '要何', '啟齒', '扣案', '被告', '手機', '內', '拍', '攝數位', '影片', '原審', '勘驗', '筆錄', '可稽據', '勘驗', '結果', '影片', '全長', '約', '秒', '影片', '秒', '到', '秒', '被告', '開始', '隔', '著褲', '摸', '生殖器', '接著', '脫掉', '褲', '多次', '隔著', '內', '褲觸', '摸', '陰莖', '影片', '秒', '到', '秒', '被告', '從', '內褲', '褲頭', '伸手', '進去', '摸', '陰莖', '隔', '著內', '褲撫', '摸', '陰莖', '影片', '秒', '到', '秒', '拉', '內褲', '褲頭', '陰莖', '內褲', '穿', '好', '隔', '著內', '褲撫', '摸', '陰莖', '調整', '名次', '陰莖', '被告', '握住', '陰莖', '左右', '移動', '多次', '撫摸此', '抓住', '內褲', '好', '說', '趕間', '被告', '仍', '隔', '著內', '褲撫', '摸', '陰莖', '說', '你', '容易', '反', '那種', '說', '還好', '拉', '自己', '運動褲', '完整', '勘驗', '內容見', '原', '審卷', '過程', '從', '同意', '被告', '脫內褲', '同意', '觸摸', '拍', '攝', '生殖器', '被告', '自承', '知悉', '獲', '同意', '手觸', '摸', '生殖器', '調', '拍', '攝', '身形', '名義進', '撫', '摸', '生殖器', '顯非', '短', '暫偷', '猥褻', '舉動', '妨害性自主', '決定', '意思', '自證', '偵稱', '過程', '約', '秒', '審理稱', '摸間', '不記', '但證', '對間', '法', '精準', '描述', '致前', '開錄影', '情形', '不符', '自可', '採利', '被告', '定僅', '偷', '襲式', '短', '暫', '碰觸', '性騷擾', '被告', '撫摸', '猥褻', '舉動', '刑法', '違', '反意', '願', '方法', '強制', '猥褻', '拍', '攝撫', '摸', '生殖器', '反', '本意', '願', '方法', '辯護', '被告', '僅短', '暫觸', '碰', '他', '生殖器', '當', '性騷擾', '云云', '現場', '監視錄', '影畫面', '附表', '編數位', '影片', '述', '不合', '自可', '採辯', '被告', '施詐術', '拍', '攝', '云云', '但凡', '違反', '本意', '願', '方法', '兒童', '少年', '被', '拍', '攝', '猥褻', '電子', '訊', '當兒童', '少年', '性剝削', '防制', '例罪', '詐術', '不', '舉種', '非法', '方法', '本案', '被告', '調名', '騙取', '同意', '拍攝', '身形', '照片', '同意', '被告', '撫摸', '拍', '攝', '生殖器', '猥褻', '影片', '被告', '擅自', '拍攝', '猥褻', '電子訊當', '違反', '本意', '願', '非法', '方法', '被告', '可解', '免罪', '罪責', '辯護', '被告', '不', '知悉', '滿歲', '少年', '云云', '但', '兒童', '少年', '福利', '權益', '保障法', '兒童', '少年', '性剝削', '防制', '例兒童', '少年', '被害', '不', '明知', '被害', '年齡', '必要', '案發', '實際', '年齡', '歲', '歲', '此性', '害代', '真實', '姓名', '對', '照表', '代真實', '姓名', '對', '照表', '偵', '不公', '開卷', '可', '憑', '滿歲', '少年', '被告', '偵原', '審審理', '自承', '知悉', '約', '歲', '偵卷', '原', '審卷', '當身', '著', '高工', '制服', '被告', '前開', '自白', '核事實', '相符', '知悉', '少年', '猶對', '犯', '強制', '猥褻', '罪合', '兒童', '少年', '福利', '權益', '保障法', '加', '重要', '目前', '學制', '學高', '可能', '滿歲', '此', '社會', '生活', '定般', '能', '理解', '知悉', '被', '告警', '詢', '也', '坦承', '選定', '高生', '對象', '偵卷', '原審', '審理', '承', '知道', '可能', '高', '高原', '學間', '當身', '著', '高工', '制服', '被告', '主觀', '預見', '可能', '滿歲', '卻', '仍', '執意', '揭犯', '主觀', '具', '不', '確定', '故意', '前開', '辯避', '重輕', '可', '採事', '實欄', '附表', '編', '犯罪', '事實業', '據證', '告訴', '偵審理', '證述', '明確', '偵卷', '卷', '附表', '編手', '機扣', '案手', '機內', '掀起', '衣服', '露出', '內褲', '褲頭', '照片', '偵卷', '偵', '不公', '開卷', '卷', '可', '憑', '辯護', '雖稱', '照片', '否', '不明', '云云', '但', '除證', '偵', '明白', '證稱', '照片', '本', '偵卷', '照片', '著', '制服', '繡學', '姓名', '可確', '實辯護', '此節', '辯', '可', '採此', '被', '告警', '詢偵原', '審審理', '坦承', '犯罪', '事實欄', '地', '品牌', '調員名', '義找', '拍', '攝', '身形', '照片', '同意', '用手', '碰觸', '他', '生殖器', '明確', '偵卷', '原', '審卷', '卷', '可補', '強證', '證述', '可信', '補強', '證據', '不證明', '犯罪', '構成', '要件', '全部', '事實', '必要', '辯護', '照片', '拍攝', '到', '性騷擾', '過程', '不能', '補強', '云云', '理', '本案', '事證明', '被告', '犯堪定', '法科', '罪', '犯罪', '事實欄', '附表', '編罪', '被告', '年', '月', '生成', '年', '滿歲', '少年', '核', '被告', '犯兒童', '少年', '福利', '權益', '保障法', '刑法', '成年', '故意', '對', '少年犯', '強制', '猥褻', '罪', '加重', '刑', '被告', '開始', '乘', '不', '抗拒', '觸摸', '生殖器', '偷襲式', '短', '暫性', '不', '當觸', '摸', '性騷擾', '遭當場', '拒絕', '竟', '仍', '不', '停止', '違', '反意', '願持續', '撫', '摸', '生殖器', '被告', '提', '昇', '犯意', '強制', '猥褻', '性騷擾', '犯', '犯意', '提', '昇', '強制', '猥褻', '吸收', '不', '另罪', '公訴', '意旨', '起訴', '事實明', '當年', '滿歲', '少年', '但', '犯法', '僅', '被告', '涉犯', '強制', '猥褻', '罪', '引用', '兒童', '少年', '福利', '權益', '保障法', '成年', '故意', '對', '少年犯', '強制', '猥褻', '罪容洽', '起訴', '基本', '事實同', '刑事訴訟法', '變', '更', '起訴', '法', '犯罪', '事實欄', '附表', '編罪', '電子', '訊', '通常', '數位', '訊類', '比訊種', '動電話', '電子', '數位', '機器', '對', '他', '拍', '攝', '裸照', '性交', '影片', '利用', '影像', '感', '功能', '將物體', '反射光', '轉換', '數位', '訊', '壓縮', '儲存', '內建', '記憶體', '記憶卡', '透過', '電子視', '覺化', '顯示器', '讓', '電子', '訊', '可', '被', '視', '覺化', '包括', '電視', '電腦', '平板', '顯示器', '輸出', '若', '證據', '證明數', '位訊業過', '沖', '洗', '壓', '製', '過', '程', '成', '實', '體', '物品', '錄影', '帶', '光碟', '相紙', '拍', '攝', '製', '造', '僅', '電', '子', '訊', '階', '段', '被告', '手機', '滿歲', '少年', '被', '拍', '攝', '猥褻', '檔案', '儲存', '手機', '內電子', '訊', '數位', '影像', '被告', '成年', '滿歲', '少年', '被告', '預見', '仍', '對', '少年', '強制', '猥褻', '拍攝', '猥褻', '電子', '訊', '違', '本意', '核', '被告', '犯兒童', '少年', '福利', '權益', '保障法', '刑法', '成年', '故意', '對', '少年犯', '強制', '猥褻', '罪兒童', '少年', '性剝削', '防制', '例違', '反', '本意', '願', '方法', '少年', '被', '拍', '攝', '猥褻', '電子', '訊', '罪公訴', '意旨', '被告', '犯詐術', '少年', '被', '製', '造', '猥褻', '電子', '訊', '罪', '更正', '起訴', '事實明', '當年', '滿歲', '少年', '但', '犯法', '僅', '被告', '涉犯', '強制', '猥褻', '罪', '引用', '兒童', '少年', '福利', '權益', '保障法', '成年', '故意', '對', '少年犯', '強制', '猥褻', '罪容洽', '起訴', '基本', '事實', '同法變', '更', '起訴', '法犯', '兒童', '少年', '性剝削', '防制', '例罪', '本', '被害', '少年', '特別', '罰', '從', '不兒童', '少年', '福利', '權益', '保障法', '附此', '敘明', '犯罪', '事實欄', '附表', '編罪', '核', '被告', '此犯', '性騷擾', '防治法', '性騷擾', '罪公訴', '意旨', '被告', '犯', '刑法', '利用', '類似', '業務關', '機會', '猥褻', '罪嫌', '云云', '被告', '雖', '假借', '運動', '品牌', '調員名', '騙', '同意', '拍攝', '內褲', '照片', '過程', '乘', '機撫', '摸', '生殖器', '被告', '客觀間', '任何', '業務', '支配', '關實', '受騙', '當才', '配合', '拍攝', '內褲', '照片', '進遭', '被告', '摸', '生殖器', '非礙', '被告', '權勢', '支配', '關曲', '從', '同意', '被告', '撫摸', '生殖器', '檢察官', '被告', '利用', '業務', '機會', '猥褻', '罪容', '誤會', '但', '起訴', '社會', '基本', '事實', '同法變', '更', '起訴', '法', '被告', '犯罪', '事實', '欄犯', '成年', '故意', '對', '少年', '強制', '猥褻', '違反', '本意', '願', '方法', '少年', '被', '拍', '攝', '猥褻', '電子', '訊', '罪', '密接', '同', '地', '局部', '重疊觸', '犯數', '罪名', '想像', '競合關', '從重', '違反', '本意', '願', '方法', '少年', '被', '拍', '攝', '猥褻', '電子', '訊', '罪斷', '被告', '犯', '成年', '故意', '對', '少年犯', '強制', '猥褻', '罪', '犯罪', '事實欄', '違反', '本意', '願', '方法', '少年', '被', '拍', '攝', '猥褻', '電子', '訊', '罪', '犯罪', '事實欄', '性騷擾', '罪', '犯罪', '事實欄', '被害', '間', '地點', '不同', '被告', '犯意', '各別', '互殊', '併', '罰', '本原', '東紀念', '醫院', '對', '被告', '實施', '精神', '鑑定', '鑑定', '結果', '被告', '雖', '可能', '疑似', '非', '特定', '性', '偏好', '症', '但', '此性', '偏好', '不影響', '責任', '能力', '此亞', '東紀念', '醫院', '年月日', '精神', '鑑定', '報告', '書原', '審卷', '被告', '責任', '能力', '撤銷', '附表', '刑科', '刑說', '明原', '審', '被告', '附表', '編犯', '兒童', '少年', '性剝削', '防制', '例事', '證明', '確罪', '科刑', '固非', '見', '強制', '猥褻', '性騷擾', '罪', '雖出', '違反', '被害', '意願', '方法', '但', '被害', '不', '抗拒', '際', '出', '不意', '乘隙', '短暫', '偷', '襲式', '騷擾', '觸摸', '對象', '不性', '慾', '滿足', '必要', '尚達', '妨害', '性', '意思', '自但', '破壞', '被害', '享性性', '別性', '關寧靜', '不受', '干擾', '平和', '狀態', '言', '倘影響', '被害', '性', '意思', '形成', '決定', '自強制', '猥褻', '證偵', '審理證', '原審', '勘驗', '被告', '攝錄', '影像', '檔案示', '被告', '將近', '回撫', '摸', '生殖器', '非', '趁', '不備', '短', '暫偷', '襲式', '觸摸', '也', '從', '同意', '被告', '此舉', '被告', '違', '反意', '願強', '猥褻', '自', '成立', '成年', '故意', '對', '少年犯', '強制', '猥褻', '罪', '但', '兒童', '少年', '性剝削', '防制', '例罪', '想像', '競合僅', '從', '重原', '審將', '此', '想像', '競合犯', '輕罪', '改', '性騷擾', '罪', '接續', '犯容', '違誤', '被告', '雖', '佯', '品牌', '調員名', '騙取', '同意', '拍攝', '身形', '但', '詐術', '錯誤', '同意', '被告', '拍', '攝撫', '摸', '生殖器', '數位', '影片', '從', '同意', '被告', '此舉', '被告', '仍強', '違反', '本意', '願', '方法', '少年', '被', '拍', '攝', '猥褻', '電子', '訊', '原', '少年', '被', '拍', '攝', '猥褻', '電子', '訊', '罪', '妥', '被告', '訴執', '辯詞', '可採', '前述', '訴', '雖理', '但', '原', '審判決', '附表', '編', '犯罪', '開事', '用法', '違誤', '可維持', '此', '沒收', '需', '犯罪', '事實定', '前提', '執刑', '可單', '附表', '編定', '執刑', '撤銷', '改判', '審酌', '被告', '犯罪', '動機', '手段', '目滿足', '自身', '性', '慾', '佯', '品牌', '調員名', '搭', '訕', '犯案', '對', '身心', '健全', '發展', '影響', '甚鉅犯', '造成', '損害', '非輕', '考量', '犯態度', '前', '犯過', '相類', '似犯', '本案', '自述', '智識', '程度', '家庭', '生活', '濟狀況', '切情', '狀期', '徒刑', '年', '月', '附表', '編示', '手機', '被告', '供', '本案', '犯罪', '用', '刑法', '本次', '犯', '宣告', '沒收', '附表', '編示', '數位', '影像', '被告', '拍攝', '儲存', '開手', '機內', '對', '猥褻', '電子訊業', '原審', '勘驗', '明確', '前述', '兒童', '少年', '性剝削', '防制', '例', '宣告', '沒收餘', '扣案', '支星', '手機', '支手', '機電腦', '警方', '進數位', '蒐', '證結果', '偵卷', '扣押', '物品', '目錄', '表扣', '案物', '內', '本案', '被害', '資料', '包含', '還原', '刪除', '資料', '數位', '證物', '勘察', '可佐偵', '不公', '開卷', '同卷', '結證據', '可扣', '案物', '本案', '直接', '本案', '沒收', '猥褻', '電子', '訊', '故', '不', '沒', '收駁', '回訴', '附表', '編原', '審', '被告', '犯', '附表', '編示', '各罪', '事證明', '確別', '附表', '少年', '福利', '權益', '保障法', '刑法', '成年', '故意', '對', '少年犯', '強制', '猥褻', '罪法', '加重', '刑', '附表', '編', '性騷擾', '防治法', '性騷擾', '罪公訴', '意旨', '漏', '引法', '法變', '更', '起訴', '法審酌', '被告', '犯罪', '動機', '手段', '目對', '身心', '健全', '發展', '影響', '甚鉅犯', '造成', '損害', '非輕', '考量', '犯態度', '素智識', '程度', '家庭', '生活', '濟狀況', '切情', '狀犯', '成年', '故意', '對', '少年犯', '強制', '猥褻', '罪期', '徒刑', '月', '犯', '性騷擾', '罪期', '徒刑', '月', '易科罰金', '折算', '標準', '附表', '刑法', '被告', '各次', '犯', '宣告', '沒收', '核事', '用法', '量刑', '不', '當維持', '被告', '詞理', '指駁', '前訴', '駁', '回定', '執刑', '開', '撤銷', '改判', '附表', '回訴', '易科罰金', '附表', '犯罪', '態樣', '犯罪', '間', '相近', '但害', '不同', '被害', '斟酌', '責任', '非', '難重', '複', '程度', '對', '全體', '犯罪', '整體', '評價定執', '刑部', '界限', '定執', '刑期', '徒刑', '年', '月', '附表', '編', '易科罰金', '罪刑', '刑法', '但書前', '開', '易科罰金', '罪', '併', '合罰', '待', '罪', '確定', '另', '刑法', '決定', '否聲', '定刑', '併', '此', '敘明罪', '公訴', '意旨', '另', '被告', '年月日', '午許', '新北市', '板橋', '區民', '路段', '巷', '附近', '看到', '位真實', '姓名', '年籍', '不詳', '穿著', '運動服', '男學生', '稱', '不', '詳年', '籍', '同', '手法', '欺騙', '不', '詳年籍', '基類', '受', '自己', '支配', '利用', '機會', '猥褻', '犯意', '手指', '抓住', '不詳', '年籍', '生殖器', '拍攝', '電子', '訊', '張', '影片', '段', '被告', '年月日', '午許', '新北市', '板橋區', '某', '看到', '位真實', '姓名', '年籍', '不詳', '穿著', '錦', '和', '高運動服', '男學生', '稱', '不', '詳年', '籍', '同', '手法', '欺騙', '不', '詳年籍', '基類', '受', '自己', '支配', '利用', '機會', '猥褻', '犯意', '隔著', '不', '詳年籍', '內褲', '手指', '抓住', '不詳', '年籍', '生殖器', '拍攝', '電子', '訊', '張', '被告', '犯', '刑法', '利用', '類似', '業務關', '機會', '猥褻', '罪嫌', '犯罪', '事實', '證據定', '證據定', '犯罪', '事實', '刑事訴訟法', '定', '明文', '此謂', '定', '犯罪', '事實', '證據', '直接', '間', '接證據須', '達', '通常', '般', '不致', '懷疑', '確信', '真實', '程度', '始據', '罪定', '若', '被告', '否', '犯罪', '證明能', '達此', '程度', '合理性', '懷疑', '存致法', '形成', '罪確', '信根據', '罪證', '疑利', '被告', '證據法', '遽', '不利', '被告', '定', '刑事訴訟法', '檢察官', '被告', '犯罪', '事實', '負舉', '證責任', '指出', '證明', '方法', '此檢察官', '起訴', '犯罪', '事實負', '提出', '證據', '說', '服實質', '舉證責任', '倘', '提出', '證據', '不足', '被', '告罪', '積極', '證明', '指出', '證明', '方法', '從', '說服', '法院', '形成', '被', '告罪', '心證', '基罪', '推定', '原自', '被', '告罪', '判決', '檢察官', '被告', '對', '年', '籍', '不', '詳犯', '刑法', '利用', '類似', '業務關', '機會', '猥褻', '罪嫌', '據', '被', '告警', '詢偵', '自白', '警局', '數位', '證物', '勘報', '告內', '被告', '遭扣', '案手', '機內', '年籍', '不詳', '男', '穿著', '高運動服', '照片', '陰莖', '遭手', '抓住', '照片', '影片', '年籍', '不詳', '男著', '高運動服', '照片', '陰莖', '遭手', '抓住', '照片', '憑', '檢察官', '起訴', '被告', '佯', '品牌', '調員名', '拍照', '事實', '刑法', '利用', '權勢', '從關', '被害', '曲意', '順從', '妨害性自主', '犯', '不合', '公訴', '意旨', '被告', '犯', '刑法', '利用', '類似', '業務關', '機會', '猥褻', '罪嫌', '云云', '被告', '審理否', '開犯', '辯稱', '網路', '抓取', '影像', '云云', '年籍', '不', '詳卷', '內僅', '被告', '遭扣', '案手', '機內', '存取', '數位', '照片', '偵', '不公', '開卷', '照片', '拍攝', '到', '被告', '衣服', '也', '學', '姓名', '可供', '找', '除法', '數位', '照片', '著內', '褲觸', '摸', '生殖器', '部位', '被告', '公訴', '意旨', '指', '被害', '被害', '指訴', '過程', '不明', '可徒', '憑', '被告', '前', '不', '供述', '臆測', '犯罪', '另', '被告', '遭扣', '案手', '機內', '存取', '數位', '影片', '原審', '勘驗', '被告', '攝原', '審卷', '故此', '被告', '辯稱', '網路', '抓取', '云云', '可採', '但', '影片', '拍', '攝到', '臉部', '著', '衣服', '也', '學', '姓名', '可供', '找', '勘驗', '筆錄', '雙方', '對', '話', '內容稱', '可', '真意', '不明', '欠缺', '被害', '指訴', '情況', '真實', '年齡', '過程', '否違', '反意', '願遭', '不明', '單憑', '被告', '摸', '生殖器', '仍', '不能', '證明', '被告', '犯罪', '法', '被', '告罪', '駁', '回訴', '說', '明原', '審審理', '檢察官', '提卷', '內證據', '資料', '不能', '證明', '被告', '被訴', '年月日', '年月日', '犯', '利用', '類似', '業務關', '機會', '猥褻', '罪', '被', '告罪', '核', '不合', '檢察', '官訴', '意旨', '被告', '假冒', '運動', '品牌', '佯', '被害', '身材', '誘騙', '方式', '觸碰', '被害', '生殖器', '拍攝', '陰莖', '勃起', '照片', '影片', '情', '被告', '坦承', '不諱', '開', '照片', '影片', '附卷', '可', '被告', '拍攝', '影片', '被告', '撫摸', '陰莖', '詢問', '你', '容易', '反', '嗎', '回答', '不', '知道', '被告', '抓著', '陰莖', '弄', '詢問', '這樣', '嗎', '回答', '可', '被告', '問可', '拍', '到', '反', '嗎', '猶豫', '說', '可拍照', '嗎', '你', '要', '拍', '被告', '將內褲', '穿著', '隔著', '內', '褲撫', '摸', '陰莖', '表示', '要', '形狀', '出來', '另', '觀諸', '被告', '拍攝', '照片', '腰部', '照片', '被害', '衣藍色', '運動服', '短褲', '遭', '褪', '露出', '深灰色', '內褲', '被告', '手撫', '摸', '陰莖', '位置', '情原', '審', '勘驗', '筆錄', '開', '影片', '照片', '附卷', '可佐', '被告', '施用', '假藉', '運動', '品牌', '調員', '詐術', '此', '詐術', '取信', '誤此', '運動', '品牌', '調', '身材', '流程', '對', '被告', '指示', '深信不疑', '嗣', '被告', '利用', '開誤', '欠缺', '理性', '思考', '遵從', '狀態', '壓制性', '自', '主意', '願觸', '碰', '生殖器', '強制', '猥褻', '犯逞', '故情', '足壓', '制性', '自主', '意思', '決定', '自', '被告', '刑法', '他', '違', '反意', '願', '方式', '對', '強制', '猥褻', '犯', '客觀', '要件', '縱', '刑法', '構成', '要件', '不符', '法院', '不', '妨害', '事實', '同範圍', '內', '自定', '事實', '法律', '故', '被告', '起訴', '書', '犯罪', '事實欄', '犯罪', '事實否', '涉嫌', '強制', '猥褻', '罪犯', '原審', '審理', '範圍', '原', '審此', '漏', '審酌', '遽', '罪判', '決理', '不備', '違法原', '審判決', '開事', '用法', '被告', '此罪', '判決', '撤銷', '更', '妥', '適判決', '但', '身', '不明', '情況', '欠缺', '被害', '指訴', '重要', '證據', '方法', '法僅', '被告', '述', '卷', '內', '可辨', '識', '被害', '照片', '影片', '定', '被告', '犯罪', '當何', '罪理', '敘述', '前', '檢察官', '提出', '證據', '不足', '被', '告罪', '積極', '證明', '不能', '臆測', '方式', '偵不', '完備', '自', '被', '告罪', '訴', '仍', '相異', '評價訴', '理駁', '回據斷', '刑事訴訟法', '判決本', '檢察官', '何克凡', '公訴', '檢察', '官盧', '祐', '涵訴', '檢察官', '壽勤偉', '到庭', '年月日', '刑事', '庭審', '判長', '法官', '劉方慈', '法官', '蕭世昌', '法官', '許曉微', '正本', '證明', '原本', '異', '不服', '本判決', '收受', '送達', '日', '內', '提出', '訴書狀', '敘述', '訴理訴', '日', '內補', '提理書須', '他造', '當事數', '附繕', '本', '切勿', '送級', '法院', '維持', '審罪', '判決', '檢察', '官訴', '理須', '受', '刑事', '妥速', '審判法', '限制', '刑事', '妥速', '審判法', '除前', '情形', '審', '法院', '維持', '審罪判', '決訴', '理列', '事限判決', '牴', '觸法', '判決', '司法院', '解釋', '判決', '判例', '刑事訴訟法', '前', '審理', '記官', '徐仁', '年月日', '附錄', '本案', '罪科', '刑法', '全文', '華', '刑法', '強制', '猥褻', '罪', '男女', '強暴脅迫', '恐嚇', '催眠', '術', '他', '違', '反意', '願', '方法', '猥褻', '月', '年期', '徒刑', '兒童', '少年', '福利', '權益', '保障法', '成年', '教唆', '幫助', '利用', '兒童', '少年', '犯罪', '共同', '實施', '犯罪', '故意', '對', '犯罪', '加重', '刑', '但', '各罪', '被害', '兒童', '少年', '定特別', '罰', '從', '兒童', '少年', '犯罪', '主管', '機關', '獨立', '告訴', '兒童', '少年', '性剝削', '防制', '攝', '製', '造', '兒', '童', '少年', '性交', '猥褻', '圖畫', '照片', '影片', '影帶', '光碟', '電子', '訊', '他', '物品', '年', '年期', '徒刑', '併', '科新', '臺', '幣百萬元罰', '金', '招募', '引誘', '容留', '媒介', '協助', '他', '法兒童', '少年', '被', '拍', '攝', '製', '造', '性交', '猥褻', '圖畫', '照片', '影片', '影帶', '光碟', '電子', '訊', '他', '物品', '年', '年期', '徒刑', '併', '科新', '臺', '幣百萬元罰', '金強', '暴脅', '迫藥劑', '詐術', '催眠', '術', '他', '違反', '本意', '願', '方法', '兒童', '少年', '被', '拍', '攝', '製', '造', '性交', '猥褻', '圖畫', '照片', '影片', '影帶', '光碟', '電子', '訊', '他', '物品', '年期', '徒刑', '併', '科新', '臺', '幣百萬元罰', '金意', '圖營利', '犯前', '罪', '各', '加重', '刑前', '遂', '犯罰', '物品', '不問', '犯罪', '否沒收', '性騷擾', '防治法', '意圖', '性騷擾', '乘', '不', '抗拒', '親吻', '擁抱觸', '摸', '臀部', '胸部', '他', '身體', '隱私', '年期', '徒刑', '拘役', '科', '併', '科新', '臺', '幣萬元罰', '金前', '罪須', '告訴', '附表', '扣案物', '影像', '電子', '檔', '編扣', '案物手', '機內', '影像', '用途', '影像', '內容', '被告', '手機', '支含', '卡', '張原', '審卷', '照片', '手機', '數位', '鑑識', '報告', '證物', '被告', '事實欄', '佯裝', '品牌', '警方', '機內', '刪除', '檔案', '還原', '發現', '內', '被告', '儲存事', '實欄', '拍', '攝', '影片', '檔案', '個', '還原', '檔案', '儲存', '警方', '蒐', '證', '影像', '光碟', '光碟', '置原', '審卷', '證物袋', '內', '偵卷', '證物袋', '內', '數位', '影像', '檔名', '影片', '內容', '被告', '撫摸', '陰莖', '褲將', '陰莖', '露', '影像', '詳細', '內容', '原審', '勘驗', '筆錄', '影像', '畫面', '截圖', '可見', '被害', '身穿', '學校', '運動服', '畫面', '附表', '編對', '犯罪', '事實欄', '判決', '備', '註', '犯罪', '事實', '欄訴', '駁', '回原', '審判決', '成年', '故意', '對', '少年犯', '強制', '猥褻', '罪期', '徒刑', '月', '扣案', '附表', '編示', '手機', '沒收', '犯罪', '事實欄', '撤銷', '犯', '違反', '本意', '願', '方法', '少年', '被', '拍', '攝', '猥褻', '電子', '訊', '罪期', '徒刑', '柒年', '貳', '月', '扣案', '附表', '編示', '附表', '編數位', '影像', '電子', '訊', '沒', '收原', '審判', '決犯', '詐術', '少年', '被', '拍', '攝', '猥褻', '電子', '訊', '罪期', '徒刑', '年', '月', '扣案', '附表', '編示', '手機', '編數位', '影像', '電子', '訊', '沒收', '犯罪', '事實', '欄訴', '駁', '回原', '審判', '決犯', '性騷擾', '罪期', '徒刑', '月', '易科罰金', '新', '臺', '幣', '千元', '折算', '日', '扣案', '附表', '編示', '手機', '沒收']]\n",
      "10: 3984\n"
     ]
    }
   ],
   "source": [
    "jieba.load_userdict(r'C:\\Users\\UJay\\School\\judgement_classfier\\Custom dictionary\\dict.txt')\n",
    "for data in DataLoader(train_dataset, batch_size=1, shuffle=True):\n",
    "    text = data['text']\n",
    "    label = data['label']\n",
    "    print(text)\n",
    "    print(text[0].strip())\n",
    "    text = re.sub(' +', '', text[0].strip())\n",
    "    print(text)\n",
    "    text = re.sub(r'[^\\u4e00-\\u9fa5]', '', text)\n",
    "    print(\"簡單的處理文字:\",text)\n",
    "    words = jieba.cut(text,cut_all=False)\n",
    "    words_for_search = jieba.cut_for_search(text)\n",
    "    skip_words = load_words(skip_words_file)\n",
    "    print(\"需要跳過的字典:\",skip_words)\n",
    "    words = [word for word in words if word not in skip_words]\n",
    "    words_for_search = [word for word in words_for_search if word not in skip_words]\n",
    "    print(\"處理過後的文本:\",words)\n",
    "    print(len(words))\n",
    "    print(\"處理過後的文本(搜尋):\",words_for_search)\n",
    "    print(len(words_for_search))\n",
    "    # final_result = negatively_skewed_sample(words)\n",
    "    # print(\"最終結果:\",final_result)\n",
    "    # print(len(final_result.split()))\n",
    "    print(label)\n",
    "    # print(\"1:\",text_to_vector(final_result.split()[0]))\n",
    "    # print(\"2:\",text_to_vector(final_result.split()[0]).shape)\n",
    "    # print(\"3:\",text_to_vector(' '.join(words)))\n",
    "    # print(\"4:\",text_to_vector(final_result).shape)\n",
    "    arr, not_in,in_model = preProcessText_and_getVector([text])\n",
    "    print(\"5:\",arr)\n",
    "    print(\"6:\",arr.shape)\n",
    "    print(\"7:\",not_in)\n",
    "    print(\"8:\",len(not_in[0]))\n",
    "    print(\"9:\",in_model)\n",
    "    print(\"10:\",len(in_model[0]))\n",
    "    break"
   ]
  },
  {
   "cell_type": "code",
   "execution_count": 77,
   "metadata": {},
   "outputs": [
    {
     "name": "stdout",
     "output_type": "stream",
     "text": [
      "['高 法院 刑事 判決 110180 \\xa0   訴 \\xa0   \\xa0   新北 地方 檢察署 檢察官 \\xa0   訴 \\xa0   \\xa0   \\xa0   被 \\xa0   告 \\xa0   潘秉鈞 \\xa0   \\xa0   \\xa0   \\xa0   \\xa0   \\xa0   \\xa0   \\xa0   \\xa0   \\xa0   另案 法務部 執選任 辯護 \\xa0   楊東 鎮律 師法 扶律 師列訴 兒童 少年 性剝削 防制 例 不服 新北 地方法院 109144 華 110 年 3 月 31 日 審判 決新北 地方 檢察署 10925290 訴判決 \\xa0   \\xa0   主 \\xa0   文 附表 編 2 定 執刑 撤銷 犯 違反 本意 願 方法 少年 被 拍 攝 猥褻 電子 訊 罪期 徒刑 柒年 貳 月 扣案 附表 編 1 示手 機同 附表 編 2 數位 影像 電子 訊 沒收 他 訴駁 回開 撤銷 改判 訴駁 回 附表 編 1 刑執期 徒刑 柒年 肆 月 \\xa0   \\xa0   犯罪 事實 成年 109 年 6 月 19 日午 8 許新北市 土城 區 裕民 路 92 巷 25 弄口 見少 年 192 年 9 月 生案 發 16 歲代 D000 - 109291 真實 姓名 年籍 詳卷 身穿 高級 工業 職業 學校 運動服 校名 詳卷 稱 高工 運動服 知悉 1 滿 18 歲 少 年 仍 對 1 佯稱 自己 運動 品牌 調員欲 拍 攝 青少年 身形 照片 做調 1 不疑 他 便 隨同 前往 同市 區路 00 巷 00 弄 0 夾 娃娃 機店 內 附表 編 1 示手機 表示 要 拍 攝內 褲待 1 脫運動 褲竟 意圖 性騷擾 乘 1 不 抗拒 際 突手觸 摸 1 生殖器 1 將手 撥開 表示 拒絕 此知 1 不願 此類 方式 身體 接觸 竟 提 昇 對 少年 強制 猥褻 犯意 這 工作 不顧 1 拒絕 違 反意 願將手 伸入 內褲 裏 撫 摸 1 生殖器 對 1 強制 猥褻 逞 109 年 5 月 29 日午 758 許新北 市區 0 出口 附近 巷子 裡面 見 291 年 12 月 生案 發 17 歲代 D000 - Z000000000 真實 姓名 年籍 詳卷 身穿 高工 運動服 知悉 2 可能 滿 18 歲 少 年 仍 對 2 佯稱 自己 運動 品牌 調員欲 拍 攝 2 穿著 身形 照片 2 不疑 他 便 隨同 到 同市 區路 00 巷 00 弄 0 夾 娃娃 機店 內 工作 需要 名 要求 拍攝 2 半身 內褲 照片 俟 2 將褲 脫 基縱 對 少年 強制 猥褻 違反 本意 願 方法 少年 被 拍 攝 猥褻 電子 訊 數位 影像 違 本意 犯意 2 同意 自將 2 內褲 褲頭拉強 手來 回撫 摸 露出 生殖器 違反 2 意願 強制 猥褻 同 用 附表 編 1 示手 機拍 攝錄 影撫 摸 2 生殖器 過程 違反 2 意願 方法 2 被 拍 攝開 遭撫 摸 裸露 生殖器 過程 猥褻 電子 訊 逞 另 109 年 5 月 29 日午 855 海山 捷運站 3 出口 附近 路見 390 年 9 月 生案 發年 滿 18 歲代 D000 - Z000000000 真實 姓名 年籍 詳卷 身穿 高工 制服 前 揭名義 手法 徵 3 同意 附近 巷子 內用 附表 編 1 示手機 拍 攝 3 露出 內褲 褲頭 電子 訊 數位 照片 2 張拍 攝過 程竟 意圖 性騷擾 乘 3 不 抗拒 際 將手 伸入 3 內 褲觸 摸 生殖器 遭 3 當場 怒 罵 隨 停手 少年 1 少年 2 少年 2 母 法定代理 訴新北 市政府 警察局 土城 局報告 3 檢察官 提出 告訴 新北 地方 檢察署 檢察官 偵 起訴 \\xa0   \\xa0   理 \\xa0   罪壹 程序 方面 審理 範圍 \\u3000 \\u3000 本案 刑事訴訟法 348110 年 6 月 18 日 修正 施 110 年 8 月 3 日 繫 修正 現 刑事訴訟法 348 判斷 訴範圍 2 判決 部訴 關視訴 但 關罪 免訴 不 受理 不此限 併 參照 立法 理 但 書 稱罪 免訴 不 受理 不內限 審判 決關 理內 說明 不 另罪 免訴 不 受理 本案 檢察官 起訴 訴 被告 109 年 6 月 19 日午 8 許另 手機 拍 攝少 年 1 穿內 褲露 陰毛 電子 訊 被告 此涉 犯兒 童少 年 性剝削 防制 例 363 詐術 方法 製 造 少 年 猥褻 電子 訊 罪嫌 原審定 卷 內 附數位 照片 法 清楚 辨識出 照片 起訴 意旨 稱露 陰毛 情事 不 成立 詐術少 年 被 拍 攝 猥褻 電子 訊 罪 不 另 罪見 理欄 貳 本案 檢察官 僅罪 起訴 犯罪 事實 ㈣ ㈤ 訴 被 告罪 訴審判 範圍 不 另罪 當事訴 非 審判 範圍 合先 敘明 被告 觸犯 刑法 224 法 罪名 檢察官 公訴 性害 犯罪 防治法 21 性害 犯罪 性害 犯罪 防治法 122 同 法施 細 6 本案 判決 揭露 123 姓名 年籍 他 足 資識別 彼身 資訊代稱 證據 能力 \\u3000 \\u3000 \\u3000 \\u3000 \\xa0   \\xa0   本判 決定 犯罪 事實 引用 供述 證據 檢察官 同意 證據 能力 被告 選任 辯護 12 警詢 審判陳述 證據 能力 1 姊 2 母警員 石金澤 偵述 被害 陳 述 具 同性 累積 證據 補強 證據 適格除 此餘 供述 證據 證據 能力 意見 迄言詞 辯終 結前 異議 審酌 證據 不 含 前述 被告 辯護爭 執資 料 製 作 情 況 違 法 不 當 證 明力 明顯過 低 瑕疵 作證據 適當非 供述 證據 核 違反 法定程序 取 情形 本案 犯罪 事實 具關 聯性 證據 能力 關 翻拍 自 娃娃 機店 內 監視錄 影畫面 被告 用手 機內 數位 影像 截圖 派生 證據 被告 辯護 證據 能力 意見 卷 153 爭執 截圖 內容 可證明 被告 本 案犯 證 明力 爭辯 另 詳述 他 據 引用 作定 被告 犯罪 事實 證據 含 12 警詢 被告 辯護爭 執證據 能力 不贅 證據 能力 定 另 被告 自白 出自 意識陳述 業據 被告 陳 明卷 卷 113299 雖 被告 稱 審遭 羈押 心情 複 雜聽 從律 師建議 罪此 僅涉 被告 自白 動機 不 影響 自白 出 任意性 定故 倘 自白 事實 相符 當作定 被告 犯罪 事實 證據 併 此 敘明 貳 實體 方面 定 犯罪 事實 憑 證據理 \\u3000 \\u3000 訊 據 被告 審理 否犯 辯稱 沒用 市場 調名 義騙 他們 只 和 123 純 聊天 問他 們 能 不能 拍照 拍攝 他們 影像 他們 當不 知道 要 拍 生殖器 只 2 被 拍 到 生殖器 13 沒 他們 同意 用手 碰觸 他們 生殖器 1 確實 撥開 拒絕 還碰 1 生殖器 \\xa0   ㈠ 事實欄 附表 編 1 犯罪 事實業 據證 告訴 1 偵審理 證述 明確 他 卷 4347 卷 203207 附表 編 1 手機 扣案 手機 內 1 掀起 衣服 數位 照片 偵卷 71 偵 不公 開卷 72 夾 娃娃 機店 內 監視 錄影 翻拍 照片 偵卷 5659 卷 可 憑 被 告警 詢偵原 審審理 坦承 犯罪 事實欄 地 品牌 調員名 義找 1 拍攝 身形 照片 1 同意 用手 碰觸 他 生殖器 明確 偵卷 16199396 原審卷 4445334335 卷 289 可補 強證 1 證述 可信 謂 補強 證據本 不證明 犯罪 構成 要件 全部 事實 必要 辯護泛 欠缺 補強 證據爭 執證 1 證詞 被告 空言 爭辯 將手 伸入 褲管 直接 碰觸 1 生殖器 節可採 \\u3000 ㈡ 關事 實欄 附表 編 2 犯罪 事實業 據證 告訴 2 偵審理 證述 明確 偵卷 127135 卷 259262 附表 編 1 手機 扣案 手機 內 2 遭撫 摸 生殖器 生殖器 露數位 影像 原審 勘驗 數位 影像 勘驗 筆錄 偵卷 77 偵 不公 開卷 77 原審卷 103105 卷 可 憑 被 告警 詢偵原 審審理 坦承 犯罪 事實欄 地 品牌 調員名 義找 2 拍攝 身形 照片 2 同意 用手 碰觸 他 生殖器 拍 攝撫 摸 2 生殖器 數位 影像 明確 偵卷 24259697 原審 45335 卷 289 可補 強證 2 證述 可信 辯護泛 稱 補強 證據 云云 可採 辯護爭 辯數位 影像 拍 攝到 臉部法 辨識否 2 云云 證 2 審理 遠距 方式 訊問 提示 照片 偵 不公 開卷 49 方 偵卷 77 方 照片 交辨識 稱 傳真過 來 黑白照片 法明 確辨識 卷 附 裸露 生殖器 照片 否本 但證 2 偵檢察官 當庭 提交 照片 辨 明白 證稱 照片 本 偵卷 131133 同方 照片 著 制服 繡 2 學 姓名 2 張 照片 擷 取自 被告 手機 內連續 攝錄 數位 影像 檔案 附表 編 2 數位 影像 檔案 原審 勘驗 卷原 審卷 104105 足 可辨 識 特定 名遭 拍 攝 猥褻 數位 影像 確實 2 誤辯護 此節 指據 辯護聲 調取 此現 場夾 娃娃 機店 當日 監視錄 影畫 面承辦 新北 市政府 警察局 土城 局 111 年 8 月 16 日新北 警土 1113743950 函覆能 調取 原卷 卷 191 卷內 被告 自拍 攝數位 影片 縱店 內 監視錄 影礙 本案 犯罪 事實定 附此 敘明 \\u3000 ㈢ 刑法 224 稱 他 違 反意 願 方法 指列 舉強 暴脅迫 恐嚇 催眠 術 他切 違反 被害 意願 方法 妨害 被害 意思 自言 不類 似列 舉強 暴脅迫 恐嚇 催眠 術 相當 他 強制 方法 足壓 抑 被害 性 自主 決定權 必要 最高法院 975 次 刑事 庭會議 決議 參照 此稱 違 反意 願 方法 不 被害 達 不能 抗拒 程度 必要 祇 須 施用 方法 違反 被害 意願足 壓抑 被害 性 自主 決定 權足 當兒 童少 年 性剝削 防制 例 363 罰強 暴脅 迫藥劑 詐術 催眠 術 他 違反 本意 願 方法 兒童 少年 被 拍 攝 製 造 性 交 猥褻 圖畫 照片 影片 影帶 光碟 電子 訊 他 物品 手段 除例 舉強 暴脅 迫藥劑 詐術 催眠 術 他切 違反 被害 意願 方法 \\u3000 ⒈ 證 1 偵審理證 稱當 被告 伸手 摸 生殖器 嚇到 退 把 他 手 撥開 但 他還 伸手 過來 摸 生殖器 摸 了 段間 不瞬間 娃娃 機店 監視 錄影 翻拍 照片 可參 1 雖遭 被告 詐騙 讓 被告 拍攝 身著 衣物 照片 但佐當 空場合 1 顯 同意 被告 觸摸 生殖器 被告 自承 知悉 1 將手 撥 開表達 拒絕 仍 稱 這 工作 出手 強撫 摸 1 生殖器 此 猥褻 舉動 妨害 1 性 自主 決定 意思 自辯護 警詢 警察 提問強 暴脅迫 違反 你 意願 方式 對 你 實施 強制 猥褻 證 1 答稱 都 沒 偵卷 30 被告 違反 1 意願 云云 對 此證 1 審理證 稱當 被告 沒威脅 也 沒用 暴力 回答 沒 但 事實 沒 同意 卷 206 明白 說明 指 被告 非用 強暴脅迫 方式 逼範 但當 被告 違 反意 願 甚明 法強 暴脅 迫不過 強制 猥褻 罪 例示 手段 開 1 警詢述 不 影響 偵審理 證述 可信 從據利 被告 定 \\u3000 ⒉ 證 2 偵證 稱 被告 當說 他 個 運動 品牌 調員 想要 調拍 攝 襪子 鞋子 說 要 拍 形象 照拍 完 肚子 把 運動褲 褲頭 往 拉 露出 內褲 褲頭 把 內 褲往 拉 露出 生殖器 觸摸 生殖器 用 手機 拍照 違 反意 願摸 秒 沒 反過 來 來 說 不要 推開 他 手 整個 事情 結束 嚇到 不 知道 要何 啟齒 扣案 被告 手機 內 拍 攝數位 影片 原審 勘驗 筆錄 可稽據 勘驗 結果 影片 全長 約 245 秒 影片 48 秒 到 130 秒 被告 開始 隔 著 2 褲摸 生殖器 接著 脫掉 褲 多次 隔著 內 褲觸 摸 2 陰莖 影片 130 秒 到 158 秒 被告 從 2 內褲 褲頭 伸手 進去 摸 2 陰莖 隔 著內 褲撫 摸 2 陰莖 影片 158 秒 到 245 秒 拉 2 內褲 褲頭 陰莖 露將 2 內褲 穿 好 隔 著內 褲撫 摸 2 陰莖 調整 名次 拉 2 內褲 2 陰莖 陰囊露 被告 握住 2 陰莖 左右 移動 多次 撫摸此 2 抓住 內褲 往拉穿 好 說 趕間 被告 仍 隔 著內 褲撫 摸 2 陰莖 說 你 容易 反 那種 2 說 還好 拉 自己 運動褲 完整 勘驗 內容見 原 審卷 104 過程 2 從 同意 被告 脫內褲 同意 觸摸 拍 攝 生殖器 被告 自承 知悉 獲 同意 手觸 摸 2 生殖器 猶藉 調 拍 攝 身形 名義進 撫 摸 2 生殖器 顯非 短 暫偷 襲式觸 碰此 猥褻 舉動 妨害 2 性 自主 決定 意思 自證 2 偵稱 過程 約 35 秒 審理稱 摸間 不記 但證 對間 法 精準 描述 致前 開錄影 情形 不符 自可 採利 被告 定僅 偷 襲式 短 暫 碰觸 性騷擾 \\u3000 ⒊ 被告 撫摸 12 猥褻 舉動 刑法 224 違 反意 願 方法 強制 猥褻 拍 攝撫 摸 2 生殖器 舉違 反 本意 願 方法 辯護 被告 僅短 暫觸 碰 他 生殖器 當 性騷擾 云云 現場 監視錄 影畫面 附表 編 2 數位 影片 1 述 不合 自可 採辯 被告 施詐術 拍 攝 云云 但凡 違反 本意 願 方法 兒童 少年 被 拍 攝 猥褻 電子 訊 當兒 童少 年 性剝削 防制 例 363 罪詐術 不 過列 舉種 非法 方法 本案 被告 佯藉 調名義 2 搭訕 騙取 同意 拍攝 身形 照片 2 進錯誤 同意 被告 撫摸 拍 攝 生殖器 猥褻 影片 被告 擅自 拍攝 猥褻 2 電子訊當 違反 本意 願 非法 方法 被告 可解 免罪 罪責 \\u3000 ㈣ 辯護 被告 不 知悉 12 滿 18 歲 少 年 云云 但兒 童少 年 福利 權益 保障法 1121 兒童 少年 性剝削 防制 例 363 兒童 少年 被害 不 明知 被害 年齡 必要 1 案發 實際 年齡 16 歲 217 歲 此性 害代 真實 姓名 對 照表 代真實 姓名 對 照表 偵 不公 開卷 37 可 憑 滿 18 歲 少 年 被告 偵原 審審理 自承 知悉 1 約 1617 歲 偵卷 94 原審卷 3341 當身 著 高工 制服 被告 前開 自白 核事實 相符 知悉 1 少年 猶 對 犯 強制 猥褻 罪合兒 童少 年 福利 權益 保障法 1121 加 重要 件國 目前 學制 學高 職生極 可能 滿 18 歲 此 社會 生活 定般 能 理解 知悉 被 告警 詢 也 坦承 選定 高生 對象 偵卷 23 原審 審理 承 知道 2 可能 高 2 高 3 原審卷 335 案發 早學間 2 當身 著 高工 制服 被告 主觀 預見 2 可能 滿 18 歲 卻 仍 執意 揭犯 主觀 具 不 確定 故意 前開 辯避 重輕 可採 \\xa0   ㈤ 事實欄 附表 編 3 犯罪 事實業 據證 告訴 3 偵審理 證述 明確 偵卷 141145 卷 263265 附表 編 1 手機 扣案 手機 內 3 掀起 衣服 露出 內褲 褲頭 照片 偵卷 73 偵 不公 開卷 71 卷 可 憑 辯護 雖稱 照片 否 3 不明 云云 但 除證 3 偵 明白 證稱 照片 本 偵卷 143 照片 著 制服 繡 3 學 姓名 可確實 3 辯護 此節 辯 可 採此 被 告警 詢偵原 審審理 坦承 犯罪 事實欄 地 品牌 調員名 義找 3 拍攝 身形 照片 3 同意 用手 碰觸 他 生殖器 明確 偵卷 222397 原審卷 45102 卷 289 可補 強證 3 證述 可信 補強 證據 不證明 犯罪 構成 要件 全部 事實 必要 辯護 徒開 照片 拍攝 到 性騷擾 過程 不能 補強 云云 理 \\xa0   ㈥ 本案 事證明 被告 犯堪定 法科 罪 \\xa0   ㈠ 犯罪 事實欄 附表 編 1 罪 \\u3000 \\u3000 被告 84 年 9 月 生成 年 1 滿 18 歲 少 年 核 被告 犯兒 童少 年 福利 權益 保障法 1121 刑法 224 成年 故意 對 少年犯 強制 猥褻 罪 加重 刑 被告 開始 乘 1 不 抗拒 觸摸 生殖器 偷襲式 短 暫性 不 當觸 摸 性騷擾 遭 1 當場 拒絕 竟 仍 不 停止 違反 1 意願 持續 撫 摸 1 生殖器 被告 提 昇 犯意 強制 猥褻 性騷擾 犯 犯意 提 昇 強制 猥褻 吸收 不 另罪 公訴 意旨 起訴 事實明 1 當年 滿 16 歲 少 年 但 犯法 僅 被告 涉犯 強制 猥褻 罪 引用 兒童 少年 福利 權益 保障法 1121 成年 故意 對 少年犯 強制 猥褻 罪容洽 起訴 基本 事實同 刑事訴訟法 300 變 更 起訴 法 \\u3000 ㈡ 犯罪 事實欄 附表 編 2 罪 \\u3000 \\u3000 ⒈ 電子 訊 通常 數位 訊類 比訊 2 種動 電話 電子 數位 機器 對 他 拍 攝 裸照 性 交 影片 利用 影像 感 功能 將物體 反射光 轉換 數位 訊 壓縮 儲存 內建 記憶體 記憶卡 透過 電子視 覺化 顯示器 讓 電子 訊 可 被 視 覺化 包括 電視 電腦 平板 顯示器 輸出 若 證據 證明數 位訊業過 沖 洗 壓 製 過 程 成 實 體 物品 錄影 帶 光碟 相紙 拍 攝 製 造 僅 電 子 訊 階 段 被告 手機 滿 18 歲 少 年 2 被 拍 攝 猥褻 檔案 儲存 手機 內電子 訊 數位 影像 \\xa0   ⒉ 被告 成年 2 滿 18 歲 少 年 被告 預見 仍 對 少 年 2 強制 猥褻 拍攝 猥褻 電子 訊 違 本意 核 被告 犯兒 童少 年 福利 權益 保障法 1121 刑法 224 成年 故意 對 少年犯 強制 猥褻 罪兒 童少 年 性剝削 防制 例 363 違反 本意 願 方法 少年 被 拍 攝 猥褻 電子 訊 罪公訴 意旨 被告 犯詐術 少年 被 製 造 猥褻 電子 訊 罪 更正 起訴 事實明 2 當年 滿 17 歲 少 年 但 犯法 僅 被告 涉犯 強制 猥褻 罪 引用 兒童 少年 福利 權益 保障法 1121 成年 故意 對 少年犯 強制 猥褻 罪容洽 起訴 基本 事實 同法變 更 起訴 法犯 兒童 少年 性剝削 防制 例 363 罪本 被害 少年 特別 罰 從 不兒 童少 年 福利 權益 保障法 1121 附此 敘明 \\u3000 ㈢ 犯罪 事實欄 附表 編 3 罪 \\u3000 \\u3000 \\u3000 核 被告 此犯 性騷擾 防治法 251 性騷擾 罪公訴 意旨 被告 犯 刑法 2282 利用 類似 \\xa0   \\xa0   業務關 機會 猥褻 罪嫌 云云 被告 雖 假借 運動 品牌 調員名 義誘 騙 3 同意 拍攝 內褲 照片 過程 乘 機撫 摸 3 生殖器 被告 客觀 3 間 任何 業務 支配 關 3 實受 騙 當才 配合 拍攝 內褲 照片 進遭 被告 偷襲觸 摸 生殖器 非礙 被告 權勢 支配 關曲 從 同意 被告 撫摸 生殖器 檢察官 被告 利用 業務 機會 猥褻 罪容 誤會 但 起訴 社會 基本 事實 同法變 更 起訴 法 \\u3000 ㈣ 被告 犯罪 事實 欄犯 成年 故意 對少 年 強制 猥褻 違反 本意 願 方法 少年 被 拍 攝 猥褻 電子 訊 罪 密接 同 地 局部 重疊觸 犯數 罪名 想像 競合關 從重 違反 本意 願 方法 少年 被 拍 攝 猥褻 電子 訊 罪斷 被告 犯 成年 故意 對 少年犯 強制 猥褻 罪犯 罪事 實欄 違反 本意 願 方法 少年 被 拍 攝 猥褻 電子 訊 罪犯 罪事 實欄 性騷擾 罪犯 罪事 實欄 被害 間 地點 不同 被告 犯意 各別 互殊 併 罰 \\u3000 ㈤ 本原 審送亞 東紀念 醫院 對 被告 實施 精神 鑑定 鑑定 結果 被告 雖 可能 疑似 非 特定 性 偏好 症 但 此性 偏好 不影響 責任 能力 此亞 東紀念 醫院 110 年 1 月 6 日 精神 鑑定 報告 書原 審卷 229257 被告 責任 能力 撤銷 附表 編 2 定執 刑科 刑說明 \\u3000 ㈠ 原審 被告 附表 編 2 犯兒 童少 年 性剝削 防制 例 363 事證明 確罪 科刑 固非 見 強制 猥褻 性騷擾 罪 雖出 違反 被害 意願 方法 但 被害 不 抗拒 際 出 不意 乘隙 短暫 偷 襲式 觸摸意 騷擾 觸摸 對象 不性 慾 滿足 必要 尚達 妨害 性 意思 自但 破壞 被害 享性性 別性 關寧靜 不受 干擾 平和 狀態 言 倘影響 被害 性 意思 形成 決定 自強制 猥褻 證 2 偵審理證 原審 勘驗 被告 攝錄 影像 檔案示 被告 將近 2 鐘內來 回撫 摸 2 生殖器 非 趁 不備 短 暫偷 襲式 觸摸 2 也 從 同意 被告 此舉 被告 違反 2 意願強 猥褻 自 成立 成年 故意 對 少年犯 強制 猥褻 罪 但兒 童少 年 性剝削 防制 例 363 罪 想像 競合僅 從 重原 審將 此 想像 競合犯 輕罪 改 性騷擾 罪 接續 犯容 違誤 被告 雖 佯 品牌 調員 名義 2 搭訕 騙取 同意 拍攝 身形 但 2 詐術 錯誤 同意 被告 拍 攝撫 摸 2 生殖器 數位 影片 2 從 同意 被告 此舉 被告 仍強 違反 本意 願 方法 少年 被 拍 攝 猥褻 電子 訊 原審 詐術少 年 被 拍 攝 猥褻 電子 訊 罪 妥 被告 訴執 辯詞 可採 前述 訴 雖理 但 原 審判決 附表 編 2 犯罪 開事 用法 違誤 可維持 此 沒收 需 犯罪 事實定 前提 連定 執刑 可單 獨維持將 附表 編 2 定 執刑 撤銷 改判 \\u3000 ㈡ 審酌 被告 犯罪 動機 手段 目滿足 自身 性 慾 佯 品牌 調員名 義挑 選學學生 搭 訕 犯案 對 2 身心 健全 發展 影響 甚鉅犯 造成 損害 非輕 考量 犯態度 前 犯過 相類 似犯 本案 自述 智識 程度 家庭 生活 濟狀況 切情 狀期 徒刑 7 年 2 月 附表 編 1 示手機 被告 供 本案 犯罪 用 刑法 382 本次 犯 宣告 沒收 附表 編 2 示數位 影像 被告 拍攝 儲存 開手 機內 對 2 猥褻 電子訊業 原審 勘驗 明確 前述 兒童 少年 性剝削 防制 例 366 宣告 沒收餘 扣案 2 支星 手機 2 支 MOTOROL 手機 電腦 主機 1 台 警方 進數位 蒐 證結果 偵卷 47 扣押 物品 目錄表 146 扣案 物內 本案 被害 資料 包含 還原 刪除 資料 數位 證物 勘察 報告 1 份 可佐偵 不公 開卷 7990 同卷 102 結 ㈢ 證據 可扣 案物 本案 直接 關連內 本案 沒收 猥褻 電子 訊 故 不 沒 收駁 回訴 附表 編 13 \\u3000 \\u3000 原審 被告 犯 附表 編 13 示各罪 事證明 確別 附表 編 1 兒童 少年 福利 權益 保障法 1121 刑法 224 成年 故意 對 少年犯 強制 猥褻 罪法 加重 刑 附表 編 3 性騷擾 防治法 251 性騷擾 罪公訴 意旨 漏 引誤 引法 法變 更 起訴 法審酌 被告 犯罪 動機 手段 目對 13 身心 健全 發展 影響 甚鉅犯 造成 損害 非輕 考量 犯態度 素智識 程度 家庭 生活 濟狀況 切情 狀犯 成年 故意 對 少年犯 強制 猥褻 罪期 徒刑 7 月 犯 性騷擾 罪期 徒刑 2 月 易科罰金 折算 標準 末用 附表 編 1 手機 刑法 382 被告 各次 犯 宣告 沒收 核事 用法 量刑 不 當維持 被告 訴執辯 詞理 指駁 前訴 駁 回定 執刑 \\u3000 \\u3000 \\u3000 \\u3000 開 撤銷 改判 附表 編 2 駁 回訴 易科罰金 附表 編 1 審酌 犯罪 態樣 犯罪 間 相近 但害 不同 被害 斟酌 責任 非 難重 複 程度 對 全體 犯罪 整體 評價定執 刑部 界限 定執 刑期 徒刑 7 年 4 月 附表 編 3 易科罰金 罪刑 刑法 501 但書前 開 易科罰金 罪 併 合罰 待 罪 確定 另 刑法 502 決定 否聲 定刑 併 此 敘明 \\u3000 \\u3000 \\u3000 \\u3000 \\u3000 罪公訴 意旨 另 \\xa0   ㈠ 被告 109 年 5 月 15 日午 7 許新北市 板橋 區民路 2 段 81 巷 附近 看到 位真實 姓名 年籍 不詳 穿著 光高 運動服 男學生 稱 不 詳年籍 4 同 手法 欺騙 不 詳年籍 4 基類 似業務關 受 自己 支配 利用 機會 猥褻 犯意 手指 抓住 不詳 年籍 4 生殖器 拍攝 電子 訊 2 張 影片 1 段 \\xa0   ㈡ 被告 109 年 6 月 20 日午 7 許新北 市板 橋區 某 看到 位真實 姓名 年籍 不詳 穿著 錦 和 高運動服 男學生 稱 不 詳年籍 5 同 手法 欺騙 不 詳年籍 5 基類 似業務關 受 自己 支配 利用 機會 猥褻 犯意 隔著 不 詳年籍 5 內褲 手指 抓住 不詳 年籍 5 生殖器 拍攝 電子 訊 2 張 被告 犯 刑法 2282 利用 類似 業務關 機會 猥褻 罪嫌 犯罪 事實 證據定 證據定 犯罪 事實 刑事訴訟法 1542 定 明文 此謂 定 犯罪 事實 證據 直接 間 接證據須 達 通常 般 不致 懷疑 確信 真實 程度 始據 罪定 若 被告 否 犯罪 證明能 達此 程度 合理性 懷疑 存致法 形成 罪確 信根據 罪證 疑利 被告 證據法 遽 不利 被告 定 刑事訴訟法 1611 檢察官 被告 犯罪 事實 負舉 證責任 指出 證明 方法 此檢察官 起訴 犯罪 事實負 提出 證據 說 服實質 舉證責任 倘 提出 證據 不足 被 告罪 積極 證明 指出 證明 方法 從 說服 法院 形成 被 告罪 心證 基罪 推定 原自 被 告罪 判決 檢察官 被告 對 年 籍 不詳 45 犯 刑法 2282 利用 類似 業務關 機會 猥褻 罪嫌 據 被 告警 詢偵 自白 警局 數位 證物 勘報 告內 被告 遭扣 案手 機內 年籍 不詳 4 男 穿著 高運動服 照片 陰莖 遭手 抓住 照片 影片 年籍 不詳 5 男著 高運動服 照片 陰莖 遭手 抓住 照片 憑 檢察官 起訴 被告 佯 品牌 調員名 義搭訕 拍照 事實 刑法 228 利用 權勢 從關 被害 曲意 順從 妨害性自主 犯 不合 公訴 意旨 被告 犯 刑法 2282 利用 類似 業務關 機會 猥褻 罪嫌 云云 法合訊據 被告 審理否 開犯 辯稱 網路 抓取 影像 云云 年籍 不詳 5 卷 內僅 被告 遭扣 案手 機內 存取 數位 照片 2 張憑 偵 不公 開卷 74 照片 拍攝 到 被告 本 5 臉部 5 著 衣服 也 學 姓名 可供 找 5 除法 數位 照片 定隔 著內 褲觸 摸 5 生殖器 部位 被告 公訴 意旨 指 5 被害 過程乏 被害 指訴 過程 不明 可徒 憑 被告 前 不 供述 臆測 犯罪 另 4 被告 遭扣 案手 機內 存取 數位 影片 原審 勘驗 被告 坦拍 攝原 審卷 105 故此 被告 辯稱 網路 抓取 云云 可採 但 影片 拍攝 到 4 臉部 4 著 衣服 也 學 姓名 可供 找 4 勘驗 筆錄 雙方 對 話 內容 4 稱 可 真意 不明 欠缺 被害 指訴 情況 4 真實 年齡 過程 否違 反意 願遭 騷擾節 不明 單憑 被告 坦觸 摸 4 生殖器 仍 不能 證明 被告 犯罪 法 被 告罪 駁 回訴 說明 \\u3000 ㈠ 原審 審理 檢察官 提卷 內證據 資料 不能 證明 被告 被訴 109 年 5 月 15 日 109 年 6 月 20 日犯 利用 類似 業務關 機會 猥褻 罪 被 告罪 核 不合 \\u3000 ㈡ 檢察 官訴 意旨 被告 假冒 運動 品牌 調員身 佯 稱欲調 被害 身材 誘騙 方式 觸碰 被害 45 生殖器 拍攝 陰莖 勃起 照片 影片 情 被告 坦承 不諱 開 照片 影片 附卷 可 參觀諸 被告 拍攝 4 影片 被告 撫摸 4 陰莖 詢問 你 容易 反 嗎 ？ 4 回答 不 知道 被告 抓著 4 陰莖 移動套 弄 詢問 這樣 OK 嗎 ？ 4 回答 可 被告 問可 拍 到 反 嗎 ？ 4 猶豫 說 可拍照 嗎 ？ 你 要 拍 ？ 被告 將 4 內褲 穿著 隔著 內 褲撫 摸 4 陰莖 表示 要 形狀 出來 另 觀諸 被告 拍攝 5 照片 5 腰部 照片 被害 衣藍色 運動服 短褲 遭 褪 露出 深灰色 內褲 被告 手撫 摸 5 陰莖 位置 情原 審 勘驗 筆錄 開 影片 照片 附卷 可佐 被告 施用 假藉 運動 品牌 調員 詐術 此 詐術 取信 45 誤此 運動 品牌 調 身材 流程 對 被告 指示 深信不疑 唯從 嗣 被告 利用 45 開誤 欠缺 理性 思考 遵從 狀態 壓制 45 性自 主意 願觸 碰 45 生殖器 強制 猥褻 犯逞 故情 足 壓制 45 性 自主 意思 決定 自 被告 刑法 224 他 違 反意 願 方式 對 45 強制 猥褻 犯 客觀 要件 縱 刑法 228 構成 要件 不符 法院 不 妨害 事實 同範圍 內 自定 事實 法律 故 被告 起訴 書 犯罪 事實欄 犯罪 事實否 涉嫌 強制 猥褻 罪犯 原審 審理 範圍 原 審此 漏 審酌 遽 罪判 決理 不備 違法原 審判決 開事 用法 尚洽將 被告 此罪 判決 撤銷 更 妥 適判決 但 45 身 不明 情況 欠缺 被害 指訴 重要 證據 方法 法僅 被告 述 卷 內 可辨 識 被害 照片 影片 定 被告 犯罪 當何 罪理 敘述 前 檢察官 提出 證據 不足 被 告罪 積極 證明 不能 臆測 方式 補足開 偵不 完備 自 被 告罪 訴 仍 相異 評價訴 理駁 回 \\u3000 \\u3000 \\u3000 \\u3000 \\u3000 據斷 刑事訴訟法 36836913642991300 判決本 檢察官 何克凡 公訴 檢察 官盧 祐 涵訴 檢察官 壽勤偉 到庭 執職務 \\u3000 \\u3000 華 \\u3000 \\u3000 民 \\u3000 \\u3000 國 \\u3000 \\u3000 112   \\u3000 年 \\u3000 \\u3000 1   \\u3000 \\u3000 月 \\u3000 \\u3000 11 \\u3000 \\u3000 日 \\xa0   \\xa0   \\xa0   \\xa0   \\xa0   \\xa0   \\xa0   \\xa0   \\xa0   \\xa0   刑事 庭 \\xa0   審判長 法 \\u3000 官 \\xa0   劉方慈 \\xa0   \\xa0   \\xa0   \\xa0   \\xa0   \\xa0   \\xa0   \\xa0   \\xa0   \\xa0   \\xa0   \\xa0   \\xa0   \\xa0   \\xa0   \\xa0   \\xa0   \\xa0   \\xa0   法 \\u3000 官 \\xa0   蕭世昌 \\xa0   \\xa0   \\xa0   \\xa0   \\xa0   \\xa0   \\xa0   \\xa0   \\xa0   \\xa0   \\xa0   \\xa0   \\xa0   \\xa0   \\xa0   \\xa0   \\xa0   \\xa0   \\xa0   法 \\u3000 官 \\xa0   許曉微 正本 證明 原本 異 不服 本判決 收受 送達 20 日內 提出 訴書狀 敘述 訴理訴 20 日內 補 提理書須 他造 當事數 附繕 本 切勿 送級 法院 維持 審罪 判決 檢察 官訴 理須 受 刑事 妥速 審判法 9 限制 刑事 妥速 審判法 9 除前 情形 審 法院 維持 審罪判 決訴 理列 事限判決 牴 觸法 判決 司法院 解釋 判決 判例 刑事訴訟法   377     379     393     1   前 審理 不 \\xa0   \\xa0   \\xa0   \\xa0   \\xa0   \\xa0   \\xa0   \\xa0   \\xa0   \\xa0   \\xa0   \\xa0   \\xa0   \\xa0   \\xa0   \\xa0   \\xa0   \\xa0   \\xa0   書記官 \\xa0   徐仁豐 \\u3000 \\u3000 華 \\u3000 \\u3000 民 \\u3000 \\u3000 國 \\u3000 \\u3000 112   \\u3000 年 \\u3000 \\u3000 1   \\u3000 \\u3000 月 \\u3000 \\u3000 11 \\u3000 \\u3000 日 附錄 本案 罪科 刑法 全文 華 刑法 224 強制 猥褻 罪 男女 強暴脅迫 恐嚇 催眠 術 他 違 反意 願 方法 猥褻   6   月   5   年期 徒刑 兒童 少年 福利 權益 保障法 112 成年 教唆 幫助 利用 兒童 少年 犯罪 共同 實施 犯罪 故意 對 犯罪 加重 刑 但 各罪 被害 兒童 少年定 特別 罰 從兒 童少 年 犯罪 主管 機關 獨立 告訴 兒童 少年 性剝削 防制 例 36 拍 攝 製 造 兒 童 少 年 性 交 猥褻 圖畫 照片 影片 影帶 光碟 電子 訊 他 物品   1   年   7   年期 徒刑 併 科新 臺 幣   1   百萬元罰 金 招募 引誘 容留 媒介 協助 他 法兒 童少 年 被 拍 攝 製 造 性 交 猥褻 圖畫 照片 影片 影帶 光碟 電子 訊 他 物品   3   年   7   年期 徒刑 併 科新 臺 幣   3   百萬元罰 金強 暴脅 迫藥劑 詐術 催眠 術 他 違反 本意 願 方法 兒童 少年 被 拍 攝 製 造 性 交 猥褻 圖畫 照片 影片 影帶 光碟 電子 訊 他 物品   7   年期 徒刑 併 科新 臺 幣   5   百萬元罰 金意 圖營利 犯前 罪 各 加重 刑前 遂 犯罰   1     4   物品 不問 犯罪 否沒收 性騷擾 防治法 25 意圖 性騷擾 乘 不 抗拒 親吻 擁抱觸 摸 臀部 胸部 他 身體 隱私 2 年期 徒刑 拘役 科 併 科新 臺 幣 10 萬元罰 金前 罪須 告訴 【 附表 】 扣案物 影像 電子 檔 編扣 案物手 機內 影像 用途 影像 內容 \\xa0 1 被告 iPhone 手機 1   支含 SIM   卡 1   張原 審卷 143   照片 手機 數位 鑑識 報告 證物 1   被告 事實欄 佯裝 品牌 調員用 \\xa0 2 警方 將編 1iPhone 手機 內 刪除 檔案 還原 發現 內 被告 儲存事 實欄 拍 攝 影片 檔案 1   個 還原 檔案 儲存 警方 蒐 證 影像 光碟 光碟 置原 審卷 證物袋 內 偵卷 證物袋 內 ⒈ 數位 影像 檔名 cplWeVqLRwOeLcXZkazDQhbooQIO0c . mov ⒉ 影片 內容 被告 撫摸 2 陰莖 拉 2 內 褲將 2 陰莖 露 影像 詳細 內容 原審 勘驗 筆錄 影像 畫面 截圖 可見 被害 身穿 學校 運動服 畫面 【 附表 】 編對 犯罪 事實欄 判決 備 註 \\xa0 1 犯罪 事實 欄訴 駁 回原 審判決 成年 故意 對 少年犯 強制 猥褻 罪期 徒刑 7   月 扣案 附表 編 1   示手機 沒收 \\xa0 2 犯罪 事實欄 撤銷 犯 違反 本意 願 方法 少年 被 拍 攝 猥褻 電子 訊 罪期 徒刑 柒年 貳 月 扣案 附表 編 1   示手 機同 附表 編 2 數位 影像 電子 訊 沒 收原 審判 決犯 詐術少 年 被 拍 攝 猥褻 電子 訊 罪期 徒刑 7 年 2 月 扣案 附表 編 1 示手 機編 2 數位 影像 電子 訊 沒收 \\xa0 3 犯罪 事實 欄訴 駁 回原 審判 決犯 性騷擾 罪期 徒刑 2   月 易科罰金 新 臺 幣 1 千元 折算 1 日 扣案 附表 編 1   示手機 沒收']\n",
      "(1, 300, 300)\n",
      "[['潘秉鈞', '鎮律', '手機同', '發歲', '調員欲', '褲待', '脫運動', '褲竟', '突手觸', '發歲', '調員欲', '褲頭拉強', '揭名義', '程竟', '例詐術', '稱露', '姊母', '石金澤', '適格除', '卷爭', '執截圖', '雜聽', '從律', '當作定', '開卷夾', '採關', '露數位', '辯數位', '臉部法', '開卷方', '偵卷方', '交辨識', '傳真過', '場夾', '面承辦', '警土', '函覆能', '縱店', '影礙', '除例', '不瞬間', '但佐當', '空場', '提問強', '迫不過', '調拍', '露將', '拉內褲', '陰囊露', '往拉穿', '猶藉', '襲式觸', '碰此', '舉違', '過列', '佯藉', '義搭訕', '進錯誤', '件國', '職生極', '審卷案', '發早', '徒開', '義誘', '偷襲觸', '審送亞', '編定執', '觸摸意', '鐘內來', '義搭訕', '審詐術', '連定', '獨維持將', '義挑', '選學學生', '主機台', '報告份', '關連內', '編兒童', '引誤', '末用', '編手機', '訴執辯', '編駁', '編審酌', '光高', '似業務關', '似業務關', '義搭訕', '法合訊據', '張憑', '本臉', '部著', '定隔', '過程乏', '坦拍', '騷擾節', '坦觸', '調員身', '稱欲調', '參觀諸', '移動套', '唯從', '尚洽將', '補足開', '執職務華民國', '不書', '豐華民國', '例拍', '調員用', '將編手', '拉內', '手機同']]\n",
      "[['高', '法院', '刑事', '判決訴', '新北', '地方', '檢察署', '檢察', '官訴', '被告', '另案', '法務部', '執選任', '辯護', '楊東', '師法', '扶律', '師列訴', '兒童', '少年', '性剝削', '防制', '例', '不服', '新北', '地方法院', '華', '年月日', '審判', '決新北', '地方', '檢察署', '訴判決', '附表', '編定', '執刑', '撤銷', '犯', '違反', '本意', '願', '方法', '少年', '被', '拍', '攝', '猥褻', '電子', '訊', '罪期', '徒刑', '柒年', '貳', '月', '扣案', '附表', '編示', '附表', '編數位', '影像', '電子', '訊', '沒收', '他', '訴駁', '回開', '撤銷', '改判', '訴駁', '回', '附表', '編刑', '執期', '徒刑', '柒年', '肆', '月', '犯罪', '事實', '成年', '年月日', '午許', '新北市', '土城', '區', '裕民', '路', '巷弄', '口見', '少年', '年', '月', '生案', '代真實', '姓名', '年籍', '詳卷', '身穿', '高級', '工業', '職業', '學校', '運動服', '校名', '詳卷', '稱', '高工', '運動服', '知悉', '滿歲', '少年', '仍', '對', '佯稱', '自己', '運動', '品牌', '拍', '攝', '青少年', '身形', '照片', '做調', '不疑', '他', '便', '隨同', '前往', '同市', '區路', '巷弄', '夾', '娃娃', '機店', '內', '附表', '編示', '手機', '表示', '要', '拍', '攝內', '意圖', '性騷擾', '乘', '不', '抗拒', '際', '摸', '生殖器', '將手', '撥開', '表示', '拒絕', '此知', '不願', '此類', '方式', '身體', '接觸', '竟', '提', '昇', '對', '少年', '強制', '猥褻', '犯意', '這', '工作', '不顧', '拒絕', '違', '反意', '願將手', '伸入', '內褲', '裏', '撫', '摸', '生殖器', '對', '強制', '猥褻', '逞', '年月日', '午許', '新北', '市區', '出口', '附近', '巷子', '裡面', '見', '年', '月', '生案', '代真實', '姓名', '年籍', '詳卷', '身穿', '高工', '運動服', '知悉', '可能', '滿歲', '少年', '仍', '對', '佯稱', '自己', '運動', '品牌', '拍', '攝', '穿著', '身形', '照片', '不疑', '他', '便', '隨同', '到', '同市', '區路', '巷弄', '夾', '娃娃', '機店', '內', '工作', '需要', '名', '要求', '拍攝', '半身', '內褲', '照片', '俟', '將褲', '脫', '基縱', '對', '少年', '強制', '猥褻', '違反', '本意', '願', '方法', '少年', '被', '拍', '攝', '猥褻', '電子', '訊', '數位', '影像', '違', '本意', '犯意', '同意', '自將', '內褲', '手來', '回撫', '摸', '露出', '生殖器', '違', '反意', '願', '強制', '猥褻', '同', '用', '附表', '編示', '手機', '拍', '攝錄', '影撫', '摸', '生殖器', '過程', '違', '反意', '願', '方法', '被', '拍', '攝開', '遭撫', '摸', '裸露', '生殖器', '過程', '猥褻', '電子', '訊', '逞', '另', '年月日', '午', '海山', '捷運站', '出口', '附近', '路見', '年', '月', '生案', '發年', '滿歲', '代真實', '姓名', '年籍', '詳卷', '身穿', '高工', '制服', '前', '手法', '徵', '同意', '附近', '巷子', '內用', '附表', '編示', '手機', '拍', '攝', '露出', '內褲', '褲頭', '電子', '訊', '數位', '照片', '張拍', '攝過', '意圖', '性騷擾', '乘', '不', '抗拒', '際', '將手', '伸入', '內', '褲觸', '摸', '生殖器', '遭當場', '怒', '罵', '隨', '停手', '少年', '少年', '少年', '母', '法定代理', '訴新北', '市政府', '警察局', '土城', '局報', '告檢察官', '提出', '告訴', '新北', '地方', '檢察署', '檢察官', '偵', '起訴', '理罪', '壹', '程序', '方面', '審理', '範圍', '本案', '刑事訴訟法', '年月日', '修正', '施', '年月日', '繫', '修正', '現', '刑事訴訟法', '判斷', '訴範圍', '判決', '部訴', '關視訴', '但', '關罪', '免訴', '不', '受理', '不此限', '併', '參照', '立法', '理', '但', '書', '稱罪', '免訴', '不', '受理', '不內限', '審判', '決關', '理內', '說明', '不', '另罪', '免訴', '不', '受理', '本案', '檢察官', '起訴', '訴', '被告', '年月日', '午許', '另', '手機', '拍', '攝', '少年', '穿內', '褲露', '陰毛', '電子', '訊', '被告', '此涉', '犯兒童', '少年', '性剝削', '防制', '方法', '製', '造', '少年', '猥褻', '電子', '訊', '罪嫌', '原審定', '卷', '內', '附數位', '照片', '法', '清楚', '辨識出', '照片', '起訴', '意旨', '陰毛', '情事', '不', '成立', '詐術', '少年', '被', '拍', '攝', '猥褻', '電子', '訊', '罪', '不', '另', '罪見', '理欄', '貳', '本案', '檢察官', '僅罪', '起訴', '犯罪', '事實訴', '被', '告罪', '訴審判', '範圍', '不', '另罪', '當事訴', '非', '審判', '範圍', '合先', '敘明', '被告', '觸犯', '刑法', '法', '罪名', '檢察官', '公訴', '性害', '犯罪', '防治法', '性害', '犯罪', '性害', '犯罪', '防治法', '同', '法施', '細', '本案', '判決', '揭露', '姓名', '年籍', '他', '足', '資識別', '彼身', '資訊代稱', '證據', '能力', '本判', '決定', '犯罪', '事實', '引用', '供述', '證據', '檢察官', '同意', '證據', '能力', '被告', '選任', '辯護', '警詢', '審判陳述', '證據', '能力', '警員', '偵述', '被害', '陳', '述', '具', '同性', '累積', '證據', '補強', '證據', '此餘', '供述', '證據', '證據', '能力', '意見', '迄言詞', '辯終', '結前', '異議', '審酌', '證據', '不', '含', '前述', '被告', '辯護爭', '執資', '料', '製', '作', '情', '況', '違', '法', '不', '當', '證', '明力', '明顯過', '低', '瑕疵', '作證據', '適當非', '供述', '證據', '核', '違反', '法定程序', '取', '情形', '本案', '犯罪', '事實', '具關', '聯性', '證據', '能力', '關', '翻拍', '自', '娃娃', '機店', '內', '監視錄', '影畫面', '被告', '用手', '機內', '數位', '影像', '截圖', '派生', '證據', '被告', '辯護', '證據', '能力', '意見', '內容', '可證明', '被告', '本', '案犯', '證', '明力', '爭辯', '另', '詳述', '他', '據', '引用', '作定', '被告', '犯罪', '事實', '證據', '含', '警詢', '被告', '辯護爭', '執證據', '能力', '不贅', '證據', '能力', '定', '另', '被告', '自白', '出自', '意識陳述', '業據', '被告', '陳', '明卷', '卷', '雖', '被告', '稱', '審遭', '羈押', '心情', '複', '師建議', '罪此', '僅涉', '被告', '自白', '動機', '不', '影響', '自白', '出', '任意性', '定故', '倘', '自白', '事實', '相符', '被告', '犯罪', '事實', '證據', '併', '此', '敘明', '貳', '實體', '方面', '定', '犯罪', '事實', '憑', '證據', '理訊據', '被告', '審理', '否犯', '辯稱', '沒用', '市場', '調名', '義騙', '他們', '只', '和', '純', '聊天', '問他', '們', '能', '不能', '拍照', '拍攝', '他們', '影像', '他們', '當不', '知道', '要', '拍', '生殖器', '只', '被', '拍', '到', '生殖器', '沒', '他們', '同意', '用手', '碰觸', '他們', '生殖器', '確實', '撥開', '拒絕', '還碰', '生殖器', '事實欄', '附表', '編', '犯罪', '事實業', '據證', '告訴', '偵審理', '證述', '明確', '他', '卷', '卷', '附表', '編手', '機扣', '案手', '機內', '掀起', '衣服', '數位', '照片', '偵卷', '偵', '不公', '娃娃', '機店', '內', '監視', '錄影', '翻拍', '照片', '偵卷', '卷', '可', '憑', '被', '告警', '詢偵原', '審審理', '坦承', '犯罪', '事實欄', '地', '品牌', '調員名', '義找', '拍', '攝', '身形', '照片', '同意', '用手', '碰觸', '他', '生殖器', '明確', '偵卷', '原', '審卷', '卷', '可補', '強證', '證述', '可信', '謂', '補強', '證據本', '不證明', '犯罪', '構成', '要件', '全部', '事實', '必要', '辯護泛', '欠缺', '補強', '證據爭', '執證', '證詞', '被告', '空言', '爭辯', '將手', '伸入', '褲管', '直接', '碰觸', '生殖器', '節可', '事', '實欄', '附表', '編', '犯罪', '事實業', '據證', '告訴', '偵審理', '證述', '明確', '偵卷', '卷', '附表', '編手', '機扣', '案手', '機內', '遭撫', '摸', '生殖器', '生殖器', '影像', '原審', '勘驗', '數位', '影像', '勘驗', '筆錄', '偵卷', '偵', '不公', '開卷', '原', '審卷', '卷', '可', '憑', '被', '告警', '詢偵原', '審審理', '坦承', '犯罪', '事實欄', '地', '品牌', '調員名', '義找', '拍', '攝', '身形', '照片', '同意', '用手', '碰觸', '他', '生殖器', '拍', '攝撫', '摸', '生殖器', '數位', '影像', '明確', '偵卷', '原', '審卷', '可補', '強證', '證述', '可信', '辯護泛', '稱', '補強', '證據', '云云', '可採', '辯護爭', '影像', '拍', '攝到', '辨識否', '云云', '證審理', '遠距', '方式', '訊問', '提示', '照片', '偵', '不公', '照片', '稱', '來', '黑白照片', '法明', '確辨識', '卷', '附', '裸露', '生殖器', '照片', '否本', '但證', '偵檢察官', '當庭', '提交', '照片', '辨', '明白', '證稱', '照片', '本', '偵卷', '同方', '照片', '著', '制服', '繡學', '姓名', '張', '照片', '擷', '取自', '被告', '手機', '內連續', '攝錄', '數位', '影像', '檔案', '附表', '編數位', '影像', '檔案', '原審', '勘驗', '卷原', '審卷', '足', '可辨', '識', '特定', '名遭', '拍', '攝', '猥褻', '數位', '影像', '確實誤', '辯護', '此節', '指據', '辯護聲', '調取', '此現', '娃娃', '機店', '當日', '監視錄', '影畫', '新北', '市政府', '警察局', '土城', '局', '年月日', '新北', '調取', '原卷', '卷', '卷', '內', '被告', '自拍', '攝數位', '影片', '內', '監視錄', '本案', '犯罪', '事實定', '附此', '敘明', '刑法', '稱', '他', '違', '反意', '願', '方法', '指列', '舉強', '暴脅迫', '恐嚇', '催眠', '術', '他切', '違反', '被害', '意願', '方法', '妨害', '被害', '意思', '自言', '不類', '似列', '舉強', '暴脅迫', '恐嚇', '催眠', '術', '相當', '他', '強制', '方法', '足壓', '抑', '被害', '性', '自主', '決定權', '必要', '最高法院', '次', '刑事', '庭會議', '決議', '參照', '此稱', '違', '反意', '願', '方法', '不', '被害', '達', '不能', '抗拒', '程度', '必要', '祇', '須', '施用', '方法', '違反', '被害', '意願足', '壓抑', '被害', '性', '自主', '決定', '權足', '當兒童', '少年', '性剝削', '防制', '例罰', '強暴脅', '迫藥劑', '詐術', '催眠', '術', '他', '違反', '本意', '願', '方法', '兒童', '少年', '被', '拍', '攝', '製', '造', '性交', '猥褻', '圖畫', '照片', '影片', '影帶', '光碟', '電子', '訊', '他', '物品', '手段', '舉強', '暴脅', '迫藥劑', '詐術', '催眠', '術', '他切', '違反', '被害', '意願', '方法', '證偵', '審理證', '稱當', '被告', '伸手', '摸', '生殖器', '嚇到', '退', '把', '他', '手', '撥開', '但', '他還', '伸手', '過來', '摸', '生殖器', '摸', '了', '段間', '娃娃', '機店', '監視', '錄影', '翻拍', '照片', '可參', '雖', '遭', '被告', '詐騙', '讓', '被告', '拍攝', '身著', '衣物', '照片', '合顯', '同意', '被告', '觸摸', '生殖器', '被告', '自承', '知悉', '將手', '撥', '開表達', '拒絕', '仍', '稱', '這', '工作', '出手', '強撫', '摸', '生殖器', '此', '猥褻', '舉動', '妨害性自主', '決定', '意思', '自辯護', '警詢', '警察', '暴脅迫', '違反', '你', '意願', '方式', '對', '你', '實施', '強制', '猥褻', '證答', '稱', '都', '沒', '偵卷', '被告', '違', '反意', '願', '云云', '對', '此證', '審理證', '稱當', '被告', '沒威脅', '也', '沒用', '暴力', '回答', '沒', '但', '事實', '沒', '同意', '卷', '明白', '說明', '指', '被告', '非用', '強暴脅迫', '方式', '逼範', '但當', '被告', '違', '反意', '願', '甚明', '法強', '暴脅', '強制', '猥褻', '罪', '例示', '手段', '開警', '詢述', '不', '影響', '偵審理', '證述', '可信', '從據利', '被告', '定證', '偵證', '稱', '被告', '當說', '他', '個', '運動', '品牌', '調員', '想要', '攝', '襪子', '鞋子', '說', '要', '拍', '形象', '照拍', '完', '肚子', '把', '運動褲', '褲頭', '往', '拉', '露出', '內褲', '褲頭', '把', '內', '褲往', '拉', '露出', '生殖器', '觸摸', '生殖器', '用', '手機', '拍照', '違', '反意', '願摸', '秒', '沒', '反過', '來', '來', '說', '不要', '推開', '他', '手', '整個', '事情', '結束', '嚇到', '不', '知道', '要何', '啟齒', '扣案', '被告', '手機', '內', '拍', '攝數位', '影片', '原審', '勘驗', '筆錄', '可稽據', '勘驗', '結果', '影片', '全長', '約', '秒', '影片', '秒', '到', '秒', '被告', '開始', '隔', '著褲', '摸', '生殖器', '接著', '脫掉', '褲', '多次', '隔著', '內', '褲觸', '摸', '陰莖', '影片', '秒', '到', '秒', '被告', '從', '內褲', '褲頭', '伸手', '進去', '摸', '陰莖', '隔', '著內', '褲撫', '摸', '陰莖', '影片', '秒', '到', '秒', '拉', '內褲', '褲頭', '陰莖', '內褲', '穿', '好', '隔', '著內', '褲撫', '摸', '陰莖', '調整', '名次', '陰莖', '被告', '握住', '陰莖', '左右', '移動', '多次', '撫摸此', '抓住', '內褲', '好', '說', '趕間', '被告', '仍', '隔', '著內', '褲撫', '摸', '陰莖', '說', '你', '容易', '反', '那種', '說', '還好', '拉', '自己', '運動褲', '完整', '勘驗', '內容見', '原', '審卷', '過程', '從', '同意', '被告', '脫內褲', '同意', '觸摸', '拍', '攝', '生殖器', '被告', '自承', '知悉', '獲', '同意', '手觸', '摸', '生殖器', '調', '拍', '攝', '身形', '名義進', '撫', '摸', '生殖器', '顯非', '短', '暫偷', '猥褻', '舉動', '妨害性自主', '決定', '意思', '自證', '偵稱', '過程', '約', '秒', '審理稱', '摸間', '不記', '但證', '對間', '法', '精準', '描述', '致前', '開錄影', '情形', '不符', '自可', '採利', '被告', '定僅', '偷', '襲式', '短', '暫', '碰觸', '性騷擾', '被告', '撫摸', '猥褻', '舉動', '刑法', '違', '反意', '願', '方法', '強制', '猥褻', '拍', '攝撫', '摸', '生殖器', '反', '本意', '願', '方法', '辯護', '被告', '僅短', '暫觸', '碰', '他', '生殖器', '當', '性騷擾', '云云', '現場', '監視錄', '影畫面', '附表', '編數位', '影片', '述', '不合', '自可', '採辯', '被告', '施詐術', '拍', '攝', '云云', '但凡', '違反', '本意', '願', '方法', '兒童', '少年', '被', '拍', '攝', '猥褻', '電子', '訊', '當兒童', '少年', '性剝削', '防制', '例罪', '詐術', '不', '舉種', '非法', '方法', '本案', '被告', '調名', '騙取', '同意', '拍攝', '身形', '照片', '同意', '被告', '撫摸', '拍', '攝', '生殖器', '猥褻', '影片', '被告', '擅自', '拍攝', '猥褻', '電子訊當', '違反', '本意', '願', '非法', '方法', '被告', '可解', '免罪', '罪責', '辯護', '被告', '不', '知悉', '滿歲', '少年', '云云', '但', '兒童', '少年', '福利', '權益', '保障法', '兒童', '少年', '性剝削', '防制', '例兒童', '少年', '被害', '不', '明知', '被害', '年齡', '必要', '案發', '實際', '年齡', '歲', '歲', '此性', '害代', '真實', '姓名', '對', '照表', '代真實', '姓名', '對', '照表', '偵', '不公', '開卷', '可', '憑', '滿歲', '少年', '被告', '偵原', '審審理', '自承', '知悉', '約', '歲', '偵卷', '原', '審卷', '當身', '著', '高工', '制服', '被告', '前開', '自白', '核事實', '相符', '知悉', '少年', '猶對', '犯', '強制', '猥褻', '罪合', '兒童', '少年', '福利', '權益', '保障法', '加', '重要', '目前', '學制', '學高', '可能', '滿歲', '此', '社會', '生活', '定般', '能', '理解', '知悉', '被', '告警', '詢', '也', '坦承', '選定', '高生', '對象', '偵卷', '原審', '審理', '承', '知道', '可能', '高', '高原', '學間', '當身', '著', '高工', '制服', '被告', '主觀', '預見', '可能', '滿歲', '卻', '仍', '執意', '揭犯', '主觀', '具', '不', '確定', '故意', '前開', '辯避', '重輕', '可', '採事', '實欄', '附表', '編', '犯罪', '事實業', '據證', '告訴', '偵審理', '證述', '明確', '偵卷', '卷', '附表', '編手', '機扣', '案手', '機內', '掀起', '衣服', '露出', '內褲', '褲頭', '照片', '偵卷', '偵', '不公', '開卷', '卷', '可', '憑', '辯護', '雖稱', '照片', '否', '不明', '云云', '但', '除證', '偵', '明白', '證稱', '照片', '本', '偵卷', '照片', '著', '制服', '繡學', '姓名', '可確', '實辯護', '此節', '辯', '可', '採此', '被', '告警', '詢偵原', '審審理', '坦承', '犯罪', '事實欄', '地', '品牌', '調員名', '義找', '拍', '攝', '身形', '照片', '同意', '用手', '碰觸', '他', '生殖器', '明確', '偵卷', '原', '審卷', '卷', '可補', '強證', '證述', '可信', '補強', '證據', '不證明', '犯罪', '構成', '要件', '全部', '事實', '必要', '辯護', '照片', '拍攝', '到', '性騷擾', '過程', '不能', '補強', '云云', '理', '本案', '事證明', '被告', '犯堪定', '法科', '罪', '犯罪', '事實欄', '附表', '編罪', '被告', '年', '月', '生成', '年', '滿歲', '少年', '核', '被告', '犯兒童', '少年', '福利', '權益', '保障法', '刑法', '成年', '故意', '對', '少年犯', '強制', '猥褻', '罪', '加重', '刑', '被告', '開始', '乘', '不', '抗拒', '觸摸', '生殖器', '偷襲式', '短', '暫性', '不', '當觸', '摸', '性騷擾', '遭當場', '拒絕', '竟', '仍', '不', '停止', '違', '反意', '願持續', '撫', '摸', '生殖器', '被告', '提', '昇', '犯意', '強制', '猥褻', '性騷擾', '犯', '犯意', '提', '昇', '強制', '猥褻', '吸收', '不', '另罪', '公訴', '意旨', '起訴', '事實明', '當年', '滿歲', '少年', '但', '犯法', '僅', '被告', '涉犯', '強制', '猥褻', '罪', '引用', '兒童', '少年', '福利', '權益', '保障法', '成年', '故意', '對', '少年犯', '強制', '猥褻', '罪容洽', '起訴', '基本', '事實同', '刑事訴訟法', '變', '更', '起訴', '法', '犯罪', '事實欄', '附表', '編罪', '電子', '訊', '通常', '數位', '訊類', '比訊種', '動電話', '電子', '數位', '機器', '對', '他', '拍', '攝', '裸照', '性交', '影片', '利用', '影像', '感', '功能', '將物體', '反射光', '轉換', '數位', '訊', '壓縮', '儲存', '內建', '記憶體', '記憶卡', '透過', '電子視', '覺化', '顯示器', '讓', '電子', '訊', '可', '被', '視', '覺化', '包括', '電視', '電腦', '平板', '顯示器', '輸出', '若', '證據', '證明數', '位訊業過', '沖', '洗', '壓', '製', '過', '程', '成', '實', '體', '物品', '錄影', '帶', '光碟', '相紙', '拍', '攝', '製', '造', '僅', '電', '子', '訊', '階', '段', '被告', '手機', '滿歲', '少年', '被', '拍', '攝', '猥褻', '檔案', '儲存', '手機', '內電子', '訊', '數位', '影像', '被告', '成年', '滿歲', '少年', '被告', '預見', '仍', '對', '少年', '強制', '猥褻', '拍攝', '猥褻', '電子', '訊', '違', '本意', '核', '被告', '犯兒童', '少年', '福利', '權益', '保障法', '刑法', '成年', '故意', '對', '少年犯', '強制', '猥褻', '罪兒童', '少年', '性剝削', '防制', '例違', '反', '本意', '願', '方法', '少年', '被', '拍', '攝', '猥褻', '電子', '訊', '罪公訴', '意旨', '被告', '犯詐術', '少年', '被', '製', '造', '猥褻', '電子', '訊', '罪', '更正', '起訴', '事實明', '當年', '滿歲', '少年', '但', '犯法', '僅', '被告', '涉犯', '強制', '猥褻', '罪', '引用', '兒童', '少年', '福利', '權益', '保障法', '成年', '故意', '對', '少年犯', '強制', '猥褻', '罪容洽', '起訴', '基本', '事實', '同法變', '更', '起訴', '法犯', '兒童', '少年', '性剝削', '防制', '例罪', '本', '被害', '少年', '特別', '罰', '從', '不兒童', '少年', '福利', '權益', '保障法', '附此', '敘明', '犯罪', '事實欄', '附表', '編罪', '核', '被告', '此犯', '性騷擾', '防治法', '性騷擾', '罪公訴', '意旨', '被告', '犯', '刑法', '利用', '類似', '業務關', '機會', '猥褻', '罪嫌', '云云', '被告', '雖', '假借', '運動', '品牌', '調員名', '騙', '同意', '拍攝', '內褲', '照片', '過程', '乘', '機撫', '摸', '生殖器', '被告', '客觀間', '任何', '業務', '支配', '關實', '受騙', '當才', '配合', '拍攝', '內褲', '照片', '進遭', '被告', '摸', '生殖器', '非礙', '被告', '權勢', '支配', '關曲', '從', '同意', '被告', '撫摸', '生殖器', '檢察官', '被告', '利用', '業務', '機會', '猥褻', '罪容', '誤會', '但', '起訴', '社會', '基本', '事實', '同法變', '更', '起訴', '法', '被告', '犯罪', '事實', '欄犯', '成年', '故意', '對', '少年', '強制', '猥褻', '違反', '本意', '願', '方法', '少年', '被', '拍', '攝', '猥褻', '電子', '訊', '罪', '密接', '同', '地', '局部', '重疊觸', '犯數', '罪名', '想像', '競合關', '從重', '違反', '本意', '願', '方法', '少年', '被', '拍', '攝', '猥褻', '電子', '訊', '罪斷', '被告', '犯', '成年', '故意', '對', '少年犯', '強制', '猥褻', '罪', '犯罪', '事實欄', '違反', '本意', '願', '方法', '少年', '被', '拍', '攝', '猥褻', '電子', '訊', '罪', '犯罪', '事實欄', '性騷擾', '罪', '犯罪', '事實欄', '被害', '間', '地點', '不同', '被告', '犯意', '各別', '互殊', '併', '罰', '本原', '東紀念', '醫院', '對', '被告', '實施', '精神', '鑑定', '鑑定', '結果', '被告', '雖', '可能', '疑似', '非', '特定', '性', '偏好', '症', '但', '此性', '偏好', '不影響', '責任', '能力', '此亞', '東紀念', '醫院', '年月日', '精神', '鑑定', '報告', '書原', '審卷', '被告', '責任', '能力', '撤銷', '附表', '刑科', '刑說', '明原', '審', '被告', '附表', '編犯', '兒童', '少年', '性剝削', '防制', '例事', '證明', '確罪', '科刑', '固非', '見', '強制', '猥褻', '性騷擾', '罪', '雖出', '違反', '被害', '意願', '方法', '但', '被害', '不', '抗拒', '際', '出', '不意', '乘隙', '短暫', '偷', '襲式', '騷擾', '觸摸', '對象', '不性', '慾', '滿足', '必要', '尚達', '妨害', '性', '意思', '自但', '破壞', '被害', '享性性', '別性', '關寧靜', '不受', '干擾', '平和', '狀態', '言', '倘影響', '被害', '性', '意思', '形成', '決定', '自強制', '猥褻', '證偵', '審理證', '原審', '勘驗', '被告', '攝錄', '影像', '檔案示', '被告', '將近', '回撫', '摸', '生殖器', '非', '趁', '不備', '短', '暫偷', '襲式', '觸摸', '也', '從', '同意', '被告', '此舉', '被告', '違', '反意', '願強', '猥褻', '自', '成立', '成年', '故意', '對', '少年犯', '強制', '猥褻', '罪', '但', '兒童', '少年', '性剝削', '防制', '例罪', '想像', '競合僅', '從', '重原', '審將', '此', '想像', '競合犯', '輕罪', '改', '性騷擾', '罪', '接續', '犯容', '違誤', '被告', '雖', '佯', '品牌', '調員名', '騙取', '同意', '拍攝', '身形', '但', '詐術', '錯誤', '同意', '被告', '拍', '攝撫', '摸', '生殖器', '數位', '影片', '從', '同意', '被告', '此舉', '被告', '仍強', '違反', '本意', '願', '方法', '少年', '被', '拍', '攝', '猥褻', '電子', '訊', '原', '少年', '被', '拍', '攝', '猥褻', '電子', '訊', '罪', '妥', '被告', '訴執', '辯詞', '可採', '前述', '訴', '雖理', '但', '原', '審判決', '附表', '編', '犯罪', '開事', '用法', '違誤', '可維持', '此', '沒收', '需', '犯罪', '事實定', '前提', '執刑', '可單', '附表', '編定', '執刑', '撤銷', '改判', '審酌', '被告', '犯罪', '動機', '手段', '目滿足', '自身', '性', '慾', '佯', '品牌', '調員名', '搭', '訕', '犯案', '對', '身心', '健全', '發展', '影響', '甚鉅犯', '造成', '損害', '非輕', '考量', '犯態度', '前', '犯過', '相類', '似犯', '本案', '自述', '智識', '程度', '家庭', '生活', '濟狀況', '切情', '狀期', '徒刑', '年', '月', '附表', '編示', '手機', '被告', '供', '本案', '犯罪', '用', '刑法', '本次', '犯', '宣告', '沒收', '附表', '編示', '數位', '影像', '被告', '拍攝', '儲存', '開手', '機內', '對', '猥褻', '電子訊業', '原審', '勘驗', '明確', '前述', '兒童', '少年', '性剝削', '防制', '例', '宣告', '沒收餘', '扣案', '支星', '手機', '支手', '機電腦', '警方', '進數位', '蒐', '證結果', '偵卷', '扣押', '物品', '目錄', '表扣', '案物', '內', '本案', '被害', '資料', '包含', '還原', '刪除', '資料', '數位', '證物', '勘察', '可佐偵', '不公', '開卷', '同卷', '結證據', '可扣', '案物', '本案', '直接', '本案', '沒收', '猥褻', '電子', '訊', '故', '不', '沒', '收駁', '回訴', '附表', '編原', '審', '被告', '犯', '附表', '編示', '各罪', '事證明', '確別', '附表', '少年', '福利', '權益', '保障法', '刑法', '成年', '故意', '對', '少年犯', '強制', '猥褻', '罪法', '加重', '刑', '附表', '編', '性騷擾', '防治法', '性騷擾', '罪公訴', '意旨', '漏', '引法', '法變', '更', '起訴', '法審酌', '被告', '犯罪', '動機', '手段', '目對', '身心', '健全', '發展', '影響', '甚鉅犯', '造成', '損害', '非輕', '考量', '犯態度', '素智識', '程度', '家庭', '生活', '濟狀況', '切情', '狀犯', '成年', '故意', '對', '少年犯', '強制', '猥褻', '罪期', '徒刑', '月', '犯', '性騷擾', '罪期', '徒刑', '月', '易科罰金', '折算', '標準', '附表', '刑法', '被告', '各次', '犯', '宣告', '沒收', '核事', '用法', '量刑', '不', '當維持', '被告', '詞理', '指駁', '前訴', '駁', '回定', '執刑', '開', '撤銷', '改判', '附表', '回訴', '易科罰金', '附表', '犯罪', '態樣', '犯罪', '間', '相近', '但害', '不同', '被害', '斟酌', '責任', '非', '難重', '複', '程度', '對', '全體', '犯罪', '整體', '評價定執', '刑部', '界限', '定執', '刑期', '徒刑', '年', '月', '附表', '編', '易科罰金', '罪刑', '刑法', '但書前', '開', '易科罰金', '罪', '併', '合罰', '待', '罪', '確定', '另', '刑法', '決定', '否聲', '定刑', '併', '此', '敘明罪', '公訴', '意旨', '另', '被告', '年月日', '午許', '新北市', '板橋', '區民', '路段', '巷', '附近', '看到', '位真實', '姓名', '年籍', '不詳', '穿著', '運動服', '男學生', '稱', '不', '詳年', '籍', '同', '手法', '欺騙', '不', '詳年籍', '基類', '受', '自己', '支配', '利用', '機會', '猥褻', '犯意', '手指', '抓住', '不詳', '年籍', '生殖器', '拍攝', '電子', '訊', '張', '影片', '段', '被告', '年月日', '午許', '新北市', '板橋區', '某', '看到', '位真實', '姓名', '年籍', '不詳', '穿著', '錦', '和', '高運動服', '男學生', '稱', '不', '詳年', '籍', '同', '手法', '欺騙', '不', '詳年籍', '基類', '受', '自己', '支配', '利用', '機會', '猥褻', '犯意', '隔著', '不', '詳年籍', '內褲', '手指', '抓住', '不詳', '年籍', '生殖器', '拍攝', '電子', '訊', '張', '被告', '犯', '刑法', '利用', '類似', '業務關', '機會', '猥褻', '罪嫌', '犯罪', '事實', '證據定', '證據定', '犯罪', '事實', '刑事訴訟法', '定', '明文', '此謂', '定', '犯罪', '事實', '證據', '直接', '間', '接證據須', '達', '通常', '般', '不致', '懷疑', '確信', '真實', '程度', '始據', '罪定', '若', '被告', '否', '犯罪', '證明能', '達此', '程度', '合理性', '懷疑', '存致法', '形成', '罪確', '信根據', '罪證', '疑利', '被告', '證據法', '遽', '不利', '被告', '定', '刑事訴訟法', '檢察官', '被告', '犯罪', '事實', '負舉', '證責任', '指出', '證明', '方法', '此檢察官', '起訴', '犯罪', '事實負', '提出', '證據', '說', '服實質', '舉證責任', '倘', '提出', '證據', '不足', '被', '告罪', '積極', '證明', '指出', '證明', '方法', '從', '說服', '法院', '形成', '被', '告罪', '心證', '基罪', '推定', '原自', '被', '告罪', '判決', '檢察官', '被告', '對', '年', '籍', '不', '詳犯', '刑法', '利用', '類似', '業務關', '機會', '猥褻', '罪嫌', '據', '被', '告警', '詢偵', '自白', '警局', '數位', '證物', '勘報', '告內', '被告', '遭扣', '案手', '機內', '年籍', '不詳', '男', '穿著', '高運動服', '照片', '陰莖', '遭手', '抓住', '照片', '影片', '年籍', '不詳', '男著', '高運動服', '照片', '陰莖', '遭手', '抓住', '照片', '憑', '檢察官', '起訴', '被告', '佯', '品牌', '調員名', '拍照', '事實', '刑法', '利用', '權勢', '從關', '被害', '曲意', '順從', '妨害性自主', '犯', '不合', '公訴', '意旨', '被告', '犯', '刑法', '利用', '類似', '業務關', '機會', '猥褻', '罪嫌', '云云', '被告', '審理否', '開犯', '辯稱', '網路', '抓取', '影像', '云云', '年籍', '不', '詳卷', '內僅', '被告', '遭扣', '案手', '機內', '存取', '數位', '照片', '偵', '不公', '開卷', '照片', '拍攝', '到', '被告', '衣服', '也', '學', '姓名', '可供', '找', '除法', '數位', '照片', '著內', '褲觸', '摸', '生殖器', '部位', '被告', '公訴', '意旨', '指', '被害', '被害', '指訴', '過程', '不明', '可徒', '憑', '被告', '前', '不', '供述', '臆測', '犯罪', '另', '被告', '遭扣', '案手', '機內', '存取', '數位', '影片', '原審', '勘驗', '被告', '攝原', '審卷', '故此', '被告', '辯稱', '網路', '抓取', '云云', '可採', '但', '影片', '拍', '攝到', '臉部', '著', '衣服', '也', '學', '姓名', '可供', '找', '勘驗', '筆錄', '雙方', '對', '話', '內容稱', '可', '真意', '不明', '欠缺', '被害', '指訴', '情況', '真實', '年齡', '過程', '否違', '反意', '願遭', '不明', '單憑', '被告', '摸', '生殖器', '仍', '不能', '證明', '被告', '犯罪', '法', '被', '告罪', '駁', '回訴', '說', '明原', '審審理', '檢察官', '提卷', '內證據', '資料', '不能', '證明', '被告', '被訴', '年月日', '年月日', '犯', '利用', '類似', '業務關', '機會', '猥褻', '罪', '被', '告罪', '核', '不合', '檢察', '官訴', '意旨', '被告', '假冒', '運動', '品牌', '佯', '被害', '身材', '誘騙', '方式', '觸碰', '被害', '生殖器', '拍攝', '陰莖', '勃起', '照片', '影片', '情', '被告', '坦承', '不諱', '開', '照片', '影片', '附卷', '可', '被告', '拍攝', '影片', '被告', '撫摸', '陰莖', '詢問', '你', '容易', '反', '嗎', '回答', '不', '知道', '被告', '抓著', '陰莖', '弄', '詢問', '這樣', '嗎', '回答', '可', '被告', '問可', '拍', '到', '反', '嗎', '猶豫', '說', '可拍照', '嗎', '你', '要', '拍', '被告', '將內褲', '穿著', '隔著', '內', '褲撫', '摸', '陰莖', '表示', '要', '形狀', '出來', '另', '觀諸', '被告', '拍攝', '照片', '腰部', '照片', '被害', '衣藍色', '運動服', '短褲', '遭', '褪', '露出', '深灰色', '內褲', '被告', '手撫', '摸', '陰莖', '位置', '情原', '審', '勘驗', '筆錄', '開', '影片', '照片', '附卷', '可佐', '被告', '施用', '假藉', '運動', '品牌', '調員', '詐術', '此', '詐術', '取信', '誤此', '運動', '品牌', '調', '身材', '流程', '對', '被告', '指示', '深信不疑', '嗣', '被告', '利用', '開誤', '欠缺', '理性', '思考', '遵從', '狀態', '壓制性', '自', '主意', '願觸', '碰', '生殖器', '強制', '猥褻', '犯逞', '故情', '足壓', '制性', '自主', '意思', '決定', '自', '被告', '刑法', '他', '違', '反意', '願', '方式', '對', '強制', '猥褻', '犯', '客觀', '要件', '縱', '刑法', '構成', '要件', '不符', '法院', '不', '妨害', '事實', '同範圍', '內', '自定', '事實', '法律', '故', '被告', '起訴', '書', '犯罪', '事實欄', '犯罪', '事實否', '涉嫌', '強制', '猥褻', '罪犯', '原審', '審理', '範圍', '原', '審此', '漏', '審酌', '遽', '罪判', '決理', '不備', '違法原', '審判決', '開事', '用法', '被告', '此罪', '判決', '撤銷', '更', '妥', '適判決', '但', '身', '不明', '情況', '欠缺', '被害', '指訴', '重要', '證據', '方法', '法僅', '被告', '述', '卷', '內', '可辨', '識', '被害', '照片', '影片', '定', '被告', '犯罪', '當何', '罪理', '敘述', '前', '檢察官', '提出', '證據', '不足', '被', '告罪', '積極', '證明', '不能', '臆測', '方式', '偵不', '完備', '自', '被', '告罪', '訴', '仍', '相異', '評價訴', '理駁', '回據斷', '刑事訴訟法', '判決本', '檢察官', '何克凡', '公訴', '檢察', '官盧', '祐', '涵訴', '檢察官', '壽勤偉', '到庭', '年月日', '刑事', '庭審', '判長', '法官', '劉方慈', '法官', '蕭世昌', '法官', '許曉微', '正本', '證明', '原本', '異', '不服', '本判決', '收受', '送達', '日', '內', '提出', '訴書狀', '敘述', '訴理訴', '日', '內補', '提理書須', '他造', '當事數', '附繕', '本', '切勿', '送級', '法院', '維持', '審罪', '判決', '檢察', '官訴', '理須', '受', '刑事', '妥速', '審判法', '限制', '刑事', '妥速', '審判法', '除前', '情形', '審', '法院', '維持', '審罪判', '決訴', '理列', '事限判決', '牴', '觸法', '判決', '司法院', '解釋', '判決', '判例', '刑事訴訟法', '前', '審理', '記官', '徐仁', '年月日', '附錄', '本案', '罪科', '刑法', '全文', '華', '刑法', '強制', '猥褻', '罪', '男女', '強暴脅迫', '恐嚇', '催眠', '術', '他', '違', '反意', '願', '方法', '猥褻', '月', '年期', '徒刑', '兒童', '少年', '福利', '權益', '保障法', '成年', '教唆', '幫助', '利用', '兒童', '少年', '犯罪', '共同', '實施', '犯罪', '故意', '對', '犯罪', '加重', '刑', '但', '各罪', '被害', '兒童', '少年', '定特別', '罰', '從', '兒童', '少年', '犯罪', '主管', '機關', '獨立', '告訴', '兒童', '少年', '性剝削', '防制', '攝', '製', '造', '兒', '童', '少年', '性交', '猥褻', '圖畫', '照片', '影片', '影帶', '光碟', '電子', '訊', '他', '物品', '年', '年期', '徒刑', '併', '科新', '臺', '幣百萬元罰', '金', '招募', '引誘', '容留', '媒介', '協助', '他', '法兒童', '少年', '被', '拍', '攝', '製', '造', '性交', '猥褻', '圖畫', '照片', '影片', '影帶', '光碟', '電子', '訊', '他', '物品', '年', '年期', '徒刑', '併', '科新', '臺', '幣百萬元罰', '金強', '暴脅', '迫藥劑', '詐術', '催眠', '術', '他', '違反', '本意', '願', '方法', '兒童', '少年', '被', '拍', '攝', '製', '造', '性交', '猥褻', '圖畫', '照片', '影片', '影帶', '光碟', '電子', '訊', '他', '物品', '年期', '徒刑', '併', '科新', '臺', '幣百萬元罰', '金意', '圖營利', '犯前', '罪', '各', '加重', '刑前', '遂', '犯罰', '物品', '不問', '犯罪', '否沒收', '性騷擾', '防治法', '意圖', '性騷擾', '乘', '不', '抗拒', '親吻', '擁抱觸', '摸', '臀部', '胸部', '他', '身體', '隱私', '年期', '徒刑', '拘役', '科', '併', '科新', '臺', '幣萬元罰', '金前', '罪須', '告訴', '附表', '扣案物', '影像', '電子', '檔', '編扣', '案物手', '機內', '影像', '用途', '影像', '內容', '被告', '手機', '支含', '卡', '張原', '審卷', '照片', '手機', '數位', '鑑識', '報告', '證物', '被告', '事實欄', '佯裝', '品牌', '警方', '機內', '刪除', '檔案', '還原', '發現', '內', '被告', '儲存事', '實欄', '拍', '攝', '影片', '檔案', '個', '還原', '檔案', '儲存', '警方', '蒐', '證', '影像', '光碟', '光碟', '置原', '審卷', '證物袋', '內', '偵卷', '證物袋', '內', '數位', '影像', '檔名', '影片', '內容', '被告', '撫摸', '陰莖', '褲將', '陰莖', '露', '影像', '詳細', '內容', '原審', '勘驗', '筆錄', '影像', '畫面', '截圖', '可見', '被害', '身穿', '學校', '運動服', '畫面', '附表', '編對', '犯罪', '事實欄', '判決', '備', '註', '犯罪', '事實', '欄訴', '駁', '回原', '審判決', '成年', '故意', '對', '少年犯', '強制', '猥褻', '罪期', '徒刑', '月', '扣案', '附表', '編示', '手機', '沒收', '犯罪', '事實欄', '撤銷', '犯', '違反', '本意', '願', '方法', '少年', '被', '拍', '攝', '猥褻', '電子', '訊', '罪期', '徒刑', '柒年', '貳', '月', '扣案', '附表', '編示', '附表', '編數位', '影像', '電子', '訊', '沒', '收原', '審判', '決犯', '詐術', '少年', '被', '拍', '攝', '猥褻', '電子', '訊', '罪期', '徒刑', '年', '月', '扣案', '附表', '編示', '手機', '編數位', '影像', '電子', '訊', '沒收', '犯罪', '事實', '欄訴', '駁', '回原', '審判', '決犯', '性騷擾', '罪期', '徒刑', '月', '易科罰金', '新', '臺', '幣', '千元', '折算', '日', '扣案', '附表', '編示', '手機', '沒收']]\n",
      "torch.Size([1, 300, 300])\n",
      "tensor([[0, 0, 0, 1, 0]])\n",
      "tensor([[0.4242, 0.0289, 0.2011, 0.3397, 0.0062]], device='cuda:0',\n",
      "       grad_fn=<SoftmaxBackward0>)\n"
     ]
    }
   ],
   "source": [
    "print(data['text'])\n",
    "vectors,not_in,in_model = preProcessText_and_getVector(data['text'],max_length=300)\n",
    "# model2()\n",
    "\n",
    "print(vectors.shape)\n",
    "print(not_in)\n",
    "print(in_model)\n",
    "vectors = torch.tensor(vectors).float().to(device)\n",
    "print(vectors.shape)\n",
    "print(data['label'])\n",
    "print(model2(vectors).softmax(dim=1))"
   ]
  },
  {
   "cell_type": "code",
   "execution_count": 106,
   "metadata": {},
   "outputs": [
    {
     "name": "stdout",
     "output_type": "stream",
     "text": [
      "感\n",
      "0.34019807\n",
      "此性\n",
      "0.4669345\n",
      "性\n",
      "1.0000001\n",
      "性交\n",
      "0.34055382\n",
      "不性\n",
      "0.33976305\n",
      "制性\n",
      "0.56342584\n",
      "別性\n",
      "0.34298566\n",
      "壓制性\n",
      "0.5299592\n"
     ]
    }
   ],
   "source": [
    "# model_fasttext['陰囊']\n",
    "similar_words = fasttext_model.most_similar('陰囊', topn=5)\n",
    "# similar_words\n",
    "words = in_model[0]\n",
    "# 去除words重複的詞\n",
    "words = list(set(words))\n",
    "vectors = [fasttext_model[word] for word in words]\n",
    "similarities = fasttext_model.cosine_similarities(fasttext_model['性'], vectors)\n",
    "for i,word in enumerate(words):\n",
    "    if similarities[i] > 0.3:\n",
    "        print(word)\n",
    "        print(similarities[i])\n",
    "# print(similarities)"
   ]
  },
  {
   "cell_type": "markdown",
   "metadata": {},
   "source": [
    "訓練與驗證、測試集之數量圖表"
   ]
  },
  {
   "cell_type": "code",
   "execution_count": 11,
   "metadata": {},
   "outputs": [
    {
     "name": "stdout",
     "output_type": "stream",
     "text": [
      "Label: [400, 400, 500, 500, 500]\n"
     ]
    },
    {
     "data": {
      "image/png": "[encoded data removed]",
      "text/plain": [
       "<Figure size 1000x600 with 1 Axes>"
      ]
     },
     "metadata": {},
     "output_type": "display_data"
    },
    {
     "name": "stdout",
     "output_type": "stream",
     "text": [
      "Label: [300, 300, 350, 350, 350]\n"
     ]
    },
    {
     "data": {
      "image/png": "[encoded data removed]",
      "text/plain": [
       "<Figure size 1000x600 with 1 Axes>"
      ]
     },
     "metadata": {},
     "output_type": "display_data"
    },
    {
     "name": "stdout",
     "output_type": "stream",
     "text": [
      "Label: [200, 181, 200, 200, 200]\n"
     ]
    },
    {
     "data": {
      "image/png": "[encoded data removed]",
      "text/plain": [
       "<Figure size 1000x600 with 1 Axes>"
      ]
     },
     "metadata": {},
     "output_type": "display_data"
    }
   ],
   "source": [
    "import matplotlib.pyplot as plt\n",
    "\n",
    "def plot_label_distribution(dataset, title):\n",
    "    labels_distribution = []\n",
    "    label_nums = [0, 0, 0, 0, 0]\n",
    "    for i, data in enumerate(DataLoader(dataset, batch_size=1, shuffle=True)):\n",
    "        idx = data['label'].argmax().item()\n",
    "        labels_distribution.append(idx)\n",
    "        label_nums[idx] += 1\n",
    "    # 印出標籤分佈\n",
    "    print('Label:', label_nums)\n",
    "    plt.figure(figsize=(10, 6))\n",
    "    plt.hist(labels_distribution, bins=5, density=False, alpha=0.6, color='g', rwidth=0.8)\n",
    "    plt.title(title)\n",
    "    plt.xlabel('Label')\n",
    "    plt.ylabel('Frequency')\n",
    "    plt.show()\n",
    "\n",
    "# 繪製訓練數據集的標籤分佈\n",
    "plot_label_distribution(train_dataset, 'Distribution of Labels in Training Data')\n",
    "\n",
    "# 繪製驗證數據集的標籤分佈\n",
    "plot_label_distribution(valid_dataset, 'Distribution of Labels in Validation Data')\n",
    "\n",
    "\n",
    "# 繪製測試數據集的標籤分佈\n",
    "plot_label_distribution(test_dataset, 'Distribution of Labels in Testing Data')"
   ]
  },
  {
   "cell_type": "markdown",
   "metadata": {},
   "source": [
    "定義NN模型(已改為載入預訓練模型)"
   ]
  },
  {
   "cell_type": "code",
   "execution_count": 12,
   "metadata": {},
   "outputs": [
    {
     "name": "stdout",
     "output_type": "stream",
     "text": [
      "cuda\n"
     ]
    },
    {
     "data": {
      "text/plain": [
       "<All keys matched successfully>"
      ]
     },
     "execution_count": 12,
     "metadata": {},
     "output_type": "execute_result"
    }
   ],
   "source": [
    "from torch import nn\n",
    "\n",
    "# vocab_size = 21128\n",
    "embed_size = 300\n",
    "# max_length = 512  \n",
    "model = nn.Sequential(\n",
    "    nn.Flatten(start_dim=1),  # 展開層\n",
    "    nn.Linear(embed_size*300, 128),\n",
    "    nn.ReLU(),\n",
    "    nn.Dropout(0.4),\n",
    "    nn.Linear(128, 64),\n",
    "    nn.ReLU(),\n",
    "    nn.Dropout(0.5),\n",
    "    nn.Linear(64, 32),\n",
    "    nn.ReLU(),\n",
    "    nn.Dropout(0.2),\n",
    "    nn.Linear(32, 5),\n",
    ")\n",
    "device = torch.device('cuda' if torch.cuda.is_available() else 'cpu')\n",
    "print(device)\n",
    "model = model.to(device)\n",
    "model.load_state_dict(torch.load(r'C:\\Users\\UJay\\School\\judgement_classfier\\models\\DNN.pth'))\n",
    "# # 假設你有一個輸入向量\n",
    "# input_vector = torch.randn(1, 300)\n",
    "# input_vector = input_vector.to(device)\n",
    "# # 將輸入向量傳遞給模型\n",
    "# output = model(input_vector)\n",
    "# print(output)\n",
    "# 輸出應該是一個長度為5的 softmax 向量\n",
    "# print(nn.Softmax(dim=1)(output))"
   ]
  },
  {
   "cell_type": "markdown",
   "metadata": {},
   "source": [
    "訓練NN模型"
   ]
  },
  {
   "cell_type": "code",
   "execution_count": 45,
   "metadata": {},
   "outputs": [
    {
     "name": "stdout",
     "output_type": "stream",
     "text": [
      "Epoch: 0\n"
     ]
    },
    {
     "name": "stderr",
     "output_type": "stream",
     "text": [
      "  0%|          | 0/144 [00:00<?, ?it/s]C:\\Users\\UJay\\AppData\\Local\\Temp\\ipykernel_11184\\607668078.py:36: UserWarning: To copy construct from a tensor, it is recommended to use sourceTensor.clone().detach() or sourceTensor.clone().detach().requires_grad_(True), rather than torch.tensor(sourceTensor).\n",
      "  train_labels = torch.tensor(data['label'],dtype=torch.float32).float()\n",
      "100%|██████████| 144/144 [00:18<00:00,  7.89it/s]\n",
      "  0%|          | 0/104 [00:00<?, ?it/s]C:\\Users\\UJay\\AppData\\Local\\Temp\\ipykernel_11184\\607668078.py:80: UserWarning: To copy construct from a tensor, it is recommended to use sourceTensor.clone().detach() or sourceTensor.clone().detach().requires_grad_(True), rather than torch.tensor(sourceTensor).\n",
      "  val_labels = torch.tensor(data['label'],dtype=torch.float32).float()\n",
      "100%|██████████| 104/104 [00:11<00:00,  8.96it/s]\n"
     ]
    },
    {
     "name": "stdout",
     "output_type": "stream",
     "text": [
      "Epoch: 1\n"
     ]
    },
    {
     "name": "stderr",
     "output_type": "stream",
     "text": [
      "100%|██████████| 144/144 [00:19<00:00,  7.57it/s]\n",
      "100%|██████████| 104/104 [00:11<00:00,  8.88it/s]\n"
     ]
    },
    {
     "name": "stdout",
     "output_type": "stream",
     "text": [
      "Epoch: 2\n"
     ]
    },
    {
     "name": "stderr",
     "output_type": "stream",
     "text": [
      "100%|██████████| 144/144 [00:19<00:00,  7.53it/s]\n",
      "100%|██████████| 104/104 [00:12<00:00,  8.66it/s]\n"
     ]
    },
    {
     "name": "stdout",
     "output_type": "stream",
     "text": [
      "Epoch: 3\n"
     ]
    },
    {
     "name": "stderr",
     "output_type": "stream",
     "text": [
      "100%|██████████| 144/144 [00:19<00:00,  7.44it/s]\n",
      "100%|██████████| 104/104 [00:12<00:00,  8.56it/s]\n"
     ]
    },
    {
     "name": "stdout",
     "output_type": "stream",
     "text": [
      "Epoch: 4\n"
     ]
    },
    {
     "name": "stderr",
     "output_type": "stream",
     "text": [
      "100%|██████████| 144/144 [00:19<00:00,  7.44it/s]\n",
      "100%|██████████| 104/104 [00:12<00:00,  8.63it/s]\n"
     ]
    },
    {
     "name": "stdout",
     "output_type": "stream",
     "text": [
      "Epoch: 5\n"
     ]
    },
    {
     "name": "stderr",
     "output_type": "stream",
     "text": [
      "100%|██████████| 144/144 [00:19<00:00,  7.38it/s]\n",
      "100%|██████████| 104/104 [00:12<00:00,  8.61it/s]\n"
     ]
    },
    {
     "name": "stdout",
     "output_type": "stream",
     "text": [
      "Epoch: 6\n"
     ]
    },
    {
     "name": "stderr",
     "output_type": "stream",
     "text": [
      "100%|██████████| 144/144 [00:19<00:00,  7.31it/s]\n",
      "100%|██████████| 104/104 [00:12<00:00,  8.60it/s]\n"
     ]
    },
    {
     "name": "stdout",
     "output_type": "stream",
     "text": [
      "Epoch: 7\n"
     ]
    },
    {
     "name": "stderr",
     "output_type": "stream",
     "text": [
      "100%|██████████| 144/144 [00:19<00:00,  7.40it/s]\n",
      "100%|██████████| 104/104 [00:12<00:00,  8.54it/s]\n"
     ]
    },
    {
     "name": "stdout",
     "output_type": "stream",
     "text": [
      "Epoch: 8\n"
     ]
    },
    {
     "name": "stderr",
     "output_type": "stream",
     "text": [
      "100%|██████████| 144/144 [00:19<00:00,  7.33it/s]\n",
      "100%|██████████| 104/104 [00:12<00:00,  8.52it/s]\n"
     ]
    },
    {
     "name": "stdout",
     "output_type": "stream",
     "text": [
      "Epoch: 9\n"
     ]
    },
    {
     "name": "stderr",
     "output_type": "stream",
     "text": [
      "100%|██████████| 144/144 [00:19<00:00,  7.22it/s]\n",
      "100%|██████████| 104/104 [00:12<00:00,  8.55it/s]\n"
     ]
    },
    {
     "name": "stdout",
     "output_type": "stream",
     "text": [
      "Epoch: 10\n"
     ]
    },
    {
     "name": "stderr",
     "output_type": "stream",
     "text": [
      "100%|██████████| 144/144 [00:19<00:00,  7.27it/s]\n",
      "100%|██████████| 104/104 [00:11<00:00,  8.70it/s]\n"
     ]
    },
    {
     "name": "stdout",
     "output_type": "stream",
     "text": [
      "Epoch: 11\n"
     ]
    },
    {
     "name": "stderr",
     "output_type": "stream",
     "text": [
      "100%|██████████| 144/144 [00:19<00:00,  7.32it/s]\n",
      "100%|██████████| 104/104 [00:11<00:00,  8.72it/s]\n"
     ]
    },
    {
     "name": "stdout",
     "output_type": "stream",
     "text": [
      "Epoch: 12\n"
     ]
    },
    {
     "name": "stderr",
     "output_type": "stream",
     "text": [
      "100%|██████████| 144/144 [00:20<00:00,  7.14it/s]\n",
      "100%|██████████| 104/104 [00:11<00:00,  8.85it/s]\n"
     ]
    },
    {
     "name": "stdout",
     "output_type": "stream",
     "text": [
      "Epoch: 13\n"
     ]
    },
    {
     "name": "stderr",
     "output_type": "stream",
     "text": [
      "100%|██████████| 144/144 [00:19<00:00,  7.27it/s]\n",
      "100%|██████████| 104/104 [00:11<00:00,  8.71it/s]\n"
     ]
    },
    {
     "name": "stdout",
     "output_type": "stream",
     "text": [
      "Epoch: 14\n"
     ]
    },
    {
     "name": "stderr",
     "output_type": "stream",
     "text": [
      "100%|██████████| 144/144 [00:19<00:00,  7.41it/s]\n",
      "100%|██████████| 104/104 [00:11<00:00,  8.78it/s]"
     ]
    },
    {
     "name": "stdout",
     "output_type": "stream",
     "text": [
      "Finished Training\n"
     ]
    },
    {
     "name": "stderr",
     "output_type": "stream",
     "text": [
      "\n"
     ]
    }
   ],
   "source": [
    "# 訓練參數\n",
    "device = torch.device('cuda' if torch.cuda.is_available() else 'cpu')\n",
    "model = model.to(device)\n",
    "\n",
    "loader = DataLoader(train_dataset, batch_size=16, shuffle=True)\n",
    "val_loader = DataLoader(valid_dataset, batch_size=16, shuffle=True)\n",
    "\n",
    "# 定義優化器和損失函數\n",
    "optimizer = torch.optim.Adam(model.parameters(), lr=0.0001)\n",
    "criterion = nn.BCEWithLogitsLoss()\n",
    "epochs = 15\n",
    "train_losses_per_epoch = []\n",
    "val_losses_per_epoch = []\n",
    "\n",
    "# 訓練循環\n",
    "for epoch in range(epochs):\n",
    "    print('Epoch:', epoch)\n",
    "    model.train()\n",
    "    train_losses = []\n",
    "    val_losses = []\n",
    "    for i, data in enumerate(tqdm(loader)):\n",
    "        try:\n",
    "            # 將文本數據轉換為模型可以接受的輸入格式\n",
    "            sampled_text_list = [negatively_skewed_sample(text.split()) for text in data['text']]\n",
    "            # train_inputs = tokenizer(sampled_text_list, return_tensors='pt', padding=True, truncation=True, max_length=max_length).input_ids\n",
    "            # vector = text_to_vector(sampled_text_list)  # 將文本轉換為向量\n",
    "            # vectors = [text_to_vector(text) for text in sampled_text_list]\n",
    "            vectors = preProcessText_and_getVector(sampled_text_list,max_length=300)\n",
    "            # vectors = torch.tensor(vectors, dtype=torch.float32)\n",
    "            train_inputs = torch.tensor(vectors, dtype=torch.float32)\n",
    "\n",
    "            # train_inputs = torch.tensor([vector],dtype=torch.float32)  # 將向量轉換為 PyTorch 張量\n",
    "            # train_inputs = train_inputs.reshape(-1, 300)\n",
    "            \n",
    "            # 獲取標籤\n",
    "            train_labels = torch.tensor(data['label'],dtype=torch.float32).float()\n",
    "\n",
    "            # 確保輸入數據形狀正確\n",
    "            # assert train_inputs.shape[1] == max_length, f\"Unexpected input shape: {train_inputs.shape}\"\n",
    "\n",
    "            # 將輸入數據移動到指定的設備上\n",
    "            train_inputs = train_inputs.to(device)\n",
    "            train_labels = train_labels.to(device)\n",
    "\n",
    "            # 將參數梯度設為零\n",
    "            optimizer.zero_grad()\n",
    "\n",
    "            # 前向傳播 + 反向傳播 + 優化\n",
    "            outputs = model(train_inputs)\n",
    "            loss = criterion(outputs, train_labels)\n",
    "            loss.backward()\n",
    "            optimizer.step()\n",
    "\n",
    "            # 畫圖用\n",
    "            train_losses.append(loss.item())\n",
    "        except Exception as e:\n",
    "            print(f\"Error at epoch {epoch}, batch {i}: {e}\")\n",
    "            print(f\"train_inputs shape: {train_inputs.shape}\")\n",
    "            print(f\"train_labels shape: {train_labels.shape}\")\n",
    "            continue\n",
    "\n",
    "    avg_train_loss = sum(train_losses) / len(train_losses)\n",
    "    train_losses_per_epoch.append(avg_train_loss)\n",
    "\n",
    "    # 驗證循環\n",
    "    model.eval()  # 設置模型為評估模式\n",
    "    with torch.no_grad():\n",
    "        for i, data in enumerate(tqdm(val_loader)):\n",
    "            try:\n",
    "                sampled_text_list = [negatively_skewed_sample(text.split()) for text in data['text']]\n",
    "                # val_inputs = tokenizer(sampled_text_list, return_tensors='pt', padding=True, truncation=True, max_length=max_length).input_ids\n",
    "                \n",
    "                # vector = text_to_vector(sampled_text_list)  # 將文本轉換為向量\n",
    "                # vectors = [text_to_vector(text) for text in sampled_text_list]\n",
    "                vectors = preProcessText_and_getVector(sampled_text_list,max_length=300)\n",
    "                # vectors = torch.tensor(vectors, dtype=torch.float32)\n",
    "                val_inputs = torch.tensor(vectors, dtype=torch.float32)\n",
    "                # val_inputs = val_inputs.reshape(-1, 300)\n",
    "                \n",
    "                val_labels = torch.tensor(data['label'],dtype=torch.float32).float()\n",
    "\n",
    "                # 確保輸入數據形狀正確\n",
    "                # assert val_inputs.shape[1] == max_length, f\"Unexpected input shape: {val_inputs.shape}\"\n",
    "\n",
    "                val_inputs = val_inputs.to(device)\n",
    "                val_labels = val_labels.to(device)\n",
    "\n",
    "                outputs = model(val_inputs)\n",
    "                loss = criterion(outputs, val_labels)\n",
    "\n",
    "                # 保存驗證損失\n",
    "                val_losses.append(loss.item())\n",
    "            except Exception as e:\n",
    "                print(f\"Error at epoch {epoch}, batch {i}: {e}\")\n",
    "                print(f\"val_inputs shape: {val_inputs.shape}\")\n",
    "                print(f\"val_labels shape: {val_labels.shape}\")\n",
    "                continue\n",
    "\n",
    "        avg_val_loss = sum(val_losses) / len(val_losses)\n",
    "        val_losses_per_epoch.append(avg_val_loss)\n",
    "\n",
    "print('Finished Training')"
   ]
  },
  {
   "cell_type": "code",
   "execution_count": 83,
   "metadata": {},
   "outputs": [
    {
     "name": "stdout",
     "output_type": "stream",
     "text": [
      "Epoch: 0\n"
     ]
    },
    {
     "name": "stderr",
     "output_type": "stream",
     "text": [
      "  1%|          | 2/364 [00:00<02:15,  2.67it/s]\n"
     ]
    },
    {
     "ename": "KeyboardInterrupt",
     "evalue": "",
     "output_type": "error",
     "traceback": [
      "\u001b[1;31m---------------------------------------------------------------------------\u001b[0m",
      "\u001b[1;31mKeyboardInterrupt\u001b[0m                         Traceback (most recent call last)",
      "Cell \u001b[1;32mIn[83], line 17\u001b[0m\n\u001b[0;32m     14\u001b[0m model\u001b[38;5;241m.\u001b[39mtrain()\n\u001b[0;32m     15\u001b[0m \u001b[38;5;28;01mfor\u001b[39;00m i, data \u001b[38;5;129;01min\u001b[39;00m \u001b[38;5;28menumerate\u001b[39m(tqdm(loader)):\n\u001b[0;32m     16\u001b[0m     \u001b[38;5;66;03m# 將文本數據轉換為模型可以接受的輸入格式\u001b[39;00m\n\u001b[1;32m---> 17\u001b[0m     train_inputs \u001b[38;5;241m=\u001b[39m \u001b[43mtokenizer\u001b[49m\u001b[43m(\u001b[49m\u001b[43mdata\u001b[49m\u001b[43m[\u001b[49m\u001b[38;5;124;43m'\u001b[39;49m\u001b[38;5;124;43mtext\u001b[39;49m\u001b[38;5;124;43m'\u001b[39;49m\u001b[43m]\u001b[49m\u001b[43m,\u001b[49m\u001b[43m \u001b[49m\u001b[43mreturn_tensors\u001b[49m\u001b[38;5;241;43m=\u001b[39;49m\u001b[38;5;124;43m'\u001b[39;49m\u001b[38;5;124;43mpt\u001b[39;49m\u001b[38;5;124;43m'\u001b[39;49m\u001b[43m,\u001b[49m\u001b[43m \u001b[49m\u001b[43mpadding\u001b[49m\u001b[38;5;241;43m=\u001b[39;49m\u001b[38;5;28;43;01mTrue\u001b[39;49;00m\u001b[43m,\u001b[49m\u001b[43m \u001b[49m\u001b[43mtruncation\u001b[49m\u001b[38;5;241;43m=\u001b[39;49m\u001b[38;5;28;43;01mTrue\u001b[39;49;00m\u001b[43m)\u001b[49m\u001b[38;5;241m.\u001b[39minput_ids\n\u001b[0;32m     19\u001b[0m     \u001b[38;5;66;03m# 獲取標籤\u001b[39;00m\n\u001b[0;32m     20\u001b[0m     train_labels \u001b[38;5;241m=\u001b[39m data[\u001b[38;5;124m'\u001b[39m\u001b[38;5;124mlabel\u001b[39m\u001b[38;5;124m'\u001b[39m]\u001b[38;5;241m.\u001b[39mfloat()\n",
      "File \u001b[1;32mc:\\Users\\UJay\\AppData\\Local\\Programs\\Python\\Python310\\lib\\site-packages\\transformers\\tokenization_utils_base.py:2883\u001b[0m, in \u001b[0;36mPreTrainedTokenizerBase.__call__\u001b[1;34m(self, text, text_pair, text_target, text_pair_target, add_special_tokens, padding, truncation, max_length, stride, is_split_into_words, pad_to_multiple_of, return_tensors, return_token_type_ids, return_attention_mask, return_overflowing_tokens, return_special_tokens_mask, return_offsets_mapping, return_length, verbose, **kwargs)\u001b[0m\n\u001b[0;32m   2881\u001b[0m     \u001b[38;5;28;01mif\u001b[39;00m \u001b[38;5;129;01mnot\u001b[39;00m \u001b[38;5;28mself\u001b[39m\u001b[38;5;241m.\u001b[39m_in_target_context_manager:\n\u001b[0;32m   2882\u001b[0m         \u001b[38;5;28mself\u001b[39m\u001b[38;5;241m.\u001b[39m_switch_to_input_mode()\n\u001b[1;32m-> 2883\u001b[0m     encodings \u001b[38;5;241m=\u001b[39m \u001b[38;5;28mself\u001b[39m\u001b[38;5;241m.\u001b[39m_call_one(text\u001b[38;5;241m=\u001b[39mtext, text_pair\u001b[38;5;241m=\u001b[39mtext_pair, \u001b[38;5;241m*\u001b[39m\u001b[38;5;241m*\u001b[39mall_kwargs)\n\u001b[0;32m   2884\u001b[0m \u001b[38;5;28;01mif\u001b[39;00m text_target \u001b[38;5;129;01mis\u001b[39;00m \u001b[38;5;129;01mnot\u001b[39;00m \u001b[38;5;28;01mNone\u001b[39;00m:\n\u001b[0;32m   2885\u001b[0m     \u001b[38;5;28mself\u001b[39m\u001b[38;5;241m.\u001b[39m_switch_to_target_mode()\n",
      "File \u001b[1;32mc:\\Users\\UJay\\AppData\\Local\\Programs\\Python\\Python310\\lib\\site-packages\\transformers\\tokenization_utils_base.py:2969\u001b[0m, in \u001b[0;36mPreTrainedTokenizerBase._call_one\u001b[1;34m(self, text, text_pair, add_special_tokens, padding, truncation, max_length, stride, is_split_into_words, pad_to_multiple_of, return_tensors, return_token_type_ids, return_attention_mask, return_overflowing_tokens, return_special_tokens_mask, return_offsets_mapping, return_length, verbose, **kwargs)\u001b[0m\n\u001b[0;32m   2964\u001b[0m         \u001b[38;5;28;01mraise\u001b[39;00m \u001b[38;5;167;01mValueError\u001b[39;00m(\n\u001b[0;32m   2965\u001b[0m             \u001b[38;5;124mf\u001b[39m\u001b[38;5;124m\"\u001b[39m\u001b[38;5;124mbatch length of `text`: \u001b[39m\u001b[38;5;132;01m{\u001b[39;00m\u001b[38;5;28mlen\u001b[39m(text)\u001b[38;5;132;01m}\u001b[39;00m\u001b[38;5;124m does not match batch length of `text_pair`:\u001b[39m\u001b[38;5;124m\"\u001b[39m\n\u001b[0;32m   2966\u001b[0m             \u001b[38;5;124mf\u001b[39m\u001b[38;5;124m\"\u001b[39m\u001b[38;5;124m \u001b[39m\u001b[38;5;132;01m{\u001b[39;00m\u001b[38;5;28mlen\u001b[39m(text_pair)\u001b[38;5;132;01m}\u001b[39;00m\u001b[38;5;124m.\u001b[39m\u001b[38;5;124m\"\u001b[39m\n\u001b[0;32m   2967\u001b[0m         )\n\u001b[0;32m   2968\u001b[0m     batch_text_or_text_pairs \u001b[38;5;241m=\u001b[39m \u001b[38;5;28mlist\u001b[39m(\u001b[38;5;28mzip\u001b[39m(text, text_pair)) \u001b[38;5;28;01mif\u001b[39;00m text_pair \u001b[38;5;129;01mis\u001b[39;00m \u001b[38;5;129;01mnot\u001b[39;00m \u001b[38;5;28;01mNone\u001b[39;00m \u001b[38;5;28;01melse\u001b[39;00m text\n\u001b[1;32m-> 2969\u001b[0m     \u001b[38;5;28;01mreturn\u001b[39;00m \u001b[38;5;28mself\u001b[39m\u001b[38;5;241m.\u001b[39mbatch_encode_plus(\n\u001b[0;32m   2970\u001b[0m         batch_text_or_text_pairs\u001b[38;5;241m=\u001b[39mbatch_text_or_text_pairs,\n\u001b[0;32m   2971\u001b[0m         add_special_tokens\u001b[38;5;241m=\u001b[39madd_special_tokens,\n\u001b[0;32m   2972\u001b[0m         padding\u001b[38;5;241m=\u001b[39mpadding,\n\u001b[0;32m   2973\u001b[0m         truncation\u001b[38;5;241m=\u001b[39mtruncation,\n\u001b[0;32m   2974\u001b[0m         max_length\u001b[38;5;241m=\u001b[39mmax_length,\n\u001b[0;32m   2975\u001b[0m         stride\u001b[38;5;241m=\u001b[39mstride,\n\u001b[0;32m   2976\u001b[0m         is_split_into_words\u001b[38;5;241m=\u001b[39mis_split_into_words,\n\u001b[0;32m   2977\u001b[0m         pad_to_multiple_of\u001b[38;5;241m=\u001b[39mpad_to_multiple_of,\n\u001b[0;32m   2978\u001b[0m         return_tensors\u001b[38;5;241m=\u001b[39mreturn_tensors,\n\u001b[0;32m   2979\u001b[0m         return_token_type_ids\u001b[38;5;241m=\u001b[39mreturn_token_type_ids,\n\u001b[0;32m   2980\u001b[0m         return_attention_mask\u001b[38;5;241m=\u001b[39mreturn_attention_mask,\n\u001b[0;32m   2981\u001b[0m         return_overflowing_tokens\u001b[38;5;241m=\u001b[39mreturn_overflowing_tokens,\n\u001b[0;32m   2982\u001b[0m         return_special_tokens_mask\u001b[38;5;241m=\u001b[39mreturn_special_tokens_mask,\n\u001b[0;32m   2983\u001b[0m         return_offsets_mapping\u001b[38;5;241m=\u001b[39mreturn_offsets_mapping,\n\u001b[0;32m   2984\u001b[0m         return_length\u001b[38;5;241m=\u001b[39mreturn_length,\n\u001b[0;32m   2985\u001b[0m         verbose\u001b[38;5;241m=\u001b[39mverbose,\n\u001b[0;32m   2986\u001b[0m         \u001b[38;5;241m*\u001b[39m\u001b[38;5;241m*\u001b[39mkwargs,\n\u001b[0;32m   2987\u001b[0m     )\n\u001b[0;32m   2988\u001b[0m \u001b[38;5;28;01melse\u001b[39;00m:\n\u001b[0;32m   2989\u001b[0m     \u001b[38;5;28;01mreturn\u001b[39;00m \u001b[38;5;28mself\u001b[39m\u001b[38;5;241m.\u001b[39mencode_plus(\n\u001b[0;32m   2990\u001b[0m         text\u001b[38;5;241m=\u001b[39mtext,\n\u001b[0;32m   2991\u001b[0m         text_pair\u001b[38;5;241m=\u001b[39mtext_pair,\n\u001b[1;32m   (...)\u001b[0m\n\u001b[0;32m   3007\u001b[0m         \u001b[38;5;241m*\u001b[39m\u001b[38;5;241m*\u001b[39mkwargs,\n\u001b[0;32m   3008\u001b[0m     )\n",
      "File \u001b[1;32mc:\\Users\\UJay\\AppData\\Local\\Programs\\Python\\Python310\\lib\\site-packages\\transformers\\tokenization_utils_base.py:3160\u001b[0m, in \u001b[0;36mPreTrainedTokenizerBase.batch_encode_plus\u001b[1;34m(self, batch_text_or_text_pairs, add_special_tokens, padding, truncation, max_length, stride, is_split_into_words, pad_to_multiple_of, return_tensors, return_token_type_ids, return_attention_mask, return_overflowing_tokens, return_special_tokens_mask, return_offsets_mapping, return_length, verbose, **kwargs)\u001b[0m\n\u001b[0;32m   3150\u001b[0m \u001b[38;5;66;03m# Backward compatibility for 'truncation_strategy', 'pad_to_max_length'\u001b[39;00m\n\u001b[0;32m   3151\u001b[0m padding_strategy, truncation_strategy, max_length, kwargs \u001b[38;5;241m=\u001b[39m \u001b[38;5;28mself\u001b[39m\u001b[38;5;241m.\u001b[39m_get_padding_truncation_strategies(\n\u001b[0;32m   3152\u001b[0m     padding\u001b[38;5;241m=\u001b[39mpadding,\n\u001b[0;32m   3153\u001b[0m     truncation\u001b[38;5;241m=\u001b[39mtruncation,\n\u001b[1;32m   (...)\u001b[0m\n\u001b[0;32m   3157\u001b[0m     \u001b[38;5;241m*\u001b[39m\u001b[38;5;241m*\u001b[39mkwargs,\n\u001b[0;32m   3158\u001b[0m )\n\u001b[1;32m-> 3160\u001b[0m \u001b[38;5;28;01mreturn\u001b[39;00m \u001b[38;5;28mself\u001b[39m\u001b[38;5;241m.\u001b[39m_batch_encode_plus(\n\u001b[0;32m   3161\u001b[0m     batch_text_or_text_pairs\u001b[38;5;241m=\u001b[39mbatch_text_or_text_pairs,\n\u001b[0;32m   3162\u001b[0m     add_special_tokens\u001b[38;5;241m=\u001b[39madd_special_tokens,\n\u001b[0;32m   3163\u001b[0m     padding_strategy\u001b[38;5;241m=\u001b[39mpadding_strategy,\n\u001b[0;32m   3164\u001b[0m     truncation_strategy\u001b[38;5;241m=\u001b[39mtruncation_strategy,\n\u001b[0;32m   3165\u001b[0m     max_length\u001b[38;5;241m=\u001b[39mmax_length,\n\u001b[0;32m   3166\u001b[0m     stride\u001b[38;5;241m=\u001b[39mstride,\n\u001b[0;32m   3167\u001b[0m     is_split_into_words\u001b[38;5;241m=\u001b[39mis_split_into_words,\n\u001b[0;32m   3168\u001b[0m     pad_to_multiple_of\u001b[38;5;241m=\u001b[39mpad_to_multiple_of,\n\u001b[0;32m   3169\u001b[0m     return_tensors\u001b[38;5;241m=\u001b[39mreturn_tensors,\n\u001b[0;32m   3170\u001b[0m     return_token_type_ids\u001b[38;5;241m=\u001b[39mreturn_token_type_ids,\n\u001b[0;32m   3171\u001b[0m     return_attention_mask\u001b[38;5;241m=\u001b[39mreturn_attention_mask,\n\u001b[0;32m   3172\u001b[0m     return_overflowing_tokens\u001b[38;5;241m=\u001b[39mreturn_overflowing_tokens,\n\u001b[0;32m   3173\u001b[0m     return_special_tokens_mask\u001b[38;5;241m=\u001b[39mreturn_special_tokens_mask,\n\u001b[0;32m   3174\u001b[0m     return_offsets_mapping\u001b[38;5;241m=\u001b[39mreturn_offsets_mapping,\n\u001b[0;32m   3175\u001b[0m     return_length\u001b[38;5;241m=\u001b[39mreturn_length,\n\u001b[0;32m   3176\u001b[0m     verbose\u001b[38;5;241m=\u001b[39mverbose,\n\u001b[0;32m   3177\u001b[0m     \u001b[38;5;241m*\u001b[39m\u001b[38;5;241m*\u001b[39mkwargs,\n\u001b[0;32m   3178\u001b[0m )\n",
      "File \u001b[1;32mc:\\Users\\UJay\\AppData\\Local\\Programs\\Python\\Python310\\lib\\site-packages\\transformers\\tokenization_utils.py:803\u001b[0m, in \u001b[0;36mPreTrainedTokenizer._batch_encode_plus\u001b[1;34m(self, batch_text_or_text_pairs, add_special_tokens, padding_strategy, truncation_strategy, max_length, stride, is_split_into_words, pad_to_multiple_of, return_tensors, return_token_type_ids, return_attention_mask, return_overflowing_tokens, return_special_tokens_mask, return_offsets_mapping, return_length, verbose, **kwargs)\u001b[0m\n\u001b[0;32m    800\u001b[0m \u001b[38;5;28;01melse\u001b[39;00m:\n\u001b[0;32m    801\u001b[0m     ids, pair_ids \u001b[38;5;241m=\u001b[39m ids_or_pair_ids\n\u001b[1;32m--> 803\u001b[0m first_ids \u001b[38;5;241m=\u001b[39m \u001b[43mget_input_ids\u001b[49m\u001b[43m(\u001b[49m\u001b[43mids\u001b[49m\u001b[43m)\u001b[49m\n\u001b[0;32m    804\u001b[0m second_ids \u001b[38;5;241m=\u001b[39m get_input_ids(pair_ids) \u001b[38;5;28;01mif\u001b[39;00m pair_ids \u001b[38;5;129;01mis\u001b[39;00m \u001b[38;5;129;01mnot\u001b[39;00m \u001b[38;5;28;01mNone\u001b[39;00m \u001b[38;5;28;01melse\u001b[39;00m \u001b[38;5;28;01mNone\u001b[39;00m\n\u001b[0;32m    805\u001b[0m input_ids\u001b[38;5;241m.\u001b[39mappend((first_ids, second_ids))\n",
      "File \u001b[1;32mc:\\Users\\UJay\\AppData\\Local\\Programs\\Python\\Python310\\lib\\site-packages\\transformers\\tokenization_utils.py:770\u001b[0m, in \u001b[0;36mPreTrainedTokenizer._batch_encode_plus.<locals>.get_input_ids\u001b[1;34m(text)\u001b[0m\n\u001b[0;32m    768\u001b[0m \u001b[38;5;28;01mdef\u001b[39;00m \u001b[38;5;21mget_input_ids\u001b[39m(text):\n\u001b[0;32m    769\u001b[0m     \u001b[38;5;28;01mif\u001b[39;00m \u001b[38;5;28misinstance\u001b[39m(text, \u001b[38;5;28mstr\u001b[39m):\n\u001b[1;32m--> 770\u001b[0m         tokens \u001b[38;5;241m=\u001b[39m \u001b[38;5;28mself\u001b[39m\u001b[38;5;241m.\u001b[39mtokenize(text, \u001b[38;5;241m*\u001b[39m\u001b[38;5;241m*\u001b[39mkwargs)\n\u001b[0;32m    771\u001b[0m         \u001b[38;5;28;01mreturn\u001b[39;00m \u001b[38;5;28mself\u001b[39m\u001b[38;5;241m.\u001b[39mconvert_tokens_to_ids(tokens)\n\u001b[0;32m    772\u001b[0m     \u001b[38;5;28;01melif\u001b[39;00m \u001b[38;5;28misinstance\u001b[39m(text, (\u001b[38;5;28mlist\u001b[39m, \u001b[38;5;28mtuple\u001b[39m)) \u001b[38;5;129;01mand\u001b[39;00m \u001b[38;5;28mlen\u001b[39m(text) \u001b[38;5;241m>\u001b[39m \u001b[38;5;241m0\u001b[39m \u001b[38;5;129;01mand\u001b[39;00m \u001b[38;5;28misinstance\u001b[39m(text[\u001b[38;5;241m0\u001b[39m], \u001b[38;5;28mstr\u001b[39m):\n",
      "File \u001b[1;32mc:\\Users\\UJay\\AppData\\Local\\Programs\\Python\\Python310\\lib\\site-packages\\transformers\\tokenization_utils.py:617\u001b[0m, in \u001b[0;36mPreTrainedTokenizer.tokenize\u001b[1;34m(self, text, **kwargs)\u001b[0m\n\u001b[0;32m    615\u001b[0m         tokenized_text\u001b[38;5;241m.\u001b[39mappend(token)\n\u001b[0;32m    616\u001b[0m     \u001b[38;5;28;01melse\u001b[39;00m:\n\u001b[1;32m--> 617\u001b[0m         tokenized_text\u001b[38;5;241m.\u001b[39mextend(\u001b[38;5;28;43mself\u001b[39;49m\u001b[38;5;241;43m.\u001b[39;49m\u001b[43m_tokenize\u001b[49m\u001b[43m(\u001b[49m\u001b[43mtoken\u001b[49m\u001b[43m)\u001b[49m)\n\u001b[0;32m    618\u001b[0m \u001b[38;5;66;03m# [\"This\", \" is\", \" something\", \"<special_token_1>\", \"else\"]\u001b[39;00m\n\u001b[0;32m    619\u001b[0m \u001b[38;5;28;01mreturn\u001b[39;00m tokenized_text\n",
      "File \u001b[1;32mc:\\Users\\UJay\\AppData\\Local\\Programs\\Python\\Python310\\lib\\site-packages\\transformers\\models\\bert\\tokenization_bert.py:157\u001b[0m, in \u001b[0;36mBertTokenizer._tokenize\u001b[1;34m(self, text, split_special_tokens)\u001b[0m\n\u001b[0;32m    155\u001b[0m split_tokens \u001b[38;5;241m=\u001b[39m []\n\u001b[0;32m    156\u001b[0m \u001b[38;5;28;01mif\u001b[39;00m \u001b[38;5;28mself\u001b[39m\u001b[38;5;241m.\u001b[39mdo_basic_tokenize:\n\u001b[1;32m--> 157\u001b[0m     \u001b[38;5;28;01mfor\u001b[39;00m token \u001b[38;5;129;01min\u001b[39;00m \u001b[38;5;28;43mself\u001b[39;49m\u001b[38;5;241;43m.\u001b[39;49m\u001b[43mbasic_tokenizer\u001b[49m\u001b[38;5;241;43m.\u001b[39;49m\u001b[43mtokenize\u001b[49m\u001b[43m(\u001b[49m\n\u001b[0;32m    158\u001b[0m \u001b[43m        \u001b[49m\u001b[43mtext\u001b[49m\u001b[43m,\u001b[49m\u001b[43m \u001b[49m\u001b[43mnever_split\u001b[49m\u001b[38;5;241;43m=\u001b[39;49m\u001b[38;5;28;43mself\u001b[39;49m\u001b[38;5;241;43m.\u001b[39;49m\u001b[43mall_special_tokens\u001b[49m\u001b[43m \u001b[49m\u001b[38;5;28;43;01mif\u001b[39;49;00m\u001b[43m \u001b[49m\u001b[38;5;129;43;01mnot\u001b[39;49;00m\u001b[43m \u001b[49m\u001b[43msplit_special_tokens\u001b[49m\u001b[43m \u001b[49m\u001b[38;5;28;43;01melse\u001b[39;49;00m\u001b[43m \u001b[49m\u001b[38;5;28;43;01mNone\u001b[39;49;00m\n\u001b[0;32m    159\u001b[0m \u001b[43m    \u001b[49m\u001b[43m)\u001b[49m:\n\u001b[0;32m    160\u001b[0m         \u001b[38;5;66;03m# If the token is part of the never_split set\u001b[39;00m\n\u001b[0;32m    161\u001b[0m         \u001b[38;5;28;01mif\u001b[39;00m token \u001b[38;5;129;01min\u001b[39;00m \u001b[38;5;28mself\u001b[39m\u001b[38;5;241m.\u001b[39mbasic_tokenizer\u001b[38;5;241m.\u001b[39mnever_split:\n\u001b[0;32m    162\u001b[0m             split_tokens\u001b[38;5;241m.\u001b[39mappend(token)\n",
      "File \u001b[1;32mc:\\Users\\UJay\\AppData\\Local\\Programs\\Python\\Python310\\lib\\site-packages\\transformers\\models\\bert\\tokenization_bert.py:357\u001b[0m, in \u001b[0;36mBasicTokenizer.tokenize\u001b[1;34m(self, text, never_split)\u001b[0m\n\u001b[0;32m    355\u001b[0m         \u001b[38;5;28;01melif\u001b[39;00m \u001b[38;5;28mself\u001b[39m\u001b[38;5;241m.\u001b[39mstrip_accents:\n\u001b[0;32m    356\u001b[0m             token \u001b[38;5;241m=\u001b[39m \u001b[38;5;28mself\u001b[39m\u001b[38;5;241m.\u001b[39m_run_strip_accents(token)\n\u001b[1;32m--> 357\u001b[0m     split_tokens\u001b[38;5;241m.\u001b[39mextend(\u001b[38;5;28;43mself\u001b[39;49m\u001b[38;5;241;43m.\u001b[39;49m\u001b[43m_run_split_on_punc\u001b[49m\u001b[43m(\u001b[49m\u001b[43mtoken\u001b[49m\u001b[43m,\u001b[49m\u001b[43m \u001b[49m\u001b[43mnever_split\u001b[49m\u001b[43m)\u001b[49m)\n\u001b[0;32m    359\u001b[0m output_tokens \u001b[38;5;241m=\u001b[39m whitespace_tokenize(\u001b[38;5;124m\"\u001b[39m\u001b[38;5;124m \u001b[39m\u001b[38;5;124m\"\u001b[39m\u001b[38;5;241m.\u001b[39mjoin(split_tokens))\n\u001b[0;32m    360\u001b[0m \u001b[38;5;28;01mreturn\u001b[39;00m output_tokens\n",
      "File \u001b[1;32mc:\\Users\\UJay\\AppData\\Local\\Programs\\Python\\Python310\\lib\\site-packages\\transformers\\models\\bert\\tokenization_bert.py:381\u001b[0m, in \u001b[0;36mBasicTokenizer._run_split_on_punc\u001b[1;34m(self, text, never_split)\u001b[0m\n\u001b[0;32m    379\u001b[0m start_new_word \u001b[38;5;241m=\u001b[39m \u001b[38;5;28;01mTrue\u001b[39;00m\n\u001b[0;32m    380\u001b[0m output \u001b[38;5;241m=\u001b[39m []\n\u001b[1;32m--> 381\u001b[0m \u001b[38;5;28;01mwhile\u001b[39;00m i \u001b[38;5;241m<\u001b[39m \u001b[38;5;28;43mlen\u001b[39;49m\u001b[43m(\u001b[49m\u001b[43mchars\u001b[49m\u001b[43m)\u001b[49m:\n\u001b[0;32m    382\u001b[0m     char \u001b[38;5;241m=\u001b[39m chars[i]\n\u001b[0;32m    383\u001b[0m     \u001b[38;5;28;01mif\u001b[39;00m _is_punctuation(char):\n",
      "\u001b[1;31mKeyboardInterrupt\u001b[0m: "
     ]
    }
   ],
   "source": [
    "from torch.optim import RMSprop\n",
    "loader = DataLoader(train_dataset, batch_size=16, shuffle=True)\n",
    "val_loader = DataLoader(valid_dataset, batch_size=16, shuffle=True)\n",
    "\n",
    "# 定義優化器和損失函數\n",
    "optimizer = torch.optim.Adam(model.parameters(), lr=0.001)\n",
    "criterion = nn.BCEWithLogitsLoss()\n",
    "epochs = 1\n",
    "train_losses = []\n",
    "val_losses = []\n",
    "# 訓練循環\n",
    "for epoch in range(epochs):\n",
    "    print('Epoch:', epoch)\n",
    "    model.train()\n",
    "    for i, data in enumerate(tqdm(loader)):\n",
    "        # 將文本數據轉換為模型可以接受的輸入格式\n",
    "        train_inputs = tokenizer(data['text'], return_tensors='pt', padding=True, truncation=True).input_ids\n",
    "\n",
    "        # 獲取標籤\n",
    "        train_labels = data['label'].float()\n",
    "\n",
    "        train_inputs = train_inputs.to(device)  # 將輸入數據移動到指定的設備上\n",
    "        train_labels = train_labels.to(device)  # 將標籤數據移動到指定的設備上\n",
    "\n",
    "        # 將參數梯度設為零\n",
    "        optimizer.zero_grad()\n",
    "\n",
    "        # 前向傳播 + 反向傳播 + 優化\n",
    "        outputs = model(train_inputs)\n",
    "        loss = criterion(outputs, train_labels)\n",
    "        loss.backward()\n",
    "        optimizer.step()\n",
    "        \n",
    "        # 畫圖用\n",
    "        train_losses.append(loss.item())\n",
    "        # 打印統計信息\n",
    "        # if (i+1) % 100 == 0:\n",
    "        #     print(f'Epoch [{epoch+1}/{epochs}], Step [{i+1}/{len(loader)}], Loss: {loss.item()}')\n",
    "    # 驗證循環\n",
    "    model.eval()  # 設置模型為評估模式\n",
    "    with torch.no_grad():\n",
    "        for i, data in enumerate(val_loader):\n",
    "            val_inputs = tokenizer(data['text'], return_tensors='pt', padding=True, truncation=True).input_ids.float()\n",
    "            val_labels = data['label'].float()\n",
    "\n",
    "            val_inputs = val_inputs.to(device)\n",
    "            val_labels = val_labels.to(device)\n",
    "\n",
    "            outputs = model(val_inputs)\n",
    "            loss = criterion(outputs, val_labels)\n",
    "\n",
    "            # 保存驗證損失\n",
    "            val_losses.append(loss.item())\n",
    "print('Finished Training')"
   ]
  },
  {
   "cell_type": "markdown",
   "metadata": {},
   "source": [
    "觀察訓練狀況"
   ]
  },
  {
   "cell_type": "code",
   "execution_count": 46,
   "metadata": {},
   "outputs": [
    {
     "data": {
      "image/png": "[encoded data removed]",
      "text/plain": [
       "<Figure size 640x480 with 1 Axes>"
      ]
     },
     "metadata": {},
     "output_type": "display_data"
    }
   ],
   "source": [
    "import matplotlib.pyplot as plt\n",
    "\n",
    "# 繪製NN訓練和驗證損失圖\n",
    "plt.plot(train_losses_per_epoch, label='Training loss')\n",
    "plt.plot(val_losses_per_epoch, label='Validation loss')\n",
    "plt.legend(frameon=False)\n",
    "plt.show()"
   ]
  },
  {
   "cell_type": "code",
   "execution_count": 144,
   "metadata": {},
   "outputs": [],
   "source": [
    "# 儲存模型\n",
    "torch.save(model.state_dict(), 'DNN.pth')"
   ]
  },
  {
   "cell_type": "markdown",
   "metadata": {},
   "source": [
    "---\n",
    "定義CNN模型(改為載入預訓練模型)"
   ]
  },
  {
   "cell_type": "code",
   "execution_count": 13,
   "metadata": {},
   "outputs": [
    {
     "data": {
      "text/plain": [
       "<All keys matched successfully>"
      ]
     },
     "execution_count": 13,
     "metadata": {},
     "output_type": "execute_result"
    }
   ],
   "source": [
    "import torch\n",
    "from torch import nn\n",
    "from torch.utils.data import DataLoader\n",
    "from transformers import AutoTokenizer\n",
    "from tqdm import tqdm\n",
    "\n",
    "# 模型参数\n",
    "# vocab_size = tokenizer.vocab_size\n",
    "embed_size = 300\n",
    "num_filters = 128\n",
    "kernel_size = 5\n",
    "stride = 1\n",
    "pool_size = 2\n",
    "\n",
    "class MyModel(nn.Module):\n",
    "    def __init__(self, embed_size, num_filters, kernel_size, stride, pool_size):\n",
    "        super(MyModel, self).__init__()\n",
    "        # self.embedding = nn.Embedding(vocab_size, embed_size)\n",
    "        self.conv = nn.Conv1d(embed_size, num_filters, kernel_size, stride)\n",
    "        self.relu = nn.ReLU()\n",
    "        self.pool = nn.MaxPool1d(pool_size)\n",
    "        self.flatten = nn.Flatten()\n",
    "        self.fc1 = nn.Linear(((300 - kernel_size) // stride + 1) // pool_size * num_filters, 64)\n",
    "        self.dropout = nn.Dropout(0.3)\n",
    "        self.fc2 = nn.Linear(64, 5)  # 五分類\n",
    "\n",
    "    def forward(self, x):\n",
    "        # x = self.embedding(x)\n",
    "        x = x.permute(0, 2, 1)  # 交換維度\n",
    "        x = self.conv(x)\n",
    "        x = self.relu(x)\n",
    "        x = self.pool(x)\n",
    "        x = self.flatten(x)\n",
    "        x = self.fc1(x)\n",
    "        x = self.relu(x)\n",
    "        x = self.dropout(x)\n",
    "        x = self.fc2(x)\n",
    "        return x\n",
    "\n",
    "# 初始化模型\n",
    "model2 = MyModel(embed_size, num_filters, kernel_size, stride, pool_size)\n",
    "device = torch.device('cuda' if torch.cuda.is_available() else 'cpu')\n",
    "model2 = model2.to(device)\n",
    "model2.load_state_dict(torch.load(r'C:\\Users\\UJay\\School\\judgement_classfier\\models\\CNN.pth'))"
   ]
  },
  {
   "cell_type": "markdown",
   "metadata": {},
   "source": [
    "訓練CNN"
   ]
  },
  {
   "cell_type": "code",
   "execution_count": 153,
   "metadata": {},
   "outputs": [
    {
     "name": "stdout",
     "output_type": "stream",
     "text": [
      "Epoch: 0\n"
     ]
    },
    {
     "name": "stderr",
     "output_type": "stream",
     "text": [
      "  0%|          | 0/72 [00:00<?, ?it/s]C:\\Users\\UJay\\AppData\\Local\\Temp\\ipykernel_11184\\2195195846.py:83: UserWarning: To copy construct from a tensor, it is recommended to use sourceTensor.clone().detach() or sourceTensor.clone().detach().requires_grad_(True), rather than torch.tensor(sourceTensor).\n",
      "  train_labels = torch.argmax(torch.tensor(data['label'], dtype=torch.float32), dim=1)\n",
      "100%|██████████| 72/72 [00:41<00:00,  1.75it/s]\n",
      "C:\\Users\\UJay\\AppData\\Local\\Temp\\ipykernel_11184\\2195195846.py:115: UserWarning: To copy construct from a tensor, it is recommended to use sourceTensor.clone().detach() or sourceTensor.clone().detach().requires_grad_(True), rather than torch.tensor(sourceTensor).\n",
      "  val_labels = torch.argmax(torch.tensor(data['label'], dtype=torch.float32), dim=1)\n"
     ]
    },
    {
     "name": "stdout",
     "output_type": "stream",
     "text": [
      "Epoch: 1\n"
     ]
    },
    {
     "name": "stderr",
     "output_type": "stream",
     "text": [
      "100%|██████████| 72/72 [00:41<00:00,  1.75it/s]\n"
     ]
    },
    {
     "name": "stdout",
     "output_type": "stream",
     "text": [
      "Epoch: 2\n"
     ]
    },
    {
     "name": "stderr",
     "output_type": "stream",
     "text": [
      "100%|██████████| 72/72 [00:41<00:00,  1.73it/s]\n"
     ]
    },
    {
     "name": "stdout",
     "output_type": "stream",
     "text": [
      "Epoch: 3\n"
     ]
    },
    {
     "name": "stderr",
     "output_type": "stream",
     "text": [
      "100%|██████████| 72/72 [00:43<00:00,  1.67it/s]\n"
     ]
    },
    {
     "name": "stdout",
     "output_type": "stream",
     "text": [
      "Epoch: 4\n"
     ]
    },
    {
     "name": "stderr",
     "output_type": "stream",
     "text": [
      "100%|██████████| 72/72 [00:42<00:00,  1.69it/s]\n"
     ]
    },
    {
     "name": "stdout",
     "output_type": "stream",
     "text": [
      "Epoch: 5\n"
     ]
    },
    {
     "name": "stderr",
     "output_type": "stream",
     "text": [
      "100%|██████████| 72/72 [00:42<00:00,  1.69it/s]\n"
     ]
    },
    {
     "name": "stdout",
     "output_type": "stream",
     "text": [
      "Epoch: 6\n"
     ]
    },
    {
     "name": "stderr",
     "output_type": "stream",
     "text": [
      "100%|██████████| 72/72 [00:42<00:00,  1.71it/s]\n"
     ]
    },
    {
     "name": "stdout",
     "output_type": "stream",
     "text": [
      "Epoch: 7\n"
     ]
    },
    {
     "name": "stderr",
     "output_type": "stream",
     "text": [
      "100%|██████████| 72/72 [00:42<00:00,  1.70it/s]\n"
     ]
    },
    {
     "name": "stdout",
     "output_type": "stream",
     "text": [
      "Epoch: 8\n"
     ]
    },
    {
     "name": "stderr",
     "output_type": "stream",
     "text": [
      "100%|██████████| 72/72 [00:42<00:00,  1.69it/s]\n"
     ]
    },
    {
     "name": "stdout",
     "output_type": "stream",
     "text": [
      "Epoch: 9\n"
     ]
    },
    {
     "name": "stderr",
     "output_type": "stream",
     "text": [
      "100%|██████████| 72/72 [00:41<00:00,  1.73it/s]\n"
     ]
    },
    {
     "name": "stdout",
     "output_type": "stream",
     "text": [
      "Epoch: 10\n"
     ]
    },
    {
     "name": "stderr",
     "output_type": "stream",
     "text": [
      "100%|██████████| 72/72 [00:42<00:00,  1.69it/s]\n"
     ]
    },
    {
     "name": "stdout",
     "output_type": "stream",
     "text": [
      "Epoch: 11\n"
     ]
    },
    {
     "name": "stderr",
     "output_type": "stream",
     "text": [
      "100%|██████████| 72/72 [00:41<00:00,  1.73it/s]\n"
     ]
    },
    {
     "name": "stdout",
     "output_type": "stream",
     "text": [
      "Epoch: 12\n"
     ]
    },
    {
     "name": "stderr",
     "output_type": "stream",
     "text": [
      "100%|██████████| 72/72 [00:41<00:00,  1.75it/s]\n"
     ]
    },
    {
     "name": "stdout",
     "output_type": "stream",
     "text": [
      "Epoch: 13\n"
     ]
    },
    {
     "name": "stderr",
     "output_type": "stream",
     "text": [
      "100%|██████████| 72/72 [00:40<00:00,  1.76it/s]\n"
     ]
    },
    {
     "name": "stdout",
     "output_type": "stream",
     "text": [
      "Epoch: 14\n"
     ]
    },
    {
     "name": "stderr",
     "output_type": "stream",
     "text": [
      "100%|██████████| 72/72 [00:40<00:00,  1.76it/s]\n"
     ]
    },
    {
     "name": "stdout",
     "output_type": "stream",
     "text": [
      "Epoch: 15\n"
     ]
    },
    {
     "name": "stderr",
     "output_type": "stream",
     "text": [
      "100%|██████████| 72/72 [00:40<00:00,  1.76it/s]\n"
     ]
    },
    {
     "name": "stdout",
     "output_type": "stream",
     "text": [
      "Epoch: 16\n"
     ]
    },
    {
     "name": "stderr",
     "output_type": "stream",
     "text": [
      "100%|██████████| 72/72 [00:40<00:00,  1.77it/s]\n"
     ]
    },
    {
     "name": "stdout",
     "output_type": "stream",
     "text": [
      "Epoch: 17\n"
     ]
    },
    {
     "name": "stderr",
     "output_type": "stream",
     "text": [
      "100%|██████████| 72/72 [00:40<00:00,  1.77it/s]\n"
     ]
    },
    {
     "name": "stdout",
     "output_type": "stream",
     "text": [
      "Epoch: 18\n"
     ]
    },
    {
     "name": "stderr",
     "output_type": "stream",
     "text": [
      "100%|██████████| 72/72 [00:42<00:00,  1.70it/s]\n"
     ]
    },
    {
     "name": "stdout",
     "output_type": "stream",
     "text": [
      "Epoch: 19\n"
     ]
    },
    {
     "name": "stderr",
     "output_type": "stream",
     "text": [
      "100%|██████████| 72/72 [00:40<00:00,  1.76it/s]\n"
     ]
    },
    {
     "name": "stdout",
     "output_type": "stream",
     "text": [
      "Finished Training\n"
     ]
    }
   ],
   "source": [
    "# 訓練CNN參數\n",
    "loader = DataLoader(train_dataset, batch_size=32, shuffle=True)\n",
    "val_loader = DataLoader(valid_dataset, batch_size=32, shuffle=True)\n",
    "\n",
    "# 定義優化器和損失函數\n",
    "optimizer2 = torch.optim.Adam(model2.parameters(), lr=1e-5)\n",
    "criterion2 = nn.CrossEntropyLoss()  # 使用交叉熵损失函数\n",
    "\n",
    "epochs2 = 20\n",
    "train_losses2_per_epoch = []\n",
    "val_losses2_per_eoch = []\n",
    "\n",
    "# 訓練循環\n",
    "for epoch in range(epochs2):\n",
    "    print('Epoch:', epoch)\n",
    "    model2.train()\n",
    "    train_losses2 = []\n",
    "    val_losses2 = []\n",
    "    for i, data in enumerate(tqdm(loader)):\n",
    "        \n",
    "        # # 对文章进行负偏态分布采样\n",
    "        sampled_text_list = [negatively_skewed_sample(text.split()) for text in data['text']]\n",
    "        # 將文本數據轉換為模型可以接受的輸入格式\n",
    "        vectors = [text_to_vector(text) for text in sampled_text_list]\n",
    "        # print(data['text'])\n",
    "        # print(\"1\")\n",
    "        # vectors,_,_ = preProcessText_and_getVector(data['text'],max_length=300)\n",
    "        vectors = torch.tensor(vectors, dtype=torch.float32)\n",
    "        # train_inputs = torch.unsqueeze(torch.tensor(vectors, dtype=torch.float32), 0)\n",
    "        # print(vectors.shape, vectors.dtype)\n",
    "        # train_inputs = torch.tensor(vectors, dtype=torch.float32)  # 添加一個新的維度\n",
    "        \n",
    "        # train_inputs = tokenizer(sampled_text_list, return_tensors='pt', padding=True, truncation=True).input_ids\n",
    "        # 將文本數據轉換為模型可以接受的輸入格式\n",
    "        \n",
    "        # print(train_inputs.shape, train_inputs.dtype)\n",
    "        \n",
    "        # 獲取標籤\n",
    "        train_labels = torch.argmax(torch.tensor(data['label'], dtype=torch.float32), dim=1)\n",
    "\n",
    "        vectors = vectors.to(device)  # 將輸入數據移動到指定的設備上\n",
    "        train_labels = train_labels.to(device)  # 將標籤數據移動到指定的設備上\n",
    "\n",
    "        # 將參數梯度設為零\n",
    "        optimizer2.zero_grad()\n",
    "\n",
    "        # 前向傳播 + 反向傳播 + 優化\n",
    "        outputs = model2(vectors)\n",
    "        # print(outputs.shape, outputs.dtype)\n",
    "        # print(train_labels)\n",
    "        loss = criterion2(outputs, train_labels)\n",
    "        loss.backward()\n",
    "        optimizer2.step()\n",
    "        train_losses2.append(loss.item())\n",
    "        # 畫圖用\n",
    "    avg_train_loss = sum(train_losses2) / len(train_losses2)\n",
    "    train_losses2_per_epoch.append(avg_train_loss)\n",
    "\n",
    "    # 驗證循環\n",
    "    model2.eval()  # 設置模型為評估模式\n",
    "    with torch.no_grad():\n",
    "        for i, data in enumerate(val_loader):\n",
    "            \n",
    "            # 对文章进行负偏态分布采样\n",
    "            sampled_text_list = [negatively_skewed_sample(text.split()) for text in data['text']]\n",
    "            vectors = [text_to_vector(text) for text in sampled_text_list]\n",
    "            # vectors,_,_ = preProcessText_and_getVector(data['text'],max_length=300)\n",
    "            vectors = torch.tensor(vectors, dtype=torch.float32)\n",
    "            # val_inputs = torch.tensor(vectors, dtype=torch.float32)\n",
    "            # val_inputs = tokenizer(sampled_text_list, return_tensors='pt', padding=True, truncation=True).input_ids\n",
    "            val_labels = torch.argmax(torch.tensor(data['label'], dtype=torch.float32), dim=1)\n",
    "\n",
    "            vectors = vectors.to(device)\n",
    "            val_labels = val_labels.to(device)\n",
    "\n",
    "            outputs = model2(vectors)\n",
    "            loss = criterion2(outputs, val_labels)\n",
    "\n",
    "            # 保存驗證損失\n",
    "            val_losses2.append(loss.item())\n",
    "    avg_val_loss = sum(val_losses2) / len(val_losses2)\n",
    "    val_losses2_per_eoch.append(avg_val_loss)\n",
    "print('Finished Training')\n"
   ]
  },
  {
   "cell_type": "markdown",
   "metadata": {},
   "source": [
    "觀察CNN訓練狀況"
   ]
  },
  {
   "cell_type": "code",
   "execution_count": 154,
   "metadata": {},
   "outputs": [
    {
     "data": {
      "image/png": "[encoded data removed]",
      "text/plain": [
       "<Figure size 640x480 with 1 Axes>"
      ]
     },
     "metadata": {},
     "output_type": "display_data"
    }
   ],
   "source": [
    "import matplotlib.pyplot as plt\n",
    "\n",
    "# 繪製訓練和驗證損失圖\n",
    "plt.plot(train_losses2_per_epoch, label='Training loss')\n",
    "plt.plot(val_losses2_per_eoch, label='Validation loss')\n",
    "plt.legend(frameon=False)\n",
    "plt.show()"
   ]
  },
  {
   "cell_type": "markdown",
   "metadata": {},
   "source": [
    "定義並訓練LSTM(實驗時效果不彰已移除)"
   ]
  },
  {
   "cell_type": "code",
   "execution_count": 134,
   "metadata": {},
   "outputs": [
    {
     "name": "stdout",
     "output_type": "stream",
     "text": [
      "cuda\n",
      "Epoch: 0\n"
     ]
    },
    {
     "name": "stderr",
     "output_type": "stream",
     "text": [
      "  0%|          | 0/72 [00:00<?, ?it/s]C:\\Users\\UJay\\AppData\\Local\\Temp\\ipykernel_11184\\3421894528.py:73: UserWarning: To copy construct from a tensor, it is recommended to use sourceTensor.clone().detach() or sourceTensor.clone().detach().requires_grad_(True), rather than torch.tensor(sourceTensor).\n",
      "  train_labels = torch.argmax(torch.tensor(data['label'], dtype=torch.float32), dim=1)\n",
      "100%|██████████| 72/72 [00:15<00:00,  4.66it/s]\n",
      "  0%|          | 0/51 [00:00<?, ?it/s]C:\\Users\\UJay\\AppData\\Local\\Temp\\ipykernel_11184\\3421894528.py:98: UserWarning: To copy construct from a tensor, it is recommended to use sourceTensor.clone().detach() or sourceTensor.clone().detach().requires_grad_(True), rather than torch.tensor(sourceTensor).\n",
      "  val_labels = torch.argmax(torch.tensor(data['label'], dtype=torch.float32), dim=1)\n",
      "100%|██████████| 51/51 [01:09<00:00,  1.37s/it]\n"
     ]
    },
    {
     "name": "stdout",
     "output_type": "stream",
     "text": [
      "Epoch: 1\n"
     ]
    },
    {
     "name": "stderr",
     "output_type": "stream",
     "text": [
      "100%|██████████| 72/72 [00:15<00:00,  4.71it/s]\n",
      "100%|██████████| 51/51 [01:09<00:00,  1.37s/it]\n"
     ]
    },
    {
     "name": "stdout",
     "output_type": "stream",
     "text": [
      "Epoch: 2\n"
     ]
    },
    {
     "name": "stderr",
     "output_type": "stream",
     "text": [
      "100%|██████████| 72/72 [00:15<00:00,  4.62it/s]\n",
      "100%|██████████| 51/51 [01:10<00:00,  1.38s/it]\n"
     ]
    },
    {
     "name": "stdout",
     "output_type": "stream",
     "text": [
      "Epoch: 3\n"
     ]
    },
    {
     "name": "stderr",
     "output_type": "stream",
     "text": [
      "100%|██████████| 72/72 [00:15<00:00,  4.67it/s]\n",
      "100%|██████████| 51/51 [01:08<00:00,  1.35s/it]\n"
     ]
    },
    {
     "name": "stdout",
     "output_type": "stream",
     "text": [
      "Epoch: 4\n"
     ]
    },
    {
     "name": "stderr",
     "output_type": "stream",
     "text": [
      "100%|██████████| 72/72 [00:15<00:00,  4.73it/s]\n",
      "100%|██████████| 51/51 [01:10<00:00,  1.39s/it]\n"
     ]
    },
    {
     "name": "stdout",
     "output_type": "stream",
     "text": [
      "Epoch: 5\n"
     ]
    },
    {
     "name": "stderr",
     "output_type": "stream",
     "text": [
      "100%|██████████| 72/72 [00:15<00:00,  4.59it/s]\n",
      "100%|██████████| 51/51 [01:10<00:00,  1.39s/it]\n"
     ]
    },
    {
     "name": "stdout",
     "output_type": "stream",
     "text": [
      "Epoch: 6\n"
     ]
    },
    {
     "name": "stderr",
     "output_type": "stream",
     "text": [
      "100%|██████████| 72/72 [00:15<00:00,  4.69it/s]\n",
      "100%|██████████| 51/51 [01:10<00:00,  1.38s/it]\n"
     ]
    },
    {
     "name": "stdout",
     "output_type": "stream",
     "text": [
      "Epoch: 7\n"
     ]
    },
    {
     "name": "stderr",
     "output_type": "stream",
     "text": [
      "100%|██████████| 72/72 [00:15<00:00,  4.66it/s]\n",
      "100%|██████████| 51/51 [01:09<00:00,  1.37s/it]\n"
     ]
    },
    {
     "name": "stdout",
     "output_type": "stream",
     "text": [
      "Epoch: 8\n"
     ]
    },
    {
     "name": "stderr",
     "output_type": "stream",
     "text": [
      "100%|██████████| 72/72 [00:15<00:00,  4.68it/s]\n",
      "100%|██████████| 51/51 [01:08<00:00,  1.35s/it]\n"
     ]
    },
    {
     "name": "stdout",
     "output_type": "stream",
     "text": [
      "Epoch: 9\n"
     ]
    },
    {
     "name": "stderr",
     "output_type": "stream",
     "text": [
      "100%|██████████| 72/72 [00:15<00:00,  4.64it/s]\n",
      "100%|██████████| 51/51 [01:10<00:00,  1.38s/it]"
     ]
    },
    {
     "name": "stdout",
     "output_type": "stream",
     "text": [
      "Finished Training\n"
     ]
    },
    {
     "name": "stderr",
     "output_type": "stream",
     "text": [
      "\n"
     ]
    }
   ],
   "source": [
    "# LSTM\n",
    "import torch\n",
    "from torch import nn\n",
    "from torch.utils.data import DataLoader\n",
    "from transformers import AutoTokenizer\n",
    "from tqdm import tqdm\n",
    "import os\n",
    "os.environ['CUDA_LAUNCH_BLOCKING'] = \"1\"\n",
    "# 假设您已经定义了tokenizer和数据集train_dataset, valid_dataset\n",
    "# tokenizer = AutoTokenizer.from_pretrained('bert-base-chinese')\n",
    "\n",
    "# 模型参数\n",
    "vocab_size = tokenizer.vocab_size\n",
    "embed_size = 128\n",
    "hidden_size = 128  # LSTM隐藏层大小\n",
    "num_layers = 2  # LSTM层数\n",
    "\n",
    "class LSTMModel(nn.Module):\n",
    "    def __init__(self, vocab_size, embed_size, hidden_size, num_layers, num_classes):\n",
    "        super(LSTMModel, self).__init__()\n",
    "        self.embedding = nn.Embedding(vocab_size, embed_size)\n",
    "        self.lstm = nn.LSTM(embed_size, hidden_size, num_layers, batch_first=True, bidirectional=True)\n",
    "        self.fc1 = nn.Linear(hidden_size * 2, 64)  # 双向LSTM的输出是hidden_size的两倍\n",
    "        self.dropout = nn.Dropout(0.3)\n",
    "        self.fc2 = nn.Linear(64, num_classes)  # 五分类任务\n",
    "\n",
    "    def forward(self, x):\n",
    "        x = self.embedding(x)\n",
    "        lstm_out, _ = self.lstm(x)\n",
    "        lstm_out = lstm_out.mean(dim=1)  # 取所有时间步的平均值\n",
    "        # lstm_out = lstm_out[:, -1, :]  # 取最后一个时间步的输出\n",
    "        x = self.fc1(lstm_out)\n",
    "        x = nn.ReLU()(x)\n",
    "        x = self.dropout(x)\n",
    "        x = self.fc2(x)\n",
    "        return x\n",
    "\n",
    "# 初始化模型\n",
    "num_classes = 5  # 五分類\n",
    "model2 = LSTMModel(vocab_size, embed_size, hidden_size, num_layers, num_classes)\n",
    "device = torch.device('cuda' if torch.cuda.is_available() else 'cpu')\n",
    "print(device)\n",
    "model2 = model2.to(device)\n",
    "\n",
    "loader = DataLoader(train_dataset, batch_size=32, shuffle=True)\n",
    "val_loader = DataLoader(valid_dataset, batch_size=32, shuffle=True,drop_last=True)\n",
    "\n",
    "# 定義優化器和損失函數\n",
    "optimizer2 = torch.optim.Adam(model2.parameters(), lr=1e-5)\n",
    "criterion2 = nn.CrossEntropyLoss()  # 使用交叉熵损失函数\n",
    "\n",
    "epochs2 = 10\n",
    "train_losses2_per_epoch = []\n",
    "val_losses2_per_eoch = []\n",
    "\n",
    "# 訓練循環\n",
    "for epoch in range(epochs2):\n",
    "    print('Epoch:', epoch)\n",
    "    model2.train()\n",
    "    train_losses2 = []\n",
    "    val_losses2 = []\n",
    "    for i, data in enumerate(tqdm(loader)):\n",
    "        \n",
    "        # 对文章进行负偏态分布采样\n",
    "        sampled_text_list = [negatively_skewed_sample(text.split()) for text in data['text']]\n",
    "        # 將文本數據轉換為模型可以接受的輸入格式\n",
    "        train_inputs = tokenizer(sampled_text_list, return_tensors='pt', padding=True, truncation=True).input_ids\n",
    "        # vectors = preProcessText_and_getVector(data['text'],max_length=300)\n",
    "        # train_inputs = torch.tensor(vectors, dtype=torch.float32).long()\n",
    "        # print(train_inputs)\n",
    "        # print(train_inputs.shape)\n",
    "        # 獲取標籤\n",
    "        train_labels = torch.argmax(torch.tensor(data['label'], dtype=torch.float32), dim=1)\n",
    "        # print(train_labels)\n",
    "        train_inputs = train_inputs.to(device)  # 將輸入數據移動到指定的設備上\n",
    "        train_labels = train_labels.to(device)  # 將標籤數據移動到指定的設備上\n",
    "\n",
    "        # 將參數梯度設為零\n",
    "        optimizer2.zero_grad()\n",
    "        # 前向傳播 + 反向傳播 + 優化\n",
    "        outputs = model2(train_inputs)\n",
    "        loss = criterion2(outputs, train_labels)\n",
    "        loss.backward()\n",
    "        optimizer2.step()\n",
    "        train_losses2.append(loss.item())\n",
    "\n",
    "    avg_train_loss = sum(train_losses2) / len(train_losses2)\n",
    "    train_losses2_per_epoch.append(avg_train_loss)\n",
    "\n",
    "    # 驗證循環\n",
    "    model2.eval()  # 設置模型為評估模式\n",
    "    with torch.no_grad():\n",
    "        for i, data in enumerate(tqdm(val_loader)):\n",
    "            \n",
    "            # 对文章进行负偏态分布采样\n",
    "            # sampleds_text_list = [negatively_skewed_sample(text.split()) for text in data['text']]\n",
    "            val_inputs = tokenizer(data['text'], return_tensors='pt', padding=True, truncation=True).input_ids\n",
    "            val_labels = torch.argmax(torch.tensor(data['label'], dtype=torch.float32), dim=1)\n",
    "            # vectors = preProcessText_and_getVector(data['text'],max_length=300)\n",
    "            # val_inputs = torch.tensor(vectors, dtype=torch.float32).long()\n",
    "            \n",
    "            val_inputs = val_inputs.to(device)\n",
    "            val_labels = val_labels.to(device)\n",
    "            outputs = model2(val_inputs)\n",
    "            # print(outputs.shape)\n",
    "            # if outputs.shape!=val_labels.shape:print(outputs.shape,val_labels.shape)\n",
    "            loss = criterion2(outputs, val_labels)\n",
    "\n",
    "            # 保存驗證損失\n",
    "            val_losses2.append(loss.item())\n",
    "    avg_val_loss = sum(val_losses2) / len(val_losses2)\n",
    "    val_losses2_per_eoch.append(avg_val_loss)\n",
    "print('Finished Training')\n"
   ]
  },
  {
   "cell_type": "markdown",
   "metadata": {},
   "source": [
    "---\n",
    "使用測試集觀察NN模型表現"
   ]
  },
  {
   "cell_type": "code",
   "execution_count": 39,
   "metadata": {},
   "outputs": [
    {
     "name": "stderr",
     "output_type": "stream",
     "text": [
      "C:\\Users\\UJay\\AppData\\Local\\Temp\\ipykernel_9224\\381804537.py:26: UserWarning: To copy construct from a tensor, it is recommended to use sourceTensor.clone().detach() or sourceTensor.clone().detach().requires_grad_(True), rather than torch.tensor(sourceTensor).\n",
      "  labels = torch.argmax(torch.tensor(data['label'], dtype=torch.float), dim=1)\n"
     ]
    },
    {
     "name": "stdout",
     "output_type": "stream",
     "text": [
      "Accuracy of the model on the test data: 74.5158002038736%\n",
      "              precision    recall  f1-score   support\n",
      "\n",
      "           0       0.83      0.88      0.85       200\n",
      "           1       0.56      0.78      0.65       181\n",
      "           2       0.89      0.78      0.83       200\n",
      "           3       0.92      0.80      0.86       200\n",
      "           4       0.59      0.49      0.54       200\n",
      "\n",
      "    accuracy                           0.75       981\n",
      "   macro avg       0.76      0.75      0.75       981\n",
      "weighted avg       0.76      0.75      0.75       981\n",
      "\n"
     ]
    }
   ],
   "source": [
    "from sklearn.metrics import classification_report\n",
    "\n",
    "# 創建測試數據加載器\n",
    "test_loader = DataLoader(test_dataset, batch_size=128, shuffle=True)\n",
    "\n",
    "# 將模型設置為評估模式\n",
    "model.eval()\n",
    "predicted_labels = []\n",
    "true_labels = []\n",
    "# 初始化正確預測的數量和總數量\n",
    "correct = 0\n",
    "total = 0\n",
    "\n",
    "# 不計算梯度，因為我們現在是在進行測試，而不是訓練\n",
    "with torch.no_grad():\n",
    "    for i, data in enumerate(test_loader):\n",
    "        # 將文本數據轉換為模型可以接受的輸入格式\n",
    "        # sampled_text_list = [negatively_skewed_sample(text.split()) for text in data['text']]\n",
    "        # inputs = tokenizer(sampled_text_list, return_tensors='pt', padding=True, truncation=True).input_ids\n",
    "        \n",
    "        # inputs = inputs.to(device).float()  # 將輸入數據移動到指定的設備上\n",
    "        vectors = [text_to_vector(text) for text in sampled_text_list]\n",
    "        inputs = torch.tensor(vectors, dtype=torch.float32)\n",
    "        inputs = inputs.to(device)\n",
    "        # 獲取標籤\n",
    "        labels = torch.argmax(torch.tensor(data['label'], dtype=torch.float), dim=1)\n",
    "\n",
    "        labels = labels.to(device)  # 將標籤數據移動到指定的設備上\n",
    "        # 前向傳播\n",
    "        outputs = model(inputs).softmax(dim=1)\n",
    "        \n",
    "        # 獲取預測結果\n",
    "        _, predicted = torch.max(outputs.data, 1)\n",
    "        predicted_labels.extend(predicted.cpu().numpy())\n",
    "        true_labels.extend(labels.cpu().numpy())\n",
    "        \n",
    "        # 更新正確預測的數量和總數量\n",
    "        total += labels.size(0)\n",
    "        correct += (predicted == labels).sum().item()\n",
    "        # if i == 0:\n",
    "        #     print('Predicted:', predicted)\n",
    "        #     print('True:', labels)\n",
    "        #     break\n",
    "print('Accuracy of the model on the test data: {}%'.format(100 * correct / total))\n",
    "# 計算並顯示分類報告\n",
    "report = classification_report(true_labels, predicted_labels)\n",
    "print(report)"
   ]
  },
  {
   "cell_type": "code",
   "execution_count": 24,
   "metadata": {},
   "outputs": [
    {
     "name": "stderr",
     "output_type": "stream",
     "text": [
      "C:\\Users\\UJay\\AppData\\Local\\Temp\\ipykernel_24096\\1263345042.py:27: UserWarning: To copy construct from a tensor, it is recommended to use sourceTensor.clone().detach() or sourceTensor.clone().detach().requires_grad_(True), rather than torch.tensor(sourceTensor).\n",
      "  labels = torch.argmax(torch.tensor(data['label'], dtype=torch.float), dim=1)\n"
     ]
    },
    {
     "name": "stdout",
     "output_type": "stream",
     "text": [
      "Accuracy of the model on the test data: 71.25382262996942%\n",
      "              precision    recall  f1-score   support\n",
      "\n",
      "           0       0.89      0.82      0.85       200\n",
      "           1       0.57      0.79      0.66       181\n",
      "           2       0.86      0.71      0.78       200\n",
      "           3       0.69      0.83      0.75       200\n",
      "           4       0.60      0.41      0.49       200\n",
      "\n",
      "    accuracy                           0.71       981\n",
      "   macro avg       0.72      0.71      0.71       981\n",
      "weighted avg       0.72      0.71      0.71       981\n",
      "\n"
     ]
    }
   ],
   "source": [
    "from sklearn.metrics import classification_report\n",
    "\n",
    "# 創建測試數據加載器\n",
    "test_loader = DataLoader(test_dataset, batch_size=128, shuffle=True)\n",
    "\n",
    "# 將模型設置為評估模式\n",
    "model.eval()\n",
    "predicted_labels = []\n",
    "true_labels = []\n",
    "# 初始化正確預測的數量和總數量\n",
    "correct = 0\n",
    "total = 0\n",
    "\n",
    "# 不計算梯度，因為我們現在是在進行測試，而不是訓練\n",
    "with torch.no_grad():\n",
    "    for i, data in enumerate(test_loader):\n",
    "        # 將文本數據轉換為模型可以接受的輸入格式\n",
    "        # sampled_text_list = [negatively_skewed_sample(text.split()) for text in data['text']]\n",
    "        # inputs = tokenizer(sampled_text_list, return_tensors='pt', padding=True, truncation=True).input_ids\n",
    "        \n",
    "        # inputs = inputs.to(device).float()  # 將輸入數據移動到指定的設備上\n",
    "        # vectors = [text_to_vector(text) for text in data['text']]\n",
    "        vectors,_,_ = preProcessText_and_getVector(data['text'],max_length=300)\n",
    "        inputs = torch.tensor(vectors, dtype=torch.float32)\n",
    "        inputs = inputs.to(device)\n",
    "        # 獲取標籤\n",
    "        labels = torch.argmax(torch.tensor(data['label'], dtype=torch.float), dim=1)\n",
    "\n",
    "        labels = labels.to(device)  # 將標籤數據移動到指定的設備上\n",
    "        # 前向傳播\n",
    "        outputs = model(inputs)\n",
    "        \n",
    "        # 獲取預測結果\n",
    "        _, predicted = torch.max(outputs.data, 1)\n",
    "        predicted_labels.extend(predicted.cpu().numpy())\n",
    "        true_labels.extend(labels.cpu().numpy())\n",
    "        \n",
    "        # 更新正確預測的數量和總數量\n",
    "        total += labels.size(0)\n",
    "        correct += (predicted == labels).sum().item()\n",
    "        # if i == 0:\n",
    "        #     print('Predicted:', predicted)\n",
    "        #     print('True:', labels)\n",
    "        #     break\n",
    "# 打印準確率\n",
    "print('Accuracy of the model on the test data: {}%'.format(100 * correct / total))\n",
    "# 計算並打印分類報告\n",
    "report = classification_report(true_labels, predicted_labels)\n",
    "print(report)"
   ]
  },
  {
   "cell_type": "code",
   "execution_count": 26,
   "metadata": {},
   "outputs": [
    {
     "data": {
      "text/plain": [
       "torch.Size([85, 5])"
      ]
     },
     "execution_count": 26,
     "metadata": {},
     "output_type": "execute_result"
    }
   ],
   "source": [
    "outputs.shape"
   ]
  },
  {
   "cell_type": "markdown",
   "metadata": {},
   "source": [
    "使用測試集觀察CNN模型表現"
   ]
  },
  {
   "cell_type": "code",
   "execution_count": 27,
   "metadata": {},
   "outputs": [
    {
     "name": "stderr",
     "output_type": "stream",
     "text": [
      "  0%|          | 0/8 [00:00<?, ?it/s]C:\\Users\\UJay\\AppData\\Local\\Temp\\ipykernel_24096\\176463288.py:25: UserWarning: To copy construct from a tensor, it is recommended to use sourceTensor.clone().detach() or sourceTensor.clone().detach().requires_grad_(True), rather than torch.tensor(sourceTensor).\n",
      "  labels = torch.argmax(torch.tensor(data['label'], dtype=torch.float), dim=1)\n",
      "100%|██████████| 8/8 [00:48<00:00,  6.07s/it]"
     ]
    },
    {
     "name": "stdout",
     "output_type": "stream",
     "text": [
      "Accuracy of the model on the test data: 72.17125382262996%\n",
      "              precision    recall  f1-score   support\n",
      "\n",
      "           0       0.88      0.88      0.88       200\n",
      "           1       0.59      0.78      0.67       181\n",
      "           2       0.92      0.77      0.83       200\n",
      "           3       0.62      0.85      0.72       200\n",
      "           4       0.69      0.34      0.46       200\n",
      "\n",
      "    accuracy                           0.72       981\n",
      "   macro avg       0.74      0.72      0.71       981\n",
      "weighted avg       0.74      0.72      0.71       981\n",
      "\n"
     ]
    },
    {
     "name": "stderr",
     "output_type": "stream",
     "text": [
      "\n"
     ]
    }
   ],
   "source": [
    "from sklearn.metrics import classification_report\n",
    "# 創建測試數據加載器\n",
    "test_loader = DataLoader(test_dataset, batch_size=128, shuffle=True)\n",
    "\n",
    "# 將模型設置為評估模式\n",
    "model2.eval()\n",
    "\n",
    "# 初始化正確預測的數量和總數量\n",
    "correct = 0\n",
    "total = 0\n",
    "predicted_labels = []\n",
    "true_labels = []\n",
    "# 不計算梯度，因為我們現在是在進行測試，而不是訓練\n",
    "with torch.no_grad():\n",
    "    for i, data in enumerate(tqdm(test_loader)):\n",
    "        # 將文本數據轉換為模型可以接受的輸入格式\n",
    "        # sampled_text_list = [negatively_skewed_sample(text.split()) for text in data['text']]\n",
    "        # inputs = tokenizer(data['text'], return_tensors='pt', padding=True, truncation=True).input_ids\n",
    "        # vectors,_,_ = preProcessText_and_getVector(data['text'],max_length=300)\n",
    "        vectors = [text_to_vector(text) for text in data['text']]\n",
    "        vectors = torch.tensor(vectors, dtype=torch.float32)\n",
    "        vectors = vectors.to(device)  # 將輸入數據移動到指定的設備上\n",
    "\n",
    "        # 獲取標籤\n",
    "        labels = torch.argmax(torch.tensor(data['label'], dtype=torch.float), dim=1)\n",
    "\n",
    "        labels = labels.to(device)  # 將標籤數據移動到指定的設備上\n",
    "        # 前向傳播\n",
    "        outputs = model2(vectors).softmax(dim=1)\n",
    "        \n",
    "        # 獲取預測結果\n",
    "        _, predicted = torch.max(outputs.data, 1)\n",
    "        predicted_labels.extend(predicted.cpu().numpy())\n",
    "        true_labels.extend(labels.cpu().numpy())\n",
    "\n",
    "        # 更新正確預測的數量和總數量\n",
    "        total += labels.size(0)\n",
    "        correct += (predicted == labels).sum().item()\n",
    "        # if i == 0:\n",
    "        #     print('Predicted:', predicted)\n",
    "        #     print('True:', labels)\n",
    "        #     break\n",
    "# 打印準確率\n",
    "print('Accuracy of the model on the test data: {}%'.format(100 * correct / total))\n",
    "report = classification_report(true_labels, predicted_labels)\n",
    "print(report)"
   ]
  },
  {
   "cell_type": "code",
   "execution_count": 29,
   "metadata": {},
   "outputs": [
    {
     "data": {
      "text/plain": [
       "torch.Size([85, 5])"
      ]
     },
     "execution_count": 29,
     "metadata": {},
     "output_type": "execute_result"
    }
   ],
   "source": [
    "outputs.shape"
   ]
  },
  {
   "cell_type": "code",
   "execution_count": 157,
   "metadata": {},
   "outputs": [],
   "source": [
    "torch.save(model2.state_dict(), 'CNN.pth')"
   ]
  },
  {
   "cell_type": "markdown",
   "metadata": {},
   "source": [
    "使用測試集觀察LSTM模型表現"
   ]
  },
  {
   "cell_type": "code",
   "execution_count": 142,
   "metadata": {},
   "outputs": [
    {
     "name": "stderr",
     "output_type": "stream",
     "text": [
      "  0%|          | 0/8 [00:00<?, ?it/s]C:\\Users\\UJay\\AppData\\Local\\Temp\\ipykernel_11184\\2563293908.py:25: UserWarning: To copy construct from a tensor, it is recommended to use sourceTensor.clone().detach() or sourceTensor.clone().detach().requires_grad_(True), rather than torch.tensor(sourceTensor).\n",
      "  labels = torch.argmax(torch.tensor(data['label'], dtype=torch.float32), dim=1)\n",
      "100%|██████████| 8/8 [00:30<00:00,  3.80s/it]"
     ]
    },
    {
     "name": "stdout",
     "output_type": "stream",
     "text": [
      "Accuracy of the model on the test data: 20.489296636085626%\n",
      "              precision    recall  f1-score   support\n",
      "\n",
      "           0       0.00      0.00      0.00       200\n",
      "           1       0.00      0.00      0.00       181\n",
      "           2       0.20      0.99      0.34       200\n",
      "           3       0.00      0.00      0.00       200\n",
      "           4       0.67      0.01      0.02       200\n",
      "\n",
      "    accuracy                           0.20       981\n",
      "   macro avg       0.17      0.20      0.07       981\n",
      "weighted avg       0.18      0.20      0.07       981\n",
      "\n"
     ]
    },
    {
     "name": "stderr",
     "output_type": "stream",
     "text": [
      "\n",
      "c:\\Users\\UJay\\AppData\\Local\\Programs\\Python\\Python310\\lib\\site-packages\\sklearn\\metrics\\_classification.py:1469: UndefinedMetricWarning: Precision and F-score are ill-defined and being set to 0.0 in labels with no predicted samples. Use `zero_division` parameter to control this behavior.\n",
      "  _warn_prf(average, modifier, msg_start, len(result))\n",
      "c:\\Users\\UJay\\AppData\\Local\\Programs\\Python\\Python310\\lib\\site-packages\\sklearn\\metrics\\_classification.py:1469: UndefinedMetricWarning: Precision and F-score are ill-defined and being set to 0.0 in labels with no predicted samples. Use `zero_division` parameter to control this behavior.\n",
      "  _warn_prf(average, modifier, msg_start, len(result))\n",
      "c:\\Users\\UJay\\AppData\\Local\\Programs\\Python\\Python310\\lib\\site-packages\\sklearn\\metrics\\_classification.py:1469: UndefinedMetricWarning: Precision and F-score are ill-defined and being set to 0.0 in labels with no predicted samples. Use `zero_division` parameter to control this behavior.\n",
      "  _warn_prf(average, modifier, msg_start, len(result))\n"
     ]
    }
   ],
   "source": [
    "# For LSTM\n",
    "from sklearn.metrics import classification_report\n",
    "# 創建測試數據加載器\n",
    "test_loader = DataLoader(test_dataset, batch_size=128, shuffle=True)\n",
    "\n",
    "# 將模型設置為評估模式\n",
    "model2.eval()\n",
    "\n",
    "# 初始化正確預測的數量和總數量\n",
    "correct = 0\n",
    "total = 0\n",
    "predicted_labels = []\n",
    "true_labels = []\n",
    "# 不計算梯度，因為我們現在是在進行測試，而不是訓練\n",
    "with torch.no_grad():\n",
    "    for i, data in enumerate(tqdm(test_loader)):\n",
    "        # 將文本數據轉換為模型可以接受的輸入格式\n",
    "        # sampled_text_list = [negatively_skewed_sample(text.split()) for text in data['text']]\n",
    "        inputs = tokenizer(data['text'], return_tensors='pt', padding=True, truncation=True).input_ids\n",
    "        # vectors,_,_ = preProcessText_and_getVector(sampled_text_list,max_length=300)\n",
    "        # vectors = torch.tensor(vectors, dtype=torch.float32)\n",
    "        inputs = inputs.to(device)  # 將輸入數據移動到指定的設備上\n",
    "\n",
    "        # 獲取標籤\n",
    "        labels = torch.argmax(torch.tensor(data['label'], dtype=torch.float32), dim=1)\n",
    "\n",
    "        labels = labels.to(device)  # 將標籤數據移動到指定的設備上\n",
    "        # 前向傳播\n",
    "        outputs = model2(inputs)\n",
    "        \n",
    "        # 獲取預測結果\n",
    "        _, predicted = torch.max(outputs.data, 1)\n",
    "        predicted_labels.extend(predicted.cpu().numpy())\n",
    "        true_labels.extend(labels.cpu().numpy())\n",
    "\n",
    "        # 更新正確預測的數量和總數量\n",
    "        total += labels.size(0)\n",
    "        correct += (predicted == labels).sum().item()\n",
    "        # if i == 0:\n",
    "        #     print('Predicted:', predicted)\n",
    "        #     print('True:', labels)\n",
    "        #     break\n",
    "# 打印準確率\n",
    "print('Accuracy of the model on the test data: {}%'.format(100 * correct / total))\n",
    "report = classification_report(true_labels, predicted_labels)\n",
    "print(report)"
   ]
  },
  {
   "cell_type": "code",
   "execution_count": 15,
   "metadata": {},
   "outputs": [
    {
     "name": "stdout",
     "output_type": "stream",
     "text": [
      "['宜蘭 地方法院 刑事 判決 \\u3000 \\u3000 \\u3000 \\u3000 \\u3000 \\u3000 \\u3000 1058 \\n \\n 公 \\u3000 訴 \\u3000 \\u3000 宜蘭 地方法院 檢察署 檢察官 \\n \\n 被 \\u3000 \\u3000 \\u3000 告 \\u3000 陳 志倫 \\n \\n 列 被告 妨害性自主 檢察官 賴淑萍 公訴 105   年 \\n \\n 度 34 嗣 準備 程序 進 被告 被訴 事實 \\n \\n 罪陳述 裁定 進 簡式 審判 程序 判決 \\n \\n         主     文 \\n \\n 十歲 滿十歲 女子 性交共伍 罪 各 \\n \\n 期 徒刑 肆月 執期 徒刑 壹年 貳 月 \\n \\n         犯罪 事實 \\n \\n 103   年 11 月間 透過 臉書 結識 00 年 \\n \\n         0   月 生真實 姓名 年籍 詳卷 知悉 14 歲 \\n \\n         滿 16 歲 女子 竟基 14 歲 滿 16 歲 女子 性 交 \\n \\n         犯意 104 年 6 月旬 起 同年 11 月 1 日間 宜蘭縣 羅 \\n \\n         東鎮 登園 旅館 宴京 旅館 違 反意 願 情況 \\n \\n         將陰莖 進入 陰道 方式 性交 5 次 \\n \\n         \\n \\n 父真實 姓名 年籍 詳卷訴 宜蘭地 方法 \\n \\n         院檢察署 檢察官 偵 起訴 \\n \\n         理     \\n \\n 簡式 審判 程序 證據 調不受 159   1   限制 \\n \\n         刑事訴訟法 273   2   定 明文 開簡 \\n \\n         式 審判 程序 被告 審判陳述 除 \\n \\n         他作 證據 法定 事具 證據 能力 \\n \\n         引用 被告 審判陳述 本案 採簡式 審 \\n \\n         判 程序 他 做 證據 法定 事揆 諸前 揭說明 \\n \\n         具證據 能力 合先 敘明 \\n \\n 前 揭 犯罪 事實業 據 被告 偵審理 坦承 不 \\n \\n         諱 見 偵卷 4   5   卷 2435 核 \\n \\n         證 被害 見 他 卷 1314 告訴 \\n \\n         父見 他 卷 14 偵證訴 情節 大致 相符 \\n \\n         真實 姓名 對 照表 1   份 見 他 卷 證物 彌封袋 內 錄音 \\n \\n         譯文 2   份 見 他 卷 5   6   偵卷 9   照片 4 \\n \\n         張見 偵卷 2124 附卷 可稽 事證 參互析 \\n \\n         足 被告 自白 事實 相符 本案 事證 明確 被告 犯堪 \\n \\n         定 法科 \\n \\n 被告 14 歲 滿 16 歲 女子 此真實 \\n \\n         姓名 對 照表 1   份卷 可 參核 被告 犯 刑法 227 \\n \\n         3   14 歲 滿 16 歲 女子 性交罪 被告 \\n \\n         犯開 5   罪間 犯意 各別 互殊 併 罰成 \\n \\n         年 教唆 幫助 利用 兒童 少年 犯罪 共同 實施 犯罪 \\n \\n         故意 對 犯罪 加重 刑 但 各罪 被害 \\n \\n         兒童 少年定 特別 罰 從 兒童 \\n \\n         少 年 福利 權益 保障法 112   1   定 明文 被告 \\n \\n         犯罪 將 被害 年齡 明定 14 歲 滿 16 歲 自針 \\n \\n         對少 年 被害 定特別 罰 揆 諸開法 \\n \\n         自 毋庸 加重 刑 併 此 敘明 審酌 被告 前 任何 犯罪 科刑 \\n \\n         前案 紀錄 高 法院 被告 前案 紀錄表 1   份卷 可稽 \\n \\n         品 尚可 難 控制 情 慾 前 揭 方式 \\n \\n         性 交 犯罪 動機目 手段 對 隱瞞 104   年 \\n \\n         3   月 24 日 結婚 揭期間 年幼 情 慾 懵懂 性 \\n \\n         交業據 被害 審理 指訴 綦詳 見 卷 \\n \\n         36 被告 個戶籍 資料 1   份卷 足 參對 成長 少 \\n \\n         女 身心 造成 傷害 犯罪 生損害 兼衡 婚育 1   子 \\n \\n         生活 狀況 高職 肄業 智識 程度 犯始終 坦承 犯 \\n \\n         迄能 被害 家達成 和解 態度切 情狀 \\n \\n         別量示 刑定 執刑 \\n \\n 據斷 刑事訴訟法 273   1   1   299   1 \\n \\n 刑法 227   3   515   判決 \\n \\n 本檢察官 劉英 到庭 執職務 \\n \\n         華         民         國       105         年         5           月         27         日 \\n \\n                                     刑事 庭     法     官     劉致 欽 \\n \\n 正本 證明 原本 異 \\n \\n 不服 本判決 收受 送達 10 日內 提出 訴書狀 \\n \\n 敘述 具體理 敘述 訴理訴 期間 屆 滿 20 \\n \\n 日內 補 提理書須 他造 當事數 附繕 本切 \\n \\n 勿 送級 法院 \\n \\n                                                             書記官     林欣宜 \\n \\n         華         民         國       105         年         5           月         27         日 \\n \\n 附錄 本案 罪科 刑法 \\n \\n 刑法 227   3   \\n \\n 14 歲 滿 16 歲 男女性 交 7   年期 徒刑 \\n \\n \\n \\n \\n \\n \\n \\n \\n']\n",
      "tensor([[-1.3554e-02, -9.2453e-03, -1.1463e-02,  1.3557e-02,  2.3483e-03,\n",
      "          1.5239e-02, -4.0400e-03,  4.2521e-03,  3.1606e-03, -4.9599e-03,\n",
      "         -4.7846e-03,  5.9275e-04, -3.7153e-03, -7.7505e-03,  1.2286e-03,\n",
      "          1.5761e-03,  5.3447e-03,  1.8402e-03, -2.0532e-03, -5.0585e-03,\n",
      "         -7.9102e-03, -5.7705e-03, -2.3501e-03, -5.7862e-03,  1.6393e-02,\n",
      "          2.4526e-02, -1.7637e-03,  3.4569e-03, -3.8908e-03,  1.7428e-03,\n",
      "         -7.5587e-03, -1.3703e-02, -1.4922e-04, -6.8488e-03, -1.2721e-02,\n",
      "          1.6264e-02, -7.2697e-03, -1.0565e-02,  4.3363e-04, -2.8655e-04,\n",
      "         -3.0114e-03, -1.8072e-02, -6.6168e-04,  1.0304e-02, -5.6113e-03,\n",
      "          1.9069e-02, -1.1656e-03,  5.1841e-03, -1.1461e-02, -2.7714e-03,\n",
      "          1.7905e-02,  1.3818e-02, -5.7858e-03,  3.4879e-03, -3.4064e-03,\n",
      "         -2.9800e-03, -2.4146e-02,  1.8000e-02, -1.7425e-02,  7.8787e-03,\n",
      "          1.9970e-02,  1.2051e-02, -5.9873e-03, -9.1608e-03,  1.6741e-02,\n",
      "          1.9796e-03,  2.2794e-03, -5.1922e-03,  1.0912e-02, -3.7969e-03,\n",
      "         -4.7903e-03,  6.4574e-03, -1.5949e-02, -6.2386e-03, -1.1328e-02,\n",
      "         -3.7639e-03, -1.1318e-02, -4.1461e-03,  9.3721e-03, -2.9673e-03,\n",
      "          2.8683e-03, -6.4521e-03, -1.3480e-02, -3.8949e-04, -5.1965e-03,\n",
      "          1.6315e-02,  1.5593e-02, -4.5141e-03,  2.2800e-03, -9.7002e-03,\n",
      "          2.3148e-03, -1.4062e-02,  1.0438e-02,  1.5606e-03, -3.3393e-04,\n",
      "         -4.5619e-03,  9.4007e-03,  9.1729e-03,  4.2586e-03,  8.5233e-03,\n",
      "          2.1336e-02, -4.0113e-03, -1.4469e-02, -3.2673e-03,  3.6132e-03,\n",
      "          1.9710e-04, -1.7564e-02, -1.3327e-02, -4.8598e-03, -1.2255e-02,\n",
      "          7.0816e-03, -2.4153e-03, -1.2546e-03,  2.9912e-03, -1.5034e-03,\n",
      "          2.7677e-03,  4.0224e-03,  1.0060e-02,  2.2399e-02, -4.3944e-03,\n",
      "          1.4000e-03,  3.4587e-02,  5.8985e-03,  6.9754e-03, -1.5440e-02,\n",
      "          1.8280e-02,  1.7774e-03, -1.8944e-02, -5.5567e-03, -1.5455e-02,\n",
      "         -2.2736e-03, -3.5123e-03, -1.8296e-02,  2.8229e-02, -2.6653e-02,\n",
      "         -1.2217e-02,  7.1175e-03, -1.7691e-02, -5.6835e-03,  9.3855e-03,\n",
      "          7.4637e-03, -2.0590e-02, -2.1431e-02,  6.3680e-03,  1.8847e-02,\n",
      "          3.7276e-03, -1.2794e-02, -3.9754e-03, -6.6067e-03,  1.8153e-03,\n",
      "         -1.6591e-02, -7.2775e-03, -1.0965e-03, -3.8290e-03,  1.2156e-02,\n",
      "          7.8120e-03,  4.4331e-03, -1.0291e-02, -9.3102e-03,  1.8813e-02,\n",
      "         -1.3710e-02,  6.4510e-03,  1.2617e-03,  1.0230e-02,  2.1063e-02,\n",
      "          2.2966e-02,  5.2188e-03, -2.4221e-03, -4.2455e-03,  1.7871e-02,\n",
      "         -1.8401e-03, -1.6816e-02,  8.3201e-03, -1.5294e-02, -2.4078e-03,\n",
      "          7.1218e-04,  3.0133e-03, -1.5538e-02,  8.3449e-03,  2.1052e-03,\n",
      "         -1.7411e-02, -1.2856e-03,  8.7703e-03,  9.1983e-03,  3.3338e-03,\n",
      "          7.7285e-04,  9.6189e-03,  8.2025e-03,  1.9645e-02, -2.4302e-02,\n",
      "          1.5366e-02, -1.2916e-03, -1.6026e-02,  2.3197e-02, -6.3416e-03,\n",
      "          1.2310e-03, -3.7957e-03,  8.7316e-03,  2.7416e-02, -8.3343e-03,\n",
      "         -6.7888e-03, -5.8457e-03, -2.1851e-03, -1.1170e-02, -1.5061e-02,\n",
      "         -2.0313e-03, -1.1093e-02, -4.7190e-03, -6.8753e-03, -1.0657e-02,\n",
      "          3.0239e-02,  3.1734e-03, -3.9331e-03, -6.1480e-03, -2.5464e-02,\n",
      "          1.3544e-03,  5.8530e-03, -7.4719e-03,  3.0663e-02, -2.5043e-03,\n",
      "         -3.6592e-03, -1.1171e-02, -3.1584e-02, -4.2376e-03, -2.8960e-02,\n",
      "         -2.1943e-03, -9.2893e-03,  5.6899e-03, -3.8060e-02, -3.1287e-03,\n",
      "          9.0603e-03,  2.2930e-02,  7.6199e-03,  1.5321e-02, -3.9069e-03,\n",
      "         -1.6067e-02,  3.5160e-03, -1.5083e-02,  1.0319e-02, -4.6419e-03,\n",
      "          1.0915e-02, -2.2263e-03, -3.3384e-03, -2.7185e-02,  5.8864e-03,\n",
      "          5.1049e-03, -1.4950e-02,  6.3100e-03, -1.7220e-02,  3.7802e-03,\n",
      "          9.7629e-03,  9.2517e-03, -2.0794e-02,  2.4624e-03,  7.0902e-03,\n",
      "         -9.0421e-04,  3.7259e-02,  5.4793e-04, -7.8072e-03, -9.5275e-05,\n",
      "          4.8581e-04,  7.2210e-03, -1.2075e-02, -7.6117e-03,  2.5309e-04,\n",
      "         -1.7619e-03, -1.4362e-02,  1.4645e-02, -3.0896e-02, -5.0249e-03,\n",
      "          5.3224e-03,  2.4281e-02, -1.1116e-03, -1.6443e-02,  1.9567e-02,\n",
      "         -2.2977e-02,  8.6460e-03,  4.3830e-03, -5.4461e-03, -4.2969e-03,\n",
      "          1.1475e-02, -4.5630e-03,  1.4157e-02,  1.6297e-02,  7.5270e-03,\n",
      "          7.1498e-03, -2.5688e-03,  1.7869e-03, -7.5021e-03,  1.2527e-02,\n",
      "         -1.5223e-02,  2.3771e-02,  1.5934e-02, -6.1600e-03,  6.9048e-03,\n",
      "         -4.8370e-03,  1.3156e-02,  1.1043e-02,  9.1859e-03,  1.3071e-02]],\n",
      "       dtype=torch.float64)\n",
      "torch.Size([1, 300])\n",
      "tensor(0.0373, dtype=torch.float64)\n"
     ]
    },
    {
     "name": "stderr",
     "output_type": "stream",
     "text": [
      "C:\\Users\\UJay\\AppData\\Local\\Temp\\ipykernel_9224\\1395994950.py:8: UserWarning: Creating a tensor from a list of numpy.ndarrays is extremely slow. Please consider converting the list to a single numpy.ndarray with numpy.array() before converting to a tensor. (Triggered internally at ..\\torch\\csrc\\utils\\tensor_new.cpp:277.)\n",
      "  inputs = torch.tensor([vector])  # 將向量轉換為 PyTorch 張量\n"
     ]
    }
   ],
   "source": [
    "from torch.utils.data import DataLoader\n",
    "\n",
    "other_loader = DataLoader(test_dataset, batch_size=1, shuffle=True)\n",
    "\n",
    "for i,data in enumerate(other_loader):\n",
    "    print(data['text'])\n",
    "    vector = text_to_vector(data['text'])  # 將文本轉換為向量\n",
    "    inputs = torch.tensor([vector])  # 將向量轉換為 PyTorch 張量\n",
    "    print(inputs)\n",
    "    print(inputs.shape)\n",
    "    print(inputs.max())\n",
    "    # inputs = tokenizer(data['text'], return_tensors='pt', padding=True, truncation=True).input_ids.float()\n",
    "    # print(inputs)\n",
    "    # print(inputs.shape)\n",
    "    # print(inputs.max())\n",
    "    # inputs = inputs.to(device)\n",
    "    # labels = data['label']\n",
    "    # labels = labels.to(device)\n",
    "    # outputs = model(inputs).softmax(dim=1)\n",
    "    # _, predicted = torch.max(outputs.data, 1)\n",
    "    # _,labels = torch.max(labels.data, 1)\n",
    "    # print(predicted)\n",
    "    # print(labels)\n",
    "    if i == 0:\n",
    "        # print('Predicted:', predicted)\n",
    "        # print('True:', labels)\n",
    "        break"
   ]
  },
  {
   "cell_type": "code",
   "execution_count": 49,
   "metadata": {},
   "outputs": [
    {
     "name": "stdout",
     "output_type": "stream",
     "text": [
      "21128\n"
     ]
    }
   ],
   "source": [
    "print(len(tokenizer.vocab))"
   ]
  },
  {
   "cell_type": "code",
   "execution_count": 126,
   "metadata": {},
   "outputs": [
    {
     "name": "stdout",
     "output_type": "stream",
     "text": [
      "torch.Size([5, 128])\n",
      "tensor([[ 0.7339,  1.3702,  0.6807, -0.4864,  0.8504, -0.5530,  1.7326, -1.1607,\n",
      "         -1.4412, -1.0527, -0.4104,  0.3307, -1.1289,  1.7001, -0.1003, -0.2314,\n",
      "         -1.0625,  0.1697,  2.1540, -1.0863,  1.1437,  1.7524, -1.2595,  0.6025,\n",
      "          1.3849,  0.4206,  0.7222, -1.1755,  0.3013, -0.2040,  2.4032,  1.8440,\n",
      "         -0.9664, -2.9424,  0.7980,  0.2737, -1.4733,  0.7540, -0.3898,  0.5760,\n",
      "          3.4242, -0.0803,  0.5724,  0.6631, -0.1689,  0.3959, -0.6423,  0.3149,\n",
      "         -1.3659,  0.0506,  0.8063, -0.0652, -2.0170,  0.1905, -1.3762,  0.6896,\n",
      "         -1.6333,  0.9322,  0.6462,  0.4637, -0.8256, -0.7588,  1.4538,  1.6005,\n",
      "          0.6780, -0.1324, -0.3781, -3.5438,  0.4424,  0.1547,  0.2300,  0.1654,\n",
      "         -1.1829,  0.1423, -1.6254, -0.7937, -0.6989,  2.1772,  0.2241,  2.2172,\n",
      "         -0.6362, -0.7095, -0.1251,  1.0238, -2.2617,  0.3393,  0.4575,  1.6721,\n",
      "          0.8205,  0.2698,  0.7819,  0.8604,  1.2057,  0.9561, -0.2391, -0.7301,\n",
      "         -0.3203, -0.4287, -0.4589, -1.1912, -0.8985,  0.6698, -1.4273,  1.6978,\n",
      "         -1.0762, -0.2955,  0.4785,  0.8462,  0.8925, -0.6149, -0.3936,  0.2955,\n",
      "         -2.5485,  0.4602,  1.4531, -1.6347,  1.6201,  0.9196, -0.7321,  0.1609,\n",
      "         -2.5601, -0.0685, -1.1411, -1.9543,  0.7308, -0.0868,  2.0737, -0.2077],\n",
      "        [-0.9351, -0.0751,  0.0594, -2.4405,  2.0142, -0.5850, -0.6292, -1.4671,\n",
      "          0.4481, -0.2829, -1.2850, -0.6728,  1.7689, -1.1388, -0.6656, -0.2093,\n",
      "         -0.1190, -0.6515,  2.0419, -0.3160,  0.6094, -2.1717, -0.7475, -0.3732,\n",
      "          2.2113,  0.1019, -1.0848,  0.1737, -0.0837, -0.9673, -0.4069, -1.6061,\n",
      "          0.1961,  0.0473, -0.3607, -0.2575, -0.1395,  1.5117,  0.0122, -0.2414,\n",
      "          0.3493,  1.1636,  1.3926, -0.0620, -0.1255, -0.0844, -1.3391, -0.5150,\n",
      "          0.2446, -0.5139,  0.2545, -0.0101, -0.2739, -1.3183, -2.1237, -0.5694,\n",
      "         -0.2123, -0.5771,  2.6936,  0.3493, -2.4831,  0.1510,  0.6550, -0.3138,\n",
      "          0.2263, -1.1880, -0.7956, -1.3411, -0.2411, -0.6439, -0.0695,  1.3327,\n",
      "         -0.3986, -0.7868, -0.4180, -0.0191,  0.1324,  0.7320, -1.8997,  1.8463,\n",
      "         -0.5539,  0.2961, -1.1777, -1.5742,  0.9889,  0.0779, -0.2051, -1.7510,\n",
      "         -1.7770, -0.4232,  0.8291, -0.0394,  1.8197,  0.5776, -1.3343,  2.8838,\n",
      "          0.6075,  1.5934, -0.1323, -0.0141,  1.2044,  0.8289,  1.1851,  0.9569,\n",
      "         -0.7751,  1.1882,  1.3345, -0.1743,  1.5524, -0.6446,  2.1154, -0.0559,\n",
      "          0.1908, -0.0407, -0.3515, -0.1605,  0.4660,  0.4738, -1.1499,  0.2986,\n",
      "          1.8436,  0.1458, -0.9474,  0.5085, -0.9282,  1.2278,  0.0344, -0.2536],\n",
      "        [ 1.0632, -1.6495, -1.2202,  0.3409,  1.5964, -0.4711,  0.0519, -0.3177,\n",
      "         -0.1042,  1.4448, -1.8758,  0.1002, -1.3399,  1.1072,  2.0286, -1.0532,\n",
      "         -0.6080, -0.0100, -0.8531, -0.2497,  0.5968,  2.2488,  0.5604, -0.6375,\n",
      "          1.0534, -0.2061, -0.6014, -0.3408, -1.7758, -0.0894, -0.5114,  0.1087,\n",
      "         -0.5920, -0.0939,  0.8798, -0.1152,  0.2979, -0.2226,  0.0573,  2.1407,\n",
      "          2.4411,  1.0573, -0.3655, -0.7425, -0.0704, -1.4224,  1.1985,  0.5834,\n",
      "         -0.6083, -0.2931,  0.4663,  2.4783, -1.0216, -0.2678,  0.4920, -0.2187,\n",
      "         -1.9960, -1.4993,  0.5113, -1.6062, -0.7327,  1.2955,  0.0934,  1.0091,\n",
      "         -0.1668,  0.1168,  0.2090, -1.1191,  0.4981,  1.5353,  0.6432,  0.1386,\n",
      "         -0.9898, -0.1045,  0.9564,  0.9062, -0.7160, -0.7556,  0.9291,  0.1323,\n",
      "         -2.0288, -0.4912,  0.5301,  1.7907,  0.7846, -0.1884, -0.9908, -0.7402,\n",
      "         -1.4435, -0.1500,  0.4729, -2.1126,  0.8075, -2.3850,  0.4879,  1.1215,\n",
      "         -0.5349,  0.7002,  0.7726, -1.3580,  0.5486, -0.7025,  0.4092,  0.2026,\n",
      "          1.9034,  0.3065,  2.7251,  0.5747, -1.0052, -0.9704,  0.6719, -1.3034,\n",
      "          1.2091,  0.5040, -0.2158, -0.0055, -0.5382,  1.0003, -0.2306,  1.0993,\n",
      "         -0.3822,  0.9017, -0.4835,  0.4374, -0.3865,  0.8271,  0.1304,  1.1080],\n",
      "        [-1.8327,  0.6193,  1.4572,  0.3885, -1.7294, -1.3420, -1.4336,  0.2426,\n",
      "          2.0789,  1.6234,  0.9512, -0.2373,  0.6788, -0.7654, -1.5778,  0.3689,\n",
      "          0.7914,  0.1747,  1.6509, -0.6329, -1.5804, -1.2903,  0.7024, -0.5689,\n",
      "          0.8071, -1.2198,  0.6149, -1.8440, -0.7802, -1.1829,  1.4695, -0.7911,\n",
      "          1.8186, -1.5621,  1.2849,  0.1860, -0.8288, -0.2678,  1.2375,  0.1448,\n",
      "         -0.0140, -0.7248, -1.5261, -0.5174, -0.8249, -0.8262,  0.7100,  0.2751,\n",
      "          0.2745, -0.9990, -1.8872, -0.6299, -1.2909,  0.0710, -0.6835,  0.0770,\n",
      "          1.8503,  0.4483, -0.0894, -0.2242,  1.1574,  0.9088, -0.7241,  1.4071,\n",
      "         -0.2366, -2.3159, -0.3280,  0.3491, -0.7293, -0.0577, -0.9550, -0.5431,\n",
      "         -1.5627, -0.0073, -0.2645,  0.0649,  0.8975, -0.5003,  0.1382, -1.5778,\n",
      "          0.4347, -1.5471,  0.5630,  0.9528,  1.4321, -1.0254, -0.7159, -2.2551,\n",
      "          1.3730, -2.0802, -0.1408,  0.5812, -1.7893, -0.5405,  0.4893,  0.4831,\n",
      "          0.5215, -0.1278, -0.4526, -0.1801, -1.1201,  0.3113,  0.6409, -1.4188,\n",
      "         -1.2150,  0.3600, -0.3901, -0.8294,  1.1069, -0.5485, -0.4000,  0.1187,\n",
      "         -0.4286, -2.2227,  1.4222, -0.8542, -2.2502,  0.3828, -0.6686, -0.0290,\n",
      "          0.3646, -0.6726, -1.2807, -0.1593, -0.3681, -1.3156,  1.2552,  0.2044],\n",
      "        [-1.1750,  0.3559,  1.0094,  1.2919,  1.1838,  0.7662, -1.4141, -0.1312,\n",
      "         -0.4988, -0.9047, -0.7405, -1.3286,  0.1082,  1.4599,  1.1007,  2.7875,\n",
      "          0.7299,  0.3049, -0.1893, -0.5836,  1.1611, -0.1757, -1.1016, -1.0384,\n",
      "          0.2419, -0.0625,  0.2542, -0.4881, -1.0704,  1.9861, -2.2006,  0.2270,\n",
      "         -2.7953,  1.1836, -0.7539, -0.3596, -2.2335, -0.4205,  0.3846,  1.7284,\n",
      "         -0.2264,  0.4260,  1.6574, -0.6793,  0.5108, -0.0344,  0.1999, -0.2683,\n",
      "         -0.0997,  1.6074,  0.3641,  1.3341,  1.3795,  0.5295, -0.8968,  0.3992,\n",
      "         -1.9139,  0.5195, -1.6706, -0.5215,  0.1362,  0.1613, -0.1131, -1.5547,\n",
      "         -0.8897,  1.0222, -0.5811,  0.8012,  0.5710, -0.9677,  0.0936, -2.2449,\n",
      "          0.8182,  1.0413,  0.8221, -1.3169,  0.8932,  0.5528,  0.0706, -0.7860,\n",
      "          0.2451, -0.5206,  0.0086,  0.8494, -0.4483,  0.3797, -0.6669,  1.1049,\n",
      "          0.3836,  1.6970, -1.5680,  0.1255, -0.0899, -0.0704,  0.6929,  1.2343,\n",
      "          0.8899, -0.4501, -0.3757,  0.9624, -0.5306, -0.1904, -0.5783,  1.1041,\n",
      "          0.9627, -0.1115,  0.3929,  1.0359,  0.5502, -0.7740, -0.7828,  1.1650,\n",
      "          0.7400, -1.5909, -0.8975,  0.9572, -0.4988, -1.9021,  0.2118,  1.5123,\n",
      "          1.2943, -2.1935, -0.5898,  0.2956,  0.4066, -0.9075,  0.1768,  0.4113]],\n",
      "       grad_fn=<EmbeddingBackward0>)\n"
     ]
    }
   ],
   "source": [
    "# import torch\n",
    "# import torch.nn as nn\n",
    "\n",
    "# 假設你的詞彙表大小為21128（對於中文的BERT模型），每個詞的嵌入大小為128\n",
    "vocab_size = 21128\n",
    "embed_size = 128\n",
    "\n",
    "# 創建一個嵌入層\n",
    "embed = nn.Embedding(vocab_size, embed_size)\n",
    "\n",
    "# 假設你已經有了一些token ID\n",
    "token_ids = torch.tensor([1, 2, 3, 4, 5])\n",
    "\n",
    "# 使用嵌入層來轉換token ID\n",
    "embeddings = embed(token_ids)\n",
    "\n",
    "# embeddings現在是一個形狀為[5, 128]的張量，其中每一行都是一個token的嵌入向量\n",
    "print(embeddings.shape)\n",
    "print(embeddings)"
   ]
  },
  {
   "cell_type": "code",
   "execution_count": 168,
   "metadata": {},
   "outputs": [],
   "source": [
    "def DNN_predict(model,data_loader):\n",
    "    model.eval()\n",
    "    predicted_labels = []\n",
    "    \n",
    "    with torch.no_grad():\n",
    "        for i, data in enumerate(tqdm(data)):\n",
    "            vectors,_,_ = preProcessText_and_getVector(data,max_length=300)\n",
    "            inputs = torch.tensor(vectors, dtype=torch.float32)\n",
    "            inputs = inputs.to(device)\n",
    "            # 獲取標籤\n",
    "            labels = torch.argmax(torch.tensor(data['label'], dtype=torch.float), dim=1)\n",
    "\n",
    "            labels = labels.to(device)  # 將標籤數據移動到指定的設備上\n",
    "            # 前向傳播\n",
    "            outputs = model(inputs)\n",
    "            \n",
    "            # 獲取預測結果\n",
    "            _, predicted = torch.max(outputs.data, 1)\n",
    "            predicted_labels.extend(predicted.cpu().numpy())\n",
    "            true_labels.extend(labels.cpu().numpy())\n",
    "    return predicted_labels"
   ]
  },
  {
   "cell_type": "code",
   "execution_count": 172,
   "metadata": {},
   "outputs": [],
   "source": [
    "# 將test_loader的數據、標籤轉換成列表\n",
    "test_data = []\n",
    "test_labels = []\n",
    "for data in loader:\n",
    "    test_data.extend(data['text'])\n",
    "    test_labels.extend(data['label'])\n",
    "print(test_data)\n",
    "print(test_labels)\n",
    "DNN_predict(model,test_data)"
   ]
  },
  {
   "cell_type": "code",
   "execution_count": 160,
   "metadata": {},
   "outputs": [],
   "source": [
    "def CNN_predict(model,data_loader):\n",
    "    model.eval()\n",
    "    predicted_labels = []\n",
    "\n",
    "    with torch.no_grad():\n",
    "        for i, data in enumerate(tqdm(data_loader)):\n",
    "            # sampled_text_list = [negatively_skewed_sample(text.split()) for text in data['text']]\n",
    "            vectors = [text_to_vector(text) for text in sampled_text_list]\n",
    "            # vectors = preProcessText_and_getVector(sampled_text_list,max_length=300)\n",
    "            inputs = torch.tensor(vectors, dtype=torch.float32).to(device)\n",
    "            outputs = model(inputs)\n",
    "            _, predicted = torch.max(outputs.data, 1)\n",
    "            predicted_labels.extend(predicted.cpu().numpy())\n",
    "    return predicted_labels"
   ]
  },
  {
   "cell_type": "code",
   "execution_count": 161,
   "metadata": {},
   "outputs": [
    {
     "name": "stderr",
     "output_type": "stream",
     "text": [
      "100%|██████████| 8/8 [00:02<00:00,  3.20it/s]\n"
     ]
    },
    {
     "data": {
      "text/plain": [
       "[4,\n",
       " 3,\n",
       " 3,\n",
       " 3,\n",
       " 1,\n",
       " 1,\n",
       " 2,\n",
       " 0,\n",
       " 4,\n",
       " 3,\n",
       " 1,\n",
       " 1,\n",
       " 2,\n",
       " 0,\n",
       " 4,\n",
       " 1,\n",
       " 4,\n",
       " 0,\n",
       " 4,\n",
       " 3,\n",
       " 3,\n",
       " 3,\n",
       " 1,\n",
       " 1,\n",
       " 2,\n",
       " 0,\n",
       " 4,\n",
       " 3,\n",
       " 1,\n",
       " 1,\n",
       " 2,\n",
       " 0,\n",
       " 4,\n",
       " 1,\n",
       " 4,\n",
       " 0,\n",
       " 4,\n",
       " 3,\n",
       " 3,\n",
       " 3,\n",
       " 1,\n",
       " 1,\n",
       " 2,\n",
       " 0,\n",
       " 4,\n",
       " 3,\n",
       " 1,\n",
       " 1,\n",
       " 2,\n",
       " 0,\n",
       " 4,\n",
       " 1,\n",
       " 4,\n",
       " 0,\n",
       " 4,\n",
       " 3,\n",
       " 3,\n",
       " 3,\n",
       " 1,\n",
       " 1,\n",
       " 2,\n",
       " 0,\n",
       " 4,\n",
       " 3,\n",
       " 1,\n",
       " 1,\n",
       " 2,\n",
       " 0,\n",
       " 4,\n",
       " 1,\n",
       " 4,\n",
       " 0,\n",
       " 4,\n",
       " 3,\n",
       " 3,\n",
       " 3,\n",
       " 1,\n",
       " 1,\n",
       " 2,\n",
       " 0,\n",
       " 4,\n",
       " 3,\n",
       " 1,\n",
       " 1,\n",
       " 2,\n",
       " 0,\n",
       " 4,\n",
       " 1,\n",
       " 4,\n",
       " 0,\n",
       " 4,\n",
       " 3,\n",
       " 3,\n",
       " 3,\n",
       " 1,\n",
       " 1,\n",
       " 2,\n",
       " 0,\n",
       " 4,\n",
       " 3,\n",
       " 1,\n",
       " 1,\n",
       " 2,\n",
       " 0,\n",
       " 4,\n",
       " 1,\n",
       " 4,\n",
       " 0,\n",
       " 4,\n",
       " 3,\n",
       " 3,\n",
       " 3,\n",
       " 1,\n",
       " 1,\n",
       " 2,\n",
       " 0,\n",
       " 4,\n",
       " 3,\n",
       " 1,\n",
       " 1,\n",
       " 2,\n",
       " 0,\n",
       " 4,\n",
       " 1,\n",
       " 4,\n",
       " 0,\n",
       " 4,\n",
       " 3,\n",
       " 3,\n",
       " 3,\n",
       " 1,\n",
       " 1,\n",
       " 2,\n",
       " 0,\n",
       " 4,\n",
       " 3,\n",
       " 1,\n",
       " 1,\n",
       " 2,\n",
       " 0,\n",
       " 4,\n",
       " 1,\n",
       " 4,\n",
       " 0]"
      ]
     },
     "execution_count": 161,
     "metadata": {},
     "output_type": "execute_result"
    }
   ],
   "source": [
    "CNN_predict(model2,test_loader)"
   ]
  },
  {
   "cell_type": "markdown",
   "metadata": {},
   "source": [
    "---\n",
    "載入以訓練之Bert模型\n",
    "\n",
    "使用測試集觀察Bert模型表現"
   ]
  },
  {
   "cell_type": "code",
   "execution_count": 14,
   "metadata": {},
   "outputs": [
    {
     "name": "stderr",
     "output_type": "stream",
     "text": [
      "Evaluating:   0%|          | 0/31 [00:00<?, ?it/s]C:\\Users\\UJay\\AppData\\Local\\Temp\\ipykernel_24096\\2288324925.py:22: UserWarning: To copy construct from a tensor, it is recommended to use sourceTensor.clone().detach() or sourceTensor.clone().detach().requires_grad_(True), rather than torch.tensor(sourceTensor).\n",
      "  labels = torch.tensor(np.argmax(batch['label'], axis=1), dtype=torch.long)\n",
      "c:\\Users\\UJay\\AppData\\Local\\Programs\\Python\\Python310\\lib\\site-packages\\transformers\\models\\bert\\modeling_bert.py:435: UserWarning: 1Torch was not compiled with flash attention. (Triggered internally at ..\\aten\\src\\ATen\\native\\transformers\\cuda\\sdp_utils.cpp:455.)\n",
      "  attn_output = torch.nn.functional.scaled_dot_product_attention(\n",
      "Evaluating: 100%|██████████| 31/31 [00:56<00:00,  1.84s/it]"
     ]
    },
    {
     "name": "stdout",
     "output_type": "stream",
     "text": [
      "Accuracy: 0.8491\n",
      "Recall: 0.8491\n",
      "F1 Score: 0.8477\n",
      "Classification Report:\n",
      "                   precision    recall  f1-score   support\n",
      "\n",
      "           Abuse       0.97      0.95      0.96       200\n",
      "            Drug       0.63      0.91      0.75       181\n",
      "     Sex_assault       0.91      0.96      0.94       200\n",
      "Economic_assault       0.99      0.86      0.92       200\n",
      "          Others       0.80      0.56      0.66       200\n",
      "\n",
      "        accuracy                           0.85       981\n",
      "       macro avg       0.86      0.85      0.85       981\n",
      "    weighted avg       0.87      0.85      0.85       981\n",
      "\n"
     ]
    },
    {
     "name": "stderr",
     "output_type": "stream",
     "text": [
      "\n"
     ]
    }
   ],
   "source": [
    "from transformers import BertTokenizer, BertForSequenceClassification\n",
    "import torch\n",
    "\n",
    "# 模型路徑\n",
    "model_path = r'C:\\Users\\UJay\\School\\judgement_classfier\\models\\FineTuning_epoch_5\\epoch_5'\n",
    "\n",
    "# BERT tokenizer\n",
    "# tokenizer = BertTokenizer.from_pretrained('bert-base-uncased')\n",
    "\n",
    "# 載入微調的BERT模型\n",
    "model_bert = BertForSequenceClassification.from_pretrained(model_path, config=model_path)\n",
    "\n",
    "# 評估模型\n",
    "model_bert.eval()\n",
    "all_predictions = []\n",
    "all_labels = []\n",
    "model_bert = model_bert.to(device)\n",
    "with torch.no_grad():\n",
    "    for batch in tqdm(DataLoader(test_dataset, batch_size=32, shuffle=False), desc='Evaluating'):\n",
    "        inputs = tokenizer(batch['text'], return_tensors='pt', padding=True, truncation=True)\n",
    "        inputs= inputs.to(device)\n",
    "        labels = torch.tensor(np.argmax(batch['label'], axis=1), dtype=torch.long)\n",
    "        outputs = model_bert(**inputs)\n",
    "        predictions = torch.argmax(outputs.logits, dim=1).cpu().numpy()\n",
    "        all_predictions.extend(predictions)\n",
    "        all_labels.extend(labels.numpy())\n",
    "        \n",
    "\n",
    "# 計算評估指標\n",
    "accuracy = accuracy_score(all_labels, all_predictions)\n",
    "recall = recall_score(all_labels, all_predictions, average='weighted')\n",
    "f1 = f1_score(all_labels, all_predictions, average='weighted')\n",
    "\n",
    "# 準確率、召回率和F1分數\n",
    "print(f'Accuracy: {accuracy:.4f}')\n",
    "print(f'Recall: {recall:.4f}')\n",
    "print(f'F1 Score: {f1:.4f}')\n",
    "\n",
    "# 分類報告\n",
    "report = classification_report(all_labels, all_predictions, target_names=categories)\n",
    "print('Classification Report:\\n', report)\n"
   ]
  },
  {
   "cell_type": "markdown",
   "metadata": {},
   "source": [
    "---\n",
    "# GA parts:"
   ]
  },
  {
   "cell_type": "code",
   "execution_count": 91,
   "metadata": {},
   "outputs": [],
   "source": [
    "import numpy as np\n",
    "from sklearn.metrics import f1_score\n",
    "\n",
    "def initialize_population(size, num_models, num_features=5):\n",
    "    population = np.random.dirichlet(np.ones(num_models*num_features), size=size)\n",
    "    return population.reshape(size, num_models, num_features)\n",
    "\n",
    "\n",
    "def evaluate_fitness(population, model1, model2, model3, dataloader):\n",
    "    print(\"Evaluating fitness...\")\n",
    "    model1_preds = []\n",
    "    model2_preds = []\n",
    "    model3_preds = []\n",
    "    true_labels = []\n",
    "    model1.eval()\n",
    "    model2.eval()\n",
    "    model3.eval()\n",
    "    for data in tqdm(dataloader):\n",
    "        inputs = tokenizer(negatively_skewed_sample(data['text']), return_tensors='pt', padding=True, truncation=True)\n",
    "        inputs= inputs.to(device)\n",
    "        # labels = torch.tensor(np.argmax(batch['label'], axis=1), dtype=torch.long)\n",
    "        outputs = model3(**inputs).logits.softmax(dim=1).cpu().detach().numpy()\n",
    "        # predictions = torch.argmax(outputs.logits, dim=1).cpu().numpy()\n",
    "        model3_preds.extend(outputs)\n",
    "        # all_labels.extend(labels.numpy())\n",
    "        \n",
    "        vectors = np.array([text_to_vector(text) for text in data['text']])\n",
    "        vectors = vectors.mean(axis=0)\n",
    "        inputs = torch.tensor(vectors, dtype=torch.float32).unsqueeze(0).to(device)\n",
    "        true_labels.extend(data['label'])\n",
    "        model1_preds.extend(model1(inputs).softmax(dim=1).cpu().detach().numpy())\n",
    "        model2_preds.extend(model2(inputs).softmax(dim=1).cpu().detach().numpy())\n",
    "    fitness_scores = []\n",
    "    for individual in population:\n",
    "        weights_model1 = individual[0]\n",
    "        weights_model2 = individual[1]\n",
    "        weights_model3 = individual[2]\n",
    "\n",
    "        # 加權平均三個模型的輸出\n",
    "        ensemble_preds = model1_preds * weights_model1 + model2_preds * weights_model2 + model3_preds * weights_model3\n",
    "        # 將 ensemble_preds 轉換為類別標籤\n",
    "        ensemble_preds = np.argmax(ensemble_preds, axis=1)\n",
    "        # 將預測標籤轉換為與真實標籤相同的形狀\n",
    "        num_classes = ensemble_preds.max() + 1\n",
    "        ensemble_preds = np.eye(num_classes)[ensemble_preds]\n",
    "        # 計算 F1 分數並取負數\n",
    "        f1 = -f1_score(true_labels, ensemble_preds, average='macro')\n",
    "        fitness_scores.append(f1)\n",
    "        \n",
    "    return np.array(fitness_scores)\n",
    "\n",
    "# # 假設 model1_preds 和 model2_preds 是模型的輸出\n",
    "# # y_true 是真實標籤\n",
    "# model1_preds = np.random.rand(2,5)  # 模擬模型1的輸出\n",
    "# model2_preds = np.random.rand(2,5)  # 模擬模型2的輸出\n",
    "\n",
    "# # 生成一個5x5的對角線陣列\n",
    "# eye_matrix = np.eye(5)\n",
    "\n",
    "# # 選擇其中一行作為 y_true\n",
    "# y_true = eye_matrix[2:4]  # 選擇第三行\n",
    "# print(\"Model 1 predictions:\", model1_preds)\n",
    "# print(\"Model 2 predictions:\", model2_preds)\n",
    "# print(\"True labels:\", y_true)\n",
    "# fitness_scores = evaluate_fitness(population, model, model2, loader)\n",
    "# print(\"Fitness scores:\")\n",
    "# print(fitness_scores)\n",
    "\n",
    "# ======================選擇==================================\n",
    "def selection(population, fitness_scores):\n",
    "    print(\"Selecting...\")\n",
    "    selected_indices = np.argsort(fitness_scores)[:len(population)//2]  # 越小越好，選擇前半部分\n",
    "    # print(selected_indices)\n",
    "    return population[selected_indices]\n",
    "\n",
    "# selected_population = selection(population, fitness_scores)\n",
    "# print(\"Selected population:\")\n",
    "# print(selected_population)\n",
    "# ======================交配==================================\n",
    "def crossover(parents, num_offspring):\n",
    "    print(\"Crossovering...\")\n",
    "    offspring = []\n",
    "    for _ in range(num_offspring // 2):\n",
    "        parent1, parent2 = parents[np.random.choice(len(parents), 2, replace=False)]\n",
    "        crossover_point = np.random.randint(1, parent1.shape[1])\n",
    "        child1 = np.concatenate((parent1[:, :crossover_point], parent2[:, crossover_point:]), axis=1)\n",
    "        child2 = np.concatenate((parent2[:, :crossover_point], parent1[:, crossover_point:]), axis=1)\n",
    "        offspring.extend([child1, child2])\n",
    "    return np.array(offspring)\n",
    "\n",
    "# offspring = crossover(selected_population, num_offspring=len(population))\n",
    "# print(\"Offspring:\")\n",
    "# print(offspring)\n",
    "\n",
    "# ======================突變==================================\n",
    "def mutate(offspring, mutation_rate=0.1):\n",
    "    print(\"Mutating...\")\n",
    "    for individual in offspring:\n",
    "        if np.random.rand() < mutation_rate:\n",
    "            mutation_point_model = np.random.randint(individual.shape[0])\n",
    "            mutation_point_feature = np.random.randint(individual.shape[1])\n",
    "            individual[mutation_point_model, mutation_point_feature] = np.random.rand()\n",
    "            # 保持模型輸出權重和為1\n",
    "            individual[mutation_point_model] /= np.sum(individual[mutation_point_model])\n",
    "    return offspring\n",
    "\n",
    "# mutated_offspring = mutate(offspring)\n",
    "# print(\"Mutated offspring:\")\n",
    "# print(mutated_offspring)\n",
    "\n",
    "# ======================進化==================================\n",
    "def genetic_algorithm(num_generations, population_size, num_models, num_features, model1, model2, model3, dataloader):\n",
    "    global avg_fitness_scores\n",
    "    population = initialize_population(population_size, num_models, num_features)\n",
    "    \n",
    "    for generation in range(num_generations):\n",
    "        \n",
    "        fitness_scores = evaluate_fitness(population, model1, model2, model3, dataloader)\n",
    "        avg_fitness_scores.append(np.mean(fitness_scores))\n",
    "        selected_population = selection(population, fitness_scores)\n",
    "        offspring = crossover(selected_population, num_offspring=population_size)\n",
    "        population = mutate(offspring)\n",
    "    \n",
    "    fitness_scores = evaluate_fitness(population, model1, model2, model3, dataloader)\n",
    "    avg_fitness_scores.append(np.mean(fitness_scores))\n",
    "    best_individual = population[np.argmin(fitness_scores)]  # MSE越小越好\n",
    "    return best_individual, np.min(fitness_scores)\n",
    "\n",
    "# # 使用最佳權重進行預測\n",
    "# def predict_with_best_weights(model1, model2, best_weights,data_loader):\n",
    "#     model1_preds = []\n",
    "#     model2_preds = []\n",
    "#     true_labels = []\n",
    "#     model1.eval()\n",
    "#     model2.eval()\n",
    "#     for data in tqdm(data_loader):\n",
    "#         vectors = [text_to_vector(text) for text in data['text']]\n",
    "#         inputs = torch.tensor(vectors, dtype=torch.float32).to(device)\n",
    "#         true_labels.extend(data['label'])\n",
    "#         model1_preds.extend(model1(inputs).softmax(dim=1).cpu().detach().numpy())\n",
    "#         model2_preds.extend(model2(inputs).softmax(dim=1).cpu().detach().numpy())\n",
    "#     weights_model1 = best_weights[0]\n",
    "#     weights_model2 = best_weights[1]\n",
    "#     ensemble_preds = model1_preds * weights_model1 + model2_preds * weights_model2\n",
    "#     return ensemble_preds\n",
    "\n",
    "\n"
   ]
  },
  {
   "cell_type": "markdown",
   "metadata": {},
   "source": [
    "---\n",
    "# GA迭代"
   ]
  },
  {
   "cell_type": "code",
   "execution_count": 96,
   "metadata": {},
   "outputs": [
    {
     "name": "stdout",
     "output_type": "stream",
     "text": [
      "[[[0.09249468 0.06102127 0.04238033 0.2033839  0.24784538]\n",
      "  [0.06755535 0.03977506 0.1437358  0.0293619  0.00243393]\n",
      "  [0.03666395 0.00949889 0.00419876 0.0042564  0.01539439]]\n",
      "\n",
      " [[0.00931055 0.10999296 0.00297354 0.13556753 0.08143899]\n",
      "  [0.0822225  0.11841977 0.01272627 0.11693075 0.01114939]\n",
      "  [0.02497154 0.02624371 0.23073044 0.0006724  0.03664966]]\n",
      "\n",
      " [[0.01852563 0.02452529 0.06013062 0.10144175 0.1438729 ]\n",
      "  [0.00103512 0.03337299 0.02101873 0.03843104 0.0521917 ]\n",
      "  [0.03926365 0.06173336 0.14141934 0.25332238 0.0097155 ]]\n",
      "\n",
      " [[0.0026173  0.02421898 0.04247281 0.04358094 0.04524891]\n",
      "  [0.01118025 0.16396114 0.01119288 0.02160108 0.16449479]\n",
      "  [0.09712755 0.05139749 0.06368979 0.10128744 0.15592865]]\n",
      "\n",
      " [[0.02878323 0.03067071 0.08800708 0.05917198 0.11106738]\n",
      "  [0.01933724 0.01522116 0.05887855 0.01980376 0.03034102]\n",
      "  [0.06466646 0.13608565 0.20053697 0.11139254 0.02603628]]\n",
      "\n",
      " [[0.05848145 0.09486226 0.0274575  0.24469144 0.01618988]\n",
      "  [0.10125251 0.03328224 0.17259382 0.0004053  0.01259126]\n",
      "  [0.08376677 0.00715373 0.10223993 0.02178736 0.02324456]]]\n",
      "Evaluating fitness...\n"
     ]
    },
    {
     "name": "stderr",
     "output_type": "stream",
     "text": [
      "100%|██████████| 2300/2300 [07:08<00:00,  5.37it/s]\n"
     ]
    },
    {
     "name": "stdout",
     "output_type": "stream",
     "text": [
      "Selecting...\n",
      "Crossovering...\n",
      "Mutating...\n",
      "Evaluating fitness...\n"
     ]
    },
    {
     "name": "stderr",
     "output_type": "stream",
     "text": [
      "100%|██████████| 2300/2300 [07:12<00:00,  5.32it/s]\n"
     ]
    },
    {
     "name": "stdout",
     "output_type": "stream",
     "text": [
      "Selecting...\n",
      "Crossovering...\n",
      "Mutating...\n",
      "Evaluating fitness...\n"
     ]
    },
    {
     "name": "stderr",
     "output_type": "stream",
     "text": [
      "100%|██████████| 2300/2300 [07:17<00:00,  5.26it/s]\n"
     ]
    },
    {
     "name": "stdout",
     "output_type": "stream",
     "text": [
      "Selecting...\n",
      "Crossovering...\n",
      "Mutating...\n",
      "Evaluating fitness...\n"
     ]
    },
    {
     "name": "stderr",
     "output_type": "stream",
     "text": [
      "100%|██████████| 2300/2300 [07:13<00:00,  5.30it/s]\n"
     ]
    },
    {
     "name": "stdout",
     "output_type": "stream",
     "text": [
      "Selecting...\n",
      "Crossovering...\n",
      "Mutating...\n",
      "Evaluating fitness...\n"
     ]
    },
    {
     "name": "stderr",
     "output_type": "stream",
     "text": [
      "100%|██████████| 2300/2300 [07:13<00:00,  5.31it/s]\n"
     ]
    },
    {
     "name": "stdout",
     "output_type": "stream",
     "text": [
      "Selecting...\n",
      "Crossovering...\n",
      "Mutating...\n",
      "Evaluating fitness...\n"
     ]
    },
    {
     "name": "stderr",
     "output_type": "stream",
     "text": [
      "100%|██████████| 2300/2300 [07:14<00:00,  5.30it/s]\n"
     ]
    },
    {
     "name": "stdout",
     "output_type": "stream",
     "text": [
      "Selecting...\n",
      "Crossovering...\n",
      "Mutating...\n",
      "Evaluating fitness...\n"
     ]
    },
    {
     "name": "stderr",
     "output_type": "stream",
     "text": [
      "100%|██████████| 2300/2300 [07:15<00:00,  5.29it/s]\n"
     ]
    },
    {
     "name": "stdout",
     "output_type": "stream",
     "text": [
      "Selecting...\n",
      "Crossovering...\n",
      "Mutating...\n",
      "Evaluating fitness...\n"
     ]
    },
    {
     "name": "stderr",
     "output_type": "stream",
     "text": [
      "100%|██████████| 2300/2300 [07:13<00:00,  5.30it/s]\n"
     ]
    },
    {
     "name": "stdout",
     "output_type": "stream",
     "text": [
      "Selecting...\n",
      "Crossovering...\n",
      "Mutating...\n",
      "Evaluating fitness...\n"
     ]
    },
    {
     "name": "stderr",
     "output_type": "stream",
     "text": [
      "100%|██████████| 2300/2300 [07:13<00:00,  5.31it/s]\n"
     ]
    },
    {
     "name": "stdout",
     "output_type": "stream",
     "text": [
      "Selecting...\n",
      "Crossovering...\n",
      "Mutating...\n",
      "Evaluating fitness...\n"
     ]
    },
    {
     "name": "stderr",
     "output_type": "stream",
     "text": [
      "100%|██████████| 2300/2300 [07:12<00:00,  5.31it/s]\n"
     ]
    },
    {
     "name": "stdout",
     "output_type": "stream",
     "text": [
      "Selecting...\n",
      "Crossovering...\n",
      "Mutating...\n",
      "Evaluating fitness...\n"
     ]
    },
    {
     "name": "stderr",
     "output_type": "stream",
     "text": [
      "100%|██████████| 2300/2300 [07:14<00:00,  5.30it/s]\n"
     ]
    },
    {
     "name": "stdout",
     "output_type": "stream",
     "text": [
      "Selecting...\n",
      "Crossovering...\n",
      "Mutating...\n",
      "Evaluating fitness...\n"
     ]
    },
    {
     "name": "stderr",
     "output_type": "stream",
     "text": [
      "100%|██████████| 2300/2300 [07:14<00:00,  5.30it/s]\n"
     ]
    },
    {
     "name": "stdout",
     "output_type": "stream",
     "text": [
      "Selecting...\n",
      "Crossovering...\n",
      "Mutating...\n",
      "Evaluating fitness...\n"
     ]
    },
    {
     "name": "stderr",
     "output_type": "stream",
     "text": [
      "100%|██████████| 2300/2300 [07:12<00:00,  5.32it/s]\n"
     ]
    },
    {
     "name": "stdout",
     "output_type": "stream",
     "text": [
      "Selecting...\n",
      "Crossovering...\n",
      "Mutating...\n",
      "Evaluating fitness...\n"
     ]
    },
    {
     "name": "stderr",
     "output_type": "stream",
     "text": [
      "100%|██████████| 2300/2300 [07:14<00:00,  5.30it/s]\n"
     ]
    },
    {
     "name": "stdout",
     "output_type": "stream",
     "text": [
      "Selecting...\n",
      "Crossovering...\n",
      "Mutating...\n",
      "Evaluating fitness...\n"
     ]
    },
    {
     "name": "stderr",
     "output_type": "stream",
     "text": [
      "100%|██████████| 2300/2300 [07:12<00:00,  5.32it/s]\n"
     ]
    },
    {
     "name": "stdout",
     "output_type": "stream",
     "text": [
      "Selecting...\n",
      "Crossovering...\n",
      "Mutating...\n",
      "Evaluating fitness...\n"
     ]
    },
    {
     "name": "stderr",
     "output_type": "stream",
     "text": [
      "100%|██████████| 2300/2300 [07:20<00:00,  5.22it/s]\n"
     ]
    },
    {
     "name": "stdout",
     "output_type": "stream",
     "text": [
      "Selecting...\n",
      "Crossovering...\n",
      "Mutating...\n",
      "Evaluating fitness...\n"
     ]
    },
    {
     "name": "stderr",
     "output_type": "stream",
     "text": [
      "100%|██████████| 2300/2300 [07:46<00:00,  4.93it/s]\n"
     ]
    },
    {
     "name": "stdout",
     "output_type": "stream",
     "text": [
      "Selecting...\n",
      "Crossovering...\n",
      "Mutating...\n",
      "Evaluating fitness...\n"
     ]
    },
    {
     "name": "stderr",
     "output_type": "stream",
     "text": [
      "100%|██████████| 2300/2300 [07:15<00:00,  5.28it/s]\n"
     ]
    },
    {
     "name": "stdout",
     "output_type": "stream",
     "text": [
      "Selecting...\n",
      "Crossovering...\n",
      "Mutating...\n",
      "Evaluating fitness...\n"
     ]
    },
    {
     "name": "stderr",
     "output_type": "stream",
     "text": [
      "100%|██████████| 2300/2300 [07:13<00:00,  5.31it/s]\n"
     ]
    },
    {
     "name": "stdout",
     "output_type": "stream",
     "text": [
      "Selecting...\n",
      "Crossovering...\n",
      "Mutating...\n",
      "Evaluating fitness...\n"
     ]
    },
    {
     "name": "stderr",
     "output_type": "stream",
     "text": [
      "100%|██████████| 2300/2300 [07:22<00:00,  5.19it/s]\n"
     ]
    },
    {
     "name": "stdout",
     "output_type": "stream",
     "text": [
      "Selecting...\n",
      "Crossovering...\n",
      "Mutating...\n",
      "Evaluating fitness...\n"
     ]
    },
    {
     "name": "stderr",
     "output_type": "stream",
     "text": [
      "100%|██████████| 2300/2300 [07:26<00:00,  5.15it/s]\n"
     ]
    },
    {
     "name": "stdout",
     "output_type": "stream",
     "text": [
      "Selecting...\n",
      "Crossovering...\n",
      "Mutating...\n",
      "Evaluating fitness...\n"
     ]
    },
    {
     "name": "stderr",
     "output_type": "stream",
     "text": [
      "100%|██████████| 2300/2300 [07:17<00:00,  5.26it/s]\n"
     ]
    },
    {
     "name": "stdout",
     "output_type": "stream",
     "text": [
      "Selecting...\n",
      "Crossovering...\n",
      "Mutating...\n",
      "Evaluating fitness...\n"
     ]
    },
    {
     "name": "stderr",
     "output_type": "stream",
     "text": [
      "100%|██████████| 2300/2300 [07:14<00:00,  5.29it/s]\n"
     ]
    },
    {
     "name": "stdout",
     "output_type": "stream",
     "text": [
      "Selecting...\n",
      "Crossovering...\n",
      "Mutating...\n",
      "Evaluating fitness...\n"
     ]
    },
    {
     "name": "stderr",
     "output_type": "stream",
     "text": [
      "100%|██████████| 2300/2300 [07:16<00:00,  5.27it/s]\n"
     ]
    },
    {
     "name": "stdout",
     "output_type": "stream",
     "text": [
      "Selecting...\n",
      "Crossovering...\n",
      "Mutating...\n",
      "Evaluating fitness...\n"
     ]
    },
    {
     "name": "stderr",
     "output_type": "stream",
     "text": [
      "100%|██████████| 2300/2300 [07:15<00:00,  5.29it/s]\n"
     ]
    },
    {
     "name": "stdout",
     "output_type": "stream",
     "text": [
      "Selecting...\n",
      "Crossovering...\n",
      "Mutating...\n",
      "Evaluating fitness...\n"
     ]
    },
    {
     "name": "stderr",
     "output_type": "stream",
     "text": [
      "100%|██████████| 2300/2300 [07:14<00:00,  5.29it/s]\n"
     ]
    },
    {
     "name": "stdout",
     "output_type": "stream",
     "text": [
      "Selecting...\n",
      "Crossovering...\n",
      "Mutating...\n",
      "Evaluating fitness...\n"
     ]
    },
    {
     "name": "stderr",
     "output_type": "stream",
     "text": [
      "100%|██████████| 2300/2300 [07:14<00:00,  5.29it/s]\n"
     ]
    },
    {
     "name": "stdout",
     "output_type": "stream",
     "text": [
      "Selecting...\n",
      "Crossovering...\n",
      "Mutating...\n",
      "Evaluating fitness...\n"
     ]
    },
    {
     "name": "stderr",
     "output_type": "stream",
     "text": [
      "100%|██████████| 2300/2300 [07:16<00:00,  5.27it/s]\n"
     ]
    },
    {
     "name": "stdout",
     "output_type": "stream",
     "text": [
      "Selecting...\n",
      "Crossovering...\n",
      "Mutating...\n",
      "Evaluating fitness...\n"
     ]
    },
    {
     "name": "stderr",
     "output_type": "stream",
     "text": [
      "100%|██████████| 2300/2300 [07:15<00:00,  5.28it/s]\n"
     ]
    },
    {
     "name": "stdout",
     "output_type": "stream",
     "text": [
      "Selecting...\n",
      "Crossovering...\n",
      "Mutating...\n",
      "Evaluating fitness...\n"
     ]
    },
    {
     "name": "stderr",
     "output_type": "stream",
     "text": [
      "100%|██████████| 2300/2300 [07:14<00:00,  5.29it/s]\n"
     ]
    },
    {
     "name": "stdout",
     "output_type": "stream",
     "text": [
      "Selecting...\n",
      "Crossovering...\n",
      "Mutating...\n",
      "Evaluating fitness...\n"
     ]
    },
    {
     "name": "stderr",
     "output_type": "stream",
     "text": [
      "100%|██████████| 2300/2300 [07:15<00:00,  5.28it/s]\n"
     ]
    },
    {
     "name": "stdout",
     "output_type": "stream",
     "text": [
      "Best individual:\n",
      "[[0.11740863 0.21691812 0.08674241 0.09108131 0.05639526]\n",
      " [0.01882954 0.06280359 0.02646498 0.02262951 0.19663226]\n",
      " [0.36140771 0.14604779 0.09935841 0.07017998 0.27273245]]\n",
      "Best fitness:\n",
      "-0.7767390673250252\n"
     ]
    }
   ],
   "source": [
    "\n",
    "# 有3個模型，生成6個初始個體\n",
    "population = initialize_population(size=6, num_models=3)\n",
    "print(population)\n",
    "loader = DataLoader(train_dataset, batch_size=1, shuffle=True)\n",
    "# ======================計算適應度==================================\n",
    "# 執行基因演算法\n",
    "num_generations = 30\n",
    "population_size = 5\n",
    "num_models = 3\n",
    "num_features = 5\n",
    "avg_fitness_scores = []\n",
    "best_individual, best_fitness = genetic_algorithm(num_generations, population_size, num_models, num_features, model, model2, model_bert,loader)\n",
    "print(\"Best individual:\")\n",
    "print(best_individual)\n",
    "print(\"Best fitness:\")\n",
    "print(best_fitness)"
   ]
  },
  {
   "cell_type": "markdown",
   "metadata": {},
   "source": [
    "## 使用集成式模型進行預測所需的函式"
   ]
  },
  {
   "cell_type": "code",
   "execution_count": 88,
   "metadata": {},
   "outputs": [],
   "source": [
    "from sklearn.metrics import f1_score, recall_score, precision_score\n",
    "\n",
    "def predict_with_best_weights(model1, model2,model3, best_weights, data_loader):\n",
    "    model1_preds = []\n",
    "    model2_preds = []\n",
    "    model3_preds = []\n",
    "    true_labels = []\n",
    "    model1.eval()\n",
    "    model2.eval()\n",
    "    model3.eval()\n",
    "    for data in tqdm(data_loader):\n",
    "        \n",
    "        inputs = tokenizer(negatively_skewed_sample(data['text']), return_tensors='pt', padding=True, truncation=True)\n",
    "        inputs= inputs.to(device)\n",
    "        # labels = torch.tensor(np.argmax(batch['label'], axis=1), dtype=torch.long)\n",
    "        outputs = model3(**inputs).logits.softmax(dim=1).cpu().detach().numpy()\n",
    "        # predictions = torch.argmax(outputs.logits, dim=1).cpu().numpy()\n",
    "        model3_preds.extend(outputs)\n",
    "        # all_labels.extend(labels.numpy())\n",
    "\n",
    "        vectors = np.array([text_to_vector(text) for text in data['text']])\n",
    "        vectors = vectors.mean(axis=0)\n",
    "        inputs = torch.tensor(vectors, dtype=torch.float32).unsqueeze(0).to(device)\n",
    "        true_labels.extend(data['label'])\n",
    "        # print(vectors)\n",
    "        model1_preds.extend(model1(inputs).softmax(dim=1).cpu().detach().numpy())\n",
    "        # print(model1_preds)\n",
    "        model2_preds.extend(model2(inputs).softmax(dim=1).cpu().detach().numpy())\n",
    "        # break\n",
    "    weights_model1 = best_weights[0]\n",
    "    weights_model2 = best_weights[1]\n",
    "    weights_model3 = best_weights[2]\n",
    "    model1_preds = np.array(model1_preds)\n",
    "    model2_preds = np.array(model2_preds)\n",
    "    model3_preds = np.array(model3_preds)\n",
    "    print(model1_preds.shape,model2_preds.shape,model3_preds.shape)\n",
    "    ensemble_preds = model1_preds * weights_model1 + model2_preds * weights_model2 + model3_preds * weights_model3\n",
    "    \n",
    "    #ensemble_preds.argmax(axis=1)\n",
    "    #print(ensemble_preds.shape)\n",
    "    return ensemble_preds, np.array(true_labels)\n",
    "def convert_to_labels(predictions):\n",
    "    # Assuming it's a multi-class classification and `predictions` are probability scores\n",
    "    return np.argmax(predictions, axis=1)\n",
    "def calculate_metrics(predictions, true_labels):\n",
    "    predicted_labels = convert_to_labels(predictions)\n",
    "    true_labels = convert_to_labels(true_labels)\n",
    "    f1 = f1_score(true_labels, predicted_labels, average='weighted')\n",
    "    recall = recall_score(true_labels, predicted_labels, average='weighted')\n",
    "    precision = precision_score(true_labels, predicted_labels, average='weighted')\n",
    "    return f1, recall, precision\n"
   ]
  },
  {
   "cell_type": "code",
   "execution_count": 50,
   "metadata": {},
   "outputs": [
    {
     "data": {
      "text/plain": [
       "981"
      ]
     },
     "execution_count": 50,
     "metadata": {},
     "output_type": "execute_result"
    }
   ],
   "source": [
    "# len(convert_to_labels(ensemble_preds))\n",
    "len(convert_to_labels(true_labels))"
   ]
  },
  {
   "cell_type": "code",
   "execution_count": 34,
   "metadata": {},
   "outputs": [
    {
     "data": {
      "text/plain": [
       "array([[0.02922914, 0.00259584, 0.04374422, 0.01125223, 0.05600622],\n",
       "       [0.09712949, 0.07727904, 0.04585407, 0.02329719, 0.04878266],\n",
       "       [0.06192663, 0.02378336, 0.03110602, 0.03135242, 0.02146088]])"
      ]
     },
     "execution_count": 34,
     "metadata": {},
     "output_type": "execute_result"
    }
   ],
   "source": [
    "best_individual"
   ]
  },
  {
   "cell_type": "markdown",
   "metadata": {},
   "source": [
    "### 使用測試集觀察GA最佳化之集成式模型表現"
   ]
  },
  {
   "cell_type": "code",
   "execution_count": 98,
   "metadata": {},
   "outputs": [
    {
     "name": "stderr",
     "output_type": "stream",
     "text": [
      "100%|██████████| 981/981 [02:00<00:00,  8.13it/s]"
     ]
    },
    {
     "name": "stdout",
     "output_type": "stream",
     "text": [
      "(981, 5) (981, 5) (981, 5)\n",
      "              precision    recall  f1-score   support\n",
      "\n",
      "           0       0.96      0.96      0.96       200\n",
      "           1       0.58      0.87      0.70       181\n",
      "           2       0.93      0.92      0.93       200\n",
      "           3       0.98      0.79      0.88       200\n",
      "           4       0.77      0.58      0.66       200\n",
      "\n",
      "    accuracy                           0.82       981\n",
      "   macro avg       0.85      0.83      0.83       981\n",
      "weighted avg       0.85      0.82      0.83       981\n",
      "\n",
      "F1 Score: 0.8276390398920445\n",
      "Recall: 0.8246687054026504\n",
      "Precision: 0.8510269239252108\n"
     ]
    },
    {
     "name": "stderr",
     "output_type": "stream",
     "text": [
      "\n"
     ]
    }
   ],
   "source": [
    "# [[0.13287027 0.18578885 0.52530104 0.26860022 0.08212449]\n",
    "#  [0.2269059  0.36352712 0.09314893 0.50507792 0.03426093]]\n",
    "# test_individual = np.array([[0.25, 0.18, 0.23, 0.22, 0.14], [0.28, 0.18, 0.26, 0.2, 0.12]])\n",
    "# test_individual = test_individual / np.sum(test_individual, axis=1)[:, np.newaxis]\n",
    "# test_individual = np.array([[0.2, 0.2, 0.2, 0.2, 0.2], [0.2, 0.2, 0.2, 0.2, 0.2]])\n",
    "# 使用数据加载器获取预测结果和真实标签\n",
    "test_loader = DataLoader(test_dataset, batch_size=1, shuffle=True)\n",
    "\n",
    "ensemble_preds, true_labels = predict_with_best_weights(model, model2, model_bert, best_individual, test_loader)\n",
    "\n",
    "# 计算性能指标\n",
    "f1, recall, precision = calculate_metrics(ensemble_preds, true_labels)\n",
    "r = classification_report(true_labels.argmax(axis=1), ensemble_preds.argmax(axis=1))\n",
    "print(r)\n",
    "\n",
    "print(f\"F1 Score: {f1}\")\n",
    "print(f\"Recall: {recall}\")\n",
    "print(f\"Precision: {precision}\")"
   ]
  },
  {
   "cell_type": "code",
   "execution_count": 83,
   "metadata": {},
   "outputs": [
    {
     "data": {
      "text/plain": [
       "array([[0, 0, 0, 1, 0],\n",
       "       [1, 0, 0, 0, 0],\n",
       "       [0, 0, 1, 0, 0],\n",
       "       [0, 0, 0, 1, 0],\n",
       "       [0, 0, 1, 0, 0],\n",
       "       [0, 1, 0, 0, 0],\n",
       "       [0, 1, 0, 0, 0],\n",
       "       [1, 0, 0, 0, 0],\n",
       "       [0, 0, 1, 0, 0],\n",
       "       [0, 0, 1, 0, 0],\n",
       "       [0, 1, 0, 0, 0],\n",
       "       [0, 0, 0, 1, 0],\n",
       "       [0, 1, 0, 0, 0],\n",
       "       [0, 0, 0, 1, 0],\n",
       "       [0, 0, 0, 0, 1],\n",
       "       [0, 0, 1, 0, 0],\n",
       "       [1, 0, 0, 0, 0],\n",
       "       [0, 0, 0, 0, 1],\n",
       "       [1, 0, 0, 0, 0],\n",
       "       [1, 0, 0, 0, 0],\n",
       "       [0, 1, 0, 0, 0],\n",
       "       [0, 1, 0, 0, 0],\n",
       "       [0, 0, 1, 0, 0],\n",
       "       [1, 0, 0, 0, 0],\n",
       "       [1, 0, 0, 0, 0],\n",
       "       [1, 0, 0, 0, 0],\n",
       "       [0, 0, 1, 0, 0],\n",
       "       [0, 0, 1, 0, 0],\n",
       "       [1, 0, 0, 0, 0],\n",
       "       [0, 0, 0, 0, 1],\n",
       "       [1, 0, 0, 0, 0],\n",
       "       [0, 1, 0, 0, 0],\n",
       "       [0, 1, 0, 0, 0],\n",
       "       [0, 0, 1, 0, 0],\n",
       "       [1, 0, 0, 0, 0],\n",
       "       [0, 0, 1, 0, 0],\n",
       "       [1, 0, 0, 0, 0],\n",
       "       [0, 0, 0, 0, 1],\n",
       "       [0, 0, 1, 0, 0],\n",
       "       [0, 1, 0, 0, 0],\n",
       "       [0, 1, 0, 0, 0],\n",
       "       [1, 0, 0, 0, 0],\n",
       "       [0, 0, 1, 0, 0],\n",
       "       [0, 0, 1, 0, 0],\n",
       "       [0, 0, 0, 0, 1],\n",
       "       [0, 0, 0, 0, 1],\n",
       "       [1, 0, 0, 0, 0],\n",
       "       [0, 1, 0, 0, 0],\n",
       "       [0, 0, 0, 0, 1],\n",
       "       [0, 0, 0, 0, 1],\n",
       "       [0, 0, 0, 0, 1],\n",
       "       [0, 0, 1, 0, 0],\n",
       "       [0, 0, 1, 0, 0],\n",
       "       [0, 0, 0, 0, 1],\n",
       "       [0, 0, 0, 1, 0],\n",
       "       [0, 0, 0, 0, 1],\n",
       "       [0, 0, 0, 1, 0],\n",
       "       [0, 0, 0, 1, 0],\n",
       "       [0, 0, 0, 0, 1],\n",
       "       [0, 0, 0, 1, 0],\n",
       "       [0, 0, 0, 1, 0],\n",
       "       [0, 0, 0, 0, 1],\n",
       "       [1, 0, 0, 0, 0],\n",
       "       [0, 0, 0, 0, 1],\n",
       "       [0, 1, 0, 0, 0],\n",
       "       [0, 0, 0, 0, 1],\n",
       "       [0, 0, 0, 0, 1],\n",
       "       [1, 0, 0, 0, 0],\n",
       "       [0, 1, 0, 0, 0],\n",
       "       [0, 0, 1, 0, 0],\n",
       "       [1, 0, 0, 0, 0],\n",
       "       [0, 0, 1, 0, 0],\n",
       "       [1, 0, 0, 0, 0],\n",
       "       [0, 0, 1, 0, 0],\n",
       "       [0, 0, 0, 1, 0],\n",
       "       [0, 0, 1, 0, 0],\n",
       "       [0, 0, 0, 0, 1],\n",
       "       [0, 0, 0, 1, 0],\n",
       "       [0, 0, 0, 0, 1],\n",
       "       [0, 0, 1, 0, 0],\n",
       "       [1, 0, 0, 0, 0],\n",
       "       [1, 0, 0, 0, 0],\n",
       "       [1, 0, 0, 0, 0],\n",
       "       [0, 0, 1, 0, 0],\n",
       "       [0, 1, 0, 0, 0],\n",
       "       [0, 0, 0, 0, 1],\n",
       "       [0, 1, 0, 0, 0],\n",
       "       [0, 1, 0, 0, 0],\n",
       "       [0, 0, 0, 0, 1],\n",
       "       [1, 0, 0, 0, 0],\n",
       "       [0, 0, 0, 1, 0],\n",
       "       [0, 0, 1, 0, 0],\n",
       "       [0, 0, 0, 1, 0],\n",
       "       [0, 0, 0, 0, 1],\n",
       "       [0, 0, 0, 1, 0],\n",
       "       [1, 0, 0, 0, 0],\n",
       "       [1, 0, 0, 0, 0],\n",
       "       [0, 0, 1, 0, 0],\n",
       "       [0, 0, 0, 1, 0],\n",
       "       [0, 0, 0, 1, 0],\n",
       "       [0, 0, 1, 0, 0],\n",
       "       [0, 1, 0, 0, 0],\n",
       "       [0, 0, 1, 0, 0],\n",
       "       [0, 0, 0, 1, 0],\n",
       "       [0, 1, 0, 0, 0],\n",
       "       [0, 0, 0, 0, 1],\n",
       "       [0, 0, 1, 0, 0],\n",
       "       [1, 0, 0, 0, 0],\n",
       "       [1, 0, 0, 0, 0],\n",
       "       [0, 1, 0, 0, 0],\n",
       "       [0, 0, 0, 1, 0],\n",
       "       [0, 0, 0, 1, 0],\n",
       "       [0, 1, 0, 0, 0],\n",
       "       [0, 1, 0, 0, 0],\n",
       "       [1, 0, 0, 0, 0],\n",
       "       [0, 0, 0, 1, 0],\n",
       "       [0, 1, 0, 0, 0],\n",
       "       [0, 1, 0, 0, 0],\n",
       "       [0, 0, 0, 1, 0],\n",
       "       [0, 1, 0, 0, 0],\n",
       "       [0, 0, 0, 0, 1],\n",
       "       [1, 0, 0, 0, 0],\n",
       "       [0, 0, 1, 0, 0],\n",
       "       [0, 0, 0, 1, 0],\n",
       "       [0, 1, 0, 0, 0],\n",
       "       [0, 0, 0, 0, 1],\n",
       "       [1, 0, 0, 0, 0],\n",
       "       [0, 0, 1, 0, 0]], dtype=int64)"
      ]
     },
     "execution_count": 83,
     "metadata": {},
     "output_type": "execute_result"
    }
   ],
   "source": [
    "true_labels"
   ]
  },
  {
   "cell_type": "code",
   "execution_count": 40,
   "metadata": {},
   "outputs": [
    {
     "data": {
      "text/plain": [
       "array([[0.0266067 , 0.0245019 , 0.00309921, 0.02870044, 0.00294716],\n",
       "       [0.12180634, 0.01268559, 0.0258052 , 0.0011684 , 0.00274416],\n",
       "       [0.02650061, 0.05679995, 0.00600672, 0.00708055, 0.00361927],\n",
       "       [0.02511979, 0.05519162, 0.00218879, 0.00713325, 0.03284069],\n",
       "       [0.02497158, 0.08258528, 0.00192317, 0.00222611, 0.00234758],\n",
       "       [0.03218338, 0.02551963, 0.01141391, 0.01717589, 0.00940902],\n",
       "       [0.12635855, 0.01290133, 0.01323501, 0.00103583, 0.0077698 ],\n",
       "       [0.11053446, 0.012464  , 0.03073927, 0.00157133, 0.00334049],\n",
       "       [0.0253881 , 0.01619371, 0.00200671, 0.03280218, 0.00186666],\n",
       "       [0.12465937, 0.01266301, 0.01585332, 0.00109405, 0.0070287 ],\n",
       "       [0.07175661, 0.01294748, 0.04763856, 0.00459306, 0.0027998 ],\n",
       "       [0.0263414 , 0.02244065, 0.00361751, 0.02994958, 0.00181865],\n",
       "       [0.02455679, 0.01331146, 0.00127775, 0.03466988, 0.00095674],\n",
       "       [0.0386106 , 0.03456997, 0.00645896, 0.00474683, 0.0580482 ],\n",
       "       [0.02507749, 0.02686265, 0.00223671, 0.02900521, 0.00236826],\n",
       "       [0.07641919, 0.01270011, 0.04861895, 0.00335258, 0.00314177],\n",
       "       [0.03872811, 0.0168348 , 0.01191862, 0.0025011 , 0.07003319],\n",
       "       [0.10800367, 0.01363116, 0.02848253, 0.00141824, 0.00560599],\n",
       "       [0.11185618, 0.01344244, 0.02624451, 0.00146723, 0.0080049 ],\n",
       "       [0.02462212, 0.01311422, 0.00115204, 0.03476113, 0.00099118],\n",
       "       [0.02486817, 0.02067935, 0.0020663 , 0.0315916 , 0.00189814],\n",
       "       [0.0251582 , 0.07904768, 0.00234338, 0.00310479, 0.00229258],\n",
       "       [0.08408493, 0.0128536 , 0.04440413, 0.00301591, 0.00295227],\n",
       "       [0.02534749, 0.07218284, 0.0021418 , 0.00521978, 0.00807354],\n",
       "       [0.10685039, 0.01379349, 0.01030615, 0.00152767, 0.01825994],\n",
       "       [0.03098002, 0.03223344, 0.00407672, 0.01568215, 0.02298406],\n",
       "       [0.04288909, 0.0173993 , 0.04374078, 0.01049759, 0.00414855],\n",
       "       [0.0696211 , 0.01359789, 0.05089021, 0.00256127, 0.00284932],\n",
       "       [0.04273033, 0.01290319, 0.06987861, 0.00245293, 0.00100952],\n",
       "       [0.09685466, 0.01386886, 0.02656362, 0.00195826, 0.0110491 ],\n",
       "       [0.02448198, 0.08395944, 0.00146911, 0.00273516, 0.00114332],\n",
       "       [0.11559275, 0.01399757, 0.00956652, 0.00129526, 0.01549523],\n",
       "       [0.08188138, 0.0127692 , 0.04187448, 0.00331962, 0.00313052],\n",
       "       [0.11745808, 0.01303753, 0.01705952, 0.00138725, 0.00795693],\n",
       "       [0.02442543, 0.01540022, 0.00112357, 0.03422191, 0.00080619],\n",
       "       [0.0392463 , 0.05111948, 0.01220225, 0.00323259, 0.02511706],\n",
       "       [0.02470845, 0.06624757, 0.0011429 , 0.00517273, 0.00765018],\n",
       "       [0.12105518, 0.01292895, 0.02058473, 0.00109971, 0.00581423],\n",
       "       [0.02542785, 0.05344543, 0.00165883, 0.01243292, 0.02743975],\n",
       "       [0.10618643, 0.01298072, 0.02704983, 0.00171269, 0.00673214],\n",
       "       [0.03919462, 0.0138888 , 0.05996584, 0.00636971, 0.00215041],\n",
       "       [0.05273904, 0.01285503, 0.05796528, 0.00458335, 0.00225492],\n",
       "       [0.02443295, 0.01250796, 0.0010247 , 0.03513969, 0.0008116 ],\n",
       "       [0.02449906, 0.086299  , 0.00121772, 0.0021011 , 0.00125642],\n",
       "       [0.04917926, 0.01971694, 0.01000075, 0.00706197, 0.05079643],\n",
       "       [0.05557997, 0.01919986, 0.03867859, 0.00693296, 0.0091598 ],\n",
       "       [0.04570407, 0.023418  , 0.03564783, 0.01019465, 0.00841747],\n",
       "       [0.04551618, 0.01277924, 0.06800703, 0.00260458, 0.00132583],\n",
       "       [0.10901498, 0.01414226, 0.02127549, 0.00160998, 0.0118644 ],\n",
       "       [0.02447554, 0.08906321, 0.00133837, 0.001198  , 0.00127971],\n",
       "       [0.08098756, 0.01248908, 0.05118733, 0.00166499, 0.0020599 ],\n",
       "       [0.03022452, 0.03056504, 0.00958343, 0.01399804, 0.01498727],\n",
       "       [0.02452532, 0.01708561, 0.00136722, 0.03340484, 0.00114404],\n",
       "       [0.02483538, 0.07054733, 0.00112634, 0.00264538, 0.01241051],\n",
       "       [0.10830917, 0.01322385, 0.01841001, 0.002452  , 0.01349305],\n",
       "       [0.02606325, 0.03909809, 0.00284803, 0.0199708 , 0.00737923],\n",
       "       [0.03382272, 0.02555433, 0.00918501, 0.00915622, 0.04281048],\n",
       "       [0.08718454, 0.01310302, 0.02199486, 0.00392803, 0.02194326],\n",
       "       [0.02447949, 0.08844344, 0.00112736, 0.001408  , 0.00146102],\n",
       "       [0.0371095 , 0.03141106, 0.00522634, 0.00397295, 0.07183694],\n",
       "       [0.11203815, 0.0134003 , 0.00857214, 0.00115305, 0.02316012],\n",
       "       [0.02565585, 0.07070589, 0.00163789, 0.00380732, 0.00668525],\n",
       "       [0.02457273, 0.01436602, 0.00118036, 0.03429404, 0.0011741 ],\n",
       "       [0.02712409, 0.03301206, 0.00346072, 0.02151416, 0.01813664],\n",
       "       [0.02442989, 0.09107163, 0.00115298, 0.00091776, 0.00081867],\n",
       "       [0.02635725, 0.06882726, 0.00216046, 0.00326733, 0.00929206],\n",
       "       [0.03410589, 0.02712555, 0.00730407, 0.00875737, 0.04935684],\n",
       "       [0.02525299, 0.06550971, 0.00153146, 0.00519158, 0.00838864],\n",
       "       [0.10988159, 0.01420223, 0.01825266, 0.00146977, 0.01442505],\n",
       "       [0.03335807, 0.02951891, 0.00668842, 0.00676222, 0.03457364],\n",
       "       [0.10366156, 0.01437998, 0.01384594, 0.00169986, 0.017761  ],\n",
       "       [0.02627753, 0.06278577, 0.00299452, 0.00712015, 0.00371628],\n",
       "       [0.02649748, 0.05316859, 0.00137288, 0.0029552 , 0.04608672],\n",
       "       [0.0290115 , 0.02995071, 0.00375782, 0.00159013, 0.08570285],\n",
       "       [0.02856959, 0.02225172, 0.00536596, 0.01890933, 0.02884856],\n",
       "       [0.02553799, 0.01564879, 0.00218983, 0.0327215 , 0.0021511 ],\n",
       "       [0.02494687, 0.08643395, 0.00143701, 0.00142092, 0.00222049],\n",
       "       [0.1034566 , 0.01273163, 0.03048412, 0.00168415, 0.0052714 ],\n",
       "       [0.10014196, 0.0141849 , 0.02367858, 0.00155936, 0.01167606],\n",
       "       [0.07411603, 0.01233193, 0.05720305, 0.00194111, 0.00094992],\n",
       "       [0.04496458, 0.01449161, 0.05965262, 0.00467427, 0.00267242],\n",
       "       [0.03429522, 0.01899582, 0.00331129, 0.00173483, 0.09004333],\n",
       "       [0.02540718, 0.05082815, 0.00197468, 0.00897489, 0.0109509 ],\n",
       "       [0.05539523, 0.01759139, 0.0409092 , 0.00489317, 0.01335245],\n",
       "       [0.02450191, 0.01369809, 0.00124106, 0.03460045, 0.00092467],\n",
       "       [0.02449618, 0.01289937, 0.00108072, 0.03494875, 0.00087299],\n",
       "       [0.0257927 , 0.04270663, 0.00198176, 0.01292211, 0.00529626],\n",
       "       [0.04140309, 0.01793281, 0.03556833, 0.0050938 , 0.00215771],\n",
       "       [0.02907375, 0.03569314, 0.01072383, 0.00772271, 0.00964181],\n",
       "       [0.06656796, 0.01278748, 0.0563951 , 0.00256313, 0.00136704],\n",
       "       [0.02445396, 0.08624614, 0.00112512, 0.0021538 , 0.00129435],\n",
       "       [0.1070794 , 0.01366663, 0.0220323 , 0.00167125, 0.01142618],\n",
       "       [0.03852867, 0.01561854, 0.05213643, 0.00672569, 0.00857277],\n",
       "       [0.02621257, 0.02896007, 0.00194162, 0.01295328, 0.06291864],\n",
       "       [0.09882676, 0.01307181, 0.01682427, 0.0023139 , 0.01983508],\n",
       "       [0.11973105, 0.01276554, 0.02402264, 0.00114514, 0.00223074],\n",
       "       [0.02464065, 0.01322893, 0.0013183 , 0.03443406, 0.00141747],\n",
       "       [0.02453521, 0.01416211, 0.0011534 , 0.03449244, 0.00093444],\n",
       "       [0.02579789, 0.0232516 , 0.00304157, 0.02891975, 0.00458596],\n",
       "       [0.07339248, 0.01242011, 0.05406938, 0.00184604, 0.00125027],\n",
       "       [0.03182895, 0.04677699, 0.00735868, 0.00710346, 0.01207202],\n",
       "       [0.07011769, 0.02115028, 0.03370004, 0.00327932, 0.01157888],\n",
       "       [0.05484948, 0.01330117, 0.05952388, 0.00355753, 0.00175054],\n",
       "       [0.02619904, 0.04605724, 0.00148354, 0.00335504, 0.07553557],\n",
       "       [0.02490315, 0.08574005, 0.00178048, 0.00160242, 0.00192982],\n",
       "       [0.03158636, 0.03427434, 0.00689763, 0.01064051, 0.03244797],\n",
       "       [0.02518281, 0.08218146, 0.00206093, 0.00248255, 0.00181493],\n",
       "       [0.03055092, 0.04235731, 0.00812157, 0.00943052, 0.02799275],\n",
       "       [0.02452983, 0.08241376, 0.00129035, 0.0032004 , 0.00131339],\n",
       "       [0.02672239, 0.08044528, 0.00346768, 0.00236175, 0.00260656],\n",
       "       [0.05023469, 0.01586031, 0.05251707, 0.00499089, 0.00351458],\n",
       "       [0.0545097 , 0.01371777, 0.0603723 , 0.00506332, 0.00171625],\n",
       "       [0.02448485, 0.08897984, 0.00127342, 0.00141571, 0.00094206],\n",
       "       [0.02764082, 0.05312958, 0.00296135, 0.00826703, 0.00976681],\n",
       "       [0.06687434, 0.02522178, 0.02012361, 0.00327322, 0.01446265],\n",
       "       [0.0422321 , 0.01358606, 0.06376491, 0.00454372, 0.00168639],\n",
       "       [0.02455679, 0.01331146, 0.00127775, 0.03466988, 0.00095674],\n",
       "       [0.12387479, 0.01327257, 0.00972917, 0.00124728, 0.01084586],\n",
       "       [0.05769959, 0.01281722, 0.0636047 , 0.00266714, 0.0016465 ],\n",
       "       [0.03234897, 0.03556193, 0.00445003, 0.0028809 , 0.0602279 ],\n",
       "       [0.06129987, 0.01333793, 0.05434361, 0.00378269, 0.00195684],\n",
       "       [0.04611823, 0.02243566, 0.03866096, 0.00757425, 0.01200002],\n",
       "       [0.10625747, 0.01363549, 0.02380499, 0.00218235, 0.01130369],\n",
       "       [0.05810689, 0.01440935, 0.05021605, 0.00510453, 0.00404474],\n",
       "       [0.10205317, 0.01417217, 0.02495984, 0.001626  , 0.00946297],\n",
       "       [0.02780523, 0.05261608, 0.00347522, 0.00715833, 0.00871706],\n",
       "       [0.02557917, 0.02073306, 0.0022151 , 0.02774946, 0.01046026],\n",
       "       [0.02458793, 0.01686531, 0.00124673, 0.03324729, 0.00173036]])"
      ]
     },
     "execution_count": 40,
     "metadata": {},
     "output_type": "execute_result"
    }
   ],
   "source": [
    "ensemble_preds"
   ]
  },
  {
   "cell_type": "markdown",
   "metadata": {},
   "source": [
    "### GA迭代中的 Fitness value 變化:在 Generation 15 後表現趨於平緩=>已最佳化 "
   ]
  },
  {
   "cell_type": "code",
   "execution_count": 97,
   "metadata": {},
   "outputs": [
    {
     "data": {
      "image/png": "[encoded data removed]",
      "text/plain": [
       "<Figure size 640x480 with 1 Axes>"
      ]
     },
     "metadata": {},
     "output_type": "display_data"
    },
    {
     "data": {
      "image/png": "[encoded data removed]",
      "text/plain": [
       "<Figure size 640x480 with 1 Axes>"
      ]
     },
     "metadata": {},
     "output_type": "display_data"
    }
   ],
   "source": [
    "import matplotlib.pyplot as plt\n",
    "\n",
    "plt.plot(avg_fitness_scores)\n",
    "plt.xlabel(\"Generation\")\n",
    "plt.ylabel(\"Fitness\")\n",
    "\n",
    "plt.show()\n",
    "avg_fitness_scores = [-x for x in avg_fitness_scores]  # 將負的 F1 分數轉換為正的(因為原始計算用負的)\n",
    "\n",
    "plt.plot(avg_fitness_scores)\n",
    "plt.xlabel(\"Generation\")\n",
    "plt.ylabel(\"Fitness\")\n",
    "\n",
    "plt.show()"
   ]
  },
  {
   "cell_type": "code",
   "execution_count": 25,
   "metadata": {},
   "outputs": [
    {
     "name": "stderr",
     "output_type": "stream",
     "text": [
      "100%|██████████| 8/8 [00:14<00:00,  1.84s/it]"
     ]
    },
    {
     "name": "stdout",
     "output_type": "stream",
     "text": [
      "Accuracy:  0.7319062181447502\n"
     ]
    },
    {
     "name": "stderr",
     "output_type": "stream",
     "text": [
      "\n"
     ]
    }
   ],
   "source": [
    "from sklearn.metrics import accuracy_score\n",
    "\n",
    "def ensemble_predict(model1, model2, dataloader):\n",
    "    model1.eval()\n",
    "    model2.eval()\n",
    "    \n",
    "    all_predictions = []\n",
    "    all_labels = []\n",
    "    \n",
    "    with torch.no_grad():\n",
    "        for i, data in enumerate(tqdm(dataloader)):\n",
    "            sampled_text_list = [negatively_skewed_sample(text.split()) for text in data['text']]\n",
    "            vectors = [text_to_vector(text) for text in sampled_text_list]\n",
    "            # vectors = preProcessText_and_getVector(sampled_text_list,max_length=300)\n",
    "            inputs = torch.tensor(vectors, dtype=torch.float32).to(device)\n",
    "            outputs1 = model(inputs)\n",
    "            outputs2 = model2(inputs)\n",
    "            # _, predicted1 = torch.max(outputs1.data, 1)\n",
    "            # _, predicted2 = torch.max(outputs2.data, 1)\n",
    "            ensemble_outputs = (outputs1 + outputs2) / 2\n",
    "            _, predicted = torch.max(ensemble_outputs.data, 1)\n",
    "            _,labels = torch.max(data['label'].data, 1)\n",
    "            all_predictions.extend(predicted.cpu().numpy())\n",
    "            all_labels.extend(labels.cpu().numpy())\n",
    "    return all_predictions, all_labels\n",
    "\n",
    "\n",
    "# 使用集成模型進行預測\n",
    "predictions, labels = ensemble_predict(model, model2, test_loader)\n",
    "\n",
    "# 計算準確度\n",
    "accuracy = accuracy_score(labels, predictions)\n",
    "\n",
    "print(\"Accuracy: \", accuracy)"
   ]
  },
  {
   "cell_type": "code",
   "execution_count": 30,
   "metadata": {},
   "outputs": [
    {
     "name": "stderr",
     "output_type": "stream",
     "text": [
      "100%|██████████| 8/8 [00:15<00:00,  1.96s/it]\n"
     ]
    }
   ],
   "source": [
    "def ensemble_predict(model1, model2, dataloader):\n",
    "    model1.eval()\n",
    "    model2.eval()\n",
    "    \n",
    "    all_predictions = []\n",
    "    all_labels = []\n",
    "    all_scores = []\n",
    "    \n",
    "    with torch.no_grad():\n",
    "        for i, data in enumerate(tqdm(dataloader)):\n",
    "            sampled_text_list = [negatively_skewed_sample(text.split()) for text in data['text']]\n",
    "            vectors = [text_to_vector(text) for text in sampled_text_list]\n",
    "            inputs = torch.tensor(vectors, dtype=torch.float32).to(device)\n",
    "            outputs1 = model1(inputs)\n",
    "            outputs2 = model2(inputs)\n",
    "            ensemble_outputs = (outputs1 + outputs2) / 2\n",
    "            _, predicted = torch.max(ensemble_outputs.data, 1)\n",
    "            _,labels = torch.max(data['label'].data, 1)\n",
    "            all_predictions.extend(predicted.cpu().numpy())\n",
    "            all_labels.extend(labels.cpu().numpy())\n",
    "            all_scores.extend(ensemble_outputs.cpu().numpy())\n",
    "    # Convert lists to numpy arrays\n",
    "    all_predictions = np.array(all_predictions)\n",
    "    all_labels = np.array(all_labels)\n",
    "    all_scores = np.array(all_scores)\n",
    "    \n",
    "    \n",
    "    \n",
    "    return all_predictions, all_labels, all_scores\n",
    "\n",
    "predictions, labels, scores = ensemble_predict(model, model2, test_loader)"
   ]
  },
  {
   "cell_type": "code",
   "execution_count": 31,
   "metadata": {},
   "outputs": [],
   "source": [
    "# Compute classification report\n",
    "report = classification_report(labels, scores.argmax(axis=1))"
   ]
  },
  {
   "cell_type": "code",
   "execution_count": 33,
   "metadata": {},
   "outputs": [
    {
     "name": "stdout",
     "output_type": "stream",
     "text": [
      "              precision    recall  f1-score   support\n",
      "\n",
      "           0       0.90      0.81      0.85       200\n",
      "           1       0.51      0.80      0.62       181\n",
      "           2       0.86      0.74      0.80       200\n",
      "           3       0.92      0.74      0.82       200\n",
      "           4       0.57      0.53      0.55       200\n",
      "\n",
      "    accuracy                           0.72       981\n",
      "   macro avg       0.75      0.72      0.73       981\n",
      "weighted avg       0.76      0.72      0.73       981\n",
      "\n"
     ]
    }
   ],
   "source": [
    "print(report)"
   ]
  },
  {
   "cell_type": "code",
   "execution_count": 99,
   "metadata": {},
   "outputs": [
    {
     "data": {
      "text/plain": [
       "Sequential(\n",
       "  (0): Flatten(start_dim=1, end_dim=-1)\n",
       "  (1): Linear(in_features=90000, out_features=128, bias=True)\n",
       "  (2): ReLU()\n",
       "  (3): Dropout(p=0.4, inplace=False)\n",
       "  (4): Linear(in_features=128, out_features=64, bias=True)\n",
       "  (5): ReLU()\n",
       "  (6): Dropout(p=0.5, inplace=False)\n",
       "  (7): Linear(in_features=64, out_features=32, bias=True)\n",
       "  (8): ReLU()\n",
       "  (9): Dropout(p=0.2, inplace=False)\n",
       "  (10): Linear(in_features=32, out_features=5, bias=True)\n",
       ")"
      ]
     },
     "execution_count": 99,
     "metadata": {},
     "output_type": "execute_result"
    }
   ],
   "source": [
    "model"
   ]
  }
 ],
 "metadata": {
  "kernelspec": {
   "display_name": "Python 3",
   "language": "python",
   "name": "python3"
  },
  "language_info": {
   "codemirror_mode": {
    "name": "ipython",
    "version": 3
   },
   "file_extension": ".py",
   "mimetype": "text/x-python",
   "name": "python",
   "nbconvert_exporter": "python",
   "pygments_lexer": "ipython3",
   "version": "3.10.5"
  }
 },
 "nbformat": 4,
 "nbformat_minor": 2
}
